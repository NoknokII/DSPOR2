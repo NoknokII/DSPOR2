{
 "cells": [
  {
   "cell_type": "code",
   "execution_count": 2,
   "id": "initial_id",
   "metadata": {
    "ExecuteTime": {
     "end_time": "2024-03-31T08:13:26.306191Z",
     "start_time": "2024-03-31T08:13:26.292455Z"
    },
    "collapsed": true
   },
   "outputs": [
    {
     "name": "stdout",
     "output_type": "stream",
     "text": [
      "dépurations\n",
      "me débrouillerais\n",
      "préfixes\n",
      "anathématisent\n",
      "habillée\n",
      "dévoré\n",
      "vous vermoulûtes\n",
      "délogeassiez\n",
      "agrémenterais\n",
      "attribuâtes\n",
      "déficitaire\n",
      "demandés\n",
      "antieuropéenne\n",
      "commercialisés\n",
      "balourdée\n",
      "agatifères\n",
      "conditionné\n",
      "compénétrons\n",
      "désarrimerez\n",
      "vociférées\n"
     ]
    }
   ],
   "source": [
    "from image_generator import ImageGenerator\n",
    "\n",
    "generator = ImageGenerator()\n",
    "generator.generate_images(count_words_with_accents=20,count_words_without_diacritics=0)\n"
   ]
  }
 ],
 "metadata": {
  "kernelspec": {
   "display_name": "Python 3",
   "language": "python",
   "name": "python3"
  },
  "language_info": {
   "codemirror_mode": {
    "name": "ipython",
    "version": 3
   },
   "file_extension": ".py",
   "mimetype": "text/x-python",
   "name": "python",
   "nbconvert_exporter": "python",
   "pygments_lexer": "ipython3",
   "version": "3.11.4"
  }
 },
 "nbformat": 4,
 "nbformat_minor": 5
}

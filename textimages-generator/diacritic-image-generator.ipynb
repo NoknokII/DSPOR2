{
 "cells": [
  {
   "cell_type": "code",
   "id": "initial_id",
   "metadata": {
    "collapsed": true,
    "ExecuteTime": {
     "end_time": "2024-03-31T08:13:26.306191Z",
     "start_time": "2024-03-31T08:13:26.292455Z"
    }
   },
   "source": [
    "from image_generator import ImageGenerator\n",
    "from PIL import Image, ImageDraw, ImageFont\n",
    "import random\n",
    "\n",
    "generator = ImageGenerator()\n",
    "generator.generate()"
   ],
   "outputs": [
    {
     "ename": "AttributeError",
     "evalue": "'ImageGenerator' object has no attribute 'generate'",
     "output_type": "error",
     "traceback": [
      "\u001B[0;31m---------------------------------------------------------------------------\u001B[0m",
      "\u001B[0;31mAttributeError\u001B[0m                            Traceback (most recent call last)",
      "Cell \u001B[0;32mIn[10], line 6\u001B[0m\n\u001B[1;32m      3\u001B[0m \u001B[38;5;28;01mimport\u001B[39;00m \u001B[38;5;21;01mrandom\u001B[39;00m\n\u001B[1;32m      5\u001B[0m generator \u001B[38;5;241m=\u001B[39m ImageGenerator()\n\u001B[0;32m----> 6\u001B[0m generator\u001B[38;5;241m.\u001B[39mgenerate()\n",
      "\u001B[0;31mAttributeError\u001B[0m: 'ImageGenerator' object has no attribute 'generate'"
     ]
    }
   ],
   "execution_count": 10
  },
  {
   "metadata": {
    "ExecuteTime": {
     "end_time": "2024-03-31T08:13:26.810364Z",
     "start_time": "2024-03-31T08:13:26.706741Z"
    }
   },
   "cell_type": "code",
   "source": [
    "img = Image.new(\"RGB\", (150, 100), (255, 255, 255))\n",
    "\n",
    "fnt = ImageFont.truetype(\"fonts/LoveDays-2v7Oe.ttf\", 10)\n",
    "\n",
    "draw = ImageDraw.Draw(img)\n",
    "\n",
    "draw.multiline_text((10, 10), \"Hello\\nWorld\", font=fnt, fill=(0, 0, 0))\n",
    "\n",
    "img.show()\n",
    "img.save('diacritic-image.tiff', format='TIFF')"
   ],
   "id": "9eccc58ac1e285c1",
   "outputs": [],
   "execution_count": 11
  },
  {
   "metadata": {
    "ExecuteTime": {
     "end_time": "2024-03-31T08:14:40.951162Z",
     "start_time": "2024-03-31T08:14:40.946902Z"
    }
   },
   "cell_type": "code",
   "outputs": [],
   "execution_count": 18,
   "source": [
    "font = ImageFont.truetype(\"fonts/LoveDays-2v7Oe.ttf\", random.randint(20, 40))"
   ],
   "id": "2e1b7a81c6891b83"
  },
  {
   "cell_type": "code",
   "outputs": [
    {
     "data": {
      "text/plain": "26"
     },
     "execution_count": 19,
     "metadata": {},
     "output_type": "execute_result"
    }
   ],
   "source": [
    "font.size"
   ],
   "metadata": {
    "collapsed": false,
    "ExecuteTime": {
     "end_time": "2024-03-31T08:14:41.277222Z",
     "start_time": "2024-03-31T08:14:41.273560Z"
    }
   },
   "id": "d53036397f7ea00e",
   "execution_count": 19
  },
  {
   "cell_type": "code",
   "outputs": [],
   "source": [],
   "metadata": {
    "collapsed": false
   },
   "id": "be947d680358b08e"
  }
 ],
 "metadata": {
  "kernelspec": {
   "display_name": "Python 3",
   "language": "python",
   "name": "python3"
  },
  "language_info": {
   "codemirror_mode": {
    "name": "ipython",
    "version": 2
   },
   "file_extension": ".py",
   "mimetype": "text/x-python",
   "name": "python",
   "nbconvert_exporter": "python",
   "pygments_lexer": "ipython2",
   "version": "2.7.6"
  }
 },
 "nbformat": 4,
 "nbformat_minor": 5
}

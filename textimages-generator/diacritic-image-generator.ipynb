{
 "cells": [
  {
   "cell_type": "code",
   "execution_count": 2,
   "id": "initial_id",
   "metadata": {
    "ExecuteTime": {
     "end_time": "2024-03-31T08:13:26.306191Z",
     "start_time": "2024-03-31T08:13:26.292455Z"
    },
    "collapsed": true
   },
   "outputs": [
    {
     "name": "stdout",
     "output_type": "stream",
     "text": [
      "aède\n",
      "scédasticités\n",
      "rabâchée\n",
      "dépris\n",
      "abîma\n"
     ]
    },
    {
     "ename": "ValueError",
     "evalue": "y1 must be greater than or equal to y0",
     "output_type": "error",
     "traceback": [
      "\u001b[1;31m---------------------------------------------------------------------------\u001b[0m",
      "\u001b[1;31mValueError\u001b[0m                                Traceback (most recent call last)",
      "Cell \u001b[1;32mIn[2], line 4\u001b[0m\n\u001b[0;32m      1\u001b[0m \u001b[38;5;28;01mfrom\u001b[39;00m \u001b[38;5;21;01mimage_generator\u001b[39;00m \u001b[38;5;28;01mimport\u001b[39;00m ImageGenerator\n\u001b[0;32m      3\u001b[0m generator \u001b[38;5;241m=\u001b[39m ImageGenerator()\n\u001b[1;32m----> 4\u001b[0m \u001b[43mgenerator\u001b[49m\u001b[38;5;241;43m.\u001b[39;49m\u001b[43mgenerate_images\u001b[49m\u001b[43m(\u001b[49m\u001b[43mcount_words_with_accents\u001b[49m\u001b[38;5;241;43m=\u001b[39;49m\u001b[38;5;241;43m50\u001b[39;49m\u001b[43m,\u001b[49m\u001b[43mcount_words_without_diacritics\u001b[49m\u001b[38;5;241;43m=\u001b[39;49m\u001b[38;5;241;43m0\u001b[39;49m\u001b[43m)\u001b[49m\n",
      "File \u001b[1;32mc:\\Users\\hvyth\\OneDrive\\Documents\\DSPOR2\\textimages-generator\\image_generator.py:29\u001b[0m, in \u001b[0;36mImageGenerator.generate_images\u001b[1;34m(self, count_words_with_accents, count_words_without_diacritics)\u001b[0m\n\u001b[0;32m     27\u001b[0m     random_word \u001b[38;5;241m=\u001b[39m random\u001b[38;5;241m.\u001b[39mchoice(\u001b[38;5;28mself\u001b[39m\u001b[38;5;241m.\u001b[39mwords_with_diacritics)\n\u001b[0;32m     28\u001b[0m     \u001b[38;5;28mself\u001b[39m\u001b[38;5;241m.\u001b[39mwords_with_diacritics\u001b[38;5;241m.\u001b[39mremove(random_word)\n\u001b[1;32m---> 29\u001b[0m     \u001b[38;5;28;43mself\u001b[39;49m\u001b[38;5;241;43m.\u001b[39;49m\u001b[43mgenerate_new_image\u001b[49m\u001b[43m(\u001b[49m\u001b[43mrandom_word\u001b[49m\u001b[43m)\u001b[49m\n\u001b[0;32m     31\u001b[0m \u001b[38;5;28;01mfor\u001b[39;00m _ \u001b[38;5;129;01min\u001b[39;00m \u001b[38;5;28mrange\u001b[39m(count_words_without_diacritics):\n\u001b[0;32m     32\u001b[0m     random_word \u001b[38;5;241m=\u001b[39m random\u001b[38;5;241m.\u001b[39mchoice(\u001b[38;5;28mself\u001b[39m\u001b[38;5;241m.\u001b[39mwords_without_diacritics)\n",
      "File \u001b[1;32mc:\\Users\\hvyth\\OneDrive\\Documents\\DSPOR2\\textimages-generator\\image_generator.py:53\u001b[0m, in \u001b[0;36mImageGenerator.generate_new_image\u001b[1;34m(self, text)\u001b[0m\n\u001b[0;32m     51\u001b[0m \u001b[38;5;28;01mfor\u001b[39;00m index, char \u001b[38;5;129;01min\u001b[39;00m \u001b[38;5;28menumerate\u001b[39m(text):\n\u001b[0;32m     52\u001b[0m     \u001b[38;5;28;01mif\u001b[39;00m(\u001b[38;5;28mself\u001b[39m\u001b[38;5;241m.\u001b[39mcontains_diacritics(char)):\n\u001b[1;32m---> 53\u001b[0m         \u001b[43mbbox_generator\u001b[49m\u001b[38;5;241;43m.\u001b[39;49m\u001b[43mdraw_bounding_box\u001b[49m\u001b[43m(\u001b[49m\u001b[43mfont\u001b[49m\u001b[43m,\u001b[49m\u001b[43m \u001b[49m\u001b[43mimage\u001b[49m\u001b[43m,\u001b[49m\u001b[43m \u001b[49m\u001b[43mdraw\u001b[49m\u001b[43m,\u001b[49m\u001b[43m \u001b[49m\u001b[43mtext\u001b[49m\u001b[43m[\u001b[49m\u001b[43m:\u001b[49m\u001b[43mindex\u001b[49m\u001b[43m]\u001b[49m\u001b[43m,\u001b[49m\u001b[43m \u001b[49m\u001b[43mchar\u001b[49m\u001b[43m)\u001b[49m\n\u001b[0;32m     55\u001b[0m \u001b[38;5;66;03m#image = self.add_noise(image, random.randint(0, self.maximum_noise_level) / 300)\u001b[39;00m\n\u001b[0;32m     56\u001b[0m \n\u001b[0;32m     57\u001b[0m \u001b[38;5;66;03m#image = image.convert(\"1\")\u001b[39;00m\n\u001b[0;32m     58\u001b[0m \n\u001b[0;32m     59\u001b[0m \u001b[38;5;66;03m#image.save(self.output_folder+\"/\"+text+\".tiff\", compression=\"group4\")\u001b[39;00m\n\u001b[0;32m     60\u001b[0m image\u001b[38;5;241m.\u001b[39msave(\u001b[38;5;28mself\u001b[39m\u001b[38;5;241m.\u001b[39moutput_folder\u001b[38;5;241m+\u001b[39m\u001b[38;5;124m\"\u001b[39m\u001b[38;5;124m/\u001b[39m\u001b[38;5;124m\"\u001b[39m\u001b[38;5;241m+\u001b[39mtext\u001b[38;5;241m+\u001b[39m\u001b[38;5;124m\"\u001b[39m\u001b[38;5;124m.tiff\u001b[39m\u001b[38;5;124m\"\u001b[39m)\n",
      "File \u001b[1;32mc:\\Users\\hvyth\\OneDrive\\Documents\\DSPOR2\\textimages-generator\\bounding_box_generator.py:23\u001b[0m, in \u001b[0;36mBboxGenerator.draw_bounding_box\u001b[1;34m(self, font, image, draw, text_until_current_char, current_character)\u001b[0m\n\u001b[0;32m     12\u001b[0m bbox_only_accent \u001b[38;5;241m=\u001b[39m [bbox_accent[\u001b[38;5;241m0\u001b[39m], \n\u001b[0;32m     13\u001b[0m                         bbox_accent[\u001b[38;5;241m1\u001b[39m], \n\u001b[0;32m     14\u001b[0m                         bbox_accent[\u001b[38;5;241m2\u001b[39m], \n\u001b[0;32m     15\u001b[0m                         bbox_accent[\u001b[38;5;241m3\u001b[39m] \u001b[38;5;241m-\u001b[39m (bbox_base_character[\u001b[38;5;241m3\u001b[39m] \u001b[38;5;241m-\u001b[39m bbox_base_character[\u001b[38;5;241m1\u001b[39m])]\n\u001b[0;32m     18\u001b[0m bbox_accent_adjusted \u001b[38;5;241m=\u001b[39m [bbox_only_accent[\u001b[38;5;241m0\u001b[39m] \u001b[38;5;241m+\u001b[39m \u001b[38;5;28mself\u001b[39m\u001b[38;5;241m.\u001b[39madjust_left(bbox_only_accent, image), \n\u001b[0;32m     19\u001b[0m                         bbox_only_accent[\u001b[38;5;241m1\u001b[39m],\n\u001b[0;32m     20\u001b[0m                         bbox_only_accent[\u001b[38;5;241m2\u001b[39m] \u001b[38;5;241m-\u001b[39m \u001b[38;5;28mself\u001b[39m\u001b[38;5;241m.\u001b[39madjust_right(bbox_only_accent, image), \n\u001b[0;32m     21\u001b[0m                         bbox_only_accent[\u001b[38;5;241m3\u001b[39m] \u001b[38;5;241m-\u001b[39m \u001b[38;5;28mself\u001b[39m\u001b[38;5;241m.\u001b[39madjust_bottom(bbox_only_accent, image, draw)]\n\u001b[1;32m---> 23\u001b[0m \u001b[43mdraw\u001b[49m\u001b[38;5;241;43m.\u001b[39;49m\u001b[43mrectangle\u001b[49m\u001b[43m(\u001b[49m\u001b[43mbbox_accent_adjusted\u001b[49m\u001b[43m,\u001b[49m\u001b[43m \u001b[49m\u001b[43moutline\u001b[49m\u001b[38;5;241;43m=\u001b[39;49m\u001b[38;5;124;43m\"\u001b[39;49m\u001b[38;5;124;43mblue\u001b[39;49m\u001b[38;5;124;43m\"\u001b[39;49m\u001b[43m)\u001b[49m\n",
      "File \u001b[1;32m~\\AppData\\Local\\Packages\\PythonSoftwareFoundation.Python.3.11_qbz5n2kfra8p0\\LocalCache\\local-packages\\Python311\\site-packages\\PIL\\ImageDraw.py:305\u001b[0m, in \u001b[0;36mImageDraw.rectangle\u001b[1;34m(self, xy, fill, outline, width)\u001b[0m\n\u001b[0;32m    303\u001b[0m     \u001b[38;5;28mself\u001b[39m\u001b[38;5;241m.\u001b[39mdraw\u001b[38;5;241m.\u001b[39mdraw_rectangle(xy, fill, \u001b[38;5;241m1\u001b[39m)\n\u001b[0;32m    304\u001b[0m \u001b[38;5;28;01mif\u001b[39;00m ink \u001b[38;5;129;01mis\u001b[39;00m \u001b[38;5;129;01mnot\u001b[39;00m \u001b[38;5;28;01mNone\u001b[39;00m \u001b[38;5;129;01mand\u001b[39;00m ink \u001b[38;5;241m!=\u001b[39m fill \u001b[38;5;129;01mand\u001b[39;00m width \u001b[38;5;241m!=\u001b[39m \u001b[38;5;241m0\u001b[39m:\n\u001b[1;32m--> 305\u001b[0m     \u001b[38;5;28;43mself\u001b[39;49m\u001b[38;5;241;43m.\u001b[39;49m\u001b[43mdraw\u001b[49m\u001b[38;5;241;43m.\u001b[39;49m\u001b[43mdraw_rectangle\u001b[49m\u001b[43m(\u001b[49m\u001b[43mxy\u001b[49m\u001b[43m,\u001b[49m\u001b[43m \u001b[49m\u001b[43mink\u001b[49m\u001b[43m,\u001b[49m\u001b[43m \u001b[49m\u001b[38;5;241;43m0\u001b[39;49m\u001b[43m,\u001b[49m\u001b[43m \u001b[49m\u001b[43mwidth\u001b[49m\u001b[43m)\u001b[49m\n",
      "\u001b[1;31mValueError\u001b[0m: y1 must be greater than or equal to y0"
     ]
    }
   ],
   "source": [
    "from image_generator import ImageGenerator\n",
    "\n",
    "generator = ImageGenerator()\n",
    "generator.generate_images(count_words_with_accents=50,count_words_without_diacritics=0)\n"
   ]
  }
 ],
 "metadata": {
  "kernelspec": {
   "display_name": "Python 3",
   "language": "python",
   "name": "python3"
  },
  "language_info": {
   "codemirror_mode": {
    "name": "ipython",
    "version": 3
   },
   "file_extension": ".py",
   "mimetype": "text/x-python",
   "name": "python",
   "nbconvert_exporter": "python",
   "pygments_lexer": "ipython3",
   "version": "3.11.4"
  }
 },
 "nbformat": 4,
 "nbformat_minor": 5
}

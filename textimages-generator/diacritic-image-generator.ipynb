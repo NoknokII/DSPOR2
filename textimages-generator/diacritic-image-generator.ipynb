{
 "cells": [
  {
   "cell_type": "code",
   "execution_count": 1,
   "id": "initial_id",
   "metadata": {
    "ExecuteTime": {
     "end_time": "2024-03-31T08:13:26.306191Z",
     "start_time": "2024-03-31T08:13:26.292455Z"
    },
    "collapsed": true
   },
   "outputs": [],
   "source": [
    "from image_generator import ImageGenerator\n",
    "\n",
    "generator = ImageGenerator()\n",
    "generator.generate_images(count_words_with_accents=100,count_words_without_diacritics=100)\n"
   ]
  }
 ],
 "metadata": {
  "kernelspec": {
   "display_name": "Python 3",
   "language": "python",
   "name": "python3"
  },
  "language_info": {
   "codemirror_mode": {
    "name": "ipython",
    "version": 3
   },
   "file_extension": ".py",
   "mimetype": "text/x-python",
   "name": "python",
   "nbconvert_exporter": "python",
   "pygments_lexer": "ipython3",
   "version": "3.11.4"
  }
 },
 "nbformat": 4,
 "nbformat_minor": 5
}

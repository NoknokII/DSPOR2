{
 "cells": [
  {
   "cell_type": "code",
   "execution_count": 1,
   "id": "initial_id",
   "metadata": {
    "ExecuteTime": {
     "end_time": "2024-03-31T08:13:26.306191Z",
     "start_time": "2024-03-31T08:13:26.292455Z"
    },
    "collapsed": true
   },
   "outputs": [],
   "source": [
    "from image_generator import ImageGenerator\n",
    "from PIL import Image, ImageDraw, ImageFont\n",
    "import random\n",
    "\n",
    "generator = ImageGenerator()\n",
    "generator.generate_images(count_words_with_accents=100,count_words_without_diacritics=100)"
   ]
  },
  {
   "cell_type": "code",
   "execution_count": 11,
   "id": "9eccc58ac1e285c1",
   "metadata": {
    "ExecuteTime": {
     "end_time": "2024-03-31T08:13:26.810364Z",
     "start_time": "2024-03-31T08:13:26.706741Z"
    }
   },
   "outputs": [],
   "source": [
    "img = Image.new(\"RGB\", (150, 100), (255, 255, 255))\n",
    "\n",
    "fnt = ImageFont.truetype(\"fonts/LoveDays-2v7Oe.ttf\", 10)\n",
    "\n",
    "draw = ImageDraw.Draw(img)\n",
    "\n",
    "draw.multiline_text((10, 10), \"Hello\\nWorld\", font=fnt, fill=(0, 0, 0))\n",
    "\n",
    "img.show()\n",
    "img.save('diacritic-image.tiff', format='TIFF')"
   ]
  },
  {
   "cell_type": "code",
   "execution_count": 18,
   "id": "2e1b7a81c6891b83",
   "metadata": {
    "ExecuteTime": {
     "end_time": "2024-03-31T08:14:40.951162Z",
     "start_time": "2024-03-31T08:14:40.946902Z"
    }
   },
   "outputs": [],
   "source": [
    "font = ImageFont.truetype(\"fonts/LoveDays-2v7Oe.ttf\", random.randint(20, 40))"
   ]
  },
  {
   "cell_type": "code",
   "execution_count": 19,
   "id": "d53036397f7ea00e",
   "metadata": {
    "ExecuteTime": {
     "end_time": "2024-03-31T08:14:41.277222Z",
     "start_time": "2024-03-31T08:14:41.273560Z"
    },
    "collapsed": false
   },
   "outputs": [
    {
     "data": {
      "text/plain": [
       "26"
      ]
     },
     "execution_count": 19,
     "metadata": {},
     "output_type": "execute_result"
    }
   ],
   "source": [
    "font.size"
   ]
  },
  {
   "cell_type": "code",
   "execution_count": null,
   "id": "be947d680358b08e",
   "metadata": {
    "collapsed": false
   },
   "outputs": [],
   "source": []
  }
 ],
 "metadata": {
  "kernelspec": {
   "display_name": "Python 3",
   "language": "python",
   "name": "python3"
  },
  "language_info": {
   "codemirror_mode": {
    "name": "ipython",
    "version": 2
   },
   "file_extension": ".py",
   "mimetype": "text/x-python",
   "name": "python",
   "nbconvert_exporter": "python",
   "pygments_lexer": "ipython2",
   "version": "2.7.6"
  }
 },
 "nbformat": 4,
 "nbformat_minor": 5
}

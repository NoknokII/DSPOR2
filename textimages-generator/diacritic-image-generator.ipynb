{
 "cells": [
  {
   "cell_type": "code",
   "id": "initial_id",
   "metadata": {
    "collapsed": true,
    "ExecuteTime": {
     "end_time": "2024-03-29T14:06:45.059638Z",
     "start_time": "2024-03-29T14:06:41.116188Z"
    }
   },
   "source": [
    "from image_generator import ImageGenerator\n",
    "\n",
    "generator = ImageGenerator()\n",
    "generator.generate()"
   ],
   "outputs": [
    {
     "data": {
      "text/plain": [
       "['diacritic-image-generator.ipynb',\n",
       " 'diacritic-image.tiff',\n",
       " 'image_generator.py',\n",
       " 'tiffs',\n",
       " 'ttf',\n",
       " 'word_images',\n",
       " '__pycache__']"
      ]
     },
     "execution_count": 1,
     "metadata": {},
     "output_type": "execute_result"
    }
   ],
   "execution_count": 1
  },
  {
   "metadata": {
    "ExecuteTime": {
     "end_time": "2024-03-29T14:05:54.960804Z",
     "start_time": "2024-03-29T14:05:54.947290Z"
    }
   },
   "cell_type": "code",
   "source": [
    "img = Image.new(\"RGB\", (150, 100), (255, 255, 255))\n",
    "\n",
    "fnt = ImageFont.truetype(\"ttf/LoveDays-2v7Oe.ttf\", 40)\n",
    "\n",
    "draw = ImageDraw.Draw(img)\n",
    "\n",
    "draw.multiline_text((10, 10), \"Hello\\nWorld\", font=fnt, fill=(0, 0, 0))\n",
    "\n",
    "img.show()\n",
    "img.save('diacritic-image.tiff', format='TIFF')"
   ],
   "id": "9eccc58ac1e285c1",
   "outputs": [],
   "execution_count": 29
  },
  {
   "metadata": {},
   "cell_type": "code",
   "outputs": [],
   "execution_count": null,
   "source": "",
   "id": "2e1b7a81c6891b83"
  }
 ],
 "metadata": {
  "kernelspec": {
   "display_name": "Python 3",
   "language": "python",
   "name": "python3"
  },
  "language_info": {
   "codemirror_mode": {
    "name": "ipython",
    "version": 2
   },
   "file_extension": ".py",
   "mimetype": "text/x-python",
   "name": "python",
   "nbconvert_exporter": "python",
   "pygments_lexer": "ipython2",
   "version": "2.7.6"
  }
 },
 "nbformat": 4,
 "nbformat_minor": 5
}

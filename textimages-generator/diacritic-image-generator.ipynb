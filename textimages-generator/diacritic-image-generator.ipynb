{
 "cells": [
  {
   "cell_type": "code",
   "execution_count": 2,
   "id": "initial_id",
   "metadata": {
    "ExecuteTime": {
     "end_time": "2024-03-31T08:13:26.306191Z",
     "start_time": "2024-03-31T08:13:26.292455Z"
    },
    "collapsed": true
   },
   "outputs": [
    {
     "name": "stdout",
     "output_type": "stream",
     "text": [
      "à première vue\n",
      "désintégrait\n",
      "regardés\n",
      "me dévoilerais\n",
      "pentecôtismes\n",
      "mastérisâmes\n",
      "gérontologue\n",
      "bouèlerais\n",
      "désobligeront\n",
      "désactiveras\n",
      "élimine\n",
      "épellerait\n",
      "photodésintégration\n",
      "déradicalisés\n",
      "spécifiaient\n",
      "altérative\n",
      "hébète\n",
      "vigilé\n",
      "pénibilité\n",
      "médis\n",
      "camera\n",
      "gravitationnelles\n",
      "archicontinental\n",
      "canonnassiez\n",
      "ensevelissais\n",
      "alcalifierais\n",
      "objectiverions\n",
      "houaris\n",
      "manipulions\n",
      "præcedents\n",
      "chouinassions\n",
      "ceintrassiez\n",
      "relancerez\n",
      "submergera\n",
      "cataloguions\n",
      "plasmifiant\n",
      "abornerais\n",
      "transdisciplinaire\n",
      "amuïras\n",
      "croises\n"
     ]
    }
   ],
   "source": [
    "from image_generator import ImageGenerator\n",
    "\n",
    "generator = ImageGenerator()\n",
    "generator.generate_images(count_words_with_accents=20,count_words_without_diacritics=20, maximum_noise_level = 150)\n"
   ]
  }
 ],
 "metadata": {
  "kernelspec": {
   "display_name": "Python 3",
   "language": "python",
   "name": "python3"
  },
  "language_info": {
   "codemirror_mode": {
    "name": "ipython",
    "version": 3
   },
   "file_extension": ".py",
   "mimetype": "text/x-python",
   "name": "python",
   "nbconvert_exporter": "python",
   "pygments_lexer": "ipython3",
   "version": "3.11.4"
  }
 },
 "nbformat": 4,
 "nbformat_minor": 5
}

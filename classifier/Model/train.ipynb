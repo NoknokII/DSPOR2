{
 "cells": [
  {
   "cell_type": "code",
   "execution_count": null,
   "id": "initial_id",
   "metadata": {
    "collapsed": true
   },
   "outputs": [],
   "source": [
    "import wandb\n",
    "!pip install torch torchvision torchaudio --index-url https://download.pytorch.org/whl/cu118 -q"
   ]
  },
  {
   "cell_type": "code",
   "outputs": [],
   "source": [
    "!pip install  ultralytics wandb gdown -q"
   ],
   "metadata": {
    "collapsed": false
   },
   "id": "9febec34e192fb45",
   "execution_count": null
  },
  {
   "cell_type": "code",
   "outputs": [
    {
     "name": "stderr",
     "output_type": "stream",
     "text": [
      "\u001B[34m\u001B[1mwandb\u001B[0m: \u001B[33mWARNING\u001B[0m This integration is tested and supported for ultralytics v8.0.238 and below.\n",
      "\u001B[34m\u001B[1mwandb\u001B[0m: \u001B[33mWARNING\u001B[0m             Please report any issues to https://github.com/wandb/wandb/issues with the tag `yolov8`.\n"
     ]
    }
   ],
   "source": [
    "import wandb\n",
    "import shutil\n",
    "import os\n",
    "import gdown\n",
    "from wandb.integration.ultralytics import add_wandb_callback\n",
    "\n",
    "from ultralytics import YOLO"
   ],
   "metadata": {
    "collapsed": false,
    "ExecuteTime": {
     "end_time": "2024-06-30T11:11:54.951607700Z",
     "start_time": "2024-06-30T11:11:34.824690900Z"
    }
   },
   "id": "c1d2f06117d7cd5f",
   "execution_count": 2
  },
  {
   "cell_type": "markdown",
   "source": [
    "## Downloading dataset from onedrive"
   ],
   "metadata": {
    "collapsed": false
   },
   "id": "74eabd8a29745195"
  },
  {
   "cell_type": "markdown",
   "source": [],
   "metadata": {
    "collapsed": false
   },
   "id": "2e5deca6cf286978"
  },
  {
   "cell_type": "code",
   "outputs": [],
   "source": [
    "output = 'datasets/diacritics/'\n",
    "\n",
    "if not os.path.exists(output):\n",
    "    os.makedirs(output)\n",
    "for item in os.listdir(output):\n",
    "    item_path = os.path.join(output, item)\n",
    "\n",
    "    if os.path.isdir(item_path):\n",
    "            shutil.rmtree(item_path)\n",
    "\n",
    "url = 'https://drive.google.com/drive/folders/1ZgyaiR2i-YDoZSafAA66wM96PkyKkypK?usp=sharing'\n",
    "\n",
    "gdown.download_folder(url=url,output=output,quiet=False)"
   ],
   "metadata": {
    "collapsed": false
   },
   "id": "eb7bf9db2af43122",
   "execution_count": null
  },
  {
   "cell_type": "code",
   "outputs": [
    {
     "name": "stdout",
     "output_type": "stream",
     "text": [
      "New https://pypi.org/project/ultralytics/8.2.48 available 😃 Update with 'pip install -U ultralytics'\n",
      "Ultralytics YOLOv8.1.37 🚀 Python-3.10.11 torch-2.2.2+cu118 CUDA:0 (NVIDIA GeForce RTX 3060 Laptop GPU, 6144MiB)\n",
      "\u001B[34m\u001B[1mengine\\trainer: \u001B[0mtask=detect, mode=train, model=yolov8n.pt, data=diacritics.yaml, epochs=100, time=None, patience=100, batch=64, imgsz=256, save=True, save_period=-1, cache=False, device=None, workers=8, project=DSPRO2, name=train, exist_ok=False, pretrained=True, optimizer=auto, verbose=True, seed=0, deterministic=True, single_cls=False, rect=False, cos_lr=False, close_mosaic=10, resume=False, amp=True, fraction=1.0, profile=False, freeze=None, multi_scale=False, overlap_mask=True, mask_ratio=4, dropout=0.0, val=True, split=val, save_json=False, save_hybrid=False, conf=None, iou=0.7, max_det=300, half=False, dnn=False, plots=True, source=None, vid_stride=1, stream_buffer=False, visualize=False, augment=False, agnostic_nms=False, classes=None, retina_masks=False, embed=None, show=False, save_frames=False, save_txt=False, save_conf=False, save_crop=False, show_labels=True, show_conf=True, show_boxes=True, line_width=None, format=torchscript, keras=False, optimize=False, int8=False, dynamic=False, simplify=False, opset=None, workspace=4, nms=False, lr0=0.01, lrf=0.01, momentum=0.937, weight_decay=0.0005, warmup_epochs=3.0, warmup_momentum=0.8, warmup_bias_lr=0.1, box=7.5, cls=0.5, dfl=1.5, pose=12.0, kobj=1.0, label_smoothing=0.0, nbs=64, hsv_h=0.015, hsv_s=0.7, hsv_v=0.4, degrees=0.0, translate=0.1, scale=0.5, shear=0.0, perspective=0.0, flipud=0, fliplr=0, bgr=0.0, mosaic=1.0, mixup=0.0, copy_paste=0.0, auto_augment=randaugment, erasing=0.4, crop_fraction=1.0, cfg=None, tracker=botsort.yaml, save_dir=DSPRO2\\train\n",
      "Overriding model.yaml nc=80 with nc=3\n",
      "\n",
      "                   from  n    params  module                                       arguments                     \n",
      "  0                  -1  1       464  ultralytics.nn.modules.conv.Conv             [3, 16, 3, 2]                 \n",
      "  1                  -1  1      4672  ultralytics.nn.modules.conv.Conv             [16, 32, 3, 2]                \n",
      "  2                  -1  1      7360  ultralytics.nn.modules.block.C2f             [32, 32, 1, True]             \n",
      "  3                  -1  1     18560  ultralytics.nn.modules.conv.Conv             [32, 64, 3, 2]                \n",
      "  4                  -1  2     49664  ultralytics.nn.modules.block.C2f             [64, 64, 2, True]             \n",
      "  5                  -1  1     73984  ultralytics.nn.modules.conv.Conv             [64, 128, 3, 2]               \n",
      "  6                  -1  2    197632  ultralytics.nn.modules.block.C2f             [128, 128, 2, True]           \n",
      "  7                  -1  1    295424  ultralytics.nn.modules.conv.Conv             [128, 256, 3, 2]              \n",
      "  8                  -1  1    460288  ultralytics.nn.modules.block.C2f             [256, 256, 1, True]           \n",
      "  9                  -1  1    164608  ultralytics.nn.modules.block.SPPF            [256, 256, 5]                 \n",
      " 10                  -1  1         0  torch.nn.modules.upsampling.Upsample         [None, 2, 'nearest']          \n",
      " 11             [-1, 6]  1         0  ultralytics.nn.modules.conv.Concat           [1]                           \n",
      " 12                  -1  1    148224  ultralytics.nn.modules.block.C2f             [384, 128, 1]                 \n",
      " 13                  -1  1         0  torch.nn.modules.upsampling.Upsample         [None, 2, 'nearest']          \n",
      " 14             [-1, 4]  1         0  ultralytics.nn.modules.conv.Concat           [1]                           \n",
      " 15                  -1  1     37248  ultralytics.nn.modules.block.C2f             [192, 64, 1]                  \n",
      " 16                  -1  1     36992  ultralytics.nn.modules.conv.Conv             [64, 64, 3, 2]                \n",
      " 17            [-1, 12]  1         0  ultralytics.nn.modules.conv.Concat           [1]                           \n",
      " 18                  -1  1    123648  ultralytics.nn.modules.block.C2f             [192, 128, 1]                 \n",
      " 19                  -1  1    147712  ultralytics.nn.modules.conv.Conv             [128, 128, 3, 2]              \n",
      " 20             [-1, 9]  1         0  ultralytics.nn.modules.conv.Concat           [1]                           \n",
      " 21                  -1  1    493056  ultralytics.nn.modules.block.C2f             [384, 256, 1]                 \n",
      " 22        [15, 18, 21]  1    751897  ultralytics.nn.modules.head.Detect           [3, [64, 128, 256]]           \n",
      "Model summary: 225 layers, 3011433 parameters, 3011417 gradients, 8.2 GFLOPs\n",
      "\n",
      "Transferred 319/355 items from pretrained weights\n"
     ]
    },
    {
     "name": "stderr",
     "output_type": "stream",
     "text": [
      "wandb: Currently logged in as: lars-kehrle (salticidae). Use `wandb login --relogin` to force relogin\n"
     ]
    },
    {
     "data": {
      "text/plain": "<IPython.core.display.HTML object>",
      "text/html": "wandb version 0.17.3 is available!  To upgrade, please run:\n $ pip install wandb --upgrade"
     },
     "metadata": {},
     "output_type": "display_data"
    },
    {
     "data": {
      "text/plain": "<IPython.core.display.HTML object>",
      "text/html": "Tracking run with wandb version 0.16.5"
     },
     "metadata": {},
     "output_type": "display_data"
    },
    {
     "data": {
      "text/plain": "<IPython.core.display.HTML object>",
      "text/html": "Run data is saved locally in <code>C:\\Studium\\Semester5\\DSPRO2\\DSPOR2\\classifier\\Model\\wandb\\run-20240630_131158-gi2z8mmy</code>"
     },
     "metadata": {},
     "output_type": "display_data"
    },
    {
     "data": {
      "text/plain": "<IPython.core.display.HTML object>",
      "text/html": "Syncing run <strong><a href='https://wandb.ai/salticidae/DSPRO2/runs/gi2z8mmy/workspace' target=\"_blank\">train</a></strong> to <a href='https://wandb.ai/salticidae/DSPRO2' target=\"_blank\">Weights & Biases</a> (<a href='https://wandb.me/run' target=\"_blank\">docs</a>)<br/>"
     },
     "metadata": {},
     "output_type": "display_data"
    },
    {
     "data": {
      "text/plain": "<IPython.core.display.HTML object>",
      "text/html": " View project at <a href='https://wandb.ai/salticidae/DSPRO2' target=\"_blank\">https://wandb.ai/salticidae/DSPRO2</a>"
     },
     "metadata": {},
     "output_type": "display_data"
    },
    {
     "data": {
      "text/plain": "<IPython.core.display.HTML object>",
      "text/html": " View run at <a href='https://wandb.ai/salticidae/DSPRO2/runs/gi2z8mmy/workspace' target=\"_blank\">https://wandb.ai/salticidae/DSPRO2/runs/gi2z8mmy/workspace</a>"
     },
     "metadata": {},
     "output_type": "display_data"
    },
    {
     "name": "stdout",
     "output_type": "stream",
     "text": [
      "Freezing layer 'model.22.dfl.conv.weight'\n",
      "\u001B[34m\u001B[1mAMP: \u001B[0mrunning Automatic Mixed Precision (AMP) checks with YOLOv8n...\n",
      "\u001B[34m\u001B[1mAMP: \u001B[0mchecks passed ✅\n"
     ]
    },
    {
     "name": "stderr",
     "output_type": "stream",
     "text": [
      "train: Scanning C:\\Studium\\Semester5\\DSPRO2\\DSPOR2\\classifier\\Model\\datasets\\diacritics\\labels\\train...:   0%|          | 0/15994 [00:00<?, ?it/s]Scanning C:\\Studium\\Semester5\\DSPRO2\\DSPOR2\\classifier\\Model\\datasets\\diacritics\\labels\\train... 87 images, 70 backgrounds, 0 corrupt:   1%|          | 87/15994 [00:00<00:18, 861.09it/s]Scanning C:\\Studium\\Semester5\\DSPRO2\\DSPOR2\\classifier\\Model\\datasets\\diacritics\\labels\\train... 278 images, 197 backgrounds, 0 corrupt:   2%|▏         | 278/15994 [00:00<00:10, 1455.98it/s]Scanning C:\\Studium\\Semester5\\DSPRO2\\DSPOR2\\classifier\\Model\\datasets\\diacritics\\labels\\train... 459 images, 310 backgrounds, 0 corrupt:   3%|▎         | 459/15994 [00:00<00:09, 1602.13it/s]Scanning C:\\Studium\\Semester5\\DSPRO2\\DSPOR2\\classifier\\Model\\datasets\\diacritics\\labels\\train... 651 images, 450 backgrounds, 0 corrupt:   4%|▍         | 651/15994 [00:00<00:08, 1720.94it/s]Scanning C:\\Studium\\Semester5\\DSPRO2\\DSPOR2\\classifier\\Model\\datasets\\diacritics\\labels\\train... 832 images, 553 backgrounds, 0 corrupt:   5%|▌         | 832/15994 [00:00<00:08, 1748.52it/s]Scanning C:\\Studium\\Semester5\\DSPRO2\\DSPOR2\\classifier\\Model\\datasets\\diacritics\\labels\\train... 1017 images, 661 backgrounds, 0 corrupt:   6%|▋         | 1017/15994 [00:00<00:08, 1775.18it/s]Scanning C:\\Studium\\Semester5\\DSPRO2\\DSPOR2\\classifier\\Model\\datasets\\diacritics\\labels\\train... 1208 images, 780 backgrounds, 0 corrupt:   8%|▊         | 1208/15994 [00:00<00:08, 1815.26it/s]Scanning C:\\Studium\\Semester5\\DSPRO2\\DSPOR2\\classifier\\Model\\datasets\\diacritics\\labels\\train... 1398 images, 904 backgrounds, 0 corrupt:   9%|▊         | 1398/15994 [00:00<00:07, 1828.82it/s]Scanning C:\\Studium\\Semester5\\DSPRO2\\DSPOR2\\classifier\\Model\\datasets\\diacritics\\labels\\train... 1590 images, 1030 backgrounds, 0 corrupt:  10%|▉         | 1590/15994 [00:00<00:07, 1854.45it/s]Scanning C:\\Studium\\Semester5\\DSPRO2\\DSPOR2\\classifier\\Model\\datasets\\diacritics\\labels\\train... 1778 images, 1160 backgrounds, 0 corrupt:  11%|█         | 1778/15994 [00:01<00:07, 1857.50it/s]Scanning C:\\Studium\\Semester5\\DSPRO2\\DSPOR2\\classifier\\Model\\datasets\\diacritics\\labels\\train... 1973 images, 1301 backgrounds, 0 corrupt:  12%|█▏        | 1973/15994 [00:01<00:07, 1875.96it/s]Scanning C:\\Studium\\Semester5\\DSPRO2\\DSPOR2\\classifier\\Model\\datasets\\diacritics\\labels\\train... 2165 images, 1425 backgrounds, 0 corrupt:  14%|█▎        | 2165/15994 [00:01<00:07, 1883.73it/s]Scanning C:\\Studium\\Semester5\\DSPRO2\\DSPOR2\\classifier\\Model\\datasets\\diacritics\\labels\\train... 2354 images, 1500 backgrounds, 0 corrupt:  15%|█▍        | 2354/15994 [00:01<00:07, 1855.51it/s]Scanning C:\\Studium\\Semester5\\DSPRO2\\DSPOR2\\classifier\\Model\\datasets\\diacritics\\labels\\train... 2545 images, 1643 backgrounds, 0 corrupt:  16%|█▌        | 2545/15994 [00:01<00:07, 1869.31it/s]Scanning C:\\Studium\\Semester5\\DSPRO2\\DSPOR2\\classifier\\Model\\datasets\\diacritics\\labels\\train... 2738 images, 1770 backgrounds, 0 corrupt:  17%|█▋        | 2738/15994 [00:01<00:07, 1887.06it/s]Scanning C:\\Studium\\Semester5\\DSPRO2\\DSPOR2\\classifier\\Model\\datasets\\diacritics\\labels\\train... 2927 images, 1890 backgrounds, 0 corrupt:  18%|█▊        | 2927/15994 [00:01<00:06, 1878.25it/s]Scanning C:\\Studium\\Semester5\\DSPRO2\\DSPOR2\\classifier\\Model\\datasets\\diacritics\\labels\\train... 3115 images, 2017 backgrounds, 0 corrupt:  19%|█▉        | 3115/15994 [00:01<00:06, 1871.75it/s]Scanning C:\\Studium\\Semester5\\DSPRO2\\DSPOR2\\classifier\\Model\\datasets\\diacritics\\labels\\train... 3304 images, 2140 backgrounds, 0 corrupt:  21%|██        | 3304/15994 [00:01<00:06, 1862.42it/s]Scanning C:\\Studium\\Semester5\\DSPRO2\\DSPOR2\\classifier\\Model\\datasets\\diacritics\\labels\\train... 3491 images, 2267 backgrounds, 0 corrupt:  22%|██▏       | 3491/15994 [00:01<00:06, 1856.73it/s]Scanning C:\\Studium\\Semester5\\DSPRO2\\DSPOR2\\classifier\\Model\\datasets\\diacritics\\labels\\train... 3677 images, 2367 backgrounds, 0 corrupt:  23%|██▎       | 3677/15994 [00:02<00:06, 1834.39it/s]Scanning C:\\Studium\\Semester5\\DSPRO2\\DSPOR2\\classifier\\Model\\datasets\\diacritics\\labels\\train... 3863 images, 2470 backgrounds, 0 corrupt:  24%|██▍       | 3863/15994 [00:02<00:06, 1840.51it/s]Scanning C:\\Studium\\Semester5\\DSPRO2\\DSPOR2\\classifier\\Model\\datasets\\diacritics\\labels\\train... 4048 images, 2575 backgrounds, 0 corrupt:  25%|██▌       | 4048/15994 [00:02<00:06, 1843.11it/s]Scanning C:\\Studium\\Semester5\\DSPRO2\\DSPOR2\\classifier\\Model\\datasets\\diacritics\\labels\\train... 4233 images, 2658 backgrounds, 0 corrupt:  26%|██▋       | 4233/15994 [00:02<00:06, 1827.95it/s]Scanning C:\\Studium\\Semester5\\DSPRO2\\DSPOR2\\classifier\\Model\\datasets\\diacritics\\labels\\train... 4416 images, 2658 backgrounds, 0 corrupt:  28%|██▊       | 4416/15994 [00:02<00:06, 1779.64it/s]Scanning C:\\Studium\\Semester5\\DSPRO2\\DSPOR2\\classifier\\Model\\datasets\\diacritics\\labels\\train... 4595 images, 2658 backgrounds, 0 corrupt:  29%|██▊       | 4595/15994 [00:02<00:06, 1733.03it/s]Scanning C:\\Studium\\Semester5\\DSPRO2\\DSPOR2\\classifier\\Model\\datasets\\diacritics\\labels\\train... 4769 images, 2658 backgrounds, 0 corrupt:  30%|██▉       | 4769/15994 [00:02<00:06, 1716.76it/s]Scanning C:\\Studium\\Semester5\\DSPRO2\\DSPOR2\\classifier\\Model\\datasets\\diacritics\\labels\\train... 4941 images, 2658 backgrounds, 0 corrupt:  31%|███       | 4941/15994 [00:02<00:06, 1698.19it/s]Scanning C:\\Studium\\Semester5\\DSPRO2\\DSPOR2\\classifier\\Model\\datasets\\diacritics\\labels\\train... 5111 images, 2658 backgrounds, 0 corrupt:  32%|███▏      | 5111/15994 [00:02<00:06, 1672.82it/s]Scanning C:\\Studium\\Semester5\\DSPRO2\\DSPOR2\\classifier\\Model\\datasets\\diacritics\\labels\\train... 5279 images, 2658 backgrounds, 0 corrupt:  33%|███▎      | 5279/15994 [00:02<00:06, 1639.17it/s]Scanning C:\\Studium\\Semester5\\DSPRO2\\DSPOR2\\classifier\\Model\\datasets\\diacritics\\labels\\train... 5445 images, 2658 backgrounds, 0 corrupt:  34%|███▍      | 5445/15994 [00:03<00:06, 1633.70it/s]Scanning C:\\Studium\\Semester5\\DSPRO2\\DSPOR2\\classifier\\Model\\datasets\\diacritics\\labels\\train... 5610 images, 2658 backgrounds, 0 corrupt:  35%|███▌      | 5610/15994 [00:03<00:06, 1634.15it/s]Scanning C:\\Studium\\Semester5\\DSPRO2\\DSPOR2\\classifier\\Model\\datasets\\diacritics\\labels\\train... 5780 images, 2658 backgrounds, 0 corrupt:  36%|███▌      | 5780/15994 [00:03<00:06, 1650.43it/s]Scanning C:\\Studium\\Semester5\\DSPRO2\\DSPOR2\\classifier\\Model\\datasets\\diacritics\\labels\\train... 5961 images, 2735 backgrounds, 0 corrupt:  37%|███▋      | 5961/15994 [00:03<00:05, 1692.59it/s]Scanning C:\\Studium\\Semester5\\DSPRO2\\DSPOR2\\classifier\\Model\\datasets\\diacritics\\labels\\train... 6143 images, 2837 backgrounds, 0 corrupt:  38%|███▊      | 6143/15994 [00:03<00:05, 1728.36it/s]Scanning C:\\Studium\\Semester5\\DSPRO2\\DSPOR2\\classifier\\Model\\datasets\\diacritics\\labels\\train... 6340 images, 2980 backgrounds, 0 corrupt:  40%|███▉      | 6340/15994 [00:03<00:05, 1796.86it/s]Scanning C:\\Studium\\Semester5\\DSPRO2\\DSPOR2\\classifier\\Model\\datasets\\diacritics\\labels\\train... 6522 images, 3096 backgrounds, 0 corrupt:  41%|████      | 6522/15994 [00:03<00:05, 1800.96it/s]Scanning C:\\Studium\\Semester5\\DSPRO2\\DSPOR2\\classifier\\Model\\datasets\\diacritics\\labels\\train... 6711 images, 3206 backgrounds, 0 corrupt:  42%|████▏     | 6711/15994 [00:03<00:05, 1825.88it/s]Scanning C:\\Studium\\Semester5\\DSPRO2\\DSPOR2\\classifier\\Model\\datasets\\diacritics\\labels\\train... 6903 images, 3341 backgrounds, 0 corrupt:  43%|████▎     | 6903/15994 [00:03<00:04, 1850.77it/s]Scanning C:\\Studium\\Semester5\\DSPRO2\\DSPOR2\\classifier\\Model\\datasets\\diacritics\\labels\\train... 7096 images, 3467 backgrounds, 0 corrupt:  44%|████▍     | 7096/15994 [00:03<00:04, 1871.50it/s]Scanning C:\\Studium\\Semester5\\DSPRO2\\DSPOR2\\classifier\\Model\\datasets\\diacritics\\labels\\train... 7287 images, 3603 backgrounds, 0 corrupt:  46%|████▌     | 7287/15994 [00:04<00:04, 1879.40it/s]Scanning C:\\Studium\\Semester5\\DSPRO2\\DSPOR2\\classifier\\Model\\datasets\\diacritics\\labels\\train... 7482 images, 3733 backgrounds, 0 corrupt:  47%|████▋     | 7482/15994 [00:04<00:04, 1888.59it/s]Scanning C:\\Studium\\Semester5\\DSPRO2\\DSPOR2\\classifier\\Model\\datasets\\diacritics\\labels\\train... 7676 images, 3863 backgrounds, 0 corrupt:  48%|████▊     | 7676/15994 [00:04<00:04, 1903.15it/s]Scanning C:\\Studium\\Semester5\\DSPRO2\\DSPOR2\\classifier\\Model\\datasets\\diacritics\\labels\\train... 7867 images, 3949 backgrounds, 0 corrupt:  49%|████▉     | 7867/15994 [00:04<00:04, 1860.78it/s]Scanning C:\\Studium\\Semester5\\DSPRO2\\DSPOR2\\classifier\\Model\\datasets\\diacritics\\labels\\train... 8054 images, 4037 backgrounds, 0 corrupt:  50%|█████     | 8054/15994 [00:04<00:04, 1847.90it/s]Scanning C:\\Studium\\Semester5\\DSPRO2\\DSPOR2\\classifier\\Model\\datasets\\diacritics\\labels\\train... 8239 images, 4128 backgrounds, 0 corrupt:  52%|█████▏    | 8239/15994 [00:04<00:04, 1848.52it/s]Scanning C:\\Studium\\Semester5\\DSPRO2\\DSPOR2\\classifier\\Model\\datasets\\diacritics\\labels\\train... 8429 images, 4245 backgrounds, 0 corrupt:  53%|█████▎    | 8429/15994 [00:04<00:04, 1859.07it/s]Scanning C:\\Studium\\Semester5\\DSPRO2\\DSPOR2\\classifier\\Model\\datasets\\diacritics\\labels\\train... 8615 images, 4357 backgrounds, 0 corrupt:  54%|█████▍    | 8615/15994 [00:04<00:03, 1851.54it/s]Scanning C:\\Studium\\Semester5\\DSPRO2\\DSPOR2\\classifier\\Model\\datasets\\diacritics\\labels\\train... 8810 images, 4505 backgrounds, 0 corrupt:  55%|█████▌    | 8810/15994 [00:04<00:03, 1879.57it/s]Scanning C:\\Studium\\Semester5\\DSPRO2\\DSPOR2\\classifier\\Model\\datasets\\diacritics\\labels\\train... 9002 images, 4638 backgrounds, 0 corrupt:  56%|█████▋    | 9002/15994 [00:04<00:03, 1888.74it/s]Scanning C:\\Studium\\Semester5\\DSPRO2\\DSPOR2\\classifier\\Model\\datasets\\diacritics\\labels\\train... 9191 images, 4741 backgrounds, 0 corrupt:  57%|█████▋    | 9191/15994 [00:05<00:03, 1877.62it/s]Scanning C:\\Studium\\Semester5\\DSPRO2\\DSPOR2\\classifier\\Model\\datasets\\diacritics\\labels\\train... 9380 images, 4866 backgrounds, 0 corrupt:  59%|█████▊    | 9380/15994 [00:05<00:03, 1881.07it/s]Scanning C:\\Studium\\Semester5\\DSPRO2\\DSPOR2\\classifier\\Model\\datasets\\diacritics\\labels\\train... 9572 images, 4991 backgrounds, 0 corrupt:  60%|█████▉    | 9572/15994 [00:05<00:03, 1887.20it/s]Scanning C:\\Studium\\Semester5\\DSPRO2\\DSPOR2\\classifier\\Model\\datasets\\diacritics\\labels\\train... 9761 images, 5082 backgrounds, 0 corrupt:  61%|██████    | 9761/15994 [00:05<00:03, 1871.77it/s]Scanning C:\\Studium\\Semester5\\DSPRO2\\DSPOR2\\classifier\\Model\\datasets\\diacritics\\labels\\train... 9949 images, 5130 backgrounds, 0 corrupt:  62%|██████▏   | 9949/15994 [00:05<00:03, 1836.33it/s]Scanning C:\\Studium\\Semester5\\DSPRO2\\DSPOR2\\classifier\\Model\\datasets\\diacritics\\labels\\train... 10133 images, 5229 backgrounds, 0 corrupt:  63%|██████▎   | 10133/15994 [00:05<00:03, 1832.09it/s]Scanning C:\\Studium\\Semester5\\DSPRO2\\DSPOR2\\classifier\\Model\\datasets\\diacritics\\labels\\train... 10322 images, 5357 backgrounds, 0 corrupt:  65%|██████▍   | 10322/15994 [00:05<00:03, 1839.57it/s]Scanning C:\\Studium\\Semester5\\DSPRO2\\DSPOR2\\classifier\\Model\\datasets\\diacritics\\labels\\train... 10518 images, 5484 backgrounds, 0 corrupt:  66%|██████▌   | 10518/15994 [00:05<00:02, 1871.89it/s]Scanning C:\\Studium\\Semester5\\DSPRO2\\DSPOR2\\classifier\\Model\\datasets\\diacritics\\labels\\train... 10709 images, 5608 backgrounds, 0 corrupt:  67%|██████▋   | 10709/15994 [00:05<00:02, 1878.40it/s]Scanning C:\\Studium\\Semester5\\DSPRO2\\DSPOR2\\classifier\\Model\\datasets\\diacritics\\labels\\train... 10900 images, 5736 backgrounds, 0 corrupt:  68%|██████▊   | 10900/15994 [00:06<00:02, 1886.69it/s]Scanning C:\\Studium\\Semester5\\DSPRO2\\DSPOR2\\classifier\\Model\\datasets\\diacritics\\labels\\train... 11093 images, 5870 backgrounds, 0 corrupt:  69%|██████▉   | 11093/15994 [00:06<00:02, 1898.20it/s]Scanning C:\\Studium\\Semester5\\DSPRO2\\DSPOR2\\classifier\\Model\\datasets\\diacritics\\labels\\train... 11283 images, 5949 backgrounds, 0 corrupt:  71%|███████   | 11283/15994 [00:06<00:02, 1872.06it/s]Scanning C:\\Studium\\Semester5\\DSPRO2\\DSPOR2\\classifier\\Model\\datasets\\diacritics\\labels\\train... 11471 images, 5986 backgrounds, 0 corrupt:  72%|███████▏  | 11471/15994 [00:06<00:02, 1821.09it/s]Scanning C:\\Studium\\Semester5\\DSPRO2\\DSPOR2\\classifier\\Model\\datasets\\diacritics\\labels\\train... 11654 images, 6061 backgrounds, 0 corrupt:  73%|███████▎  | 11654/15994 [00:06<00:02, 1813.50it/s]Scanning C:\\Studium\\Semester5\\DSPRO2\\DSPOR2\\classifier\\Model\\datasets\\diacritics\\labels\\train... 11851 images, 6200 backgrounds, 0 corrupt:  74%|███████▍  | 11851/15994 [00:06<00:02, 1858.25it/s]Scanning C:\\Studium\\Semester5\\DSPRO2\\DSPOR2\\classifier\\Model\\datasets\\diacritics\\labels\\train... 12038 images, 6310 backgrounds, 0 corrupt:  75%|███████▌  | 12038/15994 [00:06<00:02, 1842.23it/s]Scanning C:\\Studium\\Semester5\\DSPRO2\\DSPOR2\\classifier\\Model\\datasets\\diacritics\\labels\\train... 12231 images, 6441 backgrounds, 0 corrupt:  76%|███████▋  | 12231/15994 [00:06<00:02, 1866.56it/s]Scanning C:\\Studium\\Semester5\\DSPRO2\\DSPOR2\\classifier\\Model\\datasets\\diacritics\\labels\\train... 12424 images, 6572 backgrounds, 0 corrupt:  78%|███████▊  | 12424/15994 [00:06<00:01, 1880.78it/s]Scanning C:\\Studium\\Semester5\\DSPRO2\\DSPOR2\\classifier\\Model\\datasets\\diacritics\\labels\\train... 12620 images, 6718 backgrounds, 0 corrupt:  79%|███████▉  | 12620/15994 [00:06<00:01, 1898.71it/s]Scanning C:\\Studium\\Semester5\\DSPRO2\\DSPOR2\\classifier\\Model\\datasets\\diacritics\\labels\\train... 12810 images, 6771 backgrounds, 0 corrupt:  80%|████████  | 12810/15994 [00:07<00:01, 1850.02it/s]Scanning C:\\Studium\\Semester5\\DSPRO2\\DSPOR2\\classifier\\Model\\datasets\\diacritics\\labels\\train... 12996 images, 6771 backgrounds, 0 corrupt:  81%|████████▏ | 12996/15994 [00:07<00:01, 1791.46it/s]Scanning C:\\Studium\\Semester5\\DSPRO2\\DSPOR2\\classifier\\Model\\datasets\\diacritics\\labels\\train... 13176 images, 6771 backgrounds, 0 corrupt:  82%|████████▏ | 13176/15994 [00:07<00:01, 1754.30it/s]Scanning C:\\Studium\\Semester5\\DSPRO2\\DSPOR2\\classifier\\Model\\datasets\\diacritics\\labels\\train... 13366 images, 6897 backgrounds, 0 corrupt:  84%|████████▎ | 13366/15994 [00:07<00:01, 1788.87it/s]Scanning C:\\Studium\\Semester5\\DSPRO2\\DSPOR2\\classifier\\Model\\datasets\\diacritics\\labels\\train... 13558 images, 7025 backgrounds, 0 corrupt:  85%|████████▍ | 13558/15994 [00:07<00:01, 1826.23it/s]Scanning C:\\Studium\\Semester5\\DSPRO2\\DSPOR2\\classifier\\Model\\datasets\\diacritics\\labels\\train... 13751 images, 7162 backgrounds, 0 corrupt:  86%|████████▌ | 13751/15994 [00:07<00:01, 1847.85it/s]Scanning C:\\Studium\\Semester5\\DSPRO2\\DSPOR2\\classifier\\Model\\datasets\\diacritics\\labels\\train... 13937 images, 7272 backgrounds, 0 corrupt:  87%|████████▋ | 13937/15994 [00:07<00:01, 1850.88it/s]Scanning C:\\Studium\\Semester5\\DSPRO2\\DSPOR2\\classifier\\Model\\datasets\\diacritics\\labels\\train... 14126 images, 7375 backgrounds, 0 corrupt:  88%|████████▊ | 14126/15994 [00:07<00:01, 1852.27it/s]Scanning C:\\Studium\\Semester5\\DSPRO2\\DSPOR2\\classifier\\Model\\datasets\\diacritics\\labels\\train... 14313 images, 7463 backgrounds, 0 corrupt:  89%|████████▉ | 14313/15994 [00:07<00:00, 1849.53it/s]Scanning C:\\Studium\\Semester5\\DSPRO2\\DSPOR2\\classifier\\Model\\datasets\\diacritics\\labels\\train... 14502 images, 7581 backgrounds, 0 corrupt:  91%|█████████ | 14502/15994 [00:07<00:00, 1860.92it/s]Scanning C:\\Studium\\Semester5\\DSPRO2\\DSPOR2\\classifier\\Model\\datasets\\diacritics\\labels\\train... 14691 images, 7701 backgrounds, 0 corrupt:  92%|█████████▏| 14691/15994 [00:08<00:00, 1868.15it/s]Scanning C:\\Studium\\Semester5\\DSPRO2\\DSPOR2\\classifier\\Model\\datasets\\diacritics\\labels\\train... 14878 images, 7768 backgrounds, 0 corrupt:  93%|█████████▎| 14878/15994 [00:08<00:00, 1839.41it/s]Scanning C:\\Studium\\Semester5\\DSPRO2\\DSPOR2\\classifier\\Model\\datasets\\diacritics\\labels\\train... 15068 images, 7893 backgrounds, 0 corrupt:  94%|█████████▍| 15068/15994 [00:08<00:00, 1856.34it/s]Scanning C:\\Studium\\Semester5\\DSPRO2\\DSPOR2\\classifier\\Model\\datasets\\diacritics\\labels\\train... 15259 images, 8009 backgrounds, 0 corrupt:  95%|█████████▌| 15259/15994 [00:08<00:00, 1869.84it/s]Scanning C:\\Studium\\Semester5\\DSPRO2\\DSPOR2\\classifier\\Model\\datasets\\diacritics\\labels\\train... 15447 images, 8021 backgrounds, 0 corrupt:  97%|█████████▋| 15447/15994 [00:08<00:00, 1808.89it/s]Scanning C:\\Studium\\Semester5\\DSPRO2\\DSPOR2\\classifier\\Model\\datasets\\diacritics\\labels\\train... 15629 images, 8021 backgrounds, 0 corrupt:  98%|█████████▊| 15629/15994 [00:08<00:00, 1750.92it/s]Scanning C:\\Studium\\Semester5\\DSPRO2\\DSPOR2\\classifier\\Model\\datasets\\diacritics\\labels\\train... 15805 images, 8021 backgrounds, 0 corrupt:  99%|█████████▉| 15805/15994 [00:08<00:00, 1717.81it/s]Scanning C:\\Studium\\Semester5\\DSPRO2\\DSPOR2\\classifier\\Model\\datasets\\diacritics\\labels\\train... 15978 images, 8021 backgrounds, 0 corrupt: 100%|█████████▉| 15978/15994 [00:08<00:00, 1710.21it/s]Scanning C:\\Studium\\Semester5\\DSPRO2\\DSPOR2\\classifier\\Model\\datasets\\diacritics\\labels\\train... 15994 images, 8029 backgrounds, 0 corrupt: 100%|██████████| 15994/15994 [00:08<00:00, 1812.76it/s]\n"
     ]
    },
    {
     "name": "stdout",
     "output_type": "stream",
     "text": [
      "\u001B[34m\u001B[1mtrain: \u001B[0mNew cache created: C:\\Studium\\Semester5\\DSPRO2\\DSPOR2\\classifier\\Model\\datasets\\diacritics\\labels\\train.cache\n"
     ]
    },
    {
     "name": "stderr",
     "output_type": "stream",
     "text": [
      "val: Scanning C:\\Studium\\Semester5\\DSPRO2\\DSPOR2\\classifier\\Model\\datasets\\diacritics\\labels\\validation...:   0%|          | 0/1999 [00:00<?, ?it/s]Scanning C:\\Studium\\Semester5\\DSPRO2\\DSPOR2\\classifier\\Model\\datasets\\diacritics\\labels\\validation... 130 images, 78 backgrounds, 0 corrupt:   7%|▋         | 130/1999 [00:00<00:01, 1293.48it/s]Scanning C:\\Studium\\Semester5\\DSPRO2\\DSPOR2\\classifier\\Model\\datasets\\diacritics\\labels\\validation... 260 images, 169 backgrounds, 0 corrupt:  13%|█▎        | 260/1999 [00:00<00:01, 1104.17it/s]Scanning C:\\Studium\\Semester5\\DSPRO2\\DSPOR2\\classifier\\Model\\datasets\\diacritics\\labels\\validation... 373 images, 233 backgrounds, 0 corrupt:  19%|█▊        | 373/1999 [00:00<00:01, 954.81it/s] Scanning C:\\Studium\\Semester5\\DSPRO2\\DSPOR2\\classifier\\Model\\datasets\\diacritics\\labels\\validation... 471 images, 296 backgrounds, 0 corrupt:  24%|██▎       | 471/1999 [00:00<00:01, 960.22it/s]Scanning C:\\Studium\\Semester5\\DSPRO2\\DSPOR2\\classifier\\Model\\datasets\\diacritics\\labels\\validation... 613 images, 336 backgrounds, 0 corrupt:  31%|███       | 613/1999 [00:00<00:01, 1103.60it/s]Scanning C:\\Studium\\Semester5\\DSPRO2\\DSPOR2\\classifier\\Model\\datasets\\diacritics\\labels\\validation... 773 images, 349 backgrounds, 0 corrupt:  39%|███▊      | 773/1999 [00:00<00:00, 1251.89it/s]Scanning C:\\Studium\\Semester5\\DSPRO2\\DSPOR2\\classifier\\Model\\datasets\\diacritics\\labels\\validation... 952 images, 443 backgrounds, 0 corrupt:  48%|████▊     | 952/1999 [00:00<00:00, 1410.03it/s]Scanning C:\\Studium\\Semester5\\DSPRO2\\DSPOR2\\classifier\\Model\\datasets\\diacritics\\labels\\validation... 1131 images, 544 backgrounds, 0 corrupt:  57%|█████▋    | 1131/1999 [00:00<00:00, 1518.21it/s]Scanning C:\\Studium\\Semester5\\DSPRO2\\DSPOR2\\classifier\\Model\\datasets\\diacritics\\labels\\validation... 1315 images, 645 backgrounds, 0 corrupt:  66%|██████▌   | 1315/1999 [00:00<00:00, 1611.88it/s]Scanning C:\\Studium\\Semester5\\DSPRO2\\DSPOR2\\classifier\\Model\\datasets\\diacritics\\labels\\validation... 1495 images, 756 backgrounds, 0 corrupt:  75%|███████▍  | 1495/1999 [00:01<00:00, 1665.51it/s]Scanning C:\\Studium\\Semester5\\DSPRO2\\DSPOR2\\classifier\\Model\\datasets\\diacritics\\labels\\validation... 1665 images, 828 backgrounds, 0 corrupt:  83%|████████▎ | 1665/1999 [00:01<00:00, 1674.84it/s]Scanning C:\\Studium\\Semester5\\DSPRO2\\DSPOR2\\classifier\\Model\\datasets\\diacritics\\labels\\validation... 1853 images, 939 backgrounds, 0 corrupt:  93%|█████████▎| 1853/1999 [00:01<00:00, 1733.87it/s]Scanning C:\\Studium\\Semester5\\DSPRO2\\DSPOR2\\classifier\\Model\\datasets\\diacritics\\labels\\validation... 1999 images, 975 backgrounds, 0 corrupt: 100%|██████████| 1999/1999 [00:01<00:00, 1463.52it/s]\n"
     ]
    },
    {
     "name": "stdout",
     "output_type": "stream",
     "text": [
      "\u001B[34m\u001B[1mval: \u001B[0mNew cache created: C:\\Studium\\Semester5\\DSPRO2\\DSPOR2\\classifier\\Model\\datasets\\diacritics\\labels\\validation.cache\n",
      "Plotting labels to DSPRO2\\train\\labels.jpg... \n",
      "\u001B[34m\u001B[1moptimizer:\u001B[0m 'optimizer=auto' found, ignoring 'lr0=0.01' and 'momentum=0.937' and determining best 'optimizer', 'lr0' and 'momentum' automatically... \n",
      "\u001B[34m\u001B[1moptimizer:\u001B[0m SGD(lr=0.01, momentum=0.9) with parameter groups 57 weight(decay=0.0), 64 weight(decay=0.0005), 63 bias(decay=0.0)\n",
      "Image sizes 256 train, 256 val\n",
      "Using 8 dataloader workers\n",
      "Logging results to \u001B[1mDSPRO2\\train\u001B[0m\n",
      "Starting training for 100 epochs...\n",
      "\n",
      "      Epoch    GPU_mem   box_loss   cls_loss   dfl_loss  Instances       Size\n"
     ]
    },
    {
     "name": "stderr",
     "output_type": "stream",
     "text": [
      "      1/100      1.49G       1.48      2.876     0.8721         72        256: 100%|██████████| 250/250 [02:19<00:00,  1.79it/s]\n",
      "                 Class     Images  Instances      Box(P          R      mAP50  mAP50-95): 100%|██████████| 16/16 [00:09<00:00,  1.74it/s]\n"
     ]
    },
    {
     "name": "stdout",
     "output_type": "stream",
     "text": [
      "                   all       1999       1196      0.957      0.947      0.977      0.617\n",
      "Ultralytics YOLOv8.1.37 🚀 Python-3.10.11 torch-2.2.2+cu118 CUDA:0 (NVIDIA GeForce RTX 3060 Laptop GPU, 6144MiB)\n",
      "YOLOv8n summary (fused): 168 layers, 3151904 parameters, 0 gradients, 8.7 GFLOPs\n"
     ]
    },
    {
     "data": {
      "text/plain": "Generating Visualizations for batch-1/1:   0%|          | 0/128 [00:00<?, ?it/s]",
      "application/vnd.jupyter.widget-view+json": {
       "version_major": 2,
       "version_minor": 0,
       "model_id": "20c20c79849145508443f7e0831d2074"
      }
     },
     "metadata": {},
     "output_type": "display_data"
    },
    {
     "name": "stderr",
     "output_type": "stream",
     "text": [
      "wandb: WARNING Image: C:\\Studium\\Semester5\\DSPRO2\\DSPOR2\\classifier\\Model\\datasets\\diacritics\\images\\validation\\sud-ouest-quart-ouest.tiff has no bounding boxes labels\n",
      "wandb: WARNING Image: C:\\Studium\\Semester5\\DSPRO2\\DSPOR2\\classifier\\Model\\datasets\\diacritics\\images\\validation\\assarmenterons.tiff has no bounding boxes labels\n",
      "wandb: WARNING Image: C:\\Studium\\Semester5\\DSPRO2\\DSPOR2\\classifier\\Model\\datasets\\diacritics\\images\\validation\\confessionnalismes.tiff has no bounding boxes labels\n",
      "wandb: WARNING Image: C:\\Studium\\Semester5\\DSPRO2\\DSPOR2\\classifier\\Model\\datasets\\diacritics\\images\\validation\\auto-tamponneuses.tiff has no bounding boxes labels\n",
      "wandb: WARNING Image: C:\\Studium\\Semester5\\DSPRO2\\DSPOR2\\classifier\\Model\\datasets\\diacritics\\images\\validation\\constructivement.tiff has no bounding boxes labels\n",
      "wandb: WARNING Image: C:\\Studium\\Semester5\\DSPRO2\\DSPOR2\\classifier\\Model\\datasets\\diacritics\\images\\validation\\remanufactureriez.tiff has no bounding boxes labels\n",
      "wandb: WARNING Image: C:\\Studium\\Semester5\\DSPRO2\\DSPOR2\\classifier\\Model\\datasets\\diacritics\\images\\validation\\reconceptualiseriez.tiff has no bounding boxes labels\n",
      "wandb: WARNING Image: C:\\Studium\\Semester5\\DSPRO2\\DSPOR2\\classifier\\Model\\datasets\\diacritics\\images\\validation\\confectionneuses.tiff has no bounding boxes labels\n",
      "wandb: WARNING Image: C:\\Studium\\Semester5\\DSPRO2\\DSPOR2\\classifier\\Model\\datasets\\diacritics\\images\\validation\\reconvertissions.tiff has no bounding boxes labels\n",
      "wandb: WARNING Image: C:\\Studium\\Semester5\\DSPRO2\\DSPOR2\\classifier\\Model\\datasets\\diacritics\\images\\validation\\marchandassiez.tiff has no bounding boxes labels\n",
      "wandb: WARNING Image: C:\\Studium\\Semester5\\DSPRO2\\DSPOR2\\classifier\\Model\\datasets\\diacritics\\images\\validation\\autolubrifiantes.tiff has no bounding boxes labels\n",
      "wandb: WARNING Image: C:\\Studium\\Semester5\\DSPRO2\\DSPOR2\\classifier\\Model\\datasets\\diacritics\\images\\validation\\pseudoparasitisme.tiff has no bounding boxes labels\n",
      "wandb: WARNING Image: C:\\Studium\\Semester5\\DSPRO2\\DSPOR2\\classifier\\Model\\datasets\\diacritics\\images\\validation\\moutonneront.tiff has no bounding boxes labels\n",
      "wandb: WARNING Image: C:\\Studium\\Semester5\\DSPRO2\\DSPOR2\\classifier\\Model\\datasets\\diacritics\\images\\validation\\multiprogrammant.tiff has no bounding boxes labels\n",
      "wandb: WARNING Image: C:\\Studium\\Semester5\\DSPRO2\\DSPOR2\\classifier\\Model\\datasets\\diacritics\\images\\validation\\Nord-Caucasien.tiff has no bounding boxes labels\n",
      "wandb: WARNING Image: C:\\Studium\\Semester5\\DSPRO2\\DSPOR2\\classifier\\Model\\datasets\\diacritics\\images\\validation\\successivement.tiff has no bounding boxes labels\n",
      "wandb: WARNING Image: C:\\Studium\\Semester5\\DSPRO2\\DSPOR2\\classifier\\Model\\datasets\\diacritics\\images\\validation\\surconduisirent.tiff has no bounding boxes labels\n",
      "wandb: WARNING Image: C:\\Studium\\Semester5\\DSPRO2\\DSPOR2\\classifier\\Model\\datasets\\diacritics\\images\\validation\\assouvissement.tiff has no bounding boxes labels\n",
      "wandb: WARNING Image: C:\\Studium\\Semester5\\DSPRO2\\DSPOR2\\classifier\\Model\\datasets\\diacritics\\images\\validation\\courtauderaient.tiff has no bounding boxes labels\n",
      "wandb: WARNING Image: C:\\Studium\\Semester5\\DSPRO2\\DSPOR2\\classifier\\Model\\datasets\\diacritics\\images\\validation\\exacerberaient.tiff has no bounding boxes labels\n",
      "wandb: WARNING Image: C:\\Studium\\Semester5\\DSPRO2\\DSPOR2\\classifier\\Model\\datasets\\diacritics\\images\\validation\\stakhanovismes.tiff has no bounding boxes labels\n",
      "wandb: WARNING Image: C:\\Studium\\Semester5\\DSPRO2\\DSPOR2\\classifier\\Model\\datasets\\diacritics\\images\\validation\\bituminisassent.tiff has no bounding boxes labels\n",
      "wandb: WARNING Image: C:\\Studium\\Semester5\\DSPRO2\\DSPOR2\\classifier\\Model\\datasets\\diacritics\\images\\validation\\dactylographiera.tiff has no bounding boxes labels\n",
      "wandb: WARNING Image: C:\\Studium\\Semester5\\DSPRO2\\DSPOR2\\classifier\\Model\\datasets\\diacritics\\images\\validation\\phlegmatiquement.tiff has no bounding boxes labels\n",
      "wandb: WARNING Image: C:\\Studium\\Semester5\\DSPRO2\\DSPOR2\\classifier\\Model\\datasets\\diacritics\\images\\validation\\subodorassent.tiff has no bounding boxes labels\n",
      "wandb: WARNING Image: C:\\Studium\\Semester5\\DSPRO2\\DSPOR2\\classifier\\Model\\datasets\\diacritics\\images\\validation\\diversifieraient.tiff has no bounding boxes labels\n",
      "wandb: WARNING Image: C:\\Studium\\Semester5\\DSPRO2\\DSPOR2\\classifier\\Model\\datasets\\diacritics\\images\\validation\\enthousiasmes.tiff has no bounding boxes labels\n",
      "wandb: WARNING Image: C:\\Studium\\Semester5\\DSPRO2\\DSPOR2\\classifier\\Model\\datasets\\diacritics\\images\\validation\\entre-mangeront.tiff has no bounding boxes labels\n",
      "wandb: WARNING Image: C:\\Studium\\Semester5\\DSPRO2\\DSPOR2\\classifier\\Model\\datasets\\diacritics\\images\\validation\\abeilardiserions.tiff has no bounding boxes labels\n",
      "wandb: WARNING Image: C:\\Studium\\Semester5\\DSPRO2\\DSPOR2\\classifier\\Model\\datasets\\diacritics\\images\\validation\\resocialiserions.tiff has no bounding boxes labels\n",
      "wandb: WARNING Image: C:\\Studium\\Semester5\\DSPRO2\\DSPOR2\\classifier\\Model\\datasets\\diacritics\\images\\validation\\contorsionnions.tiff has no bounding boxes labels\n",
      "wandb: WARNING Image: C:\\Studium\\Semester5\\DSPRO2\\DSPOR2\\classifier\\Model\\datasets\\diacritics\\images\\validation\\surmotiveraient.tiff has no bounding boxes labels\n",
      "wandb: WARNING Image: C:\\Studium\\Semester5\\DSPRO2\\DSPOR2\\classifier\\Model\\datasets\\diacritics\\images\\validation\\remanufacturai.tiff has no bounding boxes labels\n",
      "wandb: WARNING Image: C:\\Studium\\Semester5\\DSPRO2\\DSPOR2\\classifier\\Model\\datasets\\diacritics\\images\\validation\\antithyroïdiennes.tiff has no bounding boxes labels\n",
      "wandb: WARNING Image: C:\\Studium\\Semester5\\DSPRO2\\DSPOR2\\classifier\\Model\\datasets\\diacritics\\images\\validation\\radiographiassent.tiff has no bounding boxes labels\n",
      "wandb: WARNING Image: C:\\Studium\\Semester5\\DSPRO2\\DSPOR2\\classifier\\Model\\datasets\\diacritics\\images\\validation\\radiodiffuseras.tiff has no bounding boxes labels\n",
      "wandb: WARNING Image: C:\\Studium\\Semester5\\DSPRO2\\DSPOR2\\classifier\\Model\\datasets\\diacritics\\images\\validation\\ressouderaient.tiff has no bounding boxes labels\n",
      "wandb: WARNING Image: C:\\Studium\\Semester5\\DSPRO2\\DSPOR2\\classifier\\Model\\datasets\\diacritics\\images\\validation\\monomane.tiff has no bounding boxes labels\n",
      "wandb: WARNING Image: C:\\Studium\\Semester5\\DSPRO2\\DSPOR2\\classifier\\Model\\datasets\\diacritics\\images\\validation\\radiodiffuserez.tiff has no bounding boxes labels\n",
      "wandb: WARNING Image: C:\\Studium\\Semester5\\DSPRO2\\DSPOR2\\classifier\\Model\\datasets\\diacritics\\images\\validation\\chansonnasses.tiff has no bounding boxes labels\n",
      "wandb: WARNING Image: C:\\Studium\\Semester5\\DSPRO2\\DSPOR2\\classifier\\Model\\datasets\\diacritics\\images\\validation\\autosuggestions.tiff has no bounding boxes labels\n",
      "wandb: WARNING Image: C:\\Studium\\Semester5\\DSPRO2\\DSPOR2\\classifier\\Model\\datasets\\diacritics\\images\\validation\\austromarxiste.tiff has no bounding boxes labels\n",
      "wandb: WARNING Image: C:\\Studium\\Semester5\\DSPRO2\\DSPOR2\\classifier\\Model\\datasets\\diacritics\\images\\validation\\parangonneras.tiff has no bounding boxes labels\n",
      "wandb: WARNING Image: C:\\Studium\\Semester5\\DSPRO2\\DSPOR2\\classifier\\Model\\datasets\\diacritics\\images\\validation\\donquichottisme.tiff has no bounding boxes labels\n",
      "wandb: WARNING Image: C:\\Studium\\Semester5\\DSPRO2\\DSPOR2\\classifier\\Model\\datasets\\diacritics\\images\\validation\\thermochroïque.tiff has no bounding boxes labels\n",
      "wandb: WARNING Image: C:\\Studium\\Semester5\\DSPRO2\\DSPOR2\\classifier\\Model\\datasets\\diacritics\\images\\validation\\photographient.tiff has no bounding boxes labels\n",
      "wandb: WARNING Image: C:\\Studium\\Semester5\\DSPRO2\\DSPOR2\\classifier\\Model\\datasets\\diacritics\\images\\validation\\solutionneriez.tiff has no bounding boxes labels\n"
     ]
    },
    {
     "data": {
      "text/plain": "Generating Visualizations for batch-1/1:   0%|          | 0/128 [00:00<?, ?it/s]",
      "application/vnd.jupyter.widget-view+json": {
       "version_major": 2,
       "version_minor": 0,
       "model_id": "896d278aece14b918b5a41abba133f23"
      }
     },
     "metadata": {},
     "output_type": "display_data"
    },
    {
     "name": "stderr",
     "output_type": "stream",
     "text": [
      "wandb: WARNING Image: C:\\Studium\\Semester5\\DSPRO2\\DSPOR2\\classifier\\Model\\datasets\\diacritics\\images\\validation\\amnistiassions.tiff has no bounding boxes labels\n",
      "wandb: WARNING Image: C:\\Studium\\Semester5\\DSPRO2\\DSPOR2\\classifier\\Model\\datasets\\diacritics\\images\\validation\\intronisassent.tiff has no bounding boxes labels\n",
      "wandb: WARNING Image: C:\\Studium\\Semester5\\DSPRO2\\DSPOR2\\classifier\\Model\\datasets\\diacritics\\images\\validation\\effleurassions.tiff has no bounding boxes labels\n",
      "wandb: WARNING Image: C:\\Studium\\Semester5\\DSPRO2\\DSPOR2\\classifier\\Model\\datasets\\diacritics\\images\\validation\\actionnassions.tiff has no bounding boxes labels\n",
      "wandb: WARNING Image: C:\\Studium\\Semester5\\DSPRO2\\DSPOR2\\classifier\\Model\\datasets\\diacritics\\images\\validation\\isolationniste.tiff has no bounding boxes labels\n",
      "wandb: WARNING Image: C:\\Studium\\Semester5\\DSPRO2\\DSPOR2\\classifier\\Model\\datasets\\diacritics\\images\\validation\\bidouillassions.tiff has no bounding boxes labels\n",
      "wandb: WARNING Image: C:\\Studium\\Semester5\\DSPRO2\\DSPOR2\\classifier\\Model\\datasets\\diacritics\\images\\validation\\saisonnalisasse.tiff has no bounding boxes labels\n",
      "wandb: WARNING Image: C:\\Studium\\Semester5\\DSPRO2\\DSPOR2\\classifier\\Model\\datasets\\diacritics\\images\\validation\\assaisonnions.tiff has no bounding boxes labels\n",
      "wandb: WARNING Image: C:\\Studium\\Semester5\\DSPRO2\\DSPOR2\\classifier\\Model\\datasets\\diacritics\\images\\validation\\antichambres.tiff has no bounding boxes labels\n",
      "wandb: WARNING Image: C:\\Studium\\Semester5\\DSPRO2\\DSPOR2\\classifier\\Model\\datasets\\diacritics\\images\\validation\\vadrouilleraient.tiff has no bounding boxes labels\n",
      "wandb: WARNING Image: C:\\Studium\\Semester5\\DSPRO2\\DSPOR2\\classifier\\Model\\datasets\\diacritics\\images\\validation\\Morbihannaise.tiff has no bounding boxes labels\n",
      "wandb: WARNING Image: C:\\Studium\\Semester5\\DSPRO2\\DSPOR2\\classifier\\Model\\datasets\\diacritics\\images\\validation\\ristourneront.tiff has no bounding boxes labels\n",
      "wandb: WARNING Image: C:\\Studium\\Semester5\\DSPRO2\\DSPOR2\\classifier\\Model\\datasets\\diacritics\\images\\validation\\pharmacologies.tiff has no bounding boxes labels\n",
      "wandb: WARNING Image: C:\\Studium\\Semester5\\DSPRO2\\DSPOR2\\classifier\\Model\\datasets\\diacritics\\images\\validation\\barbouillaient.tiff has no bounding boxes labels\n",
      "wandb: WARNING Image: C:\\Studium\\Semester5\\DSPRO2\\DSPOR2\\classifier\\Model\\datasets\\diacritics\\images\\validation\\informatiserait.tiff has no bounding boxes labels\n",
      "wandb: WARNING Image: C:\\Studium\\Semester5\\DSPRO2\\DSPOR2\\classifier\\Model\\datasets\\diacritics\\images\\validation\\ethnographiaient.tiff has no bounding boxes labels\n",
      "wandb: WARNING Image: C:\\Studium\\Semester5\\DSPRO2\\DSPOR2\\classifier\\Model\\datasets\\diacritics\\images\\validation\\chaudronnons.tiff has no bounding boxes labels\n",
      "wandb: WARNING Image: C:\\Studium\\Semester5\\DSPRO2\\DSPOR2\\classifier\\Model\\datasets\\diacritics\\images\\validation\\ammoniaqueras.tiff has no bounding boxes labels\n",
      "wandb: WARNING Image: C:\\Studium\\Semester5\\DSPRO2\\DSPOR2\\classifier\\Model\\datasets\\diacritics\\images\\validation\\pomponnerons.tiff has no bounding boxes labels\n",
      "wandb: WARNING Image: C:\\Studium\\Semester5\\DSPRO2\\DSPOR2\\classifier\\Model\\datasets\\diacritics\\images\\validation\\bonsaïfierions.tiff has no bounding boxes labels\n",
      "wandb: WARNING Image: C:\\Studium\\Semester5\\DSPRO2\\DSPOR2\\classifier\\Model\\datasets\\diacritics\\images\\validation\\antipsychotique.tiff has no bounding boxes labels\n",
      "wandb: WARNING Image: C:\\Studium\\Semester5\\DSPRO2\\DSPOR2\\classifier\\Model\\datasets\\diacritics\\images\\validation\\plastronnerions.tiff has no bounding boxes labels\n",
      "wandb: WARNING Image: C:\\Studium\\Semester5\\DSPRO2\\DSPOR2\\classifier\\Model\\datasets\\diacritics\\images\\validation\\monitorasses.tiff has no bounding boxes labels\n",
      "wandb: WARNING Image: C:\\Studium\\Semester5\\DSPRO2\\DSPOR2\\classifier\\Model\\datasets\\diacritics\\images\\validation\\photoamorcent.tiff has no bounding boxes labels\n",
      "wandb: WARNING Image: C:\\Studium\\Semester5\\DSPRO2\\DSPOR2\\classifier\\Model\\datasets\\diacritics\\images\\validation\\libertariennes.tiff has no bounding boxes labels\n",
      "wandb: WARNING Image: C:\\Studium\\Semester5\\DSPRO2\\DSPOR2\\classifier\\Model\\datasets\\diacritics\\images\\validation\\recourbassent.tiff has no bounding boxes labels\n",
      "wandb: WARNING Image: C:\\Studium\\Semester5\\DSPRO2\\DSPOR2\\classifier\\Model\\datasets\\diacritics\\images\\validation\\chamaillassent.tiff has no bounding boxes labels\n",
      "wandb: WARNING Image: C:\\Studium\\Semester5\\DSPRO2\\DSPOR2\\classifier\\Model\\datasets\\diacritics\\images\\validation\\connectassions.tiff has no bounding boxes labels\n",
      "wandb: WARNING Image: C:\\Studium\\Semester5\\DSPRO2\\DSPOR2\\classifier\\Model\\datasets\\diacritics\\images\\validation\\harponnassions.tiff has no bounding boxes labels\n",
      "wandb: WARNING Image: C:\\Studium\\Semester5\\DSPRO2\\DSPOR2\\classifier\\Model\\datasets\\diacritics\\images\\validation\\chaulmoogrique.tiff has no bounding boxes labels\n",
      "wandb: WARNING Image: C:\\Studium\\Semester5\\DSPRO2\\DSPOR2\\classifier\\Model\\datasets\\diacritics\\images\\validation\\Nord-Africains.tiff has no bounding boxes labels\n",
      "wandb: WARNING Image: C:\\Studium\\Semester5\\DSPRO2\\DSPOR2\\classifier\\Model\\datasets\\diacritics\\images\\validation\\marchandasse.tiff has no bounding boxes labels\n",
      "wandb: WARNING Image: C:\\Studium\\Semester5\\DSPRO2\\DSPOR2\\classifier\\Model\\datasets\\diacritics\\images\\validation\\cocufieraient.tiff has no bounding boxes labels\n",
      "wandb: WARNING Image: C:\\Studium\\Semester5\\DSPRO2\\DSPOR2\\classifier\\Model\\datasets\\diacritics\\images\\validation\\phoeniciculture.tiff has no bounding boxes labels\n",
      "wandb: WARNING Image: C:\\Studium\\Semester5\\DSPRO2\\DSPOR2\\classifier\\Model\\datasets\\diacritics\\images\\validation\\contemporaines.tiff has no bounding boxes labels\n",
      "wandb: WARNING Image: C:\\Studium\\Semester5\\DSPRO2\\DSPOR2\\classifier\\Model\\datasets\\diacritics\\images\\validation\\rebadigeonneras.tiff has no bounding boxes labels\n",
      "wandb: WARNING Image: C:\\Studium\\Semester5\\DSPRO2\\DSPOR2\\classifier\\Model\\datasets\\diacritics\\images\\validation\\transporterions.tiff has no bounding boxes labels\n",
      "wandb: WARNING Image: C:\\Studium\\Semester5\\DSPRO2\\DSPOR2\\classifier\\Model\\datasets\\diacritics\\images\\validation\\manufacturez.tiff has no bounding boxes labels\n",
      "wandb: WARNING Image: C:\\Studium\\Semester5\\DSPRO2\\DSPOR2\\classifier\\Model\\datasets\\diacritics\\images\\validation\\culbuteraient.tiff has no bounding boxes labels\n",
      "wandb: WARNING Image: C:\\Studium\\Semester5\\DSPRO2\\DSPOR2\\classifier\\Model\\datasets\\diacritics\\images\\validation\\pyramideraient.tiff has no bounding boxes labels\n",
      "wandb: WARNING Image: C:\\Studium\\Semester5\\DSPRO2\\DSPOR2\\classifier\\Model\\datasets\\diacritics\\images\\validation\\respectivement.tiff has no bounding boxes labels\n",
      "wandb: WARNING Image: C:\\Studium\\Semester5\\DSPRO2\\DSPOR2\\classifier\\Model\\datasets\\diacritics\\images\\validation\\personnalismes.tiff has no bounding boxes labels\n",
      "wandb: WARNING Image: C:\\Studium\\Semester5\\DSPRO2\\DSPOR2\\classifier\\Model\\datasets\\diacritics\\images\\validation\\monoatomique.tiff has no bounding boxes labels\n",
      "wandb: WARNING Image: C:\\Studium\\Semester5\\DSPRO2\\DSPOR2\\classifier\\Model\\datasets\\diacritics\\images\\validation\\acoquineraient.tiff has no bounding boxes labels\n",
      "wandb: WARNING Image: C:\\Studium\\Semester5\\DSPRO2\\DSPOR2\\classifier\\Model\\datasets\\diacritics\\images\\validation\\randonnaient.tiff has no bounding boxes labels\n",
      "wandb: WARNING Image: C:\\Studium\\Semester5\\DSPRO2\\DSPOR2\\classifier\\Model\\datasets\\diacritics\\images\\validation\\amoncellerait.tiff has no bounding boxes labels\n",
      "wandb: WARNING Image: C:\\Studium\\Semester5\\DSPRO2\\DSPOR2\\classifier\\Model\\datasets\\diacritics\\images\\validation\\collectionnez.tiff has no bounding boxes labels\n",
      "wandb: WARNING Image: C:\\Studium\\Semester5\\DSPRO2\\DSPOR2\\classifier\\Model\\datasets\\diacritics\\images\\validation\\pontificalement.tiff has no bounding boxes labels\n",
      "wandb: WARNING Image: C:\\Studium\\Semester5\\DSPRO2\\DSPOR2\\classifier\\Model\\datasets\\diacritics\\images\\validation\\renoncerez.tiff has no bounding boxes labels\n",
      "wandb: WARNING Image: C:\\Studium\\Semester5\\DSPRO2\\DSPOR2\\classifier\\Model\\datasets\\diacritics\\images\\validation\\basocellulaire.tiff has no bounding boxes labels\n",
      "wandb: WARNING Image: C:\\Studium\\Semester5\\DSPRO2\\DSPOR2\\classifier\\Model\\datasets\\diacritics\\images\\validation\\mordamment.tiff has no bounding boxes labels\n",
      "wandb: WARNING Image: C:\\Studium\\Semester5\\DSPRO2\\DSPOR2\\classifier\\Model\\datasets\\diacritics\\images\\validation\\acidifiassions.tiff has no bounding boxes labels\n",
      "wandb: WARNING Image: C:\\Studium\\Semester5\\DSPRO2\\DSPOR2\\classifier\\Model\\datasets\\diacritics\\images\\validation\\nanovoitures.tiff has no bounding boxes labels\n",
      "wandb: WARNING Image: C:\\Studium\\Semester5\\DSPRO2\\DSPOR2\\classifier\\Model\\datasets\\diacritics\\images\\validation\\cordonnaient.tiff has no bounding boxes labels\n",
      "wandb: WARNING Image: C:\\Studium\\Semester5\\DSPRO2\\DSPOR2\\classifier\\Model\\datasets\\diacritics\\images\\validation\\Luxembourgeois.tiff has no bounding boxes labels\n",
      "wandb: WARNING Image: C:\\Studium\\Semester5\\DSPRO2\\DSPOR2\\classifier\\Model\\datasets\\diacritics\\images\\validation\\papelardement.tiff has no bounding boxes labels\n",
      "wandb: WARNING Image: C:\\Studium\\Semester5\\DSPRO2\\DSPOR2\\classifier\\Model\\datasets\\diacritics\\images\\validation\\programmant.tiff has no bounding boxes labels\n",
      "wandb: WARNING Image: C:\\Studium\\Semester5\\DSPRO2\\DSPOR2\\classifier\\Model\\datasets\\diacritics\\images\\validation\\penthiobarbital.tiff has no bounding boxes labels\n",
      "wandb: WARNING Image: C:\\Studium\\Semester5\\DSPRO2\\DSPOR2\\classifier\\Model\\datasets\\diacritics\\images\\validation\\architecturer.tiff has no bounding boxes labels\n",
      "wandb: WARNING Image: C:\\Studium\\Semester5\\DSPRO2\\DSPOR2\\classifier\\Model\\datasets\\diacritics\\images\\validation\\correspondirent.tiff has no bounding boxes labels\n",
      "wandb: WARNING Image: C:\\Studium\\Semester5\\DSPRO2\\DSPOR2\\classifier\\Model\\datasets\\diacritics\\images\\validation\\compensatrice.tiff has no bounding boxes labels\n",
      "wandb: WARNING Image: C:\\Studium\\Semester5\\DSPRO2\\DSPOR2\\classifier\\Model\\datasets\\diacritics\\images\\validation\\baguettisassiez.tiff has no bounding boxes labels\n",
      "wandb: WARNING Image: C:\\Studium\\Semester5\\DSPRO2\\DSPOR2\\classifier\\Model\\datasets\\diacritics\\images\\validation\\cordialisasse.tiff has no bounding boxes labels\n",
      "wandb: WARNING Image: C:\\Studium\\Semester5\\DSPRO2\\DSPOR2\\classifier\\Model\\datasets\\diacritics\\images\\validation\\reformataient.tiff has no bounding boxes labels\n"
     ]
    },
    {
     "name": "stdout",
     "output_type": "stream",
     "text": [
      "\n",
      "      Epoch    GPU_mem   box_loss   cls_loss   dfl_loss  Instances       Size\n"
     ]
    },
    {
     "name": "stderr",
     "output_type": "stream",
     "text": [
      "      2/100      1.55G      1.252      1.175     0.8238         60        256: 100%|██████████| 250/250 [02:18<00:00,  1.80it/s]\n",
      "                 Class     Images  Instances      Box(P          R      mAP50  mAP50-95): 100%|██████████| 16/16 [00:07<00:00,  2.01it/s]\n"
     ]
    },
    {
     "name": "stdout",
     "output_type": "stream",
     "text": [
      "                   all       1999       1196      0.959       0.96      0.985      0.643\n"
     ]
    },
    {
     "data": {
      "text/plain": "Generating Visualizations for batch-1/1:   0%|          | 0/128 [00:00<?, ?it/s]",
      "application/vnd.jupyter.widget-view+json": {
       "version_major": 2,
       "version_minor": 0,
       "model_id": "705ce39b594347a0bcb359f510b35b89"
      }
     },
     "metadata": {},
     "output_type": "display_data"
    },
    {
     "name": "stderr",
     "output_type": "stream",
     "text": [
      "wandb: WARNING Image: C:\\Studium\\Semester5\\DSPRO2\\DSPOR2\\classifier\\Model\\datasets\\diacritics\\images\\validation\\diffameraient.tiff has no bounding boxes labels\n",
      "wandb: WARNING Image: C:\\Studium\\Semester5\\DSPRO2\\DSPOR2\\classifier\\Model\\datasets\\diacritics\\images\\validation\\gamahucheras.tiff has no bounding boxes labels\n",
      "wandb: WARNING Image: C:\\Studium\\Semester5\\DSPRO2\\DSPOR2\\classifier\\Model\\datasets\\diacritics\\images\\validation\\provisionnerais.tiff has no bounding boxes labels\n",
      "wandb: WARNING Image: C:\\Studium\\Semester5\\DSPRO2\\DSPOR2\\classifier\\Model\\datasets\\diacritics\\images\\validation\\surexcitations.tiff has no bounding boxes labels\n",
      "wandb: WARNING Image: C:\\Studium\\Semester5\\DSPRO2\\DSPOR2\\classifier\\Model\\datasets\\diacritics\\images\\validation\\compensatoire.tiff has no bounding boxes labels\n",
      "wandb: WARNING Image: C:\\Studium\\Semester5\\DSPRO2\\DSPOR2\\classifier\\Model\\datasets\\diacritics\\images\\validation\\symboliseraient.tiff has no bounding boxes labels\n",
      "wandb: WARNING Image: C:\\Studium\\Semester5\\DSPRO2\\DSPOR2\\classifier\\Model\\datasets\\diacritics\\images\\validation\\baudissaient.tiff has no bounding boxes labels\n",
      "wandb: WARNING Image: C:\\Studium\\Semester5\\DSPRO2\\DSPOR2\\classifier\\Model\\datasets\\diacritics\\images\\validation\\surconduises.tiff has no bounding boxes labels\n",
      "wandb: WARNING Image: C:\\Studium\\Semester5\\DSPRO2\\DSPOR2\\classifier\\Model\\datasets\\diacritics\\images\\validation\\reconsacra.tiff has no bounding boxes labels\n",
      "wandb: WARNING Image: C:\\Studium\\Semester5\\DSPRO2\\DSPOR2\\classifier\\Model\\datasets\\diacritics\\images\\validation\\enharnachiez.tiff has no bounding boxes labels\n",
      "wandb: WARNING Image: C:\\Studium\\Semester5\\DSPRO2\\DSPOR2\\classifier\\Model\\datasets\\diacritics\\images\\validation\\rembrunissais.tiff has no bounding boxes labels\n",
      "wandb: WARNING Image: C:\\Studium\\Semester5\\DSPRO2\\DSPOR2\\classifier\\Model\\datasets\\diacritics\\images\\validation\\acousticienne.tiff has no bounding boxes labels\n",
      "wandb: WARNING Image: C:\\Studium\\Semester5\\DSPRO2\\DSPOR2\\classifier\\Model\\datasets\\diacritics\\images\\validation\\entretoiserait.tiff has no bounding boxes labels\n",
      "wandb: WARNING Image: C:\\Studium\\Semester5\\DSPRO2\\DSPOR2\\classifier\\Model\\datasets\\diacritics\\images\\validation\\antiarythmique.tiff has no bounding boxes labels\n",
      "wandb: WARNING Image: C:\\Studium\\Semester5\\DSPRO2\\DSPOR2\\classifier\\Model\\datasets\\diacritics\\images\\validation\\caoutchoutes.tiff has no bounding boxes labels\n",
      "wandb: WARNING Image: C:\\Studium\\Semester5\\DSPRO2\\DSPOR2\\classifier\\Model\\datasets\\diacritics\\images\\validation\\menacerez.tiff has no bounding boxes labels\n",
      "wandb: WARNING Image: C:\\Studium\\Semester5\\DSPRO2\\DSPOR2\\classifier\\Model\\datasets\\diacritics\\images\\validation\\recroiserions.tiff has no bounding boxes labels\n",
      "wandb: WARNING Image: C:\\Studium\\Semester5\\DSPRO2\\DSPOR2\\classifier\\Model\\datasets\\diacritics\\images\\validation\\acharneraient.tiff has no bounding boxes labels\n",
      "wandb: WARNING Image: C:\\Studium\\Semester5\\DSPRO2\\DSPOR2\\classifier\\Model\\datasets\\diacritics\\images\\validation\\nosocomiale.tiff has no bounding boxes labels\n",
      "wandb: WARNING Image: C:\\Studium\\Semester5\\DSPRO2\\DSPOR2\\classifier\\Model\\datasets\\diacritics\\images\\validation\\aveuglements.tiff has no bounding boxes labels\n",
      "wandb: WARNING Image: C:\\Studium\\Semester5\\DSPRO2\\DSPOR2\\classifier\\Model\\datasets\\diacritics\\images\\validation\\recristallisent.tiff has no bounding boxes labels\n",
      "wandb: WARNING Image: C:\\Studium\\Semester5\\DSPRO2\\DSPOR2\\classifier\\Model\\datasets\\diacritics\\images\\validation\\vilipendassent.tiff has no bounding boxes labels\n",
      "wandb: WARNING Image: C:\\Studium\\Semester5\\DSPRO2\\DSPOR2\\classifier\\Model\\datasets\\diacritics\\images\\validation\\charpenterions.tiff has no bounding boxes labels\n",
      "wandb: WARNING Image: C:\\Studium\\Semester5\\DSPRO2\\DSPOR2\\classifier\\Model\\datasets\\diacritics\\images\\validation\\abscondasse.tiff has no bounding boxes labels\n",
      "wandb: WARNING Image: C:\\Studium\\Semester5\\DSPRO2\\DSPOR2\\classifier\\Model\\datasets\\diacritics\\images\\validation\\mutualiserait.tiff has no bounding boxes labels\n",
      "wandb: WARNING Image: C:\\Studium\\Semester5\\DSPRO2\\DSPOR2\\classifier\\Model\\datasets\\diacritics\\images\\validation\\charlevoisien.tiff has no bounding boxes labels\n",
      "wandb: WARNING Image: C:\\Studium\\Semester5\\DSPRO2\\DSPOR2\\classifier\\Model\\datasets\\diacritics\\images\\validation\\pougnasson.tiff has no bounding boxes labels\n",
      "wandb: WARNING Image: C:\\Studium\\Semester5\\DSPRO2\\DSPOR2\\classifier\\Model\\datasets\\diacritics\\images\\validation\\embrassasse.tiff has no bounding boxes labels\n",
      "wandb: WARNING Image: C:\\Studium\\Semester5\\DSPRO2\\DSPOR2\\classifier\\Model\\datasets\\diacritics\\images\\validation\\recomparaitras.tiff has no bounding boxes labels\n",
      "wandb: WARNING Image: C:\\Studium\\Semester5\\DSPRO2\\DSPOR2\\classifier\\Model\\datasets\\diacritics\\images\\validation\\serinassions.tiff has no bounding boxes labels\n",
      "wandb: WARNING Image: C:\\Studium\\Semester5\\DSPRO2\\DSPOR2\\classifier\\Model\\datasets\\diacritics\\images\\validation\\emmaillotait.tiff has no bounding boxes labels\n",
      "wandb: WARNING Image: C:\\Studium\\Semester5\\DSPRO2\\DSPOR2\\classifier\\Model\\datasets\\diacritics\\images\\validation\\transformait.tiff has no bounding boxes labels\n",
      "wandb: WARNING Image: C:\\Studium\\Semester5\\DSPRO2\\DSPOR2\\classifier\\Model\\datasets\\diacritics\\images\\validation\\permanence.tiff has no bounding boxes labels\n",
      "wandb: WARNING Image: C:\\Studium\\Semester5\\DSPRO2\\DSPOR2\\classifier\\Model\\datasets\\diacritics\\images\\validation\\ringardisaient.tiff has no bounding boxes labels\n",
      "wandb: WARNING Image: C:\\Studium\\Semester5\\DSPRO2\\DSPOR2\\classifier\\Model\\datasets\\diacritics\\images\\validation\\artificialisent.tiff has no bounding boxes labels\n",
      "wandb: WARNING Image: C:\\Studium\\Semester5\\DSPRO2\\DSPOR2\\classifier\\Model\\datasets\\diacritics\\images\\validation\\descriptivisme.tiff has no bounding boxes labels\n",
      "wandb: WARNING Image: C:\\Studium\\Semester5\\DSPRO2\\DSPOR2\\classifier\\Model\\datasets\\diacritics\\images\\validation\\acupunctures.tiff has no bounding boxes labels\n",
      "wandb: WARNING Image: C:\\Studium\\Semester5\\DSPRO2\\DSPOR2\\classifier\\Model\\datasets\\diacritics\\images\\validation\\urgentologues.tiff has no bounding boxes labels\n",
      "wandb: WARNING Image: C:\\Studium\\Semester5\\DSPRO2\\DSPOR2\\classifier\\Model\\datasets\\diacritics\\images\\validation\\transparaîtriez.tiff has no bounding boxes labels\n",
      "wandb: WARNING Image: C:\\Studium\\Semester5\\DSPRO2\\DSPOR2\\classifier\\Model\\datasets\\diacritics\\images\\validation\\enchantasse.tiff has no bounding boxes labels\n",
      "wandb: WARNING Image: C:\\Studium\\Semester5\\DSPRO2\\DSPOR2\\classifier\\Model\\datasets\\diacritics\\images\\validation\\musiqueraient.tiff has no bounding boxes labels\n",
      "wandb: WARNING Image: C:\\Studium\\Semester5\\DSPRO2\\DSPOR2\\classifier\\Model\\datasets\\diacritics\\images\\validation\\desservisses.tiff has no bounding boxes labels\n",
      "wandb: WARNING Image: C:\\Studium\\Semester5\\DSPRO2\\DSPOR2\\classifier\\Model\\datasets\\diacritics\\images\\validation\\accointeront.tiff has no bounding boxes labels\n",
      "wandb: WARNING Image: C:\\Studium\\Semester5\\DSPRO2\\DSPOR2\\classifier\\Model\\datasets\\diacritics\\images\\validation\\encapsulassiez.tiff has no bounding boxes labels\n",
      "wandb: WARNING Image: C:\\Studium\\Semester5\\DSPRO2\\DSPOR2\\classifier\\Model\\datasets\\diacritics\\images\\validation\\refourgueraient.tiff has no bounding boxes labels\n",
      "wandb: WARNING Image: C:\\Studium\\Semester5\\DSPRO2\\DSPOR2\\classifier\\Model\\datasets\\diacritics\\images\\validation\\travestissent.tiff has no bounding boxes labels\n",
      "wandb: WARNING Image: C:\\Studium\\Semester5\\DSPRO2\\DSPOR2\\classifier\\Model\\datasets\\diacritics\\images\\validation\\vocabulaires.tiff has no bounding boxes labels\n",
      "wandb: WARNING Image: C:\\Studium\\Semester5\\DSPRO2\\DSPOR2\\classifier\\Model\\datasets\\diacritics\\images\\validation\\chatouilleras.tiff has no bounding boxes labels\n",
      "wandb: WARNING Image: C:\\Studium\\Semester5\\DSPRO2\\DSPOR2\\classifier\\Model\\datasets\\diacritics\\images\\validation\\empanacheront.tiff has no bounding boxes labels\n",
      "wandb: WARNING Image: C:\\Studium\\Semester5\\DSPRO2\\DSPOR2\\classifier\\Model\\datasets\\diacritics\\images\\validation\\palæographies.tiff has no bounding boxes labels\n",
      "wandb: WARNING Image: C:\\Studium\\Semester5\\DSPRO2\\DSPOR2\\classifier\\Model\\datasets\\diacritics\\images\\validation\\aimanteriez.tiff has no bounding boxes labels\n",
      "wandb: WARNING Image: C:\\Studium\\Semester5\\DSPRO2\\DSPOR2\\classifier\\Model\\datasets\\diacritics\\images\\validation\\flamboyassiez.tiff has no bounding boxes labels\n",
      "wandb: WARNING Image: C:\\Studium\\Semester5\\DSPRO2\\DSPOR2\\classifier\\Model\\datasets\\diacritics\\images\\validation\\remblayeront.tiff has no bounding boxes labels\n",
      "wandb: WARNING Image: C:\\Studium\\Semester5\\DSPRO2\\DSPOR2\\classifier\\Model\\datasets\\diacritics\\images\\validation\\phtalocyanine.tiff has no bounding boxes labels\n",
      "wandb: WARNING Image: C:\\Studium\\Semester5\\DSPRO2\\DSPOR2\\classifier\\Model\\datasets\\diacritics\\images\\validation\\xanthoderme.tiff has no bounding boxes labels\n",
      "wandb: WARNING Image: C:\\Studium\\Semester5\\DSPRO2\\DSPOR2\\classifier\\Model\\datasets\\diacritics\\images\\validation\\transfusions.tiff has no bounding boxes labels\n",
      "wandb: WARNING Image: C:\\Studium\\Semester5\\DSPRO2\\DSPOR2\\classifier\\Model\\datasets\\diacritics\\images\\validation\\spiritualisassiez.tiff has no bounding boxes labels\n",
      "wandb: WARNING Image: C:\\Studium\\Semester5\\DSPRO2\\DSPOR2\\classifier\\Model\\datasets\\diacritics\\images\\validation\\oppresseraient.tiff has no bounding boxes labels\n",
      "wandb: WARNING Image: C:\\Studium\\Semester5\\DSPRO2\\DSPOR2\\classifier\\Model\\datasets\\diacritics\\images\\validation\\embraserais.tiff has no bounding boxes labels\n",
      "wandb: WARNING Image: C:\\Studium\\Semester5\\DSPRO2\\DSPOR2\\classifier\\Model\\datasets\\diacritics\\images\\validation\\renverses.tiff has no bounding boxes labels\n"
     ]
    },
    {
     "data": {
      "text/plain": "Generating Visualizations for batch-1/1:   0%|          | 0/128 [00:00<?, ?it/s]",
      "application/vnd.jupyter.widget-view+json": {
       "version_major": 2,
       "version_minor": 0,
       "model_id": "c1e05841d1c5496c8908ad69e9153399"
      }
     },
     "metadata": {},
     "output_type": "display_data"
    },
    {
     "name": "stderr",
     "output_type": "stream",
     "text": [
      "wandb: WARNING Image: C:\\Studium\\Semester5\\DSPRO2\\DSPOR2\\classifier\\Model\\datasets\\diacritics\\images\\validation\\montueuses.tiff has no bounding boxes labels\n",
      "wandb: WARNING Image: C:\\Studium\\Semester5\\DSPRO2\\DSPOR2\\classifier\\Model\\datasets\\diacritics\\images\\validation\\innommables.tiff has no bounding boxes labels\n",
      "wandb: WARNING Image: C:\\Studium\\Semester5\\DSPRO2\\DSPOR2\\classifier\\Model\\datasets\\diacritics\\images\\validation\\musculation.tiff has no bounding boxes labels\n",
      "wandb: WARNING Image: C:\\Studium\\Semester5\\DSPRO2\\DSPOR2\\classifier\\Model\\datasets\\diacritics\\images\\validation\\sournoiserie.tiff has no bounding boxes labels\n",
      "wandb: WARNING Image: C:\\Studium\\Semester5\\DSPRO2\\DSPOR2\\classifier\\Model\\datasets\\diacritics\\images\\validation\\alogiquement.tiff has no bounding boxes labels\n",
      "wandb: WARNING Image: C:\\Studium\\Semester5\\DSPRO2\\DSPOR2\\classifier\\Model\\datasets\\diacritics\\images\\validation\\corporisations.tiff has no bounding boxes labels\n",
      "wandb: WARNING Image: C:\\Studium\\Semester5\\DSPRO2\\DSPOR2\\classifier\\Model\\datasets\\diacritics\\images\\validation\\renseigneront.tiff has no bounding boxes labels\n",
      "wandb: WARNING Image: C:\\Studium\\Semester5\\DSPRO2\\DSPOR2\\classifier\\Model\\datasets\\diacritics\\images\\validation\\moutonner.tiff has no bounding boxes labels\n",
      "wandb: WARNING Image: C:\\Studium\\Semester5\\DSPRO2\\DSPOR2\\classifier\\Model\\datasets\\diacritics\\images\\validation\\bactriennes.tiff has no bounding boxes labels\n",
      "wandb: WARNING Image: C:\\Studium\\Semester5\\DSPRO2\\DSPOR2\\classifier\\Model\\datasets\\diacritics\\images\\validation\\mobiliserons.tiff has no bounding boxes labels\n",
      "wandb: WARNING Image: C:\\Studium\\Semester5\\DSPRO2\\DSPOR2\\classifier\\Model\\datasets\\diacritics\\images\\validation\\fuckassions.tiff has no bounding boxes labels\n",
      "wandb: WARNING Image: C:\\Studium\\Semester5\\DSPRO2\\DSPOR2\\classifier\\Model\\datasets\\diacritics\\images\\validation\\radioprotection.tiff has no bounding boxes labels\n",
      "wandb: WARNING Image: C:\\Studium\\Semester5\\DSPRO2\\DSPOR2\\classifier\\Model\\datasets\\diacritics\\images\\validation\\neutralismes.tiff has no bounding boxes labels\n",
      "wandb: WARNING Image: C:\\Studium\\Semester5\\DSPRO2\\DSPOR2\\classifier\\Model\\datasets\\diacritics\\images\\validation\\kilowattheure.tiff has no bounding boxes labels\n",
      "wandb: WARNING Image: C:\\Studium\\Semester5\\DSPRO2\\DSPOR2\\classifier\\Model\\datasets\\diacritics\\images\\validation\\interclassais.tiff has no bounding boxes labels\n",
      "wandb: WARNING Image: C:\\Studium\\Semester5\\DSPRO2\\DSPOR2\\classifier\\Model\\datasets\\diacritics\\images\\validation\\enjambassent.tiff has no bounding boxes labels\n",
      "wandb: WARNING Image: C:\\Studium\\Semester5\\DSPRO2\\DSPOR2\\classifier\\Model\\datasets\\diacritics\\images\\validation\\ressoudions.tiff has no bounding boxes labels\n",
      "wandb: WARNING Image: C:\\Studium\\Semester5\\DSPRO2\\DSPOR2\\classifier\\Model\\datasets\\diacritics\\images\\validation\\tonnassions.tiff has no bounding boxes labels\n",
      "wandb: WARNING Image: C:\\Studium\\Semester5\\DSPRO2\\DSPOR2\\classifier\\Model\\datasets\\diacritics\\images\\validation\\argumentation.tiff has no bounding boxes labels\n",
      "wandb: WARNING Image: C:\\Studium\\Semester5\\DSPRO2\\DSPOR2\\classifier\\Model\\datasets\\diacritics\\images\\validation\\parangonaient.tiff has no bounding boxes labels\n",
      "wandb: WARNING Image: C:\\Studium\\Semester5\\DSPRO2\\DSPOR2\\classifier\\Model\\datasets\\diacritics\\images\\validation\\conservas.tiff has no bounding boxes labels\n",
      "wandb: WARNING Image: C:\\Studium\\Semester5\\DSPRO2\\DSPOR2\\classifier\\Model\\datasets\\diacritics\\images\\validation\\pataugeaient.tiff has no bounding boxes labels\n",
      "wandb: WARNING Image: C:\\Studium\\Semester5\\DSPRO2\\DSPOR2\\classifier\\Model\\datasets\\diacritics\\images\\validation\\foisonneriez.tiff has no bounding boxes labels\n",
      "wandb: WARNING Image: C:\\Studium\\Semester5\\DSPRO2\\DSPOR2\\classifier\\Model\\datasets\\diacritics\\images\\validation\\dollarisation.tiff has no bounding boxes labels\n",
      "wandb: WARNING Image: C:\\Studium\\Semester5\\DSPRO2\\DSPOR2\\classifier\\Model\\datasets\\diacritics\\images\\validation\\campanologie.tiff has no bounding boxes labels\n",
      "wandb: WARNING Image: C:\\Studium\\Semester5\\DSPRO2\\DSPOR2\\classifier\\Model\\datasets\\diacritics\\images\\validation\\ensaisinasse.tiff has no bounding boxes labels\n",
      "wandb: WARNING Image: C:\\Studium\\Semester5\\DSPRO2\\DSPOR2\\classifier\\Model\\datasets\\diacritics\\images\\validation\\fongistatiques.tiff has no bounding boxes labels\n",
      "wandb: WARNING Image: C:\\Studium\\Semester5\\DSPRO2\\DSPOR2\\classifier\\Model\\datasets\\diacritics\\images\\validation\\ratisseraient.tiff has no bounding boxes labels\n",
      "wandb: WARNING Image: C:\\Studium\\Semester5\\DSPRO2\\DSPOR2\\classifier\\Model\\datasets\\diacritics\\images\\validation\\damassasse.tiff has no bounding boxes labels\n",
      "wandb: WARNING Image: C:\\Studium\\Semester5\\DSPRO2\\DSPOR2\\classifier\\Model\\datasets\\diacritics\\images\\validation\\recomparaisse.tiff has no bounding boxes labels\n",
      "wandb: WARNING Image: C:\\Studium\\Semester5\\DSPRO2\\DSPOR2\\classifier\\Model\\datasets\\diacritics\\images\\validation\\botaniserez.tiff has no bounding boxes labels\n",
      "wandb: WARNING Image: C:\\Studium\\Semester5\\DSPRO2\\DSPOR2\\classifier\\Model\\datasets\\diacritics\\images\\validation\\dominassiez.tiff has no bounding boxes labels\n",
      "wandb: WARNING Image: C:\\Studium\\Semester5\\DSPRO2\\DSPOR2\\classifier\\Model\\datasets\\diacritics\\images\\validation\\tachistoscope.tiff has no bounding boxes labels\n",
      "wandb: WARNING Image: C:\\Studium\\Semester5\\DSPRO2\\DSPOR2\\classifier\\Model\\datasets\\diacritics\\images\\validation\\sensualistes.tiff has no bounding boxes labels\n",
      "wandb: WARNING Image: C:\\Studium\\Semester5\\DSPRO2\\DSPOR2\\classifier\\Model\\datasets\\diacritics\\images\\validation\\engaverons.tiff has no bounding boxes labels\n",
      "wandb: WARNING Image: C:\\Studium\\Semester5\\DSPRO2\\DSPOR2\\classifier\\Model\\datasets\\diacritics\\images\\validation\\rongeassions.tiff has no bounding boxes labels\n",
      "wandb: WARNING Image: C:\\Studium\\Semester5\\DSPRO2\\DSPOR2\\classifier\\Model\\datasets\\diacritics\\images\\validation\\renfrognerions.tiff has no bounding boxes labels\n",
      "wandb: WARNING Image: C:\\Studium\\Semester5\\DSPRO2\\DSPOR2\\classifier\\Model\\datasets\\diacritics\\images\\validation\\guillocherons.tiff has no bounding boxes labels\n",
      "wandb: WARNING Image: C:\\Studium\\Semester5\\DSPRO2\\DSPOR2\\classifier\\Model\\datasets\\diacritics\\images\\validation\\surutilisaient.tiff has no bounding boxes labels\n",
      "wandb: WARNING Image: C:\\Studium\\Semester5\\DSPRO2\\DSPOR2\\classifier\\Model\\datasets\\diacritics\\images\\validation\\shampouinent.tiff has no bounding boxes labels\n",
      "wandb: WARNING Image: C:\\Studium\\Semester5\\DSPRO2\\DSPOR2\\classifier\\Model\\datasets\\diacritics\\images\\validation\\abeilardisais.tiff has no bounding boxes labels\n",
      "wandb: WARNING Image: C:\\Studium\\Semester5\\DSPRO2\\DSPOR2\\classifier\\Model\\datasets\\diacritics\\images\\validation\\carboxylaient.tiff has no bounding boxes labels\n",
      "wandb: WARNING Image: C:\\Studium\\Semester5\\DSPRO2\\DSPOR2\\classifier\\Model\\datasets\\diacritics\\images\\validation\\connoteras.tiff has no bounding boxes labels\n",
      "wandb: WARNING Image: C:\\Studium\\Semester5\\DSPRO2\\DSPOR2\\classifier\\Model\\datasets\\diacritics\\images\\validation\\ambuleront.tiff has no bounding boxes labels\n",
      "wandb: WARNING Image: C:\\Studium\\Semester5\\DSPRO2\\DSPOR2\\classifier\\Model\\datasets\\diacritics\\images\\validation\\robotisaient.tiff has no bounding boxes labels\n",
      "wandb: WARNING Image: C:\\Studium\\Semester5\\DSPRO2\\DSPOR2\\classifier\\Model\\datasets\\diacritics\\images\\validation\\amuse-gueule.tiff has no bounding boxes labels\n",
      "wandb: WARNING Image: C:\\Studium\\Semester5\\DSPRO2\\DSPOR2\\classifier\\Model\\datasets\\diacritics\\images\\validation\\exceptionnelle.tiff has no bounding boxes labels\n",
      "wandb: WARNING Image: C:\\Studium\\Semester5\\DSPRO2\\DSPOR2\\classifier\\Model\\datasets\\diacritics\\images\\validation\\inventeriez.tiff has no bounding boxes labels\n",
      "wandb: WARNING Image: C:\\Studium\\Semester5\\DSPRO2\\DSPOR2\\classifier\\Model\\datasets\\diacritics\\images\\validation\\assourdîtes.tiff has no bounding boxes labels\n",
      "wandb: WARNING Image: C:\\Studium\\Semester5\\DSPRO2\\DSPOR2\\classifier\\Model\\datasets\\diacritics\\images\\validation\\singulariserez.tiff has no bounding boxes labels\n",
      "wandb: WARNING Image: C:\\Studium\\Semester5\\DSPRO2\\DSPOR2\\classifier\\Model\\datasets\\diacritics\\images\\validation\\compagnon.tiff has no bounding boxes labels\n",
      "wandb: WARNING Image: C:\\Studium\\Semester5\\DSPRO2\\DSPOR2\\classifier\\Model\\datasets\\diacritics\\images\\validation\\carambolages.tiff has no bounding boxes labels\n",
      "wandb: WARNING Image: C:\\Studium\\Semester5\\DSPRO2\\DSPOR2\\classifier\\Model\\datasets\\diacritics\\images\\validation\\formuleront.tiff has no bounding boxes labels\n",
      "wandb: WARNING Image: C:\\Studium\\Semester5\\DSPRO2\\DSPOR2\\classifier\\Model\\datasets\\diacritics\\images\\validation\\pirouettasses.tiff has no bounding boxes labels\n",
      "wandb: WARNING Image: C:\\Studium\\Semester5\\DSPRO2\\DSPOR2\\classifier\\Model\\datasets\\diacritics\\images\\validation\\soufflassiez.tiff has no bounding boxes labels\n",
      "wandb: WARNING Image: C:\\Studium\\Semester5\\DSPRO2\\DSPOR2\\classifier\\Model\\datasets\\diacritics\\images\\validation\\excellement.tiff has no bounding boxes labels\n",
      "wandb: WARNING Image: C:\\Studium\\Semester5\\DSPRO2\\DSPOR2\\classifier\\Model\\datasets\\diacritics\\images\\validation\\mazziniens.tiff has no bounding boxes labels\n",
      "wandb: WARNING Image: C:\\Studium\\Semester5\\DSPRO2\\DSPOR2\\classifier\\Model\\datasets\\diacritics\\images\\validation\\clairsemons.tiff has no bounding boxes labels\n",
      "wandb: WARNING Image: C:\\Studium\\Semester5\\DSPRO2\\DSPOR2\\classifier\\Model\\datasets\\diacritics\\images\\validation\\retravaillas.tiff has no bounding boxes labels\n",
      "wandb: WARNING Image: C:\\Studium\\Semester5\\DSPRO2\\DSPOR2\\classifier\\Model\\datasets\\diacritics\\images\\validation\\annihilerez.tiff has no bounding boxes labels\n",
      "wandb: WARNING Image: C:\\Studium\\Semester5\\DSPRO2\\DSPOR2\\classifier\\Model\\datasets\\diacritics\\images\\validation\\analemmes.tiff has no bounding boxes labels\n",
      "wandb: WARNING Image: C:\\Studium\\Semester5\\DSPRO2\\DSPOR2\\classifier\\Model\\datasets\\diacritics\\images\\validation\\gazonnerions.tiff has no bounding boxes labels\n",
      "wandb: WARNING Image: C:\\Studium\\Semester5\\DSPRO2\\DSPOR2\\classifier\\Model\\datasets\\diacritics\\images\\validation\\potamologie.tiff has no bounding boxes labels\n"
     ]
    },
    {
     "name": "stdout",
     "output_type": "stream",
     "text": [
      "\n",
      "      Epoch    GPU_mem   box_loss   cls_loss   dfl_loss  Instances       Size\n"
     ]
    },
    {
     "name": "stderr",
     "output_type": "stream",
     "text": [
      "      3/100      1.56G      1.247     0.8105     0.8292         80        256: 100%|██████████| 250/250 [02:18<00:00,  1.80it/s]\n",
      "                 Class     Images  Instances      Box(P          R      mAP50  mAP50-95): 100%|██████████| 16/16 [00:08<00:00,  2.00it/s]\n"
     ]
    },
    {
     "name": "stdout",
     "output_type": "stream",
     "text": [
      "                   all       1999       1196      0.975      0.974      0.987      0.659\n"
     ]
    },
    {
     "data": {
      "text/plain": "Generating Visualizations for batch-1/1:   0%|          | 0/128 [00:00<?, ?it/s]",
      "application/vnd.jupyter.widget-view+json": {
       "version_major": 2,
       "version_minor": 0,
       "model_id": "1bb7a74f814a421d9a08d2dd5da25441"
      }
     },
     "metadata": {},
     "output_type": "display_data"
    },
    {
     "name": "stderr",
     "output_type": "stream",
     "text": [
      "wandb: WARNING Image: C:\\Studium\\Semester5\\DSPRO2\\DSPOR2\\classifier\\Model\\datasets\\diacritics\\images\\validation\\stigmatiseras.tiff has no bounding boxes labels\n",
      "wandb: WARNING Image: C:\\Studium\\Semester5\\DSPRO2\\DSPOR2\\classifier\\Model\\datasets\\diacritics\\images\\validation\\interpellations.tiff has no bounding boxes labels\n",
      "wandb: WARNING Image: C:\\Studium\\Semester5\\DSPRO2\\DSPOR2\\classifier\\Model\\datasets\\diacritics\\images\\validation\\sud-africain.tiff has no bounding boxes labels\n",
      "wandb: WARNING Image: C:\\Studium\\Semester5\\DSPRO2\\DSPOR2\\classifier\\Model\\datasets\\diacritics\\images\\validation\\atrabilieuse.tiff has no bounding boxes labels\n",
      "wandb: WARNING Image: C:\\Studium\\Semester5\\DSPRO2\\DSPOR2\\classifier\\Model\\datasets\\diacritics\\images\\validation\\inscrivissent.tiff has no bounding boxes labels\n",
      "wandb: WARNING Image: C:\\Studium\\Semester5\\DSPRO2\\DSPOR2\\classifier\\Model\\datasets\\diacritics\\images\\validation\\ameublirons.tiff has no bounding boxes labels\n",
      "wandb: WARNING Image: C:\\Studium\\Semester5\\DSPRO2\\DSPOR2\\classifier\\Model\\datasets\\diacritics\\images\\validation\\italianiserait.tiff has no bounding boxes labels\n",
      "wandb: WARNING Image: C:\\Studium\\Semester5\\DSPRO2\\DSPOR2\\classifier\\Model\\datasets\\diacritics\\images\\validation\\planificateurs.tiff has no bounding boxes labels\n",
      "wandb: WARNING Image: C:\\Studium\\Semester5\\DSPRO2\\DSPOR2\\classifier\\Model\\datasets\\diacritics\\images\\validation\\rassasierez.tiff has no bounding boxes labels\n",
      "wandb: WARNING Image: C:\\Studium\\Semester5\\DSPRO2\\DSPOR2\\classifier\\Model\\datasets\\diacritics\\images\\validation\\suspecterions.tiff has no bounding boxes labels\n",
      "wandb: WARNING Image: C:\\Studium\\Semester5\\DSPRO2\\DSPOR2\\classifier\\Model\\datasets\\diacritics\\images\\validation\\napalmisasses.tiff has no bounding boxes labels\n",
      "wandb: WARNING Image: C:\\Studium\\Semester5\\DSPRO2\\DSPOR2\\classifier\\Model\\datasets\\diacritics\\images\\validation\\caracoleras.tiff has no bounding boxes labels\n",
      "wandb: WARNING Image: C:\\Studium\\Semester5\\DSPRO2\\DSPOR2\\classifier\\Model\\datasets\\diacritics\\images\\validation\\orienterais.tiff has no bounding boxes labels\n",
      "wandb: WARNING Image: C:\\Studium\\Semester5\\DSPRO2\\DSPOR2\\classifier\\Model\\datasets\\diacritics\\images\\validation\\maternerez.tiff has no bounding boxes labels\n",
      "wandb: WARNING Image: C:\\Studium\\Semester5\\DSPRO2\\DSPOR2\\classifier\\Model\\datasets\\diacritics\\images\\validation\\encasteuse.tiff has no bounding boxes labels\n",
      "wandb: WARNING Image: C:\\Studium\\Semester5\\DSPRO2\\DSPOR2\\classifier\\Model\\datasets\\diacritics\\images\\validation\\compatissante.tiff has no bounding boxes labels\n",
      "wandb: WARNING Image: C:\\Studium\\Semester5\\DSPRO2\\DSPOR2\\classifier\\Model\\datasets\\diacritics\\images\\validation\\inhumaines.tiff has no bounding boxes labels\n",
      "wandb: WARNING Image: C:\\Studium\\Semester5\\DSPRO2\\DSPOR2\\classifier\\Model\\datasets\\diacritics\\images\\validation\\ameublîtes.tiff has no bounding boxes labels\n",
      "wandb: WARNING Image: C:\\Studium\\Semester5\\DSPRO2\\DSPOR2\\classifier\\Model\\datasets\\diacritics\\images\\validation\\imprudences.tiff has no bounding boxes labels\n",
      "wandb: WARNING Image: C:\\Studium\\Semester5\\DSPRO2\\DSPOR2\\classifier\\Model\\datasets\\diacritics\\images\\validation\\partageables.tiff has no bounding boxes labels\n",
      "wandb: WARNING Image: C:\\Studium\\Semester5\\DSPRO2\\DSPOR2\\classifier\\Model\\datasets\\diacritics\\images\\validation\\convoyages.tiff has no bounding boxes labels\n",
      "wandb: WARNING Image: C:\\Studium\\Semester5\\DSPRO2\\DSPOR2\\classifier\\Model\\datasets\\diacritics\\images\\validation\\fracturerait.tiff has no bounding boxes labels\n",
      "wandb: WARNING Image: C:\\Studium\\Semester5\\DSPRO2\\DSPOR2\\classifier\\Model\\datasets\\diacritics\\images\\validation\\chlorassent.tiff has no bounding boxes labels\n",
      "wandb: WARNING Image: C:\\Studium\\Semester5\\DSPRO2\\DSPOR2\\classifier\\Model\\datasets\\diacritics\\images\\validation\\renverrez.tiff has no bounding boxes labels\n",
      "wandb: WARNING Image: C:\\Studium\\Semester5\\DSPRO2\\DSPOR2\\classifier\\Model\\datasets\\diacritics\\images\\validation\\chapeautasses.tiff has no bounding boxes labels\n",
      "wandb: WARNING Image: C:\\Studium\\Semester5\\DSPRO2\\DSPOR2\\classifier\\Model\\datasets\\diacritics\\images\\validation\\placardiseriez.tiff has no bounding boxes labels\n",
      "wandb: WARNING Image: C:\\Studium\\Semester5\\DSPRO2\\DSPOR2\\classifier\\Model\\datasets\\diacritics\\images\\validation\\nominalisiez.tiff has no bounding boxes labels\n",
      "wandb: WARNING Image: C:\\Studium\\Semester5\\DSPRO2\\DSPOR2\\classifier\\Model\\datasets\\diacritics\\images\\validation\\marauderez.tiff has no bounding boxes labels\n",
      "wandb: WARNING Image: C:\\Studium\\Semester5\\DSPRO2\\DSPOR2\\classifier\\Model\\datasets\\diacritics\\images\\validation\\inactivation.tiff has no bounding boxes labels\n",
      "wandb: WARNING Image: C:\\Studium\\Semester5\\DSPRO2\\DSPOR2\\classifier\\Model\\datasets\\diacritics\\images\\validation\\remotiverez.tiff has no bounding boxes labels\n",
      "wandb: WARNING Image: C:\\Studium\\Semester5\\DSPRO2\\DSPOR2\\classifier\\Model\\datasets\\diacritics\\images\\validation\\bateau-phare.tiff has no bounding boxes labels\n",
      "wandb: WARNING Image: C:\\Studium\\Semester5\\DSPRO2\\DSPOR2\\classifier\\Model\\datasets\\diacritics\\images\\validation\\revalorisent.tiff has no bounding boxes labels\n",
      "wandb: WARNING Image: C:\\Studium\\Semester5\\DSPRO2\\DSPOR2\\classifier\\Model\\datasets\\diacritics\\images\\validation\\s'abonnant.tiff has no bounding boxes labels\n",
      "wandb: WARNING Image: C:\\Studium\\Semester5\\DSPRO2\\DSPOR2\\classifier\\Model\\datasets\\diacritics\\images\\validation\\chemisaient.tiff has no bounding boxes labels\n",
      "wandb: WARNING Image: C:\\Studium\\Semester5\\DSPRO2\\DSPOR2\\classifier\\Model\\datasets\\diacritics\\images\\validation\\guillochasses.tiff has no bounding boxes labels\n",
      "wandb: WARNING Image: C:\\Studium\\Semester5\\DSPRO2\\DSPOR2\\classifier\\Model\\datasets\\diacritics\\images\\validation\\polygonisions.tiff has no bounding boxes labels\n",
      "wandb: WARNING Image: C:\\Studium\\Semester5\\DSPRO2\\DSPOR2\\classifier\\Model\\datasets\\diacritics\\images\\validation\\barbotaient.tiff has no bounding boxes labels\n",
      "wandb: WARNING Image: C:\\Studium\\Semester5\\DSPRO2\\DSPOR2\\classifier\\Model\\datasets\\diacritics\\images\\validation\\remballera.tiff has no bounding boxes labels\n",
      "wandb: WARNING Image: C:\\Studium\\Semester5\\DSPRO2\\DSPOR2\\classifier\\Model\\datasets\\diacritics\\images\\validation\\reformasse.tiff has no bounding boxes labels\n",
      "wandb: WARNING Image: C:\\Studium\\Semester5\\DSPRO2\\DSPOR2\\classifier\\Model\\datasets\\diacritics\\images\\validation\\construisez.tiff has no bounding boxes labels\n",
      "wandb: WARNING Image: C:\\Studium\\Semester5\\DSPRO2\\DSPOR2\\classifier\\Model\\datasets\\diacritics\\images\\validation\\combinasse.tiff has no bounding boxes labels\n",
      "wandb: WARNING Image: C:\\Studium\\Semester5\\DSPRO2\\DSPOR2\\classifier\\Model\\datasets\\diacritics\\images\\validation\\autoplaçantes.tiff has no bounding boxes labels\n",
      "wandb: WARNING Image: C:\\Studium\\Semester5\\DSPRO2\\DSPOR2\\classifier\\Model\\datasets\\diacritics\\images\\validation\\ressasserait.tiff has no bounding boxes labels\n",
      "wandb: WARNING Image: C:\\Studium\\Semester5\\DSPRO2\\DSPOR2\\classifier\\Model\\datasets\\diacritics\\images\\validation\\viabiliserez.tiff has no bounding boxes labels\n",
      "wandb: WARNING Image: C:\\Studium\\Semester5\\DSPRO2\\DSPOR2\\classifier\\Model\\datasets\\diacritics\\images\\validation\\ostendaises.tiff has no bounding boxes labels\n",
      "wandb: WARNING Image: C:\\Studium\\Semester5\\DSPRO2\\DSPOR2\\classifier\\Model\\datasets\\diacritics\\images\\validation\\diaphragmas.tiff has no bounding boxes labels\n",
      "wandb: WARNING Image: C:\\Studium\\Semester5\\DSPRO2\\DSPOR2\\classifier\\Model\\datasets\\diacritics\\images\\validation\\vouvoierez.tiff has no bounding boxes labels\n",
      "wandb: WARNING Image: C:\\Studium\\Semester5\\DSPRO2\\DSPOR2\\classifier\\Model\\datasets\\diacritics\\images\\validation\\mangeottera.tiff has no bounding boxes labels\n",
      "wandb: WARNING Image: C:\\Studium\\Semester5\\DSPRO2\\DSPOR2\\classifier\\Model\\datasets\\diacritics\\images\\validation\\raboteuses.tiff has no bounding boxes labels\n",
      "wandb: WARNING Image: C:\\Studium\\Semester5\\DSPRO2\\DSPOR2\\classifier\\Model\\datasets\\diacritics\\images\\validation\\dupliqueront.tiff has no bounding boxes labels\n",
      "wandb: WARNING Image: C:\\Studium\\Semester5\\DSPRO2\\DSPOR2\\classifier\\Model\\datasets\\diacritics\\images\\validation\\conseillisme.tiff has no bounding boxes labels\n",
      "wandb: WARNING Image: C:\\Studium\\Semester5\\DSPRO2\\DSPOR2\\classifier\\Model\\datasets\\diacritics\\images\\validation\\juxtaposerais.tiff has no bounding boxes labels\n",
      "wandb: WARNING Image: C:\\Studium\\Semester5\\DSPRO2\\DSPOR2\\classifier\\Model\\datasets\\diacritics\\images\\validation\\hominisiez.tiff has no bounding boxes labels\n",
      "wandb: WARNING Image: C:\\Studium\\Semester5\\DSPRO2\\DSPOR2\\classifier\\Model\\datasets\\diacritics\\images\\validation\\charcuterez.tiff has no bounding boxes labels\n",
      "wandb: WARNING Image: C:\\Studium\\Semester5\\DSPRO2\\DSPOR2\\classifier\\Model\\datasets\\diacritics\\images\\validation\\paniquassiez.tiff has no bounding boxes labels\n",
      "wandb: WARNING Image: C:\\Studium\\Semester5\\DSPRO2\\DSPOR2\\classifier\\Model\\datasets\\diacritics\\images\\validation\\polychromas.tiff has no bounding boxes labels\n",
      "wandb: WARNING Image: C:\\Studium\\Semester5\\DSPRO2\\DSPOR2\\classifier\\Model\\datasets\\diacritics\\images\\validation\\promenaient.tiff has no bounding boxes labels\n",
      "wandb: WARNING Image: C:\\Studium\\Semester5\\DSPRO2\\DSPOR2\\classifier\\Model\\datasets\\diacritics\\images\\validation\\colluderais.tiff has no bounding boxes labels\n",
      "wandb: WARNING Image: C:\\Studium\\Semester5\\DSPRO2\\DSPOR2\\classifier\\Model\\datasets\\diacritics\\images\\validation\\rossignoleras.tiff has no bounding boxes labels\n",
      "wandb: WARNING Image: C:\\Studium\\Semester5\\DSPRO2\\DSPOR2\\classifier\\Model\\datasets\\diacritics\\images\\validation\\boulangisme.tiff has no bounding boxes labels\n",
      "wandb: WARNING Image: C:\\Studium\\Semester5\\DSPRO2\\DSPOR2\\classifier\\Model\\datasets\\diacritics\\images\\validation\\routassent.tiff has no bounding boxes labels\n",
      "wandb: WARNING Image: C:\\Studium\\Semester5\\DSPRO2\\DSPOR2\\classifier\\Model\\datasets\\diacritics\\images\\validation\\coronoïdes.tiff has no bounding boxes labels\n"
     ]
    },
    {
     "data": {
      "text/plain": "Generating Visualizations for batch-1/1:   0%|          | 0/128 [00:00<?, ?it/s]",
      "application/vnd.jupyter.widget-view+json": {
       "version_major": 2,
       "version_minor": 0,
       "model_id": "bfaea95ba4324252bea6dcf3090e8cf7"
      }
     },
     "metadata": {},
     "output_type": "display_data"
    },
    {
     "name": "stderr",
     "output_type": "stream",
     "text": [
      "wandb: WARNING Image: C:\\Studium\\Semester5\\DSPRO2\\DSPOR2\\classifier\\Model\\datasets\\diacritics\\images\\validation\\gaspillassions.tiff has no bounding boxes labels\n",
      "wandb: WARNING Image: C:\\Studium\\Semester5\\DSPRO2\\DSPOR2\\classifier\\Model\\datasets\\diacritics\\images\\validation\\alcaliniserai.tiff has no bounding boxes labels\n",
      "wandb: WARNING Image: C:\\Studium\\Semester5\\DSPRO2\\DSPOR2\\classifier\\Model\\datasets\\diacritics\\images\\validation\\casseraient.tiff has no bounding boxes labels\n",
      "wandb: WARNING Image: C:\\Studium\\Semester5\\DSPRO2\\DSPOR2\\classifier\\Model\\datasets\\diacritics\\images\\validation\\bossellerais.tiff has no bounding boxes labels\n",
      "wandb: WARNING Image: C:\\Studium\\Semester5\\DSPRO2\\DSPOR2\\classifier\\Model\\datasets\\diacritics\\images\\validation\\reconvertir.tiff has no bounding boxes labels\n",
      "wandb: WARNING Image: C:\\Studium\\Semester5\\DSPRO2\\DSPOR2\\classifier\\Model\\datasets\\diacritics\\images\\validation\\guimblasses.tiff has no bounding boxes labels\n",
      "wandb: WARNING Image: C:\\Studium\\Semester5\\DSPRO2\\DSPOR2\\classifier\\Model\\datasets\\diacritics\\images\\validation\\bruisserais.tiff has no bounding boxes labels\n",
      "wandb: WARNING Image: C:\\Studium\\Semester5\\DSPRO2\\DSPOR2\\classifier\\Model\\datasets\\diacritics\\images\\validation\\madrigalistes.tiff has no bounding boxes labels\n",
      "wandb: WARNING Image: C:\\Studium\\Semester5\\DSPRO2\\DSPOR2\\classifier\\Model\\datasets\\diacritics\\images\\validation\\zoomeurs.tiff has no bounding boxes labels\n",
      "wandb: WARNING Image: C:\\Studium\\Semester5\\DSPRO2\\DSPOR2\\classifier\\Model\\datasets\\diacritics\\images\\validation\\assujettiront.tiff has no bounding boxes labels\n",
      "wandb: WARNING Image: C:\\Studium\\Semester5\\DSPRO2\\DSPOR2\\classifier\\Model\\datasets\\diacritics\\images\\validation\\cavernicole.tiff has no bounding boxes labels\n",
      "wandb: WARNING Image: C:\\Studium\\Semester5\\DSPRO2\\DSPOR2\\classifier\\Model\\datasets\\diacritics\\images\\validation\\roucoulerez.tiff has no bounding boxes labels\n",
      "wandb: WARNING Image: C:\\Studium\\Semester5\\DSPRO2\\DSPOR2\\classifier\\Model\\datasets\\diacritics\\images\\validation\\pourchassant.tiff has no bounding boxes labels\n",
      "wandb: WARNING Image: C:\\Studium\\Semester5\\DSPRO2\\DSPOR2\\classifier\\Model\\datasets\\diacritics\\images\\validation\\animassent.tiff has no bounding boxes labels\n",
      "wandb: WARNING Image: C:\\Studium\\Semester5\\DSPRO2\\DSPOR2\\classifier\\Model\\datasets\\diacritics\\images\\validation\\aqualudique.tiff has no bounding boxes labels\n",
      "wandb: WARNING Image: C:\\Studium\\Semester5\\DSPRO2\\DSPOR2\\classifier\\Model\\datasets\\diacritics\\images\\validation\\holothurie.tiff has no bounding boxes labels\n",
      "wandb: WARNING Image: C:\\Studium\\Semester5\\DSPRO2\\DSPOR2\\classifier\\Model\\datasets\\diacritics\\images\\validation\\anatomises.tiff has no bounding boxes labels\n",
      "wandb: WARNING Image: C:\\Studium\\Semester5\\DSPRO2\\DSPOR2\\classifier\\Model\\datasets\\diacritics\\images\\validation\\repatrierions.tiff has no bounding boxes labels\n",
      "wandb: WARNING Image: C:\\Studium\\Semester5\\DSPRO2\\DSPOR2\\classifier\\Model\\datasets\\diacritics\\images\\validation\\industrieux.tiff has no bounding boxes labels\n",
      "wandb: WARNING Image: C:\\Studium\\Semester5\\DSPRO2\\DSPOR2\\classifier\\Model\\datasets\\diacritics\\images\\validation\\disparaîtront.tiff has no bounding boxes labels\n",
      "wandb: WARNING Image: C:\\Studium\\Semester5\\DSPRO2\\DSPOR2\\classifier\\Model\\datasets\\diacritics\\images\\validation\\chronophage.tiff has no bounding boxes labels\n",
      "wandb: WARNING Image: C:\\Studium\\Semester5\\DSPRO2\\DSPOR2\\classifier\\Model\\datasets\\diacritics\\images\\validation\\profitassions.tiff has no bounding boxes labels\n",
      "wandb: WARNING Image: C:\\Studium\\Semester5\\DSPRO2\\DSPOR2\\classifier\\Model\\datasets\\diacritics\\images\\validation\\paniquasses.tiff has no bounding boxes labels\n",
      "wandb: WARNING Image: C:\\Studium\\Semester5\\DSPRO2\\DSPOR2\\classifier\\Model\\datasets\\diacritics\\images\\validation\\Zuytpeenois.tiff has no bounding boxes labels\n",
      "wandb: WARNING Image: C:\\Studium\\Semester5\\DSPRO2\\DSPOR2\\classifier\\Model\\datasets\\diacritics\\images\\validation\\rectangulaire.tiff has no bounding boxes labels\n",
      "wandb: WARNING Image: C:\\Studium\\Semester5\\DSPRO2\\DSPOR2\\classifier\\Model\\datasets\\diacritics\\images\\validation\\repincerions.tiff has no bounding boxes labels\n",
      "wandb: WARNING Image: C:\\Studium\\Semester5\\DSPRO2\\DSPOR2\\classifier\\Model\\datasets\\diacritics\\images\\validation\\brunchasse.tiff has no bounding boxes labels\n",
      "wandb: WARNING Image: C:\\Studium\\Semester5\\DSPRO2\\DSPOR2\\classifier\\Model\\datasets\\diacritics\\images\\validation\\pareillement.tiff has no bounding boxes labels\n",
      "wandb: WARNING Image: C:\\Studium\\Semester5\\DSPRO2\\DSPOR2\\classifier\\Model\\datasets\\diacritics\\images\\validation\\alsaciennes.tiff has no bounding boxes labels\n",
      "wandb: WARNING Image: C:\\Studium\\Semester5\\DSPRO2\\DSPOR2\\classifier\\Model\\datasets\\diacritics\\images\\validation\\observation.tiff has no bounding boxes labels\n",
      "wandb: WARNING Image: C:\\Studium\\Semester5\\DSPRO2\\DSPOR2\\classifier\\Model\\datasets\\diacritics\\images\\validation\\crashasses.tiff has no bounding boxes labels\n",
      "wandb: WARNING Image: C:\\Studium\\Semester5\\DSPRO2\\DSPOR2\\classifier\\Model\\datasets\\diacritics\\images\\validation\\enlaidirent.tiff has no bounding boxes labels\n",
      "wandb: WARNING Image: C:\\Studium\\Semester5\\DSPRO2\\DSPOR2\\classifier\\Model\\datasets\\diacritics\\images\\validation\\alcooliserez.tiff has no bounding boxes labels\n",
      "wandb: WARNING Image: C:\\Studium\\Semester5\\DSPRO2\\DSPOR2\\classifier\\Model\\datasets\\diacritics\\images\\validation\\ramollirons.tiff has no bounding boxes labels\n",
      "wandb: WARNING Image: C:\\Studium\\Semester5\\DSPRO2\\DSPOR2\\classifier\\Model\\datasets\\diacritics\\images\\validation\\consulaires.tiff has no bounding boxes labels\n",
      "wandb: WARNING Image: C:\\Studium\\Semester5\\DSPRO2\\DSPOR2\\classifier\\Model\\datasets\\diacritics\\images\\validation\\inactiveras.tiff has no bounding boxes labels\n",
      "wandb: WARNING Image: C:\\Studium\\Semester5\\DSPRO2\\DSPOR2\\classifier\\Model\\datasets\\diacritics\\images\\validation\\emmurent.tiff has no bounding boxes labels\n",
      "wandb: WARNING Image: C:\\Studium\\Semester5\\DSPRO2\\DSPOR2\\classifier\\Model\\datasets\\diacritics\\images\\validation\\revernisses.tiff has no bounding boxes labels\n",
      "wandb: WARNING Image: C:\\Studium\\Semester5\\DSPRO2\\DSPOR2\\classifier\\Model\\datasets\\diacritics\\images\\validation\\epsiloniserait.tiff has no bounding boxes labels\n",
      "wandb: WARNING Image: C:\\Studium\\Semester5\\DSPRO2\\DSPOR2\\classifier\\Model\\datasets\\diacritics\\images\\validation\\titularisent.tiff has no bounding boxes labels\n",
      "wandb: WARNING Image: C:\\Studium\\Semester5\\DSPRO2\\DSPOR2\\classifier\\Model\\datasets\\diacritics\\images\\validation\\encollasses.tiff has no bounding boxes labels\n",
      "wandb: WARNING Image: C:\\Studium\\Semester5\\DSPRO2\\DSPOR2\\classifier\\Model\\datasets\\diacritics\\images\\validation\\manivelles.tiff has no bounding boxes labels\n",
      "wandb: WARNING Image: C:\\Studium\\Semester5\\DSPRO2\\DSPOR2\\classifier\\Model\\datasets\\diacritics\\images\\validation\\singapourien.tiff has no bounding boxes labels\n",
      "wandb: WARNING Image: C:\\Studium\\Semester5\\DSPRO2\\DSPOR2\\classifier\\Model\\datasets\\diacritics\\images\\validation\\rabrouerait.tiff has no bounding boxes labels\n",
      "wandb: WARNING Image: C:\\Studium\\Semester5\\DSPRO2\\DSPOR2\\classifier\\Model\\datasets\\diacritics\\images\\validation\\dipsomanes.tiff has no bounding boxes labels\n",
      "wandb: WARNING Image: C:\\Studium\\Semester5\\DSPRO2\\DSPOR2\\classifier\\Model\\datasets\\diacritics\\images\\validation\\nommerait.tiff has no bounding boxes labels\n",
      "wandb: WARNING Image: C:\\Studium\\Semester5\\DSPRO2\\DSPOR2\\classifier\\Model\\datasets\\diacritics\\images\\validation\\voyageons.tiff has no bounding boxes labels\n",
      "wandb: WARNING Image: C:\\Studium\\Semester5\\DSPRO2\\DSPOR2\\classifier\\Model\\datasets\\diacritics\\images\\validation\\bromations.tiff has no bounding boxes labels\n",
      "wandb: WARNING Image: C:\\Studium\\Semester5\\DSPRO2\\DSPOR2\\classifier\\Model\\datasets\\diacritics\\images\\validation\\asinassent.tiff has no bounding boxes labels\n",
      "wandb: WARNING Image: C:\\Studium\\Semester5\\DSPRO2\\DSPOR2\\classifier\\Model\\datasets\\diacritics\\images\\validation\\secondera.tiff has no bounding boxes labels\n",
      "wandb: WARNING Image: C:\\Studium\\Semester5\\DSPRO2\\DSPOR2\\classifier\\Model\\datasets\\diacritics\\images\\validation\\affichasses.tiff has no bounding boxes labels\n",
      "wandb: WARNING Image: C:\\Studium\\Semester5\\DSPRO2\\DSPOR2\\classifier\\Model\\datasets\\diacritics\\images\\validation\\patoiserions.tiff has no bounding boxes labels\n",
      "wandb: WARNING Image: C:\\Studium\\Semester5\\DSPRO2\\DSPOR2\\classifier\\Model\\datasets\\diacritics\\images\\validation\\surbookera.tiff has no bounding boxes labels\n",
      "wandb: WARNING Image: C:\\Studium\\Semester5\\DSPRO2\\DSPOR2\\classifier\\Model\\datasets\\diacritics\\images\\validation\\derjavinienne.tiff has no bounding boxes labels\n",
      "wandb: WARNING Image: C:\\Studium\\Semester5\\DSPRO2\\DSPOR2\\classifier\\Model\\datasets\\diacritics\\images\\validation\\incoercible.tiff has no bounding boxes labels\n",
      "wandb: WARNING Image: C:\\Studium\\Semester5\\DSPRO2\\DSPOR2\\classifier\\Model\\datasets\\diacritics\\images\\validation\\propulseras.tiff has no bounding boxes labels\n",
      "wandb: WARNING Image: C:\\Studium\\Semester5\\DSPRO2\\DSPOR2\\classifier\\Model\\datasets\\diacritics\\images\\validation\\centrifugeas.tiff has no bounding boxes labels\n",
      "wandb: WARNING Image: C:\\Studium\\Semester5\\DSPRO2\\DSPOR2\\classifier\\Model\\datasets\\diacritics\\images\\validation\\cheminant.tiff has no bounding boxes labels\n",
      "wandb: WARNING Image: C:\\Studium\\Semester5\\DSPRO2\\DSPOR2\\classifier\\Model\\datasets\\diacritics\\images\\validation\\renoteras.tiff has no bounding boxes labels\n",
      "wandb: WARNING Image: C:\\Studium\\Semester5\\DSPRO2\\DSPOR2\\classifier\\Model\\datasets\\diacritics\\images\\validation\\sourdinent.tiff has no bounding boxes labels\n",
      "wandb: WARNING Image: C:\\Studium\\Semester5\\DSPRO2\\DSPOR2\\classifier\\Model\\datasets\\diacritics\\images\\validation\\empaillaient.tiff has no bounding boxes labels\n",
      "wandb: WARNING Image: C:\\Studium\\Semester5\\DSPRO2\\DSPOR2\\classifier\\Model\\datasets\\diacritics\\images\\validation\\accouderai.tiff has no bounding boxes labels\n"
     ]
    },
    {
     "name": "stdout",
     "output_type": "stream",
     "text": [
      "\n",
      "      Epoch    GPU_mem   box_loss   cls_loss   dfl_loss  Instances       Size\n"
     ]
    },
    {
     "name": "stderr",
     "output_type": "stream",
     "text": [
      "      4/100      1.57G      1.075     0.5806     0.8184         56        256: 100%|██████████| 250/250 [02:19<00:00,  1.80it/s]\n",
      "                 Class     Images  Instances      Box(P          R      mAP50  mAP50-95): 100%|██████████| 16/16 [00:07<00:00,  2.01it/s]\n"
     ]
    },
    {
     "name": "stdout",
     "output_type": "stream",
     "text": [
      "                   all       1999       1196      0.944      0.972       0.99       0.74\n"
     ]
    },
    {
     "data": {
      "text/plain": "Generating Visualizations for batch-1/1:   0%|          | 0/128 [00:00<?, ?it/s]",
      "application/vnd.jupyter.widget-view+json": {
       "version_major": 2,
       "version_minor": 0,
       "model_id": "073ff10d827e44d9a13ef9016873f183"
      }
     },
     "metadata": {},
     "output_type": "display_data"
    },
    {
     "name": "stderr",
     "output_type": "stream",
     "text": [
      "wandb: WARNING Image: C:\\Studium\\Semester5\\DSPRO2\\DSPOR2\\classifier\\Model\\datasets\\diacritics\\images\\validation\\articulions.tiff has no bounding boxes labels\n",
      "wandb: WARNING Image: C:\\Studium\\Semester5\\DSPRO2\\DSPOR2\\classifier\\Model\\datasets\\diacritics\\images\\validation\\grattouilliez.tiff has no bounding boxes labels\n",
      "wandb: WARNING Image: C:\\Studium\\Semester5\\DSPRO2\\DSPOR2\\classifier\\Model\\datasets\\diacritics\\images\\validation\\horisontal.tiff has no bounding boxes labels\n",
      "wandb: WARNING Image: C:\\Studium\\Semester5\\DSPRO2\\DSPOR2\\classifier\\Model\\datasets\\diacritics\\images\\validation\\annihilions.tiff has no bounding boxes labels\n",
      "wandb: WARNING Image: C:\\Studium\\Semester5\\DSPRO2\\DSPOR2\\classifier\\Model\\datasets\\diacritics\\images\\validation\\parviendriez.tiff has no bounding boxes labels\n",
      "wandb: WARNING Image: C:\\Studium\\Semester5\\DSPRO2\\DSPOR2\\classifier\\Model\\datasets\\diacritics\\images\\validation\\beuglerions.tiff has no bounding boxes labels\n",
      "wandb: WARNING Image: C:\\Studium\\Semester5\\DSPRO2\\DSPOR2\\classifier\\Model\\datasets\\diacritics\\images\\validation\\absorbons.tiff has no bounding boxes labels\n",
      "wandb: WARNING Image: C:\\Studium\\Semester5\\DSPRO2\\DSPOR2\\classifier\\Model\\datasets\\diacritics\\images\\validation\\rutilassent.tiff has no bounding boxes labels\n",
      "wandb: WARNING Image: C:\\Studium\\Semester5\\DSPRO2\\DSPOR2\\classifier\\Model\\datasets\\diacritics\\images\\validation\\perchlorates.tiff has no bounding boxes labels\n",
      "wandb: WARNING Image: C:\\Studium\\Semester5\\DSPRO2\\DSPOR2\\classifier\\Model\\datasets\\diacritics\\images\\validation\\anacardes.tiff has no bounding boxes labels\n",
      "wandb: WARNING Image: C:\\Studium\\Semester5\\DSPRO2\\DSPOR2\\classifier\\Model\\datasets\\diacritics\\images\\validation\\alentiraient.tiff has no bounding boxes labels\n",
      "wandb: WARNING Image: C:\\Studium\\Semester5\\DSPRO2\\DSPOR2\\classifier\\Model\\datasets\\diacritics\\images\\validation\\ennoyages.tiff has no bounding boxes labels\n",
      "wandb: WARNING Image: C:\\Studium\\Semester5\\DSPRO2\\DSPOR2\\classifier\\Model\\datasets\\diacritics\\images\\validation\\inutiliserais.tiff has no bounding boxes labels\n",
      "wandb: WARNING Image: C:\\Studium\\Semester5\\DSPRO2\\DSPOR2\\classifier\\Model\\datasets\\diacritics\\images\\validation\\progressant.tiff has no bounding boxes labels\n",
      "wandb: WARNING Image: C:\\Studium\\Semester5\\DSPRO2\\DSPOR2\\classifier\\Model\\datasets\\diacritics\\images\\validation\\rencognions.tiff has no bounding boxes labels\n",
      "wandb: WARNING Image: C:\\Studium\\Semester5\\DSPRO2\\DSPOR2\\classifier\\Model\\datasets\\diacritics\\images\\validation\\nasaliserai.tiff has no bounding boxes labels\n",
      "wandb: WARNING Image: C:\\Studium\\Semester5\\DSPRO2\\DSPOR2\\classifier\\Model\\datasets\\diacritics\\images\\validation\\immangeable.tiff has no bounding boxes labels\n",
      "wandb: WARNING Image: C:\\Studium\\Semester5\\DSPRO2\\DSPOR2\\classifier\\Model\\datasets\\diacritics\\images\\validation\\surbaissez.tiff has no bounding boxes labels\n",
      "wandb: WARNING Image: C:\\Studium\\Semester5\\DSPRO2\\DSPOR2\\classifier\\Model\\datasets\\diacritics\\images\\validation\\mendiante.tiff has no bounding boxes labels\n",
      "wandb: WARNING Image: C:\\Studium\\Semester5\\DSPRO2\\DSPOR2\\classifier\\Model\\datasets\\diacritics\\images\\validation\\sympathises.tiff has no bounding boxes labels\n",
      "wandb: WARNING Image: C:\\Studium\\Semester5\\DSPRO2\\DSPOR2\\classifier\\Model\\datasets\\diacritics\\images\\validation\\conformeriez.tiff has no bounding boxes labels\n",
      "wandb: WARNING Image: C:\\Studium\\Semester5\\DSPRO2\\DSPOR2\\classifier\\Model\\datasets\\diacritics\\images\\validation\\amusette.tiff has no bounding boxes labels\n",
      "wandb: WARNING Image: C:\\Studium\\Semester5\\DSPRO2\\DSPOR2\\classifier\\Model\\datasets\\diacritics\\images\\validation\\extrusives.tiff has no bounding boxes labels\n",
      "wandb: WARNING Image: C:\\Studium\\Semester5\\DSPRO2\\DSPOR2\\classifier\\Model\\datasets\\diacritics\\images\\validation\\livournaise.tiff has no bounding boxes labels\n",
      "wandb: WARNING Image: C:\\Studium\\Semester5\\DSPRO2\\DSPOR2\\classifier\\Model\\datasets\\diacritics\\images\\validation\\leucocytose.tiff has no bounding boxes labels\n",
      "wandb: WARNING Image: C:\\Studium\\Semester5\\DSPRO2\\DSPOR2\\classifier\\Model\\datasets\\diacritics\\images\\validation\\bisseraient.tiff has no bounding boxes labels\n",
      "wandb: WARNING Image: C:\\Studium\\Semester5\\DSPRO2\\DSPOR2\\classifier\\Model\\datasets\\diacritics\\images\\validation\\modifieriez.tiff has no bounding boxes labels\n",
      "wandb: WARNING Image: C:\\Studium\\Semester5\\DSPRO2\\DSPOR2\\classifier\\Model\\datasets\\diacritics\\images\\validation\\russophone.tiff has no bounding boxes labels\n",
      "wandb: WARNING Image: C:\\Studium\\Semester5\\DSPRO2\\DSPOR2\\classifier\\Model\\datasets\\diacritics\\images\\validation\\plongeaient.tiff has no bounding boxes labels\n",
      "wandb: WARNING Image: C:\\Studium\\Semester5\\DSPRO2\\DSPOR2\\classifier\\Model\\datasets\\diacritics\\images\\validation\\missionna.tiff has no bounding boxes labels\n",
      "wandb: WARNING Image: C:\\Studium\\Semester5\\DSPRO2\\DSPOR2\\classifier\\Model\\datasets\\diacritics\\images\\validation\\compense.tiff has no bounding boxes labels\n",
      "wandb: WARNING Image: C:\\Studium\\Semester5\\DSPRO2\\DSPOR2\\classifier\\Model\\datasets\\diacritics\\images\\validation\\vitrifierais.tiff has no bounding boxes labels\n",
      "wandb: WARNING Image: C:\\Studium\\Semester5\\DSPRO2\\DSPOR2\\classifier\\Model\\datasets\\diacritics\\images\\validation\\enduiront.tiff has no bounding boxes labels\n",
      "wandb: WARNING Image: C:\\Studium\\Semester5\\DSPRO2\\DSPOR2\\classifier\\Model\\datasets\\diacritics\\images\\validation\\carteraient.tiff has no bounding boxes labels\n",
      "wandb: WARNING Image: C:\\Studium\\Semester5\\DSPRO2\\DSPOR2\\classifier\\Model\\datasets\\diacritics\\images\\validation\\anticipassiez.tiff has no bounding boxes labels\n",
      "wandb: WARNING Image: C:\\Studium\\Semester5\\DSPRO2\\DSPOR2\\classifier\\Model\\datasets\\diacritics\\images\\validation\\suspecteras.tiff has no bounding boxes labels\n",
      "wandb: WARNING Image: C:\\Studium\\Semester5\\DSPRO2\\DSPOR2\\classifier\\Model\\datasets\\diacritics\\images\\validation\\luisissions.tiff has no bounding boxes labels\n",
      "wandb: WARNING Image: C:\\Studium\\Semester5\\DSPRO2\\DSPOR2\\classifier\\Model\\datasets\\diacritics\\images\\validation\\Soudanais.tiff has no bounding boxes labels\n",
      "wandb: WARNING Image: C:\\Studium\\Semester5\\DSPRO2\\DSPOR2\\classifier\\Model\\datasets\\diacritics\\images\\validation\\retrievers.tiff has no bounding boxes labels\n",
      "wandb: WARNING Image: C:\\Studium\\Semester5\\DSPRO2\\DSPOR2\\classifier\\Model\\datasets\\diacritics\\images\\validation\\urinassiez.tiff has no bounding boxes labels\n",
      "wandb: WARNING Image: C:\\Studium\\Semester5\\DSPRO2\\DSPOR2\\classifier\\Model\\datasets\\diacritics\\images\\validation\\attableras.tiff has no bounding boxes labels\n",
      "wandb: WARNING Image: C:\\Studium\\Semester5\\DSPRO2\\DSPOR2\\classifier\\Model\\datasets\\diacritics\\images\\validation\\thanakhas.tiff has no bounding boxes labels\n",
      "wandb: WARNING Image: C:\\Studium\\Semester5\\DSPRO2\\DSPOR2\\classifier\\Model\\datasets\\diacritics\\images\\validation\\bousculiez.tiff has no bounding boxes labels\n",
      "wandb: WARNING Image: C:\\Studium\\Semester5\\DSPRO2\\DSPOR2\\classifier\\Model\\datasets\\diacritics\\images\\validation\\douchions.tiff has no bounding boxes labels\n",
      "wandb: WARNING Image: C:\\Studium\\Semester5\\DSPRO2\\DSPOR2\\classifier\\Model\\datasets\\diacritics\\images\\validation\\radoteront.tiff has no bounding boxes labels\n",
      "wandb: WARNING Image: C:\\Studium\\Semester5\\DSPRO2\\DSPOR2\\classifier\\Model\\datasets\\diacritics\\images\\validation\\claustrant.tiff has no bounding boxes labels\n",
      "wandb: WARNING Image: C:\\Studium\\Semester5\\DSPRO2\\DSPOR2\\classifier\\Model\\datasets\\diacritics\\images\\validation\\ballonnets.tiff has no bounding boxes labels\n",
      "wandb: WARNING Image: C:\\Studium\\Semester5\\DSPRO2\\DSPOR2\\classifier\\Model\\datasets\\diacritics\\images\\validation\\supprimons.tiff has no bounding boxes labels\n",
      "wandb: WARNING Image: C:\\Studium\\Semester5\\DSPRO2\\DSPOR2\\classifier\\Model\\datasets\\diacritics\\images\\validation\\meneaux.tiff has no bounding boxes labels\n",
      "wandb: WARNING Image: C:\\Studium\\Semester5\\DSPRO2\\DSPOR2\\classifier\\Model\\datasets\\diacritics\\images\\validation\\menaces.tiff has no bounding boxes labels\n",
      "wandb: WARNING Image: C:\\Studium\\Semester5\\DSPRO2\\DSPOR2\\classifier\\Model\\datasets\\diacritics\\images\\validation\\confiscateurs.tiff has no bounding boxes labels\n",
      "wandb: WARNING Image: C:\\Studium\\Semester5\\DSPRO2\\DSPOR2\\classifier\\Model\\datasets\\diacritics\\images\\validation\\orthodoxe.tiff has no bounding boxes labels\n",
      "wandb: WARNING Image: C:\\Studium\\Semester5\\DSPRO2\\DSPOR2\\classifier\\Model\\datasets\\diacritics\\images\\validation\\grommeliez.tiff has no bounding boxes labels\n",
      "wandb: WARNING Image: C:\\Studium\\Semester5\\DSPRO2\\DSPOR2\\classifier\\Model\\datasets\\diacritics\\images\\validation\\sautillants.tiff has no bounding boxes labels\n",
      "wandb: WARNING Image: C:\\Studium\\Semester5\\DSPRO2\\DSPOR2\\classifier\\Model\\datasets\\diacritics\\images\\validation\\subglauque.tiff has no bounding boxes labels\n",
      "wandb: WARNING Image: C:\\Studium\\Semester5\\DSPRO2\\DSPOR2\\classifier\\Model\\datasets\\diacritics\\images\\validation\\grifferaient.tiff has no bounding boxes labels\n",
      "wandb: WARNING Image: C:\\Studium\\Semester5\\DSPRO2\\DSPOR2\\classifier\\Model\\datasets\\diacritics\\images\\validation\\contraires.tiff has no bounding boxes labels\n",
      "wandb: WARNING Image: C:\\Studium\\Semester5\\DSPRO2\\DSPOR2\\classifier\\Model\\datasets\\diacritics\\images\\validation\\surprenions.tiff has no bounding boxes labels\n",
      "wandb: WARNING Image: C:\\Studium\\Semester5\\DSPRO2\\DSPOR2\\classifier\\Model\\datasets\\diacritics\\images\\validation\\kidnappage.tiff has no bounding boxes labels\n",
      "wandb: WARNING Image: C:\\Studium\\Semester5\\DSPRO2\\DSPOR2\\classifier\\Model\\datasets\\diacritics\\images\\validation\\propulseurs.tiff has no bounding boxes labels\n",
      "wandb: WARNING Image: C:\\Studium\\Semester5\\DSPRO2\\DSPOR2\\classifier\\Model\\datasets\\diacritics\\images\\validation\\mercerise.tiff has no bounding boxes labels\n",
      "wandb: WARNING Image: C:\\Studium\\Semester5\\DSPRO2\\DSPOR2\\classifier\\Model\\datasets\\diacritics\\images\\validation\\bivalences.tiff has no bounding boxes labels\n",
      "wandb: WARNING Image: C:\\Studium\\Semester5\\DSPRO2\\DSPOR2\\classifier\\Model\\datasets\\diacritics\\images\\validation\\schaouchs.tiff has no bounding boxes labels\n",
      "wandb: WARNING Image: C:\\Studium\\Semester5\\DSPRO2\\DSPOR2\\classifier\\Model\\datasets\\diacritics\\images\\validation\\refermant.tiff has no bounding boxes labels\n",
      "wandb: WARNING Image: C:\\Studium\\Semester5\\DSPRO2\\DSPOR2\\classifier\\Model\\datasets\\diacritics\\images\\validation\\ouaterons.tiff has no bounding boxes labels\n",
      "wandb: WARNING Image: C:\\Studium\\Semester5\\DSPRO2\\DSPOR2\\classifier\\Model\\datasets\\diacritics\\images\\validation\\bachotages.tiff has no bounding boxes labels\n"
     ]
    },
    {
     "data": {
      "text/plain": "Generating Visualizations for batch-1/1:   0%|          | 0/128 [00:00<?, ?it/s]",
      "application/vnd.jupyter.widget-view+json": {
       "version_major": 2,
       "version_minor": 0,
       "model_id": "92e177415185429b819751cc087a7e97"
      }
     },
     "metadata": {},
     "output_type": "display_data"
    },
    {
     "name": "stderr",
     "output_type": "stream",
     "text": [
      "wandb: WARNING Image: C:\\Studium\\Semester5\\DSPRO2\\DSPOR2\\classifier\\Model\\datasets\\diacritics\\images\\validation\\apostropha.tiff has no bounding boxes labels\n",
      "wandb: WARNING Image: C:\\Studium\\Semester5\\DSPRO2\\DSPOR2\\classifier\\Model\\datasets\\diacritics\\images\\validation\\balustrade.tiff has no bounding boxes labels\n",
      "wandb: WARNING Image: C:\\Studium\\Semester5\\DSPRO2\\DSPOR2\\classifier\\Model\\datasets\\diacritics\\images\\validation\\coïtassent.tiff has no bounding boxes labels\n",
      "wandb: WARNING Image: C:\\Studium\\Semester5\\DSPRO2\\DSPOR2\\classifier\\Model\\datasets\\diacritics\\images\\validation\\poutrasses.tiff has no bounding boxes labels\n",
      "wandb: WARNING Image: C:\\Studium\\Semester5\\DSPRO2\\DSPOR2\\classifier\\Model\\datasets\\diacritics\\images\\validation\\fabulerait.tiff has no bounding boxes labels\n",
      "wandb: WARNING Image: C:\\Studium\\Semester5\\DSPRO2\\DSPOR2\\classifier\\Model\\datasets\\diacritics\\images\\validation\\vandalisera.tiff has no bounding boxes labels\n",
      "wandb: WARNING Image: C:\\Studium\\Semester5\\DSPRO2\\DSPOR2\\classifier\\Model\\datasets\\diacritics\\images\\validation\\noircissiez.tiff has no bounding boxes labels\n",
      "wandb: WARNING Image: C:\\Studium\\Semester5\\DSPRO2\\DSPOR2\\classifier\\Model\\datasets\\diacritics\\images\\validation\\engluerions.tiff has no bounding boxes labels\n",
      "wandb: WARNING Image: C:\\Studium\\Semester5\\DSPRO2\\DSPOR2\\classifier\\Model\\datasets\\diacritics\\images\\validation\\confortasses.tiff has no bounding boxes labels\n",
      "wandb: WARNING Image: C:\\Studium\\Semester5\\DSPRO2\\DSPOR2\\classifier\\Model\\datasets\\diacritics\\images\\validation\\chloreront.tiff has no bounding boxes labels\n",
      "wandb: WARNING Image: C:\\Studium\\Semester5\\DSPRO2\\DSPOR2\\classifier\\Model\\datasets\\diacritics\\images\\validation\\marnerais.tiff has no bounding boxes labels\n",
      "wandb: WARNING Image: C:\\Studium\\Semester5\\DSPRO2\\DSPOR2\\classifier\\Model\\datasets\\diacritics\\images\\validation\\syndiquions.tiff has no bounding boxes labels\n",
      "wandb: WARNING Image: C:\\Studium\\Semester5\\DSPRO2\\DSPOR2\\classifier\\Model\\datasets\\diacritics\\images\\validation\\cafouillait.tiff has no bounding boxes labels\n",
      "wandb: WARNING Image: C:\\Studium\\Semester5\\DSPRO2\\DSPOR2\\classifier\\Model\\datasets\\diacritics\\images\\validation\\obvieront.tiff has no bounding boxes labels\n",
      "wandb: WARNING Image: C:\\Studium\\Semester5\\DSPRO2\\DSPOR2\\classifier\\Model\\datasets\\diacritics\\images\\validation\\exhortons.tiff has no bounding boxes labels\n",
      "wandb: WARNING Image: C:\\Studium\\Semester5\\DSPRO2\\DSPOR2\\classifier\\Model\\datasets\\diacritics\\images\\validation\\deviserait.tiff has no bounding boxes labels\n",
      "wandb: WARNING Image: C:\\Studium\\Semester5\\DSPRO2\\DSPOR2\\classifier\\Model\\datasets\\diacritics\\images\\validation\\affleurons.tiff has no bounding boxes labels\n",
      "wandb: WARNING Image: C:\\Studium\\Semester5\\DSPRO2\\DSPOR2\\classifier\\Model\\datasets\\diacritics\\images\\validation\\ballastera.tiff has no bounding boxes labels\n",
      "wandb: WARNING Image: C:\\Studium\\Semester5\\DSPRO2\\DSPOR2\\classifier\\Model\\datasets\\diacritics\\images\\validation\\dodeliniez.tiff has no bounding boxes labels\n",
      "wandb: WARNING Image: C:\\Studium\\Semester5\\DSPRO2\\DSPOR2\\classifier\\Model\\datasets\\diacritics\\images\\validation\\focalisations.tiff has no bounding boxes labels\n",
      "wandb: WARNING Image: C:\\Studium\\Semester5\\DSPRO2\\DSPOR2\\classifier\\Model\\datasets\\diacritics\\images\\validation\\succomba.tiff has no bounding boxes labels\n",
      "wandb: WARNING Image: C:\\Studium\\Semester5\\DSPRO2\\DSPOR2\\classifier\\Model\\datasets\\diacritics\\images\\validation\\satisferiez.tiff has no bounding boxes labels\n",
      "wandb: WARNING Image: C:\\Studium\\Semester5\\DSPRO2\\DSPOR2\\classifier\\Model\\datasets\\diacritics\\images\\validation\\corporifierez.tiff has no bounding boxes labels\n",
      "wandb: WARNING Image: C:\\Studium\\Semester5\\DSPRO2\\DSPOR2\\classifier\\Model\\datasets\\diacritics\\images\\validation\\dispenserez.tiff has no bounding boxes labels\n",
      "wandb: WARNING Image: C:\\Studium\\Semester5\\DSPRO2\\DSPOR2\\classifier\\Model\\datasets\\diacritics\\images\\validation\\braieront.tiff has no bounding boxes labels\n",
      "wandb: WARNING Image: C:\\Studium\\Semester5\\DSPRO2\\DSPOR2\\classifier\\Model\\datasets\\diacritics\\images\\validation\\bavardent.tiff has no bounding boxes labels\n",
      "wandb: WARNING Image: C:\\Studium\\Semester5\\DSPRO2\\DSPOR2\\classifier\\Model\\datasets\\diacritics\\images\\validation\\axiologique.tiff has no bounding boxes labels\n",
      "wandb: WARNING Image: C:\\Studium\\Semester5\\DSPRO2\\DSPOR2\\classifier\\Model\\datasets\\diacritics\\images\\validation\\pardonnons.tiff has no bounding boxes labels\n",
      "wandb: WARNING Image: C:\\Studium\\Semester5\\DSPRO2\\DSPOR2\\classifier\\Model\\datasets\\diacritics\\images\\validation\\propanes.tiff has no bounding boxes labels\n",
      "wandb: WARNING Image: C:\\Studium\\Semester5\\DSPRO2\\DSPOR2\\classifier\\Model\\datasets\\diacritics\\images\\validation\\patelinaient.tiff has no bounding boxes labels\n",
      "wandb: WARNING Image: C:\\Studium\\Semester5\\DSPRO2\\DSPOR2\\classifier\\Model\\datasets\\diacritics\\images\\validation\\parlementas.tiff has no bounding boxes labels\n",
      "wandb: WARNING Image: C:\\Studium\\Semester5\\DSPRO2\\DSPOR2\\classifier\\Model\\datasets\\diacritics\\images\\validation\\sacculaire.tiff has no bounding boxes labels\n",
      "wandb: WARNING Image: C:\\Studium\\Semester5\\DSPRO2\\DSPOR2\\classifier\\Model\\datasets\\diacritics\\images\\validation\\alcoholisai.tiff has no bounding boxes labels\n",
      "wandb: WARNING Image: C:\\Studium\\Semester5\\DSPRO2\\DSPOR2\\classifier\\Model\\datasets\\diacritics\\images\\validation\\barbaries.tiff has no bounding boxes labels\n",
      "wandb: WARNING Image: C:\\Studium\\Semester5\\DSPRO2\\DSPOR2\\classifier\\Model\\datasets\\diacritics\\images\\validation\\nervuras.tiff has no bounding boxes labels\n",
      "wandb: WARNING Image: C:\\Studium\\Semester5\\DSPRO2\\DSPOR2\\classifier\\Model\\datasets\\diacritics\\images\\validation\\thalamiques.tiff has no bounding boxes labels\n",
      "wandb: WARNING Image: C:\\Studium\\Semester5\\DSPRO2\\DSPOR2\\classifier\\Model\\datasets\\diacritics\\images\\validation\\reflagelleriez.tiff has no bounding boxes labels\n",
      "wandb: WARNING Image: C:\\Studium\\Semester5\\DSPRO2\\DSPOR2\\classifier\\Model\\datasets\\diacritics\\images\\validation\\soustraira.tiff has no bounding boxes labels\n",
      "wandb: WARNING Image: C:\\Studium\\Semester5\\DSPRO2\\DSPOR2\\classifier\\Model\\datasets\\diacritics\\images\\validation\\super-lourd.tiff has no bounding boxes labels\n",
      "wandb: WARNING Image: C:\\Studium\\Semester5\\DSPRO2\\DSPOR2\\classifier\\Model\\datasets\\diacritics\\images\\validation\\ocreront.tiff has no bounding boxes labels\n",
      "wandb: WARNING Image: C:\\Studium\\Semester5\\DSPRO2\\DSPOR2\\classifier\\Model\\datasets\\diacritics\\images\\validation\\zenitudes.tiff has no bounding boxes labels\n",
      "wandb: WARNING Image: C:\\Studium\\Semester5\\DSPRO2\\DSPOR2\\classifier\\Model\\datasets\\diacritics\\images\\validation\\crachaient.tiff has no bounding boxes labels\n",
      "wandb: WARNING Image: C:\\Studium\\Semester5\\DSPRO2\\DSPOR2\\classifier\\Model\\datasets\\diacritics\\images\\validation\\suturasse.tiff has no bounding boxes labels\n",
      "wandb: WARNING Image: C:\\Studium\\Semester5\\DSPRO2\\DSPOR2\\classifier\\Model\\datasets\\diacritics\\images\\validation\\vieillardes.tiff has no bounding boxes labels\n",
      "wandb: WARNING Image: C:\\Studium\\Semester5\\DSPRO2\\DSPOR2\\classifier\\Model\\datasets\\diacritics\\images\\validation\\astreigniez.tiff has no bounding boxes labels\n",
      "wandb: WARNING Image: C:\\Studium\\Semester5\\DSPRO2\\DSPOR2\\classifier\\Model\\datasets\\diacritics\\images\\validation\\bloggeuses.tiff has no bounding boxes labels\n",
      "wandb: WARNING Image: C:\\Studium\\Semester5\\DSPRO2\\DSPOR2\\classifier\\Model\\datasets\\diacritics\\images\\validation\\bonbonne.tiff has no bounding boxes labels\n",
      "wandb: WARNING Image: C:\\Studium\\Semester5\\DSPRO2\\DSPOR2\\classifier\\Model\\datasets\\diacritics\\images\\validation\\secours.tiff has no bounding boxes labels\n",
      "wandb: WARNING Image: C:\\Studium\\Semester5\\DSPRO2\\DSPOR2\\classifier\\Model\\datasets\\diacritics\\images\\validation\\kilotonnes.tiff has no bounding boxes labels\n",
      "wandb: WARNING Image: C:\\Studium\\Semester5\\DSPRO2\\DSPOR2\\classifier\\Model\\datasets\\diacritics\\images\\validation\\chahutent.tiff has no bounding boxes labels\n",
      "wandb: WARNING Image: C:\\Studium\\Semester5\\DSPRO2\\DSPOR2\\classifier\\Model\\datasets\\diacritics\\images\\validation\\soi-disante.tiff has no bounding boxes labels\n",
      "wandb: WARNING Image: C:\\Studium\\Semester5\\DSPRO2\\DSPOR2\\classifier\\Model\\datasets\\diacritics\\images\\validation\\faïenciers.tiff has no bounding boxes labels\n",
      "wandb: WARNING Image: C:\\Studium\\Semester5\\DSPRO2\\DSPOR2\\classifier\\Model\\datasets\\diacritics\\images\\validation\\fendrions.tiff has no bounding boxes labels\n",
      "wandb: WARNING Image: C:\\Studium\\Semester5\\DSPRO2\\DSPOR2\\classifier\\Model\\datasets\\diacritics\\images\\validation\\effaceront.tiff has no bounding boxes labels\n",
      "wandb: WARNING Image: C:\\Studium\\Semester5\\DSPRO2\\DSPOR2\\classifier\\Model\\datasets\\diacritics\\images\\validation\\moroses.tiff has no bounding boxes labels\n",
      "wandb: WARNING Image: C:\\Studium\\Semester5\\DSPRO2\\DSPOR2\\classifier\\Model\\datasets\\diacritics\\images\\validation\\tanguerons.tiff has no bounding boxes labels\n",
      "wandb: WARNING Image: C:\\Studium\\Semester5\\DSPRO2\\DSPOR2\\classifier\\Model\\datasets\\diacritics\\images\\validation\\scarifions.tiff has no bounding boxes labels\n",
      "wandb: WARNING Image: C:\\Studium\\Semester5\\DSPRO2\\DSPOR2\\classifier\\Model\\datasets\\diacritics\\images\\validation\\hyperliasses.tiff has no bounding boxes labels\n",
      "wandb: WARNING Image: C:\\Studium\\Semester5\\DSPRO2\\DSPOR2\\classifier\\Model\\datasets\\diacritics\\images\\validation\\ondoyantes.tiff has no bounding boxes labels\n",
      "wandb: WARNING Image: C:\\Studium\\Semester5\\DSPRO2\\DSPOR2\\classifier\\Model\\datasets\\diacritics\\images\\validation\\grimeraient.tiff has no bounding boxes labels\n",
      "wandb: WARNING Image: C:\\Studium\\Semester5\\DSPRO2\\DSPOR2\\classifier\\Model\\datasets\\diacritics\\images\\validation\\imprimasse.tiff has no bounding boxes labels\n",
      "wandb: WARNING Image: C:\\Studium\\Semester5\\DSPRO2\\DSPOR2\\classifier\\Model\\datasets\\diacritics\\images\\validation\\bentonite.tiff has no bounding boxes labels\n",
      "wandb: WARNING Image: C:\\Studium\\Semester5\\DSPRO2\\DSPOR2\\classifier\\Model\\datasets\\diacritics\\images\\validation\\rebuterez.tiff has no bounding boxes labels\n",
      "wandb: WARNING Image: C:\\Studium\\Semester5\\DSPRO2\\DSPOR2\\classifier\\Model\\datasets\\diacritics\\images\\validation\\conchiant.tiff has no bounding boxes labels\n",
      "wandb: WARNING Image: C:\\Studium\\Semester5\\DSPRO2\\DSPOR2\\classifier\\Model\\datasets\\diacritics\\images\\validation\\guimbleront.tiff has no bounding boxes labels\n",
      "wandb: WARNING Image: C:\\Studium\\Semester5\\DSPRO2\\DSPOR2\\classifier\\Model\\datasets\\diacritics\\images\\validation\\engainaient.tiff has no bounding boxes labels\n",
      "wandb: WARNING Image: C:\\Studium\\Semester5\\DSPRO2\\DSPOR2\\classifier\\Model\\datasets\\diacritics\\images\\validation\\violentera.tiff has no bounding boxes labels\n",
      "wandb: WARNING Image: C:\\Studium\\Semester5\\DSPRO2\\DSPOR2\\classifier\\Model\\datasets\\diacritics\\images\\validation\\encordera.tiff has no bounding boxes labels\n",
      "wandb: WARNING Image: C:\\Studium\\Semester5\\DSPRO2\\DSPOR2\\classifier\\Model\\datasets\\diacritics\\images\\validation\\metteuse.tiff has no bounding boxes labels\n",
      "wandb: WARNING Image: C:\\Studium\\Semester5\\DSPRO2\\DSPOR2\\classifier\\Model\\datasets\\diacritics\\images\\validation\\insensibles.tiff has no bounding boxes labels\n",
      "wandb: WARNING Image: C:\\Studium\\Semester5\\DSPRO2\\DSPOR2\\classifier\\Model\\datasets\\diacritics\\images\\validation\\centikatal.tiff has no bounding boxes labels\n",
      "wandb: WARNING Image: C:\\Studium\\Semester5\\DSPRO2\\DSPOR2\\classifier\\Model\\datasets\\diacritics\\images\\validation\\polyhydrite.tiff has no bounding boxes labels\n",
      "wandb: WARNING Image: C:\\Studium\\Semester5\\DSPRO2\\DSPOR2\\classifier\\Model\\datasets\\diacritics\\images\\validation\\constants.tiff has no bounding boxes labels\n",
      "wandb: WARNING Image: C:\\Studium\\Semester5\\DSPRO2\\DSPOR2\\classifier\\Model\\datasets\\diacritics\\images\\validation\\hennirons.tiff has no bounding boxes labels\n"
     ]
    },
    {
     "name": "stdout",
     "output_type": "stream",
     "text": [
      "\n",
      "      Epoch    GPU_mem   box_loss   cls_loss   dfl_loss  Instances       Size\n"
     ]
    },
    {
     "name": "stderr",
     "output_type": "stream",
     "text": [
      "      5/100      1.58G     0.9208     0.4941      0.807         54        256: 100%|██████████| 250/250 [02:20<00:00,  1.78it/s]\n",
      "                 Class     Images  Instances      Box(P          R      mAP50  mAP50-95): 100%|██████████| 16/16 [00:07<00:00,  2.26it/s]\n"
     ]
    },
    {
     "name": "stdout",
     "output_type": "stream",
     "text": [
      "                   all       1999       1196      0.971      0.977      0.987       0.76\n"
     ]
    },
    {
     "data": {
      "text/plain": "Generating Visualizations for batch-1/1:   0%|          | 0/128 [00:00<?, ?it/s]",
      "application/vnd.jupyter.widget-view+json": {
       "version_major": 2,
       "version_minor": 0,
       "model_id": "2ad14f4c1f814d8bac442c2a9466c190"
      }
     },
     "metadata": {},
     "output_type": "display_data"
    },
    {
     "name": "stderr",
     "output_type": "stream",
     "text": [
      "wandb: WARNING Image: C:\\Studium\\Semester5\\DSPRO2\\DSPOR2\\classifier\\Model\\datasets\\diacritics\\images\\validation\\transirent.tiff has no bounding boxes labels\n",
      "wandb: WARNING Image: C:\\Studium\\Semester5\\DSPRO2\\DSPOR2\\classifier\\Model\\datasets\\diacritics\\images\\validation\\anti-coco.tiff has no bounding boxes labels\n",
      "wandb: WARNING Image: C:\\Studium\\Semester5\\DSPRO2\\DSPOR2\\classifier\\Model\\datasets\\diacritics\\images\\validation\\toussons.tiff has no bounding boxes labels\n",
      "wandb: WARNING Image: C:\\Studium\\Semester5\\DSPRO2\\DSPOR2\\classifier\\Model\\datasets\\diacritics\\images\\validation\\complexas.tiff has no bounding boxes labels\n",
      "wandb: WARNING Image: C:\\Studium\\Semester5\\DSPRO2\\DSPOR2\\classifier\\Model\\datasets\\diacritics\\images\\validation\\rumeur.tiff has no bounding boxes labels\n",
      "wandb: WARNING Image: C:\\Studium\\Semester5\\DSPRO2\\DSPOR2\\classifier\\Model\\datasets\\diacritics\\images\\validation\\aplatissoirs.tiff has no bounding boxes labels\n",
      "wandb: WARNING Image: C:\\Studium\\Semester5\\DSPRO2\\DSPOR2\\classifier\\Model\\datasets\\diacritics\\images\\validation\\complexera.tiff has no bounding boxes labels\n",
      "wandb: WARNING Image: C:\\Studium\\Semester5\\DSPRO2\\DSPOR2\\classifier\\Model\\datasets\\diacritics\\images\\validation\\pateteront.tiff has no bounding boxes labels\n",
      "wandb: WARNING Image: C:\\Studium\\Semester5\\DSPRO2\\DSPOR2\\classifier\\Model\\datasets\\diacritics\\images\\validation\\improuvant.tiff has no bounding boxes labels\n",
      "wandb: WARNING Image: C:\\Studium\\Semester5\\DSPRO2\\DSPOR2\\classifier\\Model\\datasets\\diacritics\\images\\validation\\basculerai.tiff has no bounding boxes labels\n",
      "wandb: WARNING Image: C:\\Studium\\Semester5\\DSPRO2\\DSPOR2\\classifier\\Model\\datasets\\diacritics\\images\\validation\\bestialise.tiff has no bounding boxes labels\n",
      "wandb: WARNING Image: C:\\Studium\\Semester5\\DSPRO2\\DSPOR2\\classifier\\Model\\datasets\\diacritics\\images\\validation\\axoïdiens.tiff has no bounding boxes labels\n",
      "wandb: WARNING Image: C:\\Studium\\Semester5\\DSPRO2\\DSPOR2\\classifier\\Model\\datasets\\diacritics\\images\\validation\\stipulassent.tiff has no bounding boxes labels\n",
      "wandb: WARNING Image: C:\\Studium\\Semester5\\DSPRO2\\DSPOR2\\classifier\\Model\\datasets\\diacritics\\images\\validation\\demeurez.tiff has no bounding boxes labels\n",
      "wandb: WARNING Image: C:\\Studium\\Semester5\\DSPRO2\\DSPOR2\\classifier\\Model\\datasets\\diacritics\\images\\validation\\taroterez.tiff has no bounding boxes labels\n",
      "wandb: WARNING Image: C:\\Studium\\Semester5\\DSPRO2\\DSPOR2\\classifier\\Model\\datasets\\diacritics\\images\\validation\\allumerai.tiff has no bounding boxes labels\n",
      "wandb: WARNING Image: C:\\Studium\\Semester5\\DSPRO2\\DSPOR2\\classifier\\Model\\datasets\\diacritics\\images\\validation\\technologie.tiff has no bounding boxes labels\n",
      "wandb: WARNING Image: C:\\Studium\\Semester5\\DSPRO2\\DSPOR2\\classifier\\Model\\datasets\\diacritics\\images\\validation\\exfiltrerions.tiff has no bounding boxes labels\n",
      "wandb: WARNING Image: C:\\Studium\\Semester5\\DSPRO2\\DSPOR2\\classifier\\Model\\datasets\\diacritics\\images\\validation\\vannaient.tiff has no bounding boxes labels\n",
      "wandb: WARNING Image: C:\\Studium\\Semester5\\DSPRO2\\DSPOR2\\classifier\\Model\\datasets\\diacritics\\images\\validation\\bougeraient.tiff has no bounding boxes labels\n",
      "wandb: WARNING Image: C:\\Studium\\Semester5\\DSPRO2\\DSPOR2\\classifier\\Model\\datasets\\diacritics\\images\\validation\\quantifierai.tiff has no bounding boxes labels\n",
      "wandb: WARNING Image: C:\\Studium\\Semester5\\DSPRO2\\DSPOR2\\classifier\\Model\\datasets\\diacritics\\images\\validation\\affinerions.tiff has no bounding boxes labels\n",
      "wandb: WARNING Image: C:\\Studium\\Semester5\\DSPRO2\\DSPOR2\\classifier\\Model\\datasets\\diacritics\\images\\validation\\oubliette.tiff has no bounding boxes labels\n",
      "wandb: WARNING Image: C:\\Studium\\Semester5\\DSPRO2\\DSPOR2\\classifier\\Model\\datasets\\diacritics\\images\\validation\\interactifs.tiff has no bounding boxes labels\n",
      "wandb: WARNING Image: C:\\Studium\\Semester5\\DSPRO2\\DSPOR2\\classifier\\Model\\datasets\\diacritics\\images\\validation\\simienne.tiff has no bounding boxes labels\n",
      "wandb: WARNING Image: C:\\Studium\\Semester5\\DSPRO2\\DSPOR2\\classifier\\Model\\datasets\\diacritics\\images\\validation\\entoilerez.tiff has no bounding boxes labels\n",
      "wandb: WARNING Image: C:\\Studium\\Semester5\\DSPRO2\\DSPOR2\\classifier\\Model\\datasets\\diacritics\\images\\validation\\voiturette.tiff has no bounding boxes labels\n",
      "wandb: WARNING Image: C:\\Studium\\Semester5\\DSPRO2\\DSPOR2\\classifier\\Model\\datasets\\diacritics\\images\\validation\\jongleront.tiff has no bounding boxes labels\n",
      "wandb: WARNING Image: C:\\Studium\\Semester5\\DSPRO2\\DSPOR2\\classifier\\Model\\datasets\\diacritics\\images\\validation\\parviendrai.tiff has no bounding boxes labels\n",
      "wandb: WARNING Image: C:\\Studium\\Semester5\\DSPRO2\\DSPOR2\\classifier\\Model\\datasets\\diacritics\\images\\validation\\dealaient.tiff has no bounding boxes labels\n",
      "wandb: WARNING Image: C:\\Studium\\Semester5\\DSPRO2\\DSPOR2\\classifier\\Model\\datasets\\diacritics\\images\\validation\\fleurirons.tiff has no bounding boxes labels\n",
      "wandb: WARNING Image: C:\\Studium\\Semester5\\DSPRO2\\DSPOR2\\classifier\\Model\\datasets\\diacritics\\images\\validation\\chourave.tiff has no bounding boxes labels\n",
      "wandb: WARNING Image: C:\\Studium\\Semester5\\DSPRO2\\DSPOR2\\classifier\\Model\\datasets\\diacritics\\images\\validation\\enkikinait.tiff has no bounding boxes labels\n",
      "wandb: WARNING Image: C:\\Studium\\Semester5\\DSPRO2\\DSPOR2\\classifier\\Model\\datasets\\diacritics\\images\\validation\\saxophonai.tiff has no bounding boxes labels\n",
      "wandb: WARNING Image: C:\\Studium\\Semester5\\DSPRO2\\DSPOR2\\classifier\\Model\\datasets\\diacritics\\images\\validation\\encollons.tiff has no bounding boxes labels\n",
      "wandb: WARNING Image: C:\\Studium\\Semester5\\DSPRO2\\DSPOR2\\classifier\\Model\\datasets\\diacritics\\images\\validation\\ligotassent.tiff has no bounding boxes labels\n",
      "wandb: WARNING Image: C:\\Studium\\Semester5\\DSPRO2\\DSPOR2\\classifier\\Model\\datasets\\diacritics\\images\\validation\\fichasses.tiff has no bounding boxes labels\n",
      "wandb: WARNING Image: C:\\Studium\\Semester5\\DSPRO2\\DSPOR2\\classifier\\Model\\datasets\\diacritics\\images\\validation\\magnifique.tiff has no bounding boxes labels\n",
      "wandb: WARNING Image: C:\\Studium\\Semester5\\DSPRO2\\DSPOR2\\classifier\\Model\\datasets\\diacritics\\images\\validation\\verseras.tiff has no bounding boxes labels\n",
      "wandb: WARNING Image: C:\\Studium\\Semester5\\DSPRO2\\DSPOR2\\classifier\\Model\\datasets\\diacritics\\images\\validation\\flaqueront.tiff has no bounding boxes labels\n",
      "wandb: WARNING Image: C:\\Studium\\Semester5\\DSPRO2\\DSPOR2\\classifier\\Model\\datasets\\diacritics\\images\\validation\\disgracient.tiff has no bounding boxes labels\n",
      "wandb: WARNING Image: C:\\Studium\\Semester5\\DSPRO2\\DSPOR2\\classifier\\Model\\datasets\\diacritics\\images\\validation\\profusions.tiff has no bounding boxes labels\n",
      "wandb: WARNING Image: C:\\Studium\\Semester5\\DSPRO2\\DSPOR2\\classifier\\Model\\datasets\\diacritics\\images\\validation\\roquerions.tiff has no bounding boxes labels\n",
      "wandb: WARNING Image: C:\\Studium\\Semester5\\DSPRO2\\DSPOR2\\classifier\\Model\\datasets\\diacritics\\images\\validation\\traqueriez.tiff has no bounding boxes labels\n",
      "wandb: WARNING Image: C:\\Studium\\Semester5\\DSPRO2\\DSPOR2\\classifier\\Model\\datasets\\diacritics\\images\\validation\\rougeoieras.tiff has no bounding boxes labels\n",
      "wandb: WARNING Image: C:\\Studium\\Semester5\\DSPRO2\\DSPOR2\\classifier\\Model\\datasets\\diacritics\\images\\validation\\raidillons.tiff has no bounding boxes labels\n",
      "wandb: WARNING Image: C:\\Studium\\Semester5\\DSPRO2\\DSPOR2\\classifier\\Model\\datasets\\diacritics\\images\\validation\\tavaïolles.tiff has no bounding boxes labels\n",
      "wandb: WARNING Image: C:\\Studium\\Semester5\\DSPRO2\\DSPOR2\\classifier\\Model\\datasets\\diacritics\\images\\validation\\renipperas.tiff has no bounding boxes labels\n",
      "wandb: WARNING Image: C:\\Studium\\Semester5\\DSPRO2\\DSPOR2\\classifier\\Model\\datasets\\diacritics\\images\\validation\\percolerons.tiff has no bounding boxes labels\n",
      "wandb: WARNING Image: C:\\Studium\\Semester5\\DSPRO2\\DSPOR2\\classifier\\Model\\datasets\\diacritics\\images\\validation\\arrherais.tiff has no bounding boxes labels\n",
      "wandb: WARNING Image: C:\\Studium\\Semester5\\DSPRO2\\DSPOR2\\classifier\\Model\\datasets\\diacritics\\images\\validation\\aaroniques.tiff has no bounding boxes labels\n",
      "wandb: WARNING Image: C:\\Studium\\Semester5\\DSPRO2\\DSPOR2\\classifier\\Model\\datasets\\diacritics\\images\\validation\\endurions.tiff has no bounding boxes labels\n",
      "wandb: WARNING Image: C:\\Studium\\Semester5\\DSPRO2\\DSPOR2\\classifier\\Model\\datasets\\diacritics\\images\\validation\\cantillent.tiff has no bounding boxes labels\n",
      "wandb: WARNING Image: C:\\Studium\\Semester5\\DSPRO2\\DSPOR2\\classifier\\Model\\datasets\\diacritics\\images\\validation\\zoobiologie.tiff has no bounding boxes labels\n",
      "wandb: WARNING Image: C:\\Studium\\Semester5\\DSPRO2\\DSPOR2\\classifier\\Model\\datasets\\diacritics\\images\\validation\\bonasses.tiff has no bounding boxes labels\n",
      "wandb: WARNING Image: C:\\Studium\\Semester5\\DSPRO2\\DSPOR2\\classifier\\Model\\datasets\\diacritics\\images\\validation\\corpulentes.tiff has no bounding boxes labels\n",
      "wandb: WARNING Image: C:\\Studium\\Semester5\\DSPRO2\\DSPOR2\\classifier\\Model\\datasets\\diacritics\\images\\validation\\bachotait.tiff has no bounding boxes labels\n"
     ]
    },
    {
     "data": {
      "text/plain": "Generating Visualizations for batch-1/1:   0%|          | 0/128 [00:00<?, ?it/s]",
      "application/vnd.jupyter.widget-view+json": {
       "version_major": 2,
       "version_minor": 0,
       "model_id": "1e9f02d775e34d239aa181e07921546c"
      }
     },
     "metadata": {},
     "output_type": "display_data"
    },
    {
     "name": "stderr",
     "output_type": "stream",
     "text": [
      "wandb: WARNING Image: C:\\Studium\\Semester5\\DSPRO2\\DSPOR2\\classifier\\Model\\datasets\\diacritics\\images\\validation\\hospitalises.tiff has no bounding boxes labels\n",
      "wandb: WARNING Image: C:\\Studium\\Semester5\\DSPRO2\\DSPOR2\\classifier\\Model\\datasets\\diacritics\\images\\validation\\toponymies.tiff has no bounding boxes labels\n",
      "wandb: WARNING Image: C:\\Studium\\Semester5\\DSPRO2\\DSPOR2\\classifier\\Model\\datasets\\diacritics\\images\\validation\\repompais.tiff has no bounding boxes labels\n",
      "wandb: WARNING Image: C:\\Studium\\Semester5\\DSPRO2\\DSPOR2\\classifier\\Model\\datasets\\diacritics\\images\\validation\\meublais.tiff has no bounding boxes labels\n",
      "wandb: WARNING Image: C:\\Studium\\Semester5\\DSPRO2\\DSPOR2\\classifier\\Model\\datasets\\diacritics\\images\\validation\\regorgeant.tiff has no bounding boxes labels\n",
      "wandb: WARNING Image: C:\\Studium\\Semester5\\DSPRO2\\DSPOR2\\classifier\\Model\\datasets\\diacritics\\images\\validation\\aplatirions.tiff has no bounding boxes labels\n",
      "wandb: WARNING Image: C:\\Studium\\Semester5\\DSPRO2\\DSPOR2\\classifier\\Model\\datasets\\diacritics\\images\\validation\\ferrasses.tiff has no bounding boxes labels\n",
      "wandb: WARNING Image: C:\\Studium\\Semester5\\DSPRO2\\DSPOR2\\classifier\\Model\\datasets\\diacritics\\images\\validation\\reniasses.tiff has no bounding boxes labels\n",
      "wandb: WARNING Image: C:\\Studium\\Semester5\\DSPRO2\\DSPOR2\\classifier\\Model\\datasets\\diacritics\\images\\validation\\surgissant.tiff has no bounding boxes labels\n",
      "wandb: WARNING Image: C:\\Studium\\Semester5\\DSPRO2\\DSPOR2\\classifier\\Model\\datasets\\diacritics\\images\\validation\\vendangent.tiff has no bounding boxes labels\n",
      "wandb: WARNING Image: C:\\Studium\\Semester5\\DSPRO2\\DSPOR2\\classifier\\Model\\datasets\\diacritics\\images\\validation\\impavides.tiff has no bounding boxes labels\n",
      "wandb: WARNING Image: C:\\Studium\\Semester5\\DSPRO2\\DSPOR2\\classifier\\Model\\datasets\\diacritics\\images\\validation\\hameçons.tiff has no bounding boxes labels\n",
      "wandb: WARNING Image: C:\\Studium\\Semester5\\DSPRO2\\DSPOR2\\classifier\\Model\\datasets\\diacritics\\images\\validation\\balaierais.tiff has no bounding boxes labels\n",
      "wandb: WARNING Image: C:\\Studium\\Semester5\\DSPRO2\\DSPOR2\\classifier\\Model\\datasets\\diacritics\\images\\validation\\jarretelles.tiff has no bounding boxes labels\n",
      "wandb: WARNING Image: C:\\Studium\\Semester5\\DSPRO2\\DSPOR2\\classifier\\Model\\datasets\\diacritics\\images\\validation\\interagisse.tiff has no bounding boxes labels\n",
      "wandb: WARNING Image: C:\\Studium\\Semester5\\DSPRO2\\DSPOR2\\classifier\\Model\\datasets\\diacritics\\images\\validation\\nictation.tiff has no bounding boxes labels\n",
      "wandb: WARNING Image: C:\\Studium\\Semester5\\DSPRO2\\DSPOR2\\classifier\\Model\\datasets\\diacritics\\images\\validation\\gazasses.tiff has no bounding boxes labels\n",
      "wandb: WARNING Image: C:\\Studium\\Semester5\\DSPRO2\\DSPOR2\\classifier\\Model\\datasets\\diacritics\\images\\validation\\lutinerait.tiff has no bounding boxes labels\n",
      "wandb: WARNING Image: C:\\Studium\\Semester5\\DSPRO2\\DSPOR2\\classifier\\Model\\datasets\\diacritics\\images\\validation\\chopperez.tiff has no bounding boxes labels\n",
      "wandb: WARNING Image: C:\\Studium\\Semester5\\DSPRO2\\DSPOR2\\classifier\\Model\\datasets\\diacritics\\images\\validation\\monostyle.tiff has no bounding boxes labels\n",
      "wandb: WARNING Image: C:\\Studium\\Semester5\\DSPRO2\\DSPOR2\\classifier\\Model\\datasets\\diacritics\\images\\validation\\marbrure.tiff has no bounding boxes labels\n",
      "wandb: WARNING Image: C:\\Studium\\Semester5\\DSPRO2\\DSPOR2\\classifier\\Model\\datasets\\diacritics\\images\\validation\\Rwandais.tiff has no bounding boxes labels\n",
      "wandb: WARNING Image: C:\\Studium\\Semester5\\DSPRO2\\DSPOR2\\classifier\\Model\\datasets\\diacritics\\images\\validation\\encirerait.tiff has no bounding boxes labels\n",
      "wandb: WARNING Image: C:\\Studium\\Semester5\\DSPRO2\\DSPOR2\\classifier\\Model\\datasets\\diacritics\\images\\validation\\alarmiez.tiff has no bounding boxes labels\n",
      "wandb: WARNING Image: C:\\Studium\\Semester5\\DSPRO2\\DSPOR2\\classifier\\Model\\datasets\\diacritics\\images\\validation\\kifassent.tiff has no bounding boxes labels\n",
      "wandb: WARNING Image: C:\\Studium\\Semester5\\DSPRO2\\DSPOR2\\classifier\\Model\\datasets\\diacritics\\images\\validation\\hackeuse.tiff has no bounding boxes labels\n",
      "wandb: WARNING Image: C:\\Studium\\Semester5\\DSPRO2\\DSPOR2\\classifier\\Model\\datasets\\diacritics\\images\\validation\\revisitant.tiff has no bounding boxes labels\n",
      "wandb: WARNING Image: C:\\Studium\\Semester5\\DSPRO2\\DSPOR2\\classifier\\Model\\datasets\\diacritics\\images\\validation\\enfanter.tiff has no bounding boxes labels\n",
      "wandb: WARNING Image: C:\\Studium\\Semester5\\DSPRO2\\DSPOR2\\classifier\\Model\\datasets\\diacritics\\images\\validation\\parænese.tiff has no bounding boxes labels\n",
      "wandb: WARNING Image: C:\\Studium\\Semester5\\DSPRO2\\DSPOR2\\classifier\\Model\\datasets\\diacritics\\images\\validation\\hippologie.tiff has no bounding boxes labels\n",
      "wandb: WARNING Image: C:\\Studium\\Semester5\\DSPRO2\\DSPOR2\\classifier\\Model\\datasets\\diacritics\\images\\validation\\boudant.tiff has no bounding boxes labels\n",
      "wandb: WARNING Image: C:\\Studium\\Semester5\\DSPRO2\\DSPOR2\\classifier\\Model\\datasets\\diacritics\\images\\validation\\comporta.tiff has no bounding boxes labels\n",
      "wandb: WARNING Image: C:\\Studium\\Semester5\\DSPRO2\\DSPOR2\\classifier\\Model\\datasets\\diacritics\\images\\validation\\asinienne.tiff has no bounding boxes labels\n",
      "wandb: WARNING Image: C:\\Studium\\Semester5\\DSPRO2\\DSPOR2\\classifier\\Model\\datasets\\diacritics\\images\\validation\\crampes.tiff has no bounding boxes labels\n",
      "wandb: WARNING Image: C:\\Studium\\Semester5\\DSPRO2\\DSPOR2\\classifier\\Model\\datasets\\diacritics\\images\\validation\\grosselles.tiff has no bounding boxes labels\n",
      "wandb: WARNING Image: C:\\Studium\\Semester5\\DSPRO2\\DSPOR2\\classifier\\Model\\datasets\\diacritics\\images\\validation\\effraierai.tiff has no bounding boxes labels\n",
      "wandb: WARNING Image: C:\\Studium\\Semester5\\DSPRO2\\DSPOR2\\classifier\\Model\\datasets\\diacritics\\images\\validation\\enfilerais.tiff has no bounding boxes labels\n",
      "wandb: WARNING Image: C:\\Studium\\Semester5\\DSPRO2\\DSPOR2\\classifier\\Model\\datasets\\diacritics\\images\\validation\\foodistas.tiff has no bounding boxes labels\n",
      "wandb: WARNING Image: C:\\Studium\\Semester5\\DSPRO2\\DSPOR2\\classifier\\Model\\datasets\\diacritics\\images\\validation\\poudroyait.tiff has no bounding boxes labels\n",
      "wandb: WARNING Image: C:\\Studium\\Semester5\\DSPRO2\\DSPOR2\\classifier\\Model\\datasets\\diacritics\\images\\validation\\lancettes.tiff has no bounding boxes labels\n",
      "wandb: WARNING Image: C:\\Studium\\Semester5\\DSPRO2\\DSPOR2\\classifier\\Model\\datasets\\diacritics\\images\\validation\\pionçaient.tiff has no bounding boxes labels\n",
      "wandb: WARNING Image: C:\\Studium\\Semester5\\DSPRO2\\DSPOR2\\classifier\\Model\\datasets\\diacritics\\images\\validation\\descentes.tiff has no bounding boxes labels\n",
      "wandb: WARNING Image: C:\\Studium\\Semester5\\DSPRO2\\DSPOR2\\classifier\\Model\\datasets\\diacritics\\images\\validation\\baissions.tiff has no bounding boxes labels\n",
      "wandb: WARNING Image: C:\\Studium\\Semester5\\DSPRO2\\DSPOR2\\classifier\\Model\\datasets\\diacritics\\images\\validation\\limitaient.tiff has no bounding boxes labels\n",
      "wandb: WARNING Image: C:\\Studium\\Semester5\\DSPRO2\\DSPOR2\\classifier\\Model\\datasets\\diacritics\\images\\validation\\bleuisses.tiff has no bounding boxes labels\n",
      "wandb: WARNING Image: C:\\Studium\\Semester5\\DSPRO2\\DSPOR2\\classifier\\Model\\datasets\\diacritics\\images\\validation\\polyspaste.tiff has no bounding boxes labels\n",
      "wandb: WARNING Image: C:\\Studium\\Semester5\\DSPRO2\\DSPOR2\\classifier\\Model\\datasets\\diacritics\\images\\validation\\chloroses.tiff has no bounding boxes labels\n",
      "wandb: WARNING Image: C:\\Studium\\Semester5\\DSPRO2\\DSPOR2\\classifier\\Model\\datasets\\diacritics\\images\\validation\\schlinguez.tiff has no bounding boxes labels\n",
      "wandb: WARNING Image: C:\\Studium\\Semester5\\DSPRO2\\DSPOR2\\classifier\\Model\\datasets\\diacritics\\images\\validation\\adoptasse.tiff has no bounding boxes labels\n",
      "wandb: WARNING Image: C:\\Studium\\Semester5\\DSPRO2\\DSPOR2\\classifier\\Model\\datasets\\diacritics\\images\\validation\\buveuses.tiff has no bounding boxes labels\n",
      "wandb: WARNING Image: C:\\Studium\\Semester5\\DSPRO2\\DSPOR2\\classifier\\Model\\datasets\\diacritics\\images\\validation\\appointer.tiff has no bounding boxes labels\n",
      "wandb: WARNING Image: C:\\Studium\\Semester5\\DSPRO2\\DSPOR2\\classifier\\Model\\datasets\\diacritics\\images\\validation\\portassiez.tiff has no bounding boxes labels\n",
      "wandb: WARNING Image: C:\\Studium\\Semester5\\DSPRO2\\DSPOR2\\classifier\\Model\\datasets\\diacritics\\images\\validation\\nicheriez.tiff has no bounding boxes labels\n"
     ]
    },
    {
     "name": "stdout",
     "output_type": "stream",
     "text": [
      "\n",
      "      Epoch    GPU_mem   box_loss   cls_loss   dfl_loss  Instances       Size\n"
     ]
    },
    {
     "name": "stderr",
     "output_type": "stream",
     "text": [
      "      6/100      1.59G     0.8217     0.4452     0.8009         64        256: 100%|██████████| 250/250 [02:21<00:00,  1.77it/s]\n",
      "                 Class     Images  Instances      Box(P          R      mAP50  mAP50-95): 100%|██████████| 16/16 [00:07<00:00,  2.28it/s]\n"
     ]
    },
    {
     "name": "stdout",
     "output_type": "stream",
     "text": [
      "                   all       1999       1196      0.984      0.974      0.985      0.732\n"
     ]
    },
    {
     "data": {
      "text/plain": "Generating Visualizations for batch-1/1:   0%|          | 0/128 [00:00<?, ?it/s]",
      "application/vnd.jupyter.widget-view+json": {
       "version_major": 2,
       "version_minor": 0,
       "model_id": "2a9efb495a8142d793fc22ecfb042141"
      }
     },
     "metadata": {},
     "output_type": "display_data"
    },
    {
     "name": "stderr",
     "output_type": "stream",
     "text": [
      "wandb: WARNING Image: C:\\Studium\\Semester5\\DSPRO2\\DSPOR2\\classifier\\Model\\datasets\\diacritics\\images\\validation\\disparaitra.tiff has no bounding boxes labels\n",
      "wandb: WARNING Image: C:\\Studium\\Semester5\\DSPRO2\\DSPOR2\\classifier\\Model\\datasets\\diacritics\\images\\validation\\gambillent.tiff has no bounding boxes labels\n",
      "wandb: WARNING Image: C:\\Studium\\Semester5\\DSPRO2\\DSPOR2\\classifier\\Model\\datasets\\diacritics\\images\\validation\\præsentai.tiff has no bounding boxes labels\n",
      "wandb: WARNING Image: C:\\Studium\\Semester5\\DSPRO2\\DSPOR2\\classifier\\Model\\datasets\\diacritics\\images\\validation\\apparaîtra.tiff has no bounding boxes labels\n",
      "wandb: WARNING Image: C:\\Studium\\Semester5\\DSPRO2\\DSPOR2\\classifier\\Model\\datasets\\diacritics\\images\\validation\\amodies.tiff has no bounding boxes labels\n",
      "wandb: WARNING Image: C:\\Studium\\Semester5\\DSPRO2\\DSPOR2\\classifier\\Model\\datasets\\diacritics\\images\\validation\\comates.tiff has no bounding boxes labels\n",
      "wandb: WARNING Image: C:\\Studium\\Semester5\\DSPRO2\\DSPOR2\\classifier\\Model\\datasets\\diacritics\\images\\validation\\solitaires.tiff has no bounding boxes labels\n",
      "wandb: WARNING Image: C:\\Studium\\Semester5\\DSPRO2\\DSPOR2\\classifier\\Model\\datasets\\diacritics\\images\\validation\\acharnas.tiff has no bounding boxes labels\n",
      "wandb: WARNING Image: C:\\Studium\\Semester5\\DSPRO2\\DSPOR2\\classifier\\Model\\datasets\\diacritics\\images\\validation\\duplexerai.tiff has no bounding boxes labels\n",
      "wandb: WARNING Image: C:\\Studium\\Semester5\\DSPRO2\\DSPOR2\\classifier\\Model\\datasets\\diacritics\\images\\validation\\coparents.tiff has no bounding boxes labels\n",
      "wandb: WARNING Image: C:\\Studium\\Semester5\\DSPRO2\\DSPOR2\\classifier\\Model\\datasets\\diacritics\\images\\validation\\artificiers.tiff has no bounding boxes labels\n",
      "wandb: WARNING Image: C:\\Studium\\Semester5\\DSPRO2\\DSPOR2\\classifier\\Model\\datasets\\diacritics\\images\\validation\\alevinent.tiff has no bounding boxes labels\n",
      "wandb: WARNING Image: C:\\Studium\\Semester5\\DSPRO2\\DSPOR2\\classifier\\Model\\datasets\\diacritics\\images\\validation\\gastrulerai.tiff has no bounding boxes labels\n",
      "wandb: WARNING Image: C:\\Studium\\Semester5\\DSPRO2\\DSPOR2\\classifier\\Model\\datasets\\diacritics\\images\\validation\\rafraîchit.tiff has no bounding boxes labels\n",
      "wandb: WARNING Image: C:\\Studium\\Semester5\\DSPRO2\\DSPOR2\\classifier\\Model\\datasets\\diacritics\\images\\validation\\boniches.tiff has no bounding boxes labels\n",
      "wandb: WARNING Image: C:\\Studium\\Semester5\\DSPRO2\\DSPOR2\\classifier\\Model\\datasets\\diacritics\\images\\validation\\jacassante.tiff has no bounding boxes labels\n",
      "wandb: WARNING Image: C:\\Studium\\Semester5\\DSPRO2\\DSPOR2\\classifier\\Model\\datasets\\diacritics\\images\\validation\\adressages.tiff has no bounding boxes labels\n",
      "wandb: WARNING Image: C:\\Studium\\Semester5\\DSPRO2\\DSPOR2\\classifier\\Model\\datasets\\diacritics\\images\\validation\\exciterez.tiff has no bounding boxes labels\n",
      "wandb: WARNING Image: C:\\Studium\\Semester5\\DSPRO2\\DSPOR2\\classifier\\Model\\datasets\\diacritics\\images\\validation\\cagoulant.tiff has no bounding boxes labels\n",
      "wandb: WARNING Image: C:\\Studium\\Semester5\\DSPRO2\\DSPOR2\\classifier\\Model\\datasets\\diacritics\\images\\validation\\tomatiez.tiff has no bounding boxes labels\n",
      "wandb: WARNING Image: C:\\Studium\\Semester5\\DSPRO2\\DSPOR2\\classifier\\Model\\datasets\\diacritics\\images\\validation\\lemnisque.tiff has no bounding boxes labels\n",
      "wandb: WARNING Image: C:\\Studium\\Semester5\\DSPRO2\\DSPOR2\\classifier\\Model\\datasets\\diacritics\\images\\validation\\bijouteries.tiff has no bounding boxes labels\n",
      "wandb: WARNING Image: C:\\Studium\\Semester5\\DSPRO2\\DSPOR2\\classifier\\Model\\datasets\\diacritics\\images\\validation\\coagulable.tiff has no bounding boxes labels\n",
      "wandb: WARNING Image: C:\\Studium\\Semester5\\DSPRO2\\DSPOR2\\classifier\\Model\\datasets\\diacritics\\images\\validation\\enneigerez.tiff has no bounding boxes labels\n",
      "wandb: WARNING Image: C:\\Studium\\Semester5\\DSPRO2\\DSPOR2\\classifier\\Model\\datasets\\diacritics\\images\\validation\\aveulîtes.tiff has no bounding boxes labels\n",
      "wandb: WARNING Image: C:\\Studium\\Semester5\\DSPRO2\\DSPOR2\\classifier\\Model\\datasets\\diacritics\\images\\validation\\privassiez.tiff has no bounding boxes labels\n",
      "wandb: WARNING Image: C:\\Studium\\Semester5\\DSPRO2\\DSPOR2\\classifier\\Model\\datasets\\diacritics\\images\\validation\\inactivas.tiff has no bounding boxes labels\n",
      "wandb: WARNING Image: C:\\Studium\\Semester5\\DSPRO2\\DSPOR2\\classifier\\Model\\datasets\\diacritics\\images\\validation\\chinoisa.tiff has no bounding boxes labels\n",
      "wandb: WARNING Image: C:\\Studium\\Semester5\\DSPRO2\\DSPOR2\\classifier\\Model\\datasets\\diacritics\\images\\validation\\capucines.tiff has no bounding boxes labels\n",
      "wandb: WARNING Image: C:\\Studium\\Semester5\\DSPRO2\\DSPOR2\\classifier\\Model\\datasets\\diacritics\\images\\validation\\bercions.tiff has no bounding boxes labels\n",
      "wandb: WARNING Image: C:\\Studium\\Semester5\\DSPRO2\\DSPOR2\\classifier\\Model\\datasets\\diacritics\\images\\validation\\gratouillas.tiff has no bounding boxes labels\n",
      "wandb: WARNING Image: C:\\Studium\\Semester5\\DSPRO2\\DSPOR2\\classifier\\Model\\datasets\\diacritics\\images\\validation\\animaux.tiff has no bounding boxes labels\n",
      "wandb: WARNING Image: C:\\Studium\\Semester5\\DSPRO2\\DSPOR2\\classifier\\Model\\datasets\\diacritics\\images\\validation\\insinuais.tiff has no bounding boxes labels\n",
      "wandb: WARNING Image: C:\\Studium\\Semester5\\DSPRO2\\DSPOR2\\classifier\\Model\\datasets\\diacritics\\images\\validation\\buttions.tiff has no bounding boxes labels\n",
      "wandb: WARNING Image: C:\\Studium\\Semester5\\DSPRO2\\DSPOR2\\classifier\\Model\\datasets\\diacritics\\images\\validation\\sacalaits.tiff has no bounding boxes labels\n",
      "wandb: WARNING Image: C:\\Studium\\Semester5\\DSPRO2\\DSPOR2\\classifier\\Model\\datasets\\diacritics\\images\\validation\\brodeuse.tiff has no bounding boxes labels\n",
      "wandb: WARNING Image: C:\\Studium\\Semester5\\DSPRO2\\DSPOR2\\classifier\\Model\\datasets\\diacritics\\images\\validation\\mouvoir.tiff has no bounding boxes labels\n",
      "wandb: WARNING Image: C:\\Studium\\Semester5\\DSPRO2\\DSPOR2\\classifier\\Model\\datasets\\diacritics\\images\\validation\\cododos.tiff has no bounding boxes labels\n",
      "wandb: WARNING Image: C:\\Studium\\Semester5\\DSPRO2\\DSPOR2\\classifier\\Model\\datasets\\diacritics\\images\\validation\\panserais.tiff has no bounding boxes labels\n",
      "wandb: WARNING Image: C:\\Studium\\Semester5\\DSPRO2\\DSPOR2\\classifier\\Model\\datasets\\diacritics\\images\\validation\\exploitons.tiff has no bounding boxes labels\n",
      "wandb: WARNING Image: C:\\Studium\\Semester5\\DSPRO2\\DSPOR2\\classifier\\Model\\datasets\\diacritics\\images\\validation\\agglutiniez.tiff has no bounding boxes labels\n",
      "wandb: WARNING Image: C:\\Studium\\Semester5\\DSPRO2\\DSPOR2\\classifier\\Model\\datasets\\diacritics\\images\\validation\\cadastre.tiff has no bounding boxes labels\n",
      "wandb: WARNING Image: C:\\Studium\\Semester5\\DSPRO2\\DSPOR2\\classifier\\Model\\datasets\\diacritics\\images\\validation\\isopropyle.tiff has no bounding boxes labels\n",
      "wandb: WARNING Image: C:\\Studium\\Semester5\\DSPRO2\\DSPOR2\\classifier\\Model\\datasets\\diacritics\\images\\validation\\branlages.tiff has no bounding boxes labels\n",
      "wandb: WARNING Image: C:\\Studium\\Semester5\\DSPRO2\\DSPOR2\\classifier\\Model\\datasets\\diacritics\\images\\validation\\inuktitut.tiff has no bounding boxes labels\n",
      "wandb: WARNING Image: C:\\Studium\\Semester5\\DSPRO2\\DSPOR2\\classifier\\Model\\datasets\\diacritics\\images\\validation\\pamphlet.tiff has no bounding boxes labels\n",
      "wandb: WARNING Image: C:\\Studium\\Semester5\\DSPRO2\\DSPOR2\\classifier\\Model\\datasets\\diacritics\\images\\validation\\quadrillez.tiff has no bounding boxes labels\n",
      "wandb: WARNING Image: C:\\Studium\\Semester5\\DSPRO2\\DSPOR2\\classifier\\Model\\datasets\\diacritics\\images\\validation\\endoscope.tiff has no bounding boxes labels\n",
      "wandb: WARNING Image: C:\\Studium\\Semester5\\DSPRO2\\DSPOR2\\classifier\\Model\\datasets\\diacritics\\images\\validation\\œuvrez.tiff has no bounding boxes labels\n",
      "wandb: WARNING Image: C:\\Studium\\Semester5\\DSPRO2\\DSPOR2\\classifier\\Model\\datasets\\diacritics\\images\\validation\\censorial.tiff has no bounding boxes labels\n",
      "wandb: WARNING Image: C:\\Studium\\Semester5\\DSPRO2\\DSPOR2\\classifier\\Model\\datasets\\diacritics\\images\\validation\\ironisant.tiff has no bounding boxes labels\n",
      "wandb: WARNING Image: C:\\Studium\\Semester5\\DSPRO2\\DSPOR2\\classifier\\Model\\datasets\\diacritics\\images\\validation\\tachelhit.tiff has no bounding boxes labels\n",
      "wandb: WARNING Image: C:\\Studium\\Semester5\\DSPRO2\\DSPOR2\\classifier\\Model\\datasets\\diacritics\\images\\validation\\arqueront.tiff has no bounding boxes labels\n",
      "wandb: WARNING Image: C:\\Studium\\Semester5\\DSPRO2\\DSPOR2\\classifier\\Model\\datasets\\diacritics\\images\\validation\\comploter.tiff has no bounding boxes labels\n",
      "wandb: WARNING Image: C:\\Studium\\Semester5\\DSPRO2\\DSPOR2\\classifier\\Model\\datasets\\diacritics\\images\\validation\\palpitons.tiff has no bounding boxes labels\n",
      "wandb: WARNING Image: C:\\Studium\\Semester5\\DSPRO2\\DSPOR2\\classifier\\Model\\datasets\\diacritics\\images\\validation\\langeasses.tiff has no bounding boxes labels\n",
      "wandb: WARNING Image: C:\\Studium\\Semester5\\DSPRO2\\DSPOR2\\classifier\\Model\\datasets\\diacritics\\images\\validation\\improuvas.tiff has no bounding boxes labels\n",
      "wandb: WARNING Image: C:\\Studium\\Semester5\\DSPRO2\\DSPOR2\\classifier\\Model\\datasets\\diacritics\\images\\validation\\repondez.tiff has no bounding boxes labels\n",
      "wandb: WARNING Image: C:\\Studium\\Semester5\\DSPRO2\\DSPOR2\\classifier\\Model\\datasets\\diacritics\\images\\validation\\abaderai.tiff has no bounding boxes labels\n"
     ]
    },
    {
     "data": {
      "text/plain": "Generating Visualizations for batch-1/1:   0%|          | 0/128 [00:00<?, ?it/s]",
      "application/vnd.jupyter.widget-view+json": {
       "version_major": 2,
       "version_minor": 0,
       "model_id": "96a72c706e444c2b8bfd1104a8c03eec"
      }
     },
     "metadata": {},
     "output_type": "display_data"
    },
    {
     "name": "stderr",
     "output_type": "stream",
     "text": [
      "wandb: WARNING Image: C:\\Studium\\Semester5\\DSPRO2\\DSPOR2\\classifier\\Model\\datasets\\diacritics\\images\\validation\\assirons.tiff has no bounding boxes labels\n",
      "wandb: WARNING Image: C:\\Studium\\Semester5\\DSPRO2\\DSPOR2\\classifier\\Model\\datasets\\diacritics\\images\\validation\\asperge.tiff has no bounding boxes labels\n",
      "wandb: WARNING Image: C:\\Studium\\Semester5\\DSPRO2\\DSPOR2\\classifier\\Model\\datasets\\diacritics\\images\\validation\\Vicentin.tiff has no bounding boxes labels\n",
      "wandb: WARNING Image: C:\\Studium\\Semester5\\DSPRO2\\DSPOR2\\classifier\\Model\\datasets\\diacritics\\images\\validation\\argenterai.tiff has no bounding boxes labels\n",
      "wandb: WARNING Image: C:\\Studium\\Semester5\\DSPRO2\\DSPOR2\\classifier\\Model\\datasets\\diacritics\\images\\validation\\styliserait.tiff has no bounding boxes labels\n",
      "wandb: WARNING Image: C:\\Studium\\Semester5\\DSPRO2\\DSPOR2\\classifier\\Model\\datasets\\diacritics\\images\\validation\\perdreaux.tiff has no bounding boxes labels\n",
      "wandb: WARNING Image: C:\\Studium\\Semester5\\DSPRO2\\DSPOR2\\classifier\\Model\\datasets\\diacritics\\images\\validation\\ballastas.tiff has no bounding boxes labels\n",
      "wandb: WARNING Image: C:\\Studium\\Semester5\\DSPRO2\\DSPOR2\\classifier\\Model\\datasets\\diacritics\\images\\validation\\zgougou.tiff has no bounding boxes labels\n",
      "wandb: WARNING Image: C:\\Studium\\Semester5\\DSPRO2\\DSPOR2\\classifier\\Model\\datasets\\diacritics\\images\\validation\\nettoies.tiff has no bounding boxes labels\n",
      "wandb: WARNING Image: C:\\Studium\\Semester5\\DSPRO2\\DSPOR2\\classifier\\Model\\datasets\\diacritics\\images\\validation\\briquions.tiff has no bounding boxes labels\n",
      "wandb: WARNING Image: C:\\Studium\\Semester5\\DSPRO2\\DSPOR2\\classifier\\Model\\datasets\\diacritics\\images\\validation\\abrogions.tiff has no bounding boxes labels\n",
      "wandb: WARNING Image: C:\\Studium\\Semester5\\DSPRO2\\DSPOR2\\classifier\\Model\\datasets\\diacritics\\images\\validation\\pigmentai.tiff has no bounding boxes labels\n",
      "wandb: WARNING Image: C:\\Studium\\Semester5\\DSPRO2\\DSPOR2\\classifier\\Model\\datasets\\diacritics\\images\\validation\\signalisera.tiff has no bounding boxes labels\n",
      "wandb: WARNING Image: C:\\Studium\\Semester5\\DSPRO2\\DSPOR2\\classifier\\Model\\datasets\\diacritics\\images\\validation\\agitateuse.tiff has no bounding boxes labels\n",
      "wandb: WARNING Image: C:\\Studium\\Semester5\\DSPRO2\\DSPOR2\\classifier\\Model\\datasets\\diacritics\\images\\validation\\remplisses.tiff has no bounding boxes labels\n",
      "wandb: WARNING Image: C:\\Studium\\Semester5\\DSPRO2\\DSPOR2\\classifier\\Model\\datasets\\diacritics\\images\\validation\\radiologue.tiff has no bounding boxes labels\n",
      "wandb: WARNING Image: C:\\Studium\\Semester5\\DSPRO2\\DSPOR2\\classifier\\Model\\datasets\\diacritics\\images\\validation\\entrepriss.tiff has no bounding boxes labels\n",
      "wandb: WARNING Image: C:\\Studium\\Semester5\\DSPRO2\\DSPOR2\\classifier\\Model\\datasets\\diacritics\\images\\validation\\carrelets.tiff has no bounding boxes labels\n",
      "wandb: WARNING Image: C:\\Studium\\Semester5\\DSPRO2\\DSPOR2\\classifier\\Model\\datasets\\diacritics\\images\\validation\\lie-de-vin.tiff has no bounding boxes labels\n",
      "wandb: WARNING Image: C:\\Studium\\Semester5\\DSPRO2\\DSPOR2\\classifier\\Model\\datasets\\diacritics\\images\\validation\\aspermie.tiff has no bounding boxes labels\n",
      "wandb: WARNING Image: C:\\Studium\\Semester5\\DSPRO2\\DSPOR2\\classifier\\Model\\datasets\\diacritics\\images\\validation\\expurgiez.tiff has no bounding boxes labels\n",
      "wandb: WARNING Image: C:\\Studium\\Semester5\\DSPRO2\\DSPOR2\\classifier\\Model\\datasets\\diacritics\\images\\validation\\sourcille.tiff has no bounding boxes labels\n",
      "wandb: WARNING Image: C:\\Studium\\Semester5\\DSPRO2\\DSPOR2\\classifier\\Model\\datasets\\diacritics\\images\\validation\\mutules.tiff has no bounding boxes labels\n",
      "wandb: WARNING Image: C:\\Studium\\Semester5\\DSPRO2\\DSPOR2\\classifier\\Model\\datasets\\diacritics\\images\\validation\\envolais.tiff has no bounding boxes labels\n",
      "wandb: WARNING Image: C:\\Studium\\Semester5\\DSPRO2\\DSPOR2\\classifier\\Model\\datasets\\diacritics\\images\\validation\\atteniez.tiff has no bounding boxes labels\n",
      "wandb: WARNING Image: C:\\Studium\\Semester5\\DSPRO2\\DSPOR2\\classifier\\Model\\datasets\\diacritics\\images\\validation\\retenter.tiff has no bounding boxes labels\n",
      "wandb: WARNING Image: C:\\Studium\\Semester5\\DSPRO2\\DSPOR2\\classifier\\Model\\datasets\\diacritics\\images\\validation\\syllogisme.tiff has no bounding boxes labels\n",
      "wandb: WARNING Image: C:\\Studium\\Semester5\\DSPRO2\\DSPOR2\\classifier\\Model\\datasets\\diacritics\\images\\validation\\renforças.tiff has no bounding boxes labels\n",
      "wandb: WARNING Image: C:\\Studium\\Semester5\\DSPRO2\\DSPOR2\\classifier\\Model\\datasets\\diacritics\\images\\validation\\pourcent.tiff has no bounding boxes labels\n",
      "wandb: WARNING Image: C:\\Studium\\Semester5\\DSPRO2\\DSPOR2\\classifier\\Model\\datasets\\diacritics\\images\\validation\\lipophiles.tiff has no bounding boxes labels\n",
      "wandb: WARNING Image: C:\\Studium\\Semester5\\DSPRO2\\DSPOR2\\classifier\\Model\\datasets\\diacritics\\images\\validation\\pelotasses.tiff has no bounding boxes labels\n",
      "wandb: WARNING Image: C:\\Studium\\Semester5\\DSPRO2\\DSPOR2\\classifier\\Model\\datasets\\diacritics\\images\\validation\\lamaïste.tiff has no bounding boxes labels\n",
      "wandb: WARNING Image: C:\\Studium\\Semester5\\DSPRO2\\DSPOR2\\classifier\\Model\\datasets\\diacritics\\images\\validation\\inoculer.tiff has no bounding boxes labels\n",
      "wandb: WARNING Image: C:\\Studium\\Semester5\\DSPRO2\\DSPOR2\\classifier\\Model\\datasets\\diacritics\\images\\validation\\terbium.tiff has no bounding boxes labels\n",
      "wandb: WARNING Image: C:\\Studium\\Semester5\\DSPRO2\\DSPOR2\\classifier\\Model\\datasets\\diacritics\\images\\validation\\grignotez.tiff has no bounding boxes labels\n",
      "wandb: WARNING Image: C:\\Studium\\Semester5\\DSPRO2\\DSPOR2\\classifier\\Model\\datasets\\diacritics\\images\\validation\\s’envola.tiff has no bounding boxes labels\n",
      "wandb: WARNING Image: C:\\Studium\\Semester5\\DSPRO2\\DSPOR2\\classifier\\Model\\datasets\\diacritics\\images\\validation\\musette.tiff has no bounding boxes labels\n",
      "wandb: WARNING Image: C:\\Studium\\Semester5\\DSPRO2\\DSPOR2\\classifier\\Model\\datasets\\diacritics\\images\\validation\\apprîmes.tiff has no bounding boxes labels\n",
      "wandb: WARNING Image: C:\\Studium\\Semester5\\DSPRO2\\DSPOR2\\classifier\\Model\\datasets\\diacritics\\images\\validation\\ripostons.tiff has no bounding boxes labels\n",
      "wandb: WARNING Image: C:\\Studium\\Semester5\\DSPRO2\\DSPOR2\\classifier\\Model\\datasets\\diacritics\\images\\validation\\imposant.tiff has no bounding boxes labels\n",
      "wandb: WARNING Image: C:\\Studium\\Semester5\\DSPRO2\\DSPOR2\\classifier\\Model\\datasets\\diacritics\\images\\validation\\remiser.tiff has no bounding boxes labels\n",
      "wandb: WARNING Image: C:\\Studium\\Semester5\\DSPRO2\\DSPOR2\\classifier\\Model\\datasets\\diacritics\\images\\validation\\naquîmes.tiff has no bounding boxes labels\n",
      "wandb: WARNING Image: C:\\Studium\\Semester5\\DSPRO2\\DSPOR2\\classifier\\Model\\datasets\\diacritics\\images\\validation\\fuguerais.tiff has no bounding boxes labels\n",
      "wandb: WARNING Image: C:\\Studium\\Semester5\\DSPRO2\\DSPOR2\\classifier\\Model\\datasets\\diacritics\\images\\validation\\cruciaux.tiff has no bounding boxes labels\n",
      "wandb: WARNING Image: C:\\Studium\\Semester5\\DSPRO2\\DSPOR2\\classifier\\Model\\datasets\\diacritics\\images\\validation\\dameras.tiff has no bounding boxes labels\n",
      "wandb: WARNING Image: C:\\Studium\\Semester5\\DSPRO2\\DSPOR2\\classifier\\Model\\datasets\\diacritics\\images\\validation\\cocuites.tiff has no bounding boxes labels\n",
      "wandb: WARNING Image: C:\\Studium\\Semester5\\DSPRO2\\DSPOR2\\classifier\\Model\\datasets\\diacritics\\images\\validation\\proscrive.tiff has no bounding boxes labels\n",
      "wandb: WARNING Image: C:\\Studium\\Semester5\\DSPRO2\\DSPOR2\\classifier\\Model\\datasets\\diacritics\\images\\validation\\ravivent.tiff has no bounding boxes labels\n",
      "wandb: WARNING Image: C:\\Studium\\Semester5\\DSPRO2\\DSPOR2\\classifier\\Model\\datasets\\diacritics\\images\\validation\\cabotes.tiff has no bounding boxes labels\n",
      "wandb: WARNING Image: C:\\Studium\\Semester5\\DSPRO2\\DSPOR2\\classifier\\Model\\datasets\\diacritics\\images\\validation\\ballotes.tiff has no bounding boxes labels\n",
      "wandb: WARNING Image: C:\\Studium\\Semester5\\DSPRO2\\DSPOR2\\classifier\\Model\\datasets\\diacritics\\images\\validation\\jetassent.tiff has no bounding boxes labels\n",
      "wandb: WARNING Image: C:\\Studium\\Semester5\\DSPRO2\\DSPOR2\\classifier\\Model\\datasets\\diacritics\\images\\validation\\languissez.tiff has no bounding boxes labels\n",
      "wandb: WARNING Image: C:\\Studium\\Semester5\\DSPRO2\\DSPOR2\\classifier\\Model\\datasets\\diacritics\\images\\validation\\stressas.tiff has no bounding boxes labels\n",
      "wandb: WARNING Image: C:\\Studium\\Semester5\\DSPRO2\\DSPOR2\\classifier\\Model\\datasets\\diacritics\\images\\validation\\inclinez.tiff has no bounding boxes labels\n",
      "wandb: WARNING Image: C:\\Studium\\Semester5\\DSPRO2\\DSPOR2\\classifier\\Model\\datasets\\diacritics\\images\\validation\\disgracier.tiff has no bounding boxes labels\n",
      "wandb: WARNING Image: C:\\Studium\\Semester5\\DSPRO2\\DSPOR2\\classifier\\Model\\datasets\\diacritics\\images\\validation\\foulants.tiff has no bounding boxes labels\n",
      "wandb: WARNING Image: C:\\Studium\\Semester5\\DSPRO2\\DSPOR2\\classifier\\Model\\datasets\\diacritics\\images\\validation\\clapotiez.tiff has no bounding boxes labels\n",
      "wandb: WARNING Image: C:\\Studium\\Semester5\\DSPRO2\\DSPOR2\\classifier\\Model\\datasets\\diacritics\\images\\validation\\crociques.tiff has no bounding boxes labels\n",
      "wandb: WARNING Image: C:\\Studium\\Semester5\\DSPRO2\\DSPOR2\\classifier\\Model\\datasets\\diacritics\\images\\validation\\hiassent.tiff has no bounding boxes labels\n",
      "wandb: WARNING Image: C:\\Studium\\Semester5\\DSPRO2\\DSPOR2\\classifier\\Model\\datasets\\diacritics\\images\\validation\\bouzilla.tiff has no bounding boxes labels\n",
      "wandb: WARNING Image: C:\\Studium\\Semester5\\DSPRO2\\DSPOR2\\classifier\\Model\\datasets\\diacritics\\images\\validation\\bicravai.tiff has no bounding boxes labels\n",
      "wandb: WARNING Image: C:\\Studium\\Semester5\\DSPRO2\\DSPOR2\\classifier\\Model\\datasets\\diacritics\\images\\validation\\germaine.tiff has no bounding boxes labels\n",
      "wandb: WARNING Image: C:\\Studium\\Semester5\\DSPRO2\\DSPOR2\\classifier\\Model\\datasets\\diacritics\\images\\validation\\apurera.tiff has no bounding boxes labels\n",
      "wandb: WARNING Image: C:\\Studium\\Semester5\\DSPRO2\\DSPOR2\\classifier\\Model\\datasets\\diacritics\\images\\validation\\groupiste.tiff has no bounding boxes labels\n",
      "wandb: WARNING Image: C:\\Studium\\Semester5\\DSPRO2\\DSPOR2\\classifier\\Model\\datasets\\diacritics\\images\\validation\\ressayiez.tiff has no bounding boxes labels\n",
      "wandb: WARNING Image: C:\\Studium\\Semester5\\DSPRO2\\DSPOR2\\classifier\\Model\\datasets\\diacritics\\images\\validation\\fructifia.tiff has no bounding boxes labels\n",
      "wandb: WARNING Image: C:\\Studium\\Semester5\\DSPRO2\\DSPOR2\\classifier\\Model\\datasets\\diacritics\\images\\validation\\tinterez.tiff has no bounding boxes labels\n",
      "wandb: WARNING Image: C:\\Studium\\Semester5\\DSPRO2\\DSPOR2\\classifier\\Model\\datasets\\diacritics\\images\\validation\\imagions.tiff has no bounding boxes labels\n",
      "wandb: WARNING Image: C:\\Studium\\Semester5\\DSPRO2\\DSPOR2\\classifier\\Model\\datasets\\diacritics\\images\\validation\\duperont.tiff has no bounding boxes labels\n"
     ]
    },
    {
     "name": "stdout",
     "output_type": "stream",
     "text": [
      "\n",
      "      Epoch    GPU_mem   box_loss   cls_loss   dfl_loss  Instances       Size\n"
     ]
    },
    {
     "name": "stderr",
     "output_type": "stream",
     "text": [
      "      7/100       1.6G     0.7698     0.4276     0.7982         68        256: 100%|██████████| 250/250 [02:18<00:00,  1.81it/s]\n",
      "                 Class     Images  Instances      Box(P          R      mAP50  mAP50-95): 100%|██████████| 16/16 [00:07<00:00,  2.20it/s]\n"
     ]
    },
    {
     "name": "stdout",
     "output_type": "stream",
     "text": [
      "                   all       1999       1196      0.991      0.982      0.994      0.756\n"
     ]
    },
    {
     "data": {
      "text/plain": "Generating Visualizations for batch-1/1:   0%|          | 0/128 [00:00<?, ?it/s]",
      "application/vnd.jupyter.widget-view+json": {
       "version_major": 2,
       "version_minor": 0,
       "model_id": "0543453bc4fe4c2ab99debe28655325f"
      }
     },
     "metadata": {},
     "output_type": "display_data"
    },
    {
     "name": "stderr",
     "output_type": "stream",
     "text": [
      "wandb: WARNING Image: C:\\Studium\\Semester5\\DSPRO2\\DSPOR2\\classifier\\Model\\datasets\\diacritics\\images\\validation\\relançant.tiff has no bounding boxes labels\n",
      "wandb: WARNING Image: C:\\Studium\\Semester5\\DSPRO2\\DSPOR2\\classifier\\Model\\datasets\\diacritics\\images\\validation\\efforcez.tiff has no bounding boxes labels\n",
      "wandb: WARNING Image: C:\\Studium\\Semester5\\DSPRO2\\DSPOR2\\classifier\\Model\\datasets\\diacritics\\images\\validation\\hyperfins.tiff has no bounding boxes labels\n",
      "wandb: WARNING Image: C:\\Studium\\Semester5\\DSPRO2\\DSPOR2\\classifier\\Model\\datasets\\diacritics\\images\\validation\\appuient.tiff has no bounding boxes labels\n",
      "wandb: WARNING Image: C:\\Studium\\Semester5\\DSPRO2\\DSPOR2\\classifier\\Model\\datasets\\diacritics\\images\\validation\\imberbe.tiff has no bounding boxes labels\n",
      "wandb: WARNING Image: C:\\Studium\\Semester5\\DSPRO2\\DSPOR2\\classifier\\Model\\datasets\\diacritics\\images\\validation\\saluant.tiff has no bounding boxes labels\n",
      "wandb: WARNING Image: C:\\Studium\\Semester5\\DSPRO2\\DSPOR2\\classifier\\Model\\datasets\\diacritics\\images\\validation\\crashes.tiff has no bounding boxes labels\n",
      "wandb: WARNING Image: C:\\Studium\\Semester5\\DSPRO2\\DSPOR2\\classifier\\Model\\datasets\\diacritics\\images\\validation\\nullifient.tiff has no bounding boxes labels\n",
      "wandb: WARNING Image: C:\\Studium\\Semester5\\DSPRO2\\DSPOR2\\classifier\\Model\\datasets\\diacritics\\images\\validation\\angariant.tiff has no bounding boxes labels\n",
      "wandb: WARNING Image: C:\\Studium\\Semester5\\DSPRO2\\DSPOR2\\classifier\\Model\\datasets\\diacritics\\images\\validation\\iriseriez.tiff has no bounding boxes labels\n",
      "wandb: WARNING Image: C:\\Studium\\Semester5\\DSPRO2\\DSPOR2\\classifier\\Model\\datasets\\diacritics\\images\\validation\\supposiez.tiff has no bounding boxes labels\n",
      "wandb: WARNING Image: C:\\Studium\\Semester5\\DSPRO2\\DSPOR2\\classifier\\Model\\datasets\\diacritics\\images\\validation\\doucira.tiff has no bounding boxes labels\n",
      "wandb: WARNING Image: C:\\Studium\\Semester5\\DSPRO2\\DSPOR2\\classifier\\Model\\datasets\\diacritics\\images\\validation\\invagines.tiff has no bounding boxes labels\n",
      "wandb: WARNING Image: C:\\Studium\\Semester5\\DSPRO2\\DSPOR2\\classifier\\Model\\datasets\\diacritics\\images\\validation\\syriaques.tiff has no bounding boxes labels\n",
      "wandb: WARNING Image: C:\\Studium\\Semester5\\DSPRO2\\DSPOR2\\classifier\\Model\\datasets\\diacritics\\images\\validation\\bagueras.tiff has no bounding boxes labels\n",
      "wandb: WARNING Image: C:\\Studium\\Semester5\\DSPRO2\\DSPOR2\\classifier\\Model\\datasets\\diacritics\\images\\validation\\fagotasse.tiff has no bounding boxes labels\n",
      "wandb: WARNING Image: C:\\Studium\\Semester5\\DSPRO2\\DSPOR2\\classifier\\Model\\datasets\\diacritics\\images\\validation\\perdurais.tiff has no bounding boxes labels\n",
      "wandb: WARNING Image: C:\\Studium\\Semester5\\DSPRO2\\DSPOR2\\classifier\\Model\\datasets\\diacritics\\images\\validation\\engerbes.tiff has no bounding boxes labels\n",
      "wandb: WARNING Image: C:\\Studium\\Semester5\\DSPRO2\\DSPOR2\\classifier\\Model\\datasets\\diacritics\\images\\validation\\parazoise.tiff has no bounding boxes labels\n",
      "wandb: WARNING Image: C:\\Studium\\Semester5\\DSPRO2\\DSPOR2\\classifier\\Model\\datasets\\diacritics\\images\\validation\\putasses.tiff has no bounding boxes labels\n",
      "wandb: WARNING Image: C:\\Studium\\Semester5\\DSPRO2\\DSPOR2\\classifier\\Model\\datasets\\diacritics\\images\\validation\\dialoguas.tiff has no bounding boxes labels\n",
      "wandb: WARNING Image: C:\\Studium\\Semester5\\DSPRO2\\DSPOR2\\classifier\\Model\\datasets\\diacritics\\images\\validation\\comices.tiff has no bounding boxes labels\n",
      "wandb: WARNING Image: C:\\Studium\\Semester5\\DSPRO2\\DSPOR2\\classifier\\Model\\datasets\\diacritics\\images\\validation\\profilions.tiff has no bounding boxes labels\n",
      "wandb: WARNING Image: C:\\Studium\\Semester5\\DSPRO2\\DSPOR2\\classifier\\Model\\datasets\\diacritics\\images\\validation\\banvins.tiff has no bounding boxes labels\n",
      "wandb: WARNING Image: C:\\Studium\\Semester5\\DSPRO2\\DSPOR2\\classifier\\Model\\datasets\\diacritics\\images\\validation\\arrondît.tiff has no bounding boxes labels\n",
      "wandb: WARNING Image: C:\\Studium\\Semester5\\DSPRO2\\DSPOR2\\classifier\\Model\\datasets\\diacritics\\images\\validation\\focalisa.tiff has no bounding boxes labels\n",
      "wandb: WARNING Image: C:\\Studium\\Semester5\\DSPRO2\\DSPOR2\\classifier\\Model\\datasets\\diacritics\\images\\validation\\topiques.tiff has no bounding boxes labels\n",
      "wandb: WARNING Image: C:\\Studium\\Semester5\\DSPRO2\\DSPOR2\\classifier\\Model\\datasets\\diacritics\\images\\validation\\incliner.tiff has no bounding boxes labels\n",
      "wandb: WARNING Image: C:\\Studium\\Semester5\\DSPRO2\\DSPOR2\\classifier\\Model\\datasets\\diacritics\\images\\validation\\paquant.tiff has no bounding boxes labels\n",
      "wandb: WARNING Image: C:\\Studium\\Semester5\\DSPRO2\\DSPOR2\\classifier\\Model\\datasets\\diacritics\\images\\validation\\projetant.tiff has no bounding boxes labels\n",
      "wandb: WARNING Image: C:\\Studium\\Semester5\\DSPRO2\\DSPOR2\\classifier\\Model\\datasets\\diacritics\\images\\validation\\chokent.tiff has no bounding boxes labels\n",
      "wandb: WARNING Image: C:\\Studium\\Semester5\\DSPRO2\\DSPOR2\\classifier\\Model\\datasets\\diacritics\\images\\validation\\surfilant.tiff has no bounding boxes labels\n",
      "wandb: WARNING Image: C:\\Studium\\Semester5\\DSPRO2\\DSPOR2\\classifier\\Model\\datasets\\diacritics\\images\\validation\\agrariens.tiff has no bounding boxes labels\n",
      "wandb: WARNING Image: C:\\Studium\\Semester5\\DSPRO2\\DSPOR2\\classifier\\Model\\datasets\\diacritics\\images\\validation\\neurale.tiff has no bounding boxes labels\n",
      "wandb: WARNING Image: C:\\Studium\\Semester5\\DSPRO2\\DSPOR2\\classifier\\Model\\datasets\\diacritics\\images\\validation\\gougions.tiff has no bounding boxes labels\n",
      "wandb: WARNING Image: C:\\Studium\\Semester5\\DSPRO2\\DSPOR2\\classifier\\Model\\datasets\\diacritics\\images\\validation\\achoppai.tiff has no bounding boxes labels\n",
      "wandb: WARNING Image: C:\\Studium\\Semester5\\DSPRO2\\DSPOR2\\classifier\\Model\\datasets\\diacritics\\images\\validation\\isogames.tiff has no bounding boxes labels\n",
      "wandb: WARNING Image: C:\\Studium\\Semester5\\DSPRO2\\DSPOR2\\classifier\\Model\\datasets\\diacritics\\images\\validation\\antihalo.tiff has no bounding boxes labels\n",
      "wandb: WARNING Image: C:\\Studium\\Semester5\\DSPRO2\\DSPOR2\\classifier\\Model\\datasets\\diacritics\\images\\validation\\occisais.tiff has no bounding boxes labels\n",
      "wandb: WARNING Image: C:\\Studium\\Semester5\\DSPRO2\\DSPOR2\\classifier\\Model\\datasets\\diacritics\\images\\validation\\pesteriez.tiff has no bounding boxes labels\n",
      "wandb: WARNING Image: C:\\Studium\\Semester5\\DSPRO2\\DSPOR2\\classifier\\Model\\datasets\\diacritics\\images\\validation\\sardines.tiff has no bounding boxes labels\n",
      "wandb: WARNING Image: C:\\Studium\\Semester5\\DSPRO2\\DSPOR2\\classifier\\Model\\datasets\\diacritics\\images\\validation\\cordais.tiff has no bounding boxes labels\n",
      "wandb: WARNING Image: C:\\Studium\\Semester5\\DSPRO2\\DSPOR2\\classifier\\Model\\datasets\\diacritics\\images\\validation\\accompli.tiff has no bounding boxes labels\n",
      "wandb: WARNING Image: C:\\Studium\\Semester5\\DSPRO2\\DSPOR2\\classifier\\Model\\datasets\\diacritics\\images\\validation\\triplasses.tiff has no bounding boxes labels\n",
      "wandb: WARNING Image: C:\\Studium\\Semester5\\DSPRO2\\DSPOR2\\classifier\\Model\\datasets\\diacritics\\images\\validation\\rosser.tiff has no bounding boxes labels\n",
      "wandb: WARNING Image: C:\\Studium\\Semester5\\DSPRO2\\DSPOR2\\classifier\\Model\\datasets\\diacritics\\images\\validation\\grouillez.tiff has no bounding boxes labels\n",
      "wandb: WARNING Image: C:\\Studium\\Semester5\\DSPRO2\\DSPOR2\\classifier\\Model\\datasets\\diacritics\\images\\validation\\persifflait.tiff has no bounding boxes labels\n",
      "wandb: WARNING Image: C:\\Studium\\Semester5\\DSPRO2\\DSPOR2\\classifier\\Model\\datasets\\diacritics\\images\\validation\\griffonnai.tiff has no bounding boxes labels\n",
      "wandb: WARNING Image: C:\\Studium\\Semester5\\DSPRO2\\DSPOR2\\classifier\\Model\\datasets\\diacritics\\images\\validation\\vautrait.tiff has no bounding boxes labels\n",
      "wandb: WARNING Image: C:\\Studium\\Semester5\\DSPRO2\\DSPOR2\\classifier\\Model\\datasets\\diacritics\\images\\validation\\dialysons.tiff has no bounding boxes labels\n",
      "wandb: WARNING Image: C:\\Studium\\Semester5\\DSPRO2\\DSPOR2\\classifier\\Model\\datasets\\diacritics\\images\\validation\\portasse.tiff has no bounding boxes labels\n",
      "wandb: WARNING Image: C:\\Studium\\Semester5\\DSPRO2\\DSPOR2\\classifier\\Model\\datasets\\diacritics\\images\\validation\\virginale.tiff has no bounding boxes labels\n",
      "wandb: WARNING Image: C:\\Studium\\Semester5\\DSPRO2\\DSPOR2\\classifier\\Model\\datasets\\diacritics\\images\\validation\\cossue.tiff has no bounding boxes labels\n",
      "wandb: WARNING Image: C:\\Studium\\Semester5\\DSPRO2\\DSPOR2\\classifier\\Model\\datasets\\diacritics\\images\\validation\\plaisante.tiff has no bounding boxes labels\n",
      "wandb: WARNING Image: C:\\Studium\\Semester5\\DSPRO2\\DSPOR2\\classifier\\Model\\datasets\\diacritics\\images\\validation\\cordent.tiff has no bounding boxes labels\n",
      "wandb: WARNING Image: C:\\Studium\\Semester5\\DSPRO2\\DSPOR2\\classifier\\Model\\datasets\\diacritics\\images\\validation\\officieuse.tiff has no bounding boxes labels\n",
      "wandb: WARNING Image: C:\\Studium\\Semester5\\DSPRO2\\DSPOR2\\classifier\\Model\\datasets\\diacritics\\images\\validation\\snooker.tiff has no bounding boxes labels\n",
      "wandb: WARNING Image: C:\\Studium\\Semester5\\DSPRO2\\DSPOR2\\classifier\\Model\\datasets\\diacritics\\images\\validation\\frisasse.tiff has no bounding boxes labels\n",
      "wandb: WARNING Image: C:\\Studium\\Semester5\\DSPRO2\\DSPOR2\\classifier\\Model\\datasets\\diacritics\\images\\validation\\parerez.tiff has no bounding boxes labels\n"
     ]
    },
    {
     "data": {
      "text/plain": "Generating Visualizations for batch-1/1:   0%|          | 0/128 [00:00<?, ?it/s]",
      "application/vnd.jupyter.widget-view+json": {
       "version_major": 2,
       "version_minor": 0,
       "model_id": "0e2f4a64cd1f4e52805e0356572feb39"
      }
     },
     "metadata": {},
     "output_type": "display_data"
    },
    {
     "name": "stderr",
     "output_type": "stream",
     "text": [
      "wandb: WARNING Image: C:\\Studium\\Semester5\\DSPRO2\\DSPOR2\\classifier\\Model\\datasets\\diacritics\\images\\validation\\flouons.tiff has no bounding boxes labels\n",
      "wandb: WARNING Image: C:\\Studium\\Semester5\\DSPRO2\\DSPOR2\\classifier\\Model\\datasets\\diacritics\\images\\validation\\sud-est.tiff has no bounding boxes labels\n",
      "wandb: WARNING Image: C:\\Studium\\Semester5\\DSPRO2\\DSPOR2\\classifier\\Model\\datasets\\diacritics\\images\\validation\\pacsera.tiff has no bounding boxes labels\n",
      "wandb: WARNING Image: C:\\Studium\\Semester5\\DSPRO2\\DSPOR2\\classifier\\Model\\datasets\\diacritics\\images\\validation\\contigüe.tiff has no bounding boxes labels\n",
      "wandb: WARNING Image: C:\\Studium\\Semester5\\DSPRO2\\DSPOR2\\classifier\\Model\\datasets\\diacritics\\images\\validation\\formez.tiff has no bounding boxes labels\n",
      "wandb: WARNING Image: C:\\Studium\\Semester5\\DSPRO2\\DSPOR2\\classifier\\Model\\datasets\\diacritics\\images\\validation\\redoux.tiff has no bounding boxes labels\n",
      "wandb: WARNING Image: C:\\Studium\\Semester5\\DSPRO2\\DSPOR2\\classifier\\Model\\datasets\\diacritics\\images\\validation\\jerkeront.tiff has no bounding boxes labels\n",
      "wandb: WARNING Image: C:\\Studium\\Semester5\\DSPRO2\\DSPOR2\\classifier\\Model\\datasets\\diacritics\\images\\validation\\songent.tiff has no bounding boxes labels\n",
      "wandb: WARNING Image: C:\\Studium\\Semester5\\DSPRO2\\DSPOR2\\classifier\\Model\\datasets\\diacritics\\images\\validation\\extrayas.tiff has no bounding boxes labels\n",
      "wandb: WARNING Image: C:\\Studium\\Semester5\\DSPRO2\\DSPOR2\\classifier\\Model\\datasets\\diacritics\\images\\validation\\suiveur.tiff has no bounding boxes labels\n",
      "wandb: WARNING Image: C:\\Studium\\Semester5\\DSPRO2\\DSPOR2\\classifier\\Model\\datasets\\diacritics\\images\\validation\\tictaqua.tiff has no bounding boxes labels\n",
      "wandb: WARNING Image: C:\\Studium\\Semester5\\DSPRO2\\DSPOR2\\classifier\\Model\\datasets\\diacritics\\images\\validation\\poignez.tiff has no bounding boxes labels\n",
      "wandb: WARNING Image: C:\\Studium\\Semester5\\DSPRO2\\DSPOR2\\classifier\\Model\\datasets\\diacritics\\images\\validation\\pupipare.tiff has no bounding boxes labels\n",
      "wandb: WARNING Image: C:\\Studium\\Semester5\\DSPRO2\\DSPOR2\\classifier\\Model\\datasets\\diacritics\\images\\validation\\verdoyai.tiff has no bounding boxes labels\n",
      "wandb: WARNING Image: C:\\Studium\\Semester5\\DSPRO2\\DSPOR2\\classifier\\Model\\datasets\\diacritics\\images\\validation\\strictes.tiff has no bounding boxes labels\n",
      "wandb: WARNING Image: C:\\Studium\\Semester5\\DSPRO2\\DSPOR2\\classifier\\Model\\datasets\\diacritics\\images\\validation\\miserai.tiff has no bounding boxes labels\n",
      "wandb: WARNING Image: C:\\Studium\\Semester5\\DSPRO2\\DSPOR2\\classifier\\Model\\datasets\\diacritics\\images\\validation\\analyste.tiff has no bounding boxes labels\n",
      "wandb: WARNING Image: C:\\Studium\\Semester5\\DSPRO2\\DSPOR2\\classifier\\Model\\datasets\\diacritics\\images\\validation\\trottinai.tiff has no bounding boxes labels\n",
      "wandb: WARNING Image: C:\\Studium\\Semester5\\DSPRO2\\DSPOR2\\classifier\\Model\\datasets\\diacritics\\images\\validation\\rouleau.tiff has no bounding boxes labels\n",
      "wandb: WARNING Image: C:\\Studium\\Semester5\\DSPRO2\\DSPOR2\\classifier\\Model\\datasets\\diacritics\\images\\validation\\victoire.tiff has no bounding boxes labels\n",
      "wandb: WARNING Image: C:\\Studium\\Semester5\\DSPRO2\\DSPOR2\\classifier\\Model\\datasets\\diacritics\\images\\validation\\shoguns.tiff has no bounding boxes labels\n",
      "wandb: WARNING Image: C:\\Studium\\Semester5\\DSPRO2\\DSPOR2\\classifier\\Model\\datasets\\diacritics\\images\\validation\\tarerait.tiff has no bounding boxes labels\n",
      "wandb: WARNING Image: C:\\Studium\\Semester5\\DSPRO2\\DSPOR2\\classifier\\Model\\datasets\\diacritics\\images\\validation\\cylindras.tiff has no bounding boxes labels\n",
      "wandb: WARNING Image: C:\\Studium\\Semester5\\DSPRO2\\DSPOR2\\classifier\\Model\\datasets\\diacritics\\images\\validation\\puiseras.tiff has no bounding boxes labels\n",
      "wandb: WARNING Image: C:\\Studium\\Semester5\\DSPRO2\\DSPOR2\\classifier\\Model\\datasets\\diacritics\\images\\validation\\cafarda.tiff has no bounding boxes labels\n",
      "wandb: WARNING Image: C:\\Studium\\Semester5\\DSPRO2\\DSPOR2\\classifier\\Model\\datasets\\diacritics\\images\\validation\\repairais.tiff has no bounding boxes labels\n",
      "wandb: WARNING Image: C:\\Studium\\Semester5\\DSPRO2\\DSPOR2\\classifier\\Model\\datasets\\diacritics\\images\\validation\\fricatifs.tiff has no bounding boxes labels\n",
      "wandb: WARNING Image: C:\\Studium\\Semester5\\DSPRO2\\DSPOR2\\classifier\\Model\\datasets\\diacritics\\images\\validation\\iriserait.tiff has no bounding boxes labels\n",
      "wandb: WARNING Image: C:\\Studium\\Semester5\\DSPRO2\\DSPOR2\\classifier\\Model\\datasets\\diacritics\\images\\validation\\radiatifs.tiff has no bounding boxes labels\n",
      "wandb: WARNING Image: C:\\Studium\\Semester5\\DSPRO2\\DSPOR2\\classifier\\Model\\datasets\\diacritics\\images\\validation\\payeur.tiff has no bounding boxes labels\n",
      "wandb: WARNING Image: C:\\Studium\\Semester5\\DSPRO2\\DSPOR2\\classifier\\Model\\datasets\\diacritics\\images\\validation\\talquera.tiff has no bounding boxes labels\n",
      "wandb: WARNING Image: C:\\Studium\\Semester5\\DSPRO2\\DSPOR2\\classifier\\Model\\datasets\\diacritics\\images\\validation\\octroyait.tiff has no bounding boxes labels\n",
      "wandb: WARNING Image: C:\\Studium\\Semester5\\DSPRO2\\DSPOR2\\classifier\\Model\\datasets\\diacritics\\images\\validation\\adoras.tiff has no bounding boxes labels\n",
      "wandb: WARNING Image: C:\\Studium\\Semester5\\DSPRO2\\DSPOR2\\classifier\\Model\\datasets\\diacritics\\images\\validation\\passives.tiff has no bounding boxes labels\n",
      "wandb: WARNING Image: C:\\Studium\\Semester5\\DSPRO2\\DSPOR2\\classifier\\Model\\datasets\\diacritics\\images\\validation\\tsarine.tiff has no bounding boxes labels\n",
      "wandb: WARNING Image: C:\\Studium\\Semester5\\DSPRO2\\DSPOR2\\classifier\\Model\\datasets\\diacritics\\images\\validation\\soufies.tiff has no bounding boxes labels\n",
      "wandb: WARNING Image: C:\\Studium\\Semester5\\DSPRO2\\DSPOR2\\classifier\\Model\\datasets\\diacritics\\images\\validation\\avorte.tiff has no bounding boxes labels\n",
      "wandb: WARNING Image: C:\\Studium\\Semester5\\DSPRO2\\DSPOR2\\classifier\\Model\\datasets\\diacritics\\images\\validation\\inspectai.tiff has no bounding boxes labels\n",
      "wandb: WARNING Image: C:\\Studium\\Semester5\\DSPRO2\\DSPOR2\\classifier\\Model\\datasets\\diacritics\\images\\validation\\interdît.tiff has no bounding boxes labels\n",
      "wandb: WARNING Image: C:\\Studium\\Semester5\\DSPRO2\\DSPOR2\\classifier\\Model\\datasets\\diacritics\\images\\validation\\confier.tiff has no bounding boxes labels\n",
      "wandb: WARNING Image: C:\\Studium\\Semester5\\DSPRO2\\DSPOR2\\classifier\\Model\\datasets\\diacritics\\images\\validation\\rinçaient.tiff has no bounding boxes labels\n",
      "wandb: WARNING Image: C:\\Studium\\Semester5\\DSPRO2\\DSPOR2\\classifier\\Model\\datasets\\diacritics\\images\\validation\\mi-bas.tiff has no bounding boxes labels\n",
      "wandb: WARNING Image: C:\\Studium\\Semester5\\DSPRO2\\DSPOR2\\classifier\\Model\\datasets\\diacritics\\images\\validation\\fortifie.tiff has no bounding boxes labels\n",
      "wandb: WARNING Image: C:\\Studium\\Semester5\\DSPRO2\\DSPOR2\\classifier\\Model\\datasets\\diacritics\\images\\validation\\fartera.tiff has no bounding boxes labels\n",
      "wandb: WARNING Image: C:\\Studium\\Semester5\\DSPRO2\\DSPOR2\\classifier\\Model\\datasets\\diacritics\\images\\validation\\enfiellai.tiff has no bounding boxes labels\n",
      "wandb: WARNING Image: C:\\Studium\\Semester5\\DSPRO2\\DSPOR2\\classifier\\Model\\datasets\\diacritics\\images\\validation\\cureta.tiff has no bounding boxes labels\n",
      "wandb: WARNING Image: C:\\Studium\\Semester5\\DSPRO2\\DSPOR2\\classifier\\Model\\datasets\\diacritics\\images\\validation\\cracha.tiff has no bounding boxes labels\n",
      "wandb: WARNING Image: C:\\Studium\\Semester5\\DSPRO2\\DSPOR2\\classifier\\Model\\datasets\\diacritics\\images\\validation\\hordes.tiff has no bounding boxes labels\n",
      "wandb: WARNING Image: C:\\Studium\\Semester5\\DSPRO2\\DSPOR2\\classifier\\Model\\datasets\\diacritics\\images\\validation\\engobes.tiff has no bounding boxes labels\n",
      "wandb: WARNING Image: C:\\Studium\\Semester5\\DSPRO2\\DSPOR2\\classifier\\Model\\datasets\\diacritics\\images\\validation\\oronge.tiff has no bounding boxes labels\n",
      "wandb: WARNING Image: C:\\Studium\\Semester5\\DSPRO2\\DSPOR2\\classifier\\Model\\datasets\\diacritics\\images\\validation\\convie.tiff has no bounding boxes labels\n",
      "wandb: WARNING Image: C:\\Studium\\Semester5\\DSPRO2\\DSPOR2\\classifier\\Model\\datasets\\diacritics\\images\\validation\\squaws.tiff has no bounding boxes labels\n",
      "wandb: WARNING Image: C:\\Studium\\Semester5\\DSPRO2\\DSPOR2\\classifier\\Model\\datasets\\diacritics\\images\\validation\\vampas.tiff has no bounding boxes labels\n",
      "wandb: WARNING Image: C:\\Studium\\Semester5\\DSPRO2\\DSPOR2\\classifier\\Model\\datasets\\diacritics\\images\\validation\\sculptes.tiff has no bounding boxes labels\n",
      "wandb: WARNING Image: C:\\Studium\\Semester5\\DSPRO2\\DSPOR2\\classifier\\Model\\datasets\\diacritics\\images\\validation\\otitique.tiff has no bounding boxes labels\n",
      "wandb: WARNING Image: C:\\Studium\\Semester5\\DSPRO2\\DSPOR2\\classifier\\Model\\datasets\\diacritics\\images\\validation\\triticine.tiff has no bounding boxes labels\n",
      "wandb: WARNING Image: C:\\Studium\\Semester5\\DSPRO2\\DSPOR2\\classifier\\Model\\datasets\\diacritics\\images\\validation\\bottiez.tiff has no bounding boxes labels\n",
      "wandb: WARNING Image: C:\\Studium\\Semester5\\DSPRO2\\DSPOR2\\classifier\\Model\\datasets\\diacritics\\images\\validation\\snobas.tiff has no bounding boxes labels\n",
      "wandb: WARNING Image: C:\\Studium\\Semester5\\DSPRO2\\DSPOR2\\classifier\\Model\\datasets\\diacritics\\images\\validation\\parierait.tiff has no bounding boxes labels\n",
      "wandb: WARNING Image: C:\\Studium\\Semester5\\DSPRO2\\DSPOR2\\classifier\\Model\\datasets\\diacritics\\images\\validation\\retoqua.tiff has no bounding boxes labels\n",
      "wandb: WARNING Image: C:\\Studium\\Semester5\\DSPRO2\\DSPOR2\\classifier\\Model\\datasets\\diacritics\\images\\validation\\padines.tiff has no bounding boxes labels\n",
      "wandb: WARNING Image: C:\\Studium\\Semester5\\DSPRO2\\DSPOR2\\classifier\\Model\\datasets\\diacritics\\images\\validation\\tirions.tiff has no bounding boxes labels\n",
      "wandb: WARNING Image: C:\\Studium\\Semester5\\DSPRO2\\DSPOR2\\classifier\\Model\\datasets\\diacritics\\images\\validation\\humes.tiff has no bounding boxes labels\n",
      "wandb: WARNING Image: C:\\Studium\\Semester5\\DSPRO2\\DSPOR2\\classifier\\Model\\datasets\\diacritics\\images\\validation\\broutai.tiff has no bounding boxes labels\n",
      "wandb: WARNING Image: C:\\Studium\\Semester5\\DSPRO2\\DSPOR2\\classifier\\Model\\datasets\\diacritics\\images\\validation\\bistros.tiff has no bounding boxes labels\n"
     ]
    },
    {
     "name": "stdout",
     "output_type": "stream",
     "text": [
      "\n",
      "      Epoch    GPU_mem   box_loss   cls_loss   dfl_loss  Instances       Size\n"
     ]
    },
    {
     "name": "stderr",
     "output_type": "stream",
     "text": [
      "      8/100      1.61G     0.7263       0.41      0.794         73        256: 100%|██████████| 250/250 [02:17<00:00,  1.82it/s]\n",
      "                 Class     Images  Instances      Box(P          R      mAP50  mAP50-95): 100%|██████████| 16/16 [00:07<00:00,  2.18it/s]\n"
     ]
    },
    {
     "name": "stdout",
     "output_type": "stream",
     "text": [
      "                   all       1999       1196      0.977      0.968      0.991      0.802\n"
     ]
    },
    {
     "data": {
      "text/plain": "Generating Visualizations for batch-1/1:   0%|          | 0/128 [00:00<?, ?it/s]",
      "application/vnd.jupyter.widget-view+json": {
       "version_major": 2,
       "version_minor": 0,
       "model_id": "c3d5f05da5bf45b488003e628595300b"
      }
     },
     "metadata": {},
     "output_type": "display_data"
    },
    {
     "name": "stderr",
     "output_type": "stream",
     "text": [
      "wandb: WARNING Image: C:\\Studium\\Semester5\\DSPRO2\\DSPOR2\\classifier\\Model\\datasets\\diacritics\\images\\validation\\droguait.tiff has no bounding boxes labels\n",
      "wandb: WARNING Image: C:\\Studium\\Semester5\\DSPRO2\\DSPOR2\\classifier\\Model\\datasets\\diacritics\\images\\validation\\pacifiais.tiff has no bounding boxes labels\n",
      "wandb: WARNING Image: C:\\Studium\\Semester5\\DSPRO2\\DSPOR2\\classifier\\Model\\datasets\\diacritics\\images\\validation\\affluer.tiff has no bounding boxes labels\n",
      "wandb: WARNING Image: C:\\Studium\\Semester5\\DSPRO2\\DSPOR2\\classifier\\Model\\datasets\\diacritics\\images\\validation\\indiquai.tiff has no bounding boxes labels\n",
      "wandb: WARNING Image: C:\\Studium\\Semester5\\DSPRO2\\DSPOR2\\classifier\\Model\\datasets\\diacritics\\images\\validation\\signons.tiff has no bounding boxes labels\n",
      "wandb: WARNING Image: C:\\Studium\\Semester5\\DSPRO2\\DSPOR2\\classifier\\Model\\datasets\\diacritics\\images\\validation\\libellez.tiff has no bounding boxes labels\n",
      "wandb: WARNING Image: C:\\Studium\\Semester5\\DSPRO2\\DSPOR2\\classifier\\Model\\datasets\\diacritics\\images\\validation\\starter.tiff has no bounding boxes labels\n",
      "wandb: WARNING Image: C:\\Studium\\Semester5\\DSPRO2\\DSPOR2\\classifier\\Model\\datasets\\diacritics\\images\\validation\\labour.tiff has no bounding boxes labels\n",
      "wandb: WARNING Image: C:\\Studium\\Semester5\\DSPRO2\\DSPOR2\\classifier\\Model\\datasets\\diacritics\\images\\validation\\wikifia.tiff has no bounding boxes labels\n",
      "wandb: WARNING Image: C:\\Studium\\Semester5\\DSPRO2\\DSPOR2\\classifier\\Model\\datasets\\diacritics\\images\\validation\\mufles.tiff has no bounding boxes labels\n",
      "wandb: WARNING Image: C:\\Studium\\Semester5\\DSPRO2\\DSPOR2\\classifier\\Model\\datasets\\diacritics\\images\\validation\\biguinai.tiff has no bounding boxes labels\n",
      "wandb: WARNING Image: C:\\Studium\\Semester5\\DSPRO2\\DSPOR2\\classifier\\Model\\datasets\\diacritics\\images\\validation\\ballast.tiff has no bounding boxes labels\n",
      "wandb: WARNING Image: C:\\Studium\\Semester5\\DSPRO2\\DSPOR2\\classifier\\Model\\datasets\\diacritics\\images\\validation\\leptons.tiff has no bounding boxes labels\n",
      "wandb: WARNING Image: C:\\Studium\\Semester5\\DSPRO2\\DSPOR2\\classifier\\Model\\datasets\\diacritics\\images\\validation\\perses.tiff has no bounding boxes labels\n",
      "wandb: WARNING Image: C:\\Studium\\Semester5\\DSPRO2\\DSPOR2\\classifier\\Model\\datasets\\diacritics\\images\\validation\\protides.tiff has no bounding boxes labels\n",
      "wandb: WARNING Image: C:\\Studium\\Semester5\\DSPRO2\\DSPOR2\\classifier\\Model\\datasets\\diacritics\\images\\validation\\spathifie.tiff has no bounding boxes labels\n",
      "wandb: WARNING Image: C:\\Studium\\Semester5\\DSPRO2\\DSPOR2\\classifier\\Model\\datasets\\diacritics\\images\\validation\\poquais.tiff has no bounding boxes labels\n",
      "wandb: WARNING Image: C:\\Studium\\Semester5\\DSPRO2\\DSPOR2\\classifier\\Model\\datasets\\diacritics\\images\\validation\\lutteur.tiff has no bounding boxes labels\n",
      "wandb: WARNING Image: C:\\Studium\\Semester5\\DSPRO2\\DSPOR2\\classifier\\Model\\datasets\\diacritics\\images\\validation\\nullifiai.tiff has no bounding boxes labels\n",
      "wandb: WARNING Image: C:\\Studium\\Semester5\\DSPRO2\\DSPOR2\\classifier\\Model\\datasets\\diacritics\\images\\validation\\servira.tiff has no bounding boxes labels\n",
      "wandb: WARNING Image: C:\\Studium\\Semester5\\DSPRO2\\DSPOR2\\classifier\\Model\\datasets\\diacritics\\images\\validation\\voilais.tiff has no bounding boxes labels\n",
      "wandb: WARNING Image: C:\\Studium\\Semester5\\DSPRO2\\DSPOR2\\classifier\\Model\\datasets\\diacritics\\images\\validation\\houari.tiff has no bounding boxes labels\n",
      "wandb: WARNING Image: C:\\Studium\\Semester5\\DSPRO2\\DSPOR2\\classifier\\Model\\datasets\\diacritics\\images\\validation\\codait.tiff has no bounding boxes labels\n",
      "wandb: WARNING Image: C:\\Studium\\Semester5\\DSPRO2\\DSPOR2\\classifier\\Model\\datasets\\diacritics\\images\\validation\\olympe.tiff has no bounding boxes labels\n",
      "wandb: WARNING Image: C:\\Studium\\Semester5\\DSPRO2\\DSPOR2\\classifier\\Model\\datasets\\diacritics\\images\\validation\\profiliez.tiff has no bounding boxes labels\n",
      "wandb: WARNING Image: C:\\Studium\\Semester5\\DSPRO2\\DSPOR2\\classifier\\Model\\datasets\\diacritics\\images\\validation\\gonflais.tiff has no bounding boxes labels\n",
      "wandb: WARNING Image: C:\\Studium\\Semester5\\DSPRO2\\DSPOR2\\classifier\\Model\\datasets\\diacritics\\images\\validation\\jazzent.tiff has no bounding boxes labels\n",
      "wandb: WARNING Image: C:\\Studium\\Semester5\\DSPRO2\\DSPOR2\\classifier\\Model\\datasets\\diacritics\\images\\validation\\purifiait.tiff has no bounding boxes labels\n",
      "wandb: WARNING Image: C:\\Studium\\Semester5\\DSPRO2\\DSPOR2\\classifier\\Model\\datasets\\diacritics\\images\\validation\\verbal.tiff has no bounding boxes labels\n",
      "wandb: WARNING Image: C:\\Studium\\Semester5\\DSPRO2\\DSPOR2\\classifier\\Model\\datasets\\diacritics\\images\\validation\\rejouas.tiff has no bounding boxes labels\n",
      "wandb: WARNING Image: C:\\Studium\\Semester5\\DSPRO2\\DSPOR2\\classifier\\Model\\datasets\\diacritics\\images\\validation\\incube.tiff has no bounding boxes labels\n",
      "wandb: WARNING Image: C:\\Studium\\Semester5\\DSPRO2\\DSPOR2\\classifier\\Model\\datasets\\diacritics\\images\\validation\\poivras.tiff has no bounding boxes labels\n",
      "wandb: WARNING Image: C:\\Studium\\Semester5\\DSPRO2\\DSPOR2\\classifier\\Model\\datasets\\diacritics\\images\\validation\\cafteras.tiff has no bounding boxes labels\n",
      "wandb: WARNING Image: C:\\Studium\\Semester5\\DSPRO2\\DSPOR2\\classifier\\Model\\datasets\\diacritics\\images\\validation\\traquet.tiff has no bounding boxes labels\n",
      "wandb: WARNING Image: C:\\Studium\\Semester5\\DSPRO2\\DSPOR2\\classifier\\Model\\datasets\\diacritics\\images\\validation\\cadrer.tiff has no bounding boxes labels\n",
      "wandb: WARNING Image: C:\\Studium\\Semester5\\DSPRO2\\DSPOR2\\classifier\\Model\\datasets\\diacritics\\images\\validation\\asinez.tiff has no bounding boxes labels\n",
      "wandb: WARNING Image: C:\\Studium\\Semester5\\DSPRO2\\DSPOR2\\classifier\\Model\\datasets\\diacritics\\images\\validation\\ploiera.tiff has no bounding boxes labels\n",
      "wandb: WARNING Image: C:\\Studium\\Semester5\\DSPRO2\\DSPOR2\\classifier\\Model\\datasets\\diacritics\\images\\validation\\gardon.tiff has no bounding boxes labels\n",
      "wandb: WARNING Image: C:\\Studium\\Semester5\\DSPRO2\\DSPOR2\\classifier\\Model\\datasets\\diacritics\\images\\validation\\rotent.tiff has no bounding boxes labels\n",
      "wandb: WARNING Image: C:\\Studium\\Semester5\\DSPRO2\\DSPOR2\\classifier\\Model\\datasets\\diacritics\\images\\validation\\exigeait.tiff has no bounding boxes labels\n",
      "wandb: WARNING Image: C:\\Studium\\Semester5\\DSPRO2\\DSPOR2\\classifier\\Model\\datasets\\diacritics\\images\\validation\\gabelez.tiff has no bounding boxes labels\n",
      "wandb: WARNING Image: C:\\Studium\\Semester5\\DSPRO2\\DSPOR2\\classifier\\Model\\datasets\\diacritics\\images\\validation\\laquant.tiff has no bounding boxes labels\n",
      "wandb: WARNING Image: C:\\Studium\\Semester5\\DSPRO2\\DSPOR2\\classifier\\Model\\datasets\\diacritics\\images\\validation\\wampis.tiff has no bounding boxes labels\n",
      "wandb: WARNING Image: C:\\Studium\\Semester5\\DSPRO2\\DSPOR2\\classifier\\Model\\datasets\\diacritics\\images\\validation\\clavait.tiff has no bounding boxes labels\n",
      "wandb: WARNING Image: C:\\Studium\\Semester5\\DSPRO2\\DSPOR2\\classifier\\Model\\datasets\\diacritics\\images\\validation\\doigtes.tiff has no bounding boxes labels\n",
      "wandb: WARNING Image: C:\\Studium\\Semester5\\DSPRO2\\DSPOR2\\classifier\\Model\\datasets\\diacritics\\images\\validation\\langota.tiff has no bounding boxes labels\n",
      "wandb: WARNING Image: C:\\Studium\\Semester5\\DSPRO2\\DSPOR2\\classifier\\Model\\datasets\\diacritics\\images\\validation\\majora.tiff has no bounding boxes labels\n",
      "wandb: WARNING Image: C:\\Studium\\Semester5\\DSPRO2\\DSPOR2\\classifier\\Model\\datasets\\diacritics\\images\\validation\\affiliais.tiff has no bounding boxes labels\n",
      "wandb: WARNING Image: C:\\Studium\\Semester5\\DSPRO2\\DSPOR2\\classifier\\Model\\datasets\\diacritics\\images\\validation\\chopez.tiff has no bounding boxes labels\n",
      "wandb: WARNING Image: C:\\Studium\\Semester5\\DSPRO2\\DSPOR2\\classifier\\Model\\datasets\\diacritics\\images\\validation\\alitent.tiff has no bounding boxes labels\n",
      "wandb: WARNING Image: C:\\Studium\\Semester5\\DSPRO2\\DSPOR2\\classifier\\Model\\datasets\\diacritics\\images\\validation\\cuirait.tiff has no bounding boxes labels\n",
      "wandb: WARNING Image: C:\\Studium\\Semester5\\DSPRO2\\DSPOR2\\classifier\\Model\\datasets\\diacritics\\images\\validation\\dures.tiff has no bounding boxes labels\n",
      "wandb: WARNING Image: C:\\Studium\\Semester5\\DSPRO2\\DSPOR2\\classifier\\Model\\datasets\\diacritics\\images\\validation\\pontez.tiff has no bounding boxes labels\n",
      "wandb: WARNING Image: C:\\Studium\\Semester5\\DSPRO2\\DSPOR2\\classifier\\Model\\datasets\\diacritics\\images\\validation\\pentes.tiff has no bounding boxes labels\n",
      "wandb: WARNING Image: C:\\Studium\\Semester5\\DSPRO2\\DSPOR2\\classifier\\Model\\datasets\\diacritics\\images\\validation\\billiez.tiff has no bounding boxes labels\n",
      "wandb: WARNING Image: C:\\Studium\\Semester5\\DSPRO2\\DSPOR2\\classifier\\Model\\datasets\\diacritics\\images\\validation\\rouffles.tiff has no bounding boxes labels\n",
      "wandb: WARNING Image: C:\\Studium\\Semester5\\DSPRO2\\DSPOR2\\classifier\\Model\\datasets\\diacritics\\images\\validation\\portes.tiff has no bounding boxes labels\n",
      "wandb: WARNING Image: C:\\Studium\\Semester5\\DSPRO2\\DSPOR2\\classifier\\Model\\datasets\\diacritics\\images\\validation\\bleuir.tiff has no bounding boxes labels\n",
      "wandb: WARNING Image: C:\\Studium\\Semester5\\DSPRO2\\DSPOR2\\classifier\\Model\\datasets\\diacritics\\images\\validation\\crispes.tiff has no bounding boxes labels\n",
      "wandb: WARNING Image: C:\\Studium\\Semester5\\DSPRO2\\DSPOR2\\classifier\\Model\\datasets\\diacritics\\images\\validation\\aplome.tiff has no bounding boxes labels\n",
      "wandb: WARNING Image: C:\\Studium\\Semester5\\DSPRO2\\DSPOR2\\classifier\\Model\\datasets\\diacritics\\images\\validation\\strike.tiff has no bounding boxes labels\n",
      "wandb: WARNING Image: C:\\Studium\\Semester5\\DSPRO2\\DSPOR2\\classifier\\Model\\datasets\\diacritics\\images\\validation\\chaut.tiff has no bounding boxes labels\n",
      "wandb: WARNING Image: C:\\Studium\\Semester5\\DSPRO2\\DSPOR2\\classifier\\Model\\datasets\\diacritics\\images\\validation\\visant.tiff has no bounding boxes labels\n",
      "wandb: WARNING Image: C:\\Studium\\Semester5\\DSPRO2\\DSPOR2\\classifier\\Model\\datasets\\diacritics\\images\\validation\\rejoint.tiff has no bounding boxes labels\n",
      "wandb: WARNING Image: C:\\Studium\\Semester5\\DSPRO2\\DSPOR2\\classifier\\Model\\datasets\\diacritics\\images\\validation\\staffe.tiff has no bounding boxes labels\n",
      "wandb: WARNING Image: C:\\Studium\\Semester5\\DSPRO2\\DSPOR2\\classifier\\Model\\datasets\\diacritics\\images\\validation\\ingrats.tiff has no bounding boxes labels\n",
      "wandb: WARNING Image: C:\\Studium\\Semester5\\DSPRO2\\DSPOR2\\classifier\\Model\\datasets\\diacritics\\images\\validation\\tapons.tiff has no bounding boxes labels\n",
      "wandb: WARNING Image: C:\\Studium\\Semester5\\DSPRO2\\DSPOR2\\classifier\\Model\\datasets\\diacritics\\images\\validation\\perdre.tiff has no bounding boxes labels\n"
     ]
    },
    {
     "data": {
      "text/plain": "Generating Visualizations for batch-1/1:   0%|          | 0/79 [00:00<?, ?it/s]",
      "application/vnd.jupyter.widget-view+json": {
       "version_major": 2,
       "version_minor": 0,
       "model_id": "344494629bd048d3ae929757249a12c3"
      }
     },
     "metadata": {},
     "output_type": "display_data"
    },
    {
     "name": "stderr",
     "output_type": "stream",
     "text": [
      "wandb: WARNING Image: C:\\Studium\\Semester5\\DSPRO2\\DSPOR2\\classifier\\Model\\datasets\\diacritics\\images\\validation\\baptise.tiff has no bounding boxes labels\n",
      "wandb: WARNING Image: C:\\Studium\\Semester5\\DSPRO2\\DSPOR2\\classifier\\Model\\datasets\\diacritics\\images\\validation\\baigna.tiff has no bounding boxes labels\n",
      "wandb: WARNING Image: C:\\Studium\\Semester5\\DSPRO2\\DSPOR2\\classifier\\Model\\datasets\\diacritics\\images\\validation\\zaper.tiff has no bounding boxes labels\n",
      "wandb: WARNING Image: C:\\Studium\\Semester5\\DSPRO2\\DSPOR2\\classifier\\Model\\datasets\\diacritics\\images\\validation\\ratage.tiff has no bounding boxes labels\n",
      "wandb: WARNING Image: C:\\Studium\\Semester5\\DSPRO2\\DSPOR2\\classifier\\Model\\datasets\\diacritics\\images\\validation\\reçus.tiff has no bounding boxes labels\n",
      "wandb: WARNING Image: C:\\Studium\\Semester5\\DSPRO2\\DSPOR2\\classifier\\Model\\datasets\\diacritics\\images\\validation\\prierai.tiff has no bounding boxes labels\n",
      "wandb: WARNING Image: C:\\Studium\\Semester5\\DSPRO2\\DSPOR2\\classifier\\Model\\datasets\\diacritics\\images\\validation\\court.tiff has no bounding boxes labels\n",
      "wandb: WARNING Image: C:\\Studium\\Semester5\\DSPRO2\\DSPOR2\\classifier\\Model\\datasets\\diacritics\\images\\validation\\prisait.tiff has no bounding boxes labels\n",
      "wandb: WARNING Image: C:\\Studium\\Semester5\\DSPRO2\\DSPOR2\\classifier\\Model\\datasets\\diacritics\\images\\validation\\pieuta.tiff has no bounding boxes labels\n",
      "wandb: WARNING Image: C:\\Studium\\Semester5\\DSPRO2\\DSPOR2\\classifier\\Model\\datasets\\diacritics\\images\\validation\\cierges.tiff has no bounding boxes labels\n",
      "wandb: WARNING Image: C:\\Studium\\Semester5\\DSPRO2\\DSPOR2\\classifier\\Model\\datasets\\diacritics\\images\\validation\\nains.tiff has no bounding boxes labels\n",
      "wandb: WARNING Image: C:\\Studium\\Semester5\\DSPRO2\\DSPOR2\\classifier\\Model\\datasets\\diacritics\\images\\validation\\spleen.tiff has no bounding boxes labels\n",
      "wandb: WARNING Image: C:\\Studium\\Semester5\\DSPRO2\\DSPOR2\\classifier\\Model\\datasets\\diacritics\\images\\validation\\tunai.tiff has no bounding boxes labels\n",
      "wandb: WARNING Image: C:\\Studium\\Semester5\\DSPRO2\\DSPOR2\\classifier\\Model\\datasets\\diacritics\\images\\validation\\loves.tiff has no bounding boxes labels\n",
      "wandb: WARNING Image: C:\\Studium\\Semester5\\DSPRO2\\DSPOR2\\classifier\\Model\\datasets\\diacritics\\images\\validation\\mufti.tiff has no bounding boxes labels\n",
      "wandb: WARNING Image: C:\\Studium\\Semester5\\DSPRO2\\DSPOR2\\classifier\\Model\\datasets\\diacritics\\images\\validation\\VDQS.tiff has no bounding boxes labels\n",
      "wandb: WARNING Image: C:\\Studium\\Semester5\\DSPRO2\\DSPOR2\\classifier\\Model\\datasets\\diacritics\\images\\validation\\fieux.tiff has no bounding boxes labels\n",
      "wandb: WARNING Image: C:\\Studium\\Semester5\\DSPRO2\\DSPOR2\\classifier\\Model\\datasets\\diacritics\\images\\validation\\rapido.tiff has no bounding boxes labels\n",
      "wandb: WARNING Image: C:\\Studium\\Semester5\\DSPRO2\\DSPOR2\\classifier\\Model\\datasets\\diacritics\\images\\validation\\sonal.tiff has no bounding boxes labels\n",
      "wandb: WARNING Image: C:\\Studium\\Semester5\\DSPRO2\\DSPOR2\\classifier\\Model\\datasets\\diacritics\\images\\validation\\cafre.tiff has no bounding boxes labels\n",
      "wandb: WARNING Image: C:\\Studium\\Semester5\\DSPRO2\\DSPOR2\\classifier\\Model\\datasets\\diacritics\\images\\validation\\havie.tiff has no bounding boxes labels\n",
      "wandb: WARNING Image: C:\\Studium\\Semester5\\DSPRO2\\DSPOR2\\classifier\\Model\\datasets\\diacritics\\images\\validation\\distal.tiff has no bounding boxes labels\n",
      "wandb: WARNING Image: C:\\Studium\\Semester5\\DSPRO2\\DSPOR2\\classifier\\Model\\datasets\\diacritics\\images\\validation\\arec.tiff has no bounding boxes labels\n",
      "wandb: WARNING Image: C:\\Studium\\Semester5\\DSPRO2\\DSPOR2\\classifier\\Model\\datasets\\diacritics\\images\\validation\\Slave.tiff has no bounding boxes labels\n",
      "wandb: WARNING Image: C:\\Studium\\Semester5\\DSPRO2\\DSPOR2\\classifier\\Model\\datasets\\diacritics\\images\\validation\\ante.tiff has no bounding boxes labels\n",
      "wandb: WARNING Image: C:\\Studium\\Semester5\\DSPRO2\\DSPOR2\\classifier\\Model\\datasets\\diacritics\\images\\validation\\pivert.tiff has no bounding boxes labels\n",
      "wandb: WARNING Image: C:\\Studium\\Semester5\\DSPRO2\\DSPOR2\\classifier\\Model\\datasets\\diacritics\\images\\validation\\nient.tiff has no bounding boxes labels\n",
      "wandb: WARNING Image: C:\\Studium\\Semester5\\DSPRO2\\DSPOR2\\classifier\\Model\\datasets\\diacritics\\images\\validation\\tisait.tiff has no bounding boxes labels\n",
      "wandb: WARNING Image: C:\\Studium\\Semester5\\DSPRO2\\DSPOR2\\classifier\\Model\\datasets\\diacritics\\images\\validation\\rouît.tiff has no bounding boxes labels\n",
      "wandb: WARNING Image: C:\\Studium\\Semester5\\DSPRO2\\DSPOR2\\classifier\\Model\\datasets\\diacritics\\images\\validation\\lattai.tiff has no bounding boxes labels\n",
      "wandb: WARNING Image: C:\\Studium\\Semester5\\DSPRO2\\DSPOR2\\classifier\\Model\\datasets\\diacritics\\images\\validation\\quasi.tiff has no bounding boxes labels\n",
      "wandb: WARNING Image: C:\\Studium\\Semester5\\DSPRO2\\DSPOR2\\classifier\\Model\\datasets\\diacritics\\images\\validation\\RRO.tiff has no bounding boxes labels\n",
      "wandb: WARNING Image: C:\\Studium\\Semester5\\DSPRO2\\DSPOR2\\classifier\\Model\\datasets\\diacritics\\images\\validation\\sorti.tiff has no bounding boxes labels\n",
      "wandb: WARNING Image: C:\\Studium\\Semester5\\DSPRO2\\DSPOR2\\classifier\\Model\\datasets\\diacritics\\images\\validation\\zarb.tiff has no bounding boxes labels\n",
      "wandb: WARNING Image: C:\\Studium\\Semester5\\DSPRO2\\DSPOR2\\classifier\\Model\\datasets\\diacritics\\images\\validation\\deps.tiff has no bounding boxes labels\n",
      "wandb: WARNING Image: C:\\Studium\\Semester5\\DSPRO2\\DSPOR2\\classifier\\Model\\datasets\\diacritics\\images\\validation\\piste.tiff has no bounding boxes labels\n",
      "wandb: WARNING Image: C:\\Studium\\Semester5\\DSPRO2\\DSPOR2\\classifier\\Model\\datasets\\diacritics\\images\\validation\\judo.tiff has no bounding boxes labels\n",
      "wandb: WARNING Image: C:\\Studium\\Semester5\\DSPRO2\\DSPOR2\\classifier\\Model\\datasets\\diacritics\\images\\validation\\trap.tiff has no bounding boxes labels\n",
      "wandb: WARNING Image: C:\\Studium\\Semester5\\DSPRO2\\DSPOR2\\classifier\\Model\\datasets\\diacritics\\images\\validation\\hua.tiff has no bounding boxes labels\n",
      "wandb: WARNING Image: C:\\Studium\\Semester5\\DSPRO2\\DSPOR2\\classifier\\Model\\datasets\\diacritics\\images\\validation\\lest.tiff has no bounding boxes labels\n",
      "wandb: WARNING Image: C:\\Studium\\Semester5\\DSPRO2\\DSPOR2\\classifier\\Model\\datasets\\diacritics\\images\\validation\\pain.tiff has no bounding boxes labels\n",
      "wandb: WARNING Image: C:\\Studium\\Semester5\\DSPRO2\\DSPOR2\\classifier\\Model\\datasets\\diacritics\\images\\validation\\VLS.tiff has no bounding boxes labels\n",
      "wandb: WARNING Image: C:\\Studium\\Semester5\\DSPRO2\\DSPOR2\\classifier\\Model\\datasets\\diacritics\\images\\validation\\lifte.tiff has no bounding boxes labels\n",
      "wandb: WARNING Image: C:\\Studium\\Semester5\\DSPRO2\\DSPOR2\\classifier\\Model\\datasets\\diacritics\\images\\validation\\bio.tiff has no bounding boxes labels\n",
      "wandb: WARNING Image: C:\\Studium\\Semester5\\DSPRO2\\DSPOR2\\classifier\\Model\\datasets\\diacritics\\images\\validation\\lits.tiff has no bounding boxes labels\n",
      "wandb: WARNING Image: C:\\Studium\\Semester5\\DSPRO2\\DSPOR2\\classifier\\Model\\datasets\\diacritics\\images\\validation\\les.tiff has no bounding boxes labels\n",
      "wandb: WARNING Image: C:\\Studium\\Semester5\\DSPRO2\\DSPOR2\\classifier\\Model\\datasets\\diacritics\\images\\validation\\fol.tiff has no bounding boxes labels\n"
     ]
    },
    {
     "name": "stdout",
     "output_type": "stream",
     "text": [
      "\n",
      "      Epoch    GPU_mem   box_loss   cls_loss   dfl_loss  Instances       Size\n"
     ]
    },
    {
     "name": "stderr",
     "output_type": "stream",
     "text": [
      "      9/100      1.63G     0.6845     0.3932     0.7939         72        256: 100%|██████████| 250/250 [02:19<00:00,  1.79it/s]\n",
      "                 Class     Images  Instances      Box(P          R      mAP50  mAP50-95): 100%|██████████| 16/16 [00:06<00:00,  2.41it/s]\n"
     ]
    },
    {
     "name": "stdout",
     "output_type": "stream",
     "text": [
      "                   all       1999       1196      0.992      0.986      0.994      0.815\n"
     ]
    },
    {
     "data": {
      "text/plain": "Generating Visualizations for batch-1/1:   0%|          | 0/128 [00:00<?, ?it/s]",
      "application/vnd.jupyter.widget-view+json": {
       "version_major": 2,
       "version_minor": 0,
       "model_id": "2373375e45584ab8baface8be226880a"
      }
     },
     "metadata": {},
     "output_type": "display_data"
    },
    {
     "data": {
      "text/plain": "Generating Visualizations for batch-1/1:   0%|          | 0/128 [00:00<?, ?it/s]",
      "application/vnd.jupyter.widget-view+json": {
       "version_major": 2,
       "version_minor": 0,
       "model_id": "7e32c208d5634299b250e3c5adb4ae48"
      }
     },
     "metadata": {},
     "output_type": "display_data"
    },
    {
     "name": "stdout",
     "output_type": "stream",
     "text": [
      "\n",
      "      Epoch    GPU_mem   box_loss   cls_loss   dfl_loss  Instances       Size\n"
     ]
    },
    {
     "name": "stderr",
     "output_type": "stream",
     "text": [
      "     10/100      1.63G     0.6637     0.3789     0.7904         67        256: 100%|██████████| 250/250 [02:13<00:00,  1.88it/s]\n",
      "                 Class     Images  Instances      Box(P          R      mAP50  mAP50-95): 100%|██████████| 16/16 [00:07<00:00,  2.21it/s]\n"
     ]
    },
    {
     "name": "stdout",
     "output_type": "stream",
     "text": [
      "                   all       1999       1196      0.984      0.979      0.987      0.772\n"
     ]
    },
    {
     "data": {
      "text/plain": "Generating Visualizations for batch-1/1:   0%|          | 0/128 [00:00<?, ?it/s]",
      "application/vnd.jupyter.widget-view+json": {
       "version_major": 2,
       "version_minor": 0,
       "model_id": "b838222aa8bc4a47bf5872500edc45e0"
      }
     },
     "metadata": {},
     "output_type": "display_data"
    },
    {
     "data": {
      "text/plain": "Generating Visualizations for batch-1/1:   0%|          | 0/128 [00:00<?, ?it/s]",
      "application/vnd.jupyter.widget-view+json": {
       "version_major": 2,
       "version_minor": 0,
       "model_id": "566d9dd6ac20490684b130bf7428ed3d"
      }
     },
     "metadata": {},
     "output_type": "display_data"
    },
    {
     "name": "stdout",
     "output_type": "stream",
     "text": [
      "\n",
      "      Epoch    GPU_mem   box_loss   cls_loss   dfl_loss  Instances       Size\n"
     ]
    },
    {
     "name": "stderr",
     "output_type": "stream",
     "text": [
      "     11/100      1.66G     0.6392     0.3737     0.7883         72        256: 100%|██████████| 250/250 [02:16<00:00,  1.84it/s]\n",
      "                 Class     Images  Instances      Box(P          R      mAP50  mAP50-95): 100%|██████████| 16/16 [00:07<00:00,  2.23it/s]\n"
     ]
    },
    {
     "name": "stdout",
     "output_type": "stream",
     "text": [
      "                   all       1999       1196      0.995      0.988      0.995      0.834\n"
     ]
    },
    {
     "data": {
      "text/plain": "Generating Visualizations for batch-1/1:   0%|          | 0/128 [00:00<?, ?it/s]",
      "application/vnd.jupyter.widget-view+json": {
       "version_major": 2,
       "version_minor": 0,
       "model_id": "2c5f74ed44a34631a66c10c6fac7d5fb"
      }
     },
     "metadata": {},
     "output_type": "display_data"
    },
    {
     "data": {
      "text/plain": "Generating Visualizations for batch-1/1:   0%|          | 0/128 [00:00<?, ?it/s]",
      "application/vnd.jupyter.widget-view+json": {
       "version_major": 2,
       "version_minor": 0,
       "model_id": "a136843f1dc94e29b69ec8c6a0aad707"
      }
     },
     "metadata": {},
     "output_type": "display_data"
    },
    {
     "name": "stdout",
     "output_type": "stream",
     "text": [
      "\n",
      "      Epoch    GPU_mem   box_loss   cls_loss   dfl_loss  Instances       Size\n"
     ]
    },
    {
     "name": "stderr",
     "output_type": "stream",
     "text": [
      "     12/100      1.67G     0.6256     0.3647      0.789         61        256: 100%|██████████| 250/250 [02:17<00:00,  1.82it/s]\n",
      "                 Class     Images  Instances      Box(P          R      mAP50  mAP50-95): 100%|██████████| 16/16 [00:07<00:00,  2.04it/s]\n"
     ]
    },
    {
     "name": "stdout",
     "output_type": "stream",
     "text": [
      "                   all       1999       1196      0.998       0.99      0.995      0.826\n"
     ]
    },
    {
     "data": {
      "text/plain": "Generating Visualizations for batch-1/1:   0%|          | 0/128 [00:00<?, ?it/s]",
      "application/vnd.jupyter.widget-view+json": {
       "version_major": 2,
       "version_minor": 0,
       "model_id": "6ce78608133847c3bf664f31b7bc733d"
      }
     },
     "metadata": {},
     "output_type": "display_data"
    },
    {
     "data": {
      "text/plain": "Generating Visualizations for batch-1/1:   0%|          | 0/128 [00:00<?, ?it/s]",
      "application/vnd.jupyter.widget-view+json": {
       "version_major": 2,
       "version_minor": 0,
       "model_id": "530c16f827304800a008a9d01ac43fc7"
      }
     },
     "metadata": {},
     "output_type": "display_data"
    },
    {
     "name": "stdout",
     "output_type": "stream",
     "text": [
      "\n",
      "      Epoch    GPU_mem   box_loss   cls_loss   dfl_loss  Instances       Size\n"
     ]
    },
    {
     "name": "stderr",
     "output_type": "stream",
     "text": [
      "     13/100      1.68G     0.6029      0.355     0.7886         58        256: 100%|██████████| 250/250 [02:10<00:00,  1.91it/s]\n",
      "                 Class     Images  Instances      Box(P          R      mAP50  mAP50-95): 100%|██████████| 16/16 [00:06<00:00,  2.45it/s]\n"
     ]
    },
    {
     "name": "stdout",
     "output_type": "stream",
     "text": [
      "                   all       1999       1196      0.998      0.982      0.995      0.844\n"
     ]
    },
    {
     "data": {
      "text/plain": "Generating Visualizations for batch-1/1:   0%|          | 0/128 [00:00<?, ?it/s]",
      "application/vnd.jupyter.widget-view+json": {
       "version_major": 2,
       "version_minor": 0,
       "model_id": "d088e245bd984580a2b699487490e75c"
      }
     },
     "metadata": {},
     "output_type": "display_data"
    },
    {
     "data": {
      "text/plain": "Generating Visualizations for batch-1/1:   0%|          | 0/128 [00:00<?, ?it/s]",
      "application/vnd.jupyter.widget-view+json": {
       "version_major": 2,
       "version_minor": 0,
       "model_id": "f6e9cf7f28724d94a97425b80443c0e3"
      }
     },
     "metadata": {},
     "output_type": "display_data"
    },
    {
     "name": "stdout",
     "output_type": "stream",
     "text": [
      "\n",
      "      Epoch    GPU_mem   box_loss   cls_loss   dfl_loss  Instances       Size\n"
     ]
    },
    {
     "name": "stderr",
     "output_type": "stream",
     "text": [
      "     14/100      1.69G      0.593     0.3476     0.7865         70        256: 100%|██████████| 250/250 [02:12<00:00,  1.89it/s]\n",
      "                 Class     Images  Instances      Box(P          R      mAP50  mAP50-95): 100%|██████████| 16/16 [00:06<00:00,  2.52it/s]\n"
     ]
    },
    {
     "name": "stdout",
     "output_type": "stream",
     "text": [
      "                   all       1999       1196      0.997      0.989      0.994      0.839\n"
     ]
    },
    {
     "data": {
      "text/plain": "Generating Visualizations for batch-1/1:   0%|          | 0/128 [00:00<?, ?it/s]",
      "application/vnd.jupyter.widget-view+json": {
       "version_major": 2,
       "version_minor": 0,
       "model_id": "bb056c741918405e9e23b5dce187110c"
      }
     },
     "metadata": {},
     "output_type": "display_data"
    },
    {
     "data": {
      "text/plain": "Generating Visualizations for batch-1/1:   0%|          | 0/128 [00:00<?, ?it/s]",
      "application/vnd.jupyter.widget-view+json": {
       "version_major": 2,
       "version_minor": 0,
       "model_id": "ae9bd996a1324533b8b18abb3939a672"
      }
     },
     "metadata": {},
     "output_type": "display_data"
    },
    {
     "name": "stdout",
     "output_type": "stream",
     "text": [
      "\n",
      "      Epoch    GPU_mem   box_loss   cls_loss   dfl_loss  Instances       Size\n"
     ]
    },
    {
     "name": "stderr",
     "output_type": "stream",
     "text": [
      "     15/100      1.71G     0.5762     0.3395     0.7858         63        256: 100%|██████████| 250/250 [02:12<00:00,  1.88it/s]\n",
      "                 Class     Images  Instances      Box(P          R      mAP50  mAP50-95): 100%|██████████| 16/16 [00:06<00:00,  2.41it/s]\n"
     ]
    },
    {
     "name": "stdout",
     "output_type": "stream",
     "text": [
      "                   all       1999       1196      0.998      0.986      0.995      0.832\n"
     ]
    },
    {
     "data": {
      "text/plain": "Generating Visualizations for batch-1/1:   0%|          | 0/128 [00:00<?, ?it/s]",
      "application/vnd.jupyter.widget-view+json": {
       "version_major": 2,
       "version_minor": 0,
       "model_id": "bcab7c2328514f8eaaedb678f4e50987"
      }
     },
     "metadata": {},
     "output_type": "display_data"
    },
    {
     "data": {
      "text/plain": "Generating Visualizations for batch-1/1:   0%|          | 0/128 [00:00<?, ?it/s]",
      "application/vnd.jupyter.widget-view+json": {
       "version_major": 2,
       "version_minor": 0,
       "model_id": "12e5b6ad037a48248eb391b00b8f12de"
      }
     },
     "metadata": {},
     "output_type": "display_data"
    },
    {
     "name": "stdout",
     "output_type": "stream",
     "text": [
      "\n",
      "      Epoch    GPU_mem   box_loss   cls_loss   dfl_loss  Instances       Size\n"
     ]
    },
    {
     "name": "stderr",
     "output_type": "stream",
     "text": [
      "     16/100      1.72G     0.5694     0.3361     0.7838         71        256: 100%|██████████| 250/250 [02:10<00:00,  1.92it/s]\n",
      "                 Class     Images  Instances      Box(P          R      mAP50  mAP50-95): 100%|██████████| 16/16 [00:06<00:00,  2.43it/s]\n"
     ]
    },
    {
     "name": "stdout",
     "output_type": "stream",
     "text": [
      "                   all       1999       1196       0.99      0.987      0.994      0.861\n"
     ]
    },
    {
     "data": {
      "text/plain": "Generating Visualizations for batch-1/1:   0%|          | 0/128 [00:00<?, ?it/s]",
      "application/vnd.jupyter.widget-view+json": {
       "version_major": 2,
       "version_minor": 0,
       "model_id": "1f58fab8060c4c119d8e5ff5720def9c"
      }
     },
     "metadata": {},
     "output_type": "display_data"
    },
    {
     "data": {
      "text/plain": "Generating Visualizations for batch-1/1:   0%|          | 0/79 [00:00<?, ?it/s]",
      "application/vnd.jupyter.widget-view+json": {
       "version_major": 2,
       "version_minor": 0,
       "model_id": "c86b53e0b86f4d0681e8a45288dae66a"
      }
     },
     "metadata": {},
     "output_type": "display_data"
    },
    {
     "name": "stdout",
     "output_type": "stream",
     "text": [
      "\n",
      "      Epoch    GPU_mem   box_loss   cls_loss   dfl_loss  Instances       Size\n"
     ]
    },
    {
     "name": "stderr",
     "output_type": "stream",
     "text": [
      "     17/100      1.73G     0.5572     0.3303     0.7847         68        256: 100%|██████████| 250/250 [02:10<00:00,  1.91it/s]\n",
      "                 Class     Images  Instances      Box(P          R      mAP50  mAP50-95): 100%|██████████| 16/16 [00:06<00:00,  2.40it/s]\n"
     ]
    },
    {
     "name": "stdout",
     "output_type": "stream",
     "text": [
      "                   all       1999       1196      0.996      0.981      0.995      0.862\n"
     ]
    },
    {
     "data": {
      "text/plain": "Generating Visualizations for batch-1/1:   0%|          | 0/128 [00:00<?, ?it/s]",
      "application/vnd.jupyter.widget-view+json": {
       "version_major": 2,
       "version_minor": 0,
       "model_id": "3ed0e69704be4cf8bb5970999bfeb1cf"
      }
     },
     "metadata": {},
     "output_type": "display_data"
    },
    {
     "data": {
      "text/plain": "Generating Visualizations for batch-1/1:   0%|          | 0/128 [00:00<?, ?it/s]",
      "application/vnd.jupyter.widget-view+json": {
       "version_major": 2,
       "version_minor": 0,
       "model_id": "e4705d50aa7143b1bbab46f2090802ff"
      }
     },
     "metadata": {},
     "output_type": "display_data"
    },
    {
     "name": "stdout",
     "output_type": "stream",
     "text": [
      "\n",
      "      Epoch    GPU_mem   box_loss   cls_loss   dfl_loss  Instances       Size\n"
     ]
    },
    {
     "name": "stderr",
     "output_type": "stream",
     "text": [
      "     18/100      1.74G     0.5459     0.3258     0.7849         75        256: 100%|██████████| 250/250 [02:14<00:00,  1.86it/s]\n",
      "                 Class     Images  Instances      Box(P          R      mAP50  mAP50-95): 100%|██████████| 16/16 [00:06<00:00,  2.41it/s]\n"
     ]
    },
    {
     "name": "stdout",
     "output_type": "stream",
     "text": [
      "                   all       1999       1196      0.998      0.987      0.995      0.854\n"
     ]
    },
    {
     "data": {
      "text/plain": "Generating Visualizations for batch-1/1:   0%|          | 0/128 [00:00<?, ?it/s]",
      "application/vnd.jupyter.widget-view+json": {
       "version_major": 2,
       "version_minor": 0,
       "model_id": "a640381afbdb4d7dbaeebf464c457672"
      }
     },
     "metadata": {},
     "output_type": "display_data"
    },
    {
     "data": {
      "text/plain": "Generating Visualizations for batch-1/1:   0%|          | 0/128 [00:00<?, ?it/s]",
      "application/vnd.jupyter.widget-view+json": {
       "version_major": 2,
       "version_minor": 0,
       "model_id": "9b42952e147f4510b1036a03fdd68590"
      }
     },
     "metadata": {},
     "output_type": "display_data"
    },
    {
     "name": "stdout",
     "output_type": "stream",
     "text": [
      "\n",
      "      Epoch    GPU_mem   box_loss   cls_loss   dfl_loss  Instances       Size\n"
     ]
    },
    {
     "name": "stderr",
     "output_type": "stream",
     "text": [
      "     19/100      1.75G      0.538     0.3174     0.7847         54        256: 100%|██████████| 250/250 [02:18<00:00,  1.80it/s]\n",
      "                 Class     Images  Instances      Box(P          R      mAP50  mAP50-95): 100%|██████████| 16/16 [00:06<00:00,  2.40it/s]\n"
     ]
    },
    {
     "name": "stdout",
     "output_type": "stream",
     "text": [
      "                   all       1999       1196      0.995      0.987      0.995      0.867\n"
     ]
    },
    {
     "data": {
      "text/plain": "Generating Visualizations for batch-1/1:   0%|          | 0/128 [00:00<?, ?it/s]",
      "application/vnd.jupyter.widget-view+json": {
       "version_major": 2,
       "version_minor": 0,
       "model_id": "c06f18b5f1214d059be2017b0dd4a937"
      }
     },
     "metadata": {},
     "output_type": "display_data"
    },
    {
     "data": {
      "text/plain": "Generating Visualizations for batch-1/1:   0%|          | 0/128 [00:00<?, ?it/s]",
      "application/vnd.jupyter.widget-view+json": {
       "version_major": 2,
       "version_minor": 0,
       "model_id": "e40b95de1c9545088f8c05945c31b992"
      }
     },
     "metadata": {},
     "output_type": "display_data"
    },
    {
     "name": "stdout",
     "output_type": "stream",
     "text": [
      "\n",
      "      Epoch    GPU_mem   box_loss   cls_loss   dfl_loss  Instances       Size\n"
     ]
    },
    {
     "name": "stderr",
     "output_type": "stream",
     "text": [
      "     20/100      1.76G     0.5406     0.3185     0.7818         79        256: 100%|██████████| 250/250 [02:19<00:00,  1.79it/s]\n",
      "                 Class     Images  Instances      Box(P          R      mAP50  mAP50-95): 100%|██████████| 16/16 [00:07<00:00,  2.13it/s]\n"
     ]
    },
    {
     "name": "stdout",
     "output_type": "stream",
     "text": [
      "                   all       1999       1196      0.998      0.986      0.995      0.866\n"
     ]
    },
    {
     "data": {
      "text/plain": "Generating Visualizations for batch-1/1:   0%|          | 0/128 [00:00<?, ?it/s]",
      "application/vnd.jupyter.widget-view+json": {
       "version_major": 2,
       "version_minor": 0,
       "model_id": "5afbe01c485743ce87c2b0296b4ca332"
      }
     },
     "metadata": {},
     "output_type": "display_data"
    },
    {
     "data": {
      "text/plain": "Generating Visualizations for batch-1/1:   0%|          | 0/128 [00:00<?, ?it/s]",
      "application/vnd.jupyter.widget-view+json": {
       "version_major": 2,
       "version_minor": 0,
       "model_id": "4daeba5b0c234ebba425366331cbd027"
      }
     },
     "metadata": {},
     "output_type": "display_data"
    },
    {
     "name": "stdout",
     "output_type": "stream",
     "text": [
      "\n",
      "      Epoch    GPU_mem   box_loss   cls_loss   dfl_loss  Instances       Size\n"
     ]
    },
    {
     "name": "stderr",
     "output_type": "stream",
     "text": [
      "     21/100      1.77G     0.5295     0.3162     0.7825         56        256: 100%|██████████| 250/250 [02:20<00:00,  1.78it/s]\n",
      "                 Class     Images  Instances      Box(P          R      mAP50  mAP50-95): 100%|██████████| 16/16 [00:06<00:00,  2.33it/s]\n"
     ]
    },
    {
     "name": "stdout",
     "output_type": "stream",
     "text": [
      "                   all       1999       1196       0.99      0.984      0.994      0.834\n"
     ]
    },
    {
     "data": {
      "text/plain": "Generating Visualizations for batch-1/1:   0%|          | 0/128 [00:00<?, ?it/s]",
      "application/vnd.jupyter.widget-view+json": {
       "version_major": 2,
       "version_minor": 0,
       "model_id": "6ed7cad0fa2e474f89116cbdcd22aebb"
      }
     },
     "metadata": {},
     "output_type": "display_data"
    },
    {
     "data": {
      "text/plain": "Generating Visualizations for batch-1/1:   0%|          | 0/128 [00:00<?, ?it/s]",
      "application/vnd.jupyter.widget-view+json": {
       "version_major": 2,
       "version_minor": 0,
       "model_id": "0528892ea629467a9d79e127a4c82e59"
      }
     },
     "metadata": {},
     "output_type": "display_data"
    },
    {
     "name": "stdout",
     "output_type": "stream",
     "text": [
      "\n",
      "      Epoch    GPU_mem   box_loss   cls_loss   dfl_loss  Instances       Size\n"
     ]
    },
    {
     "name": "stderr",
     "output_type": "stream",
     "text": [
      "     22/100      1.78G     0.5152     0.3098     0.7822         60        256: 100%|██████████| 250/250 [02:15<00:00,  1.85it/s]\n",
      "                 Class     Images  Instances      Box(P          R      mAP50  mAP50-95): 100%|██████████| 16/16 [00:06<00:00,  2.38it/s]\n"
     ]
    },
    {
     "name": "stdout",
     "output_type": "stream",
     "text": [
      "                   all       1999       1196      0.995      0.984      0.993      0.839\n"
     ]
    },
    {
     "data": {
      "text/plain": "Generating Visualizations for batch-1/1:   0%|          | 0/128 [00:00<?, ?it/s]",
      "application/vnd.jupyter.widget-view+json": {
       "version_major": 2,
       "version_minor": 0,
       "model_id": "06d9591017934bad8432ca7647617519"
      }
     },
     "metadata": {},
     "output_type": "display_data"
    },
    {
     "data": {
      "text/plain": "Generating Visualizations for batch-1/1:   0%|          | 0/128 [00:00<?, ?it/s]",
      "application/vnd.jupyter.widget-view+json": {
       "version_major": 2,
       "version_minor": 0,
       "model_id": "d993bdee58fd4b86b848f19791a7b797"
      }
     },
     "metadata": {},
     "output_type": "display_data"
    },
    {
     "name": "stdout",
     "output_type": "stream",
     "text": [
      "\n",
      "      Epoch    GPU_mem   box_loss   cls_loss   dfl_loss  Instances       Size\n"
     ]
    },
    {
     "name": "stderr",
     "output_type": "stream",
     "text": [
      "     23/100       1.8G     0.5201     0.3064     0.7822         75        256: 100%|██████████| 250/250 [02:10<00:00,  1.91it/s]\n",
      "                 Class     Images  Instances      Box(P          R      mAP50  mAP50-95): 100%|██████████| 16/16 [00:06<00:00,  2.51it/s]\n"
     ]
    },
    {
     "name": "stdout",
     "output_type": "stream",
     "text": [
      "                   all       1999       1196      0.993       0.99      0.995      0.868\n"
     ]
    },
    {
     "data": {
      "text/plain": "Generating Visualizations for batch-1/1:   0%|          | 0/128 [00:00<?, ?it/s]",
      "application/vnd.jupyter.widget-view+json": {
       "version_major": 2,
       "version_minor": 0,
       "model_id": "248f1b73ce864b0d8d28cca5f2a09ee4"
      }
     },
     "metadata": {},
     "output_type": "display_data"
    },
    {
     "data": {
      "text/plain": "Generating Visualizations for batch-1/1:   0%|          | 0/128 [00:00<?, ?it/s]",
      "application/vnd.jupyter.widget-view+json": {
       "version_major": 2,
       "version_minor": 0,
       "model_id": "52e28ecea58d4992af4d3a9e8cf840e8"
      }
     },
     "metadata": {},
     "output_type": "display_data"
    },
    {
     "name": "stdout",
     "output_type": "stream",
     "text": [
      "\n",
      "      Epoch    GPU_mem   box_loss   cls_loss   dfl_loss  Instances       Size\n"
     ]
    },
    {
     "name": "stderr",
     "output_type": "stream",
     "text": [
      "     24/100      1.81G     0.4991     0.2982     0.7852         62        256: 100%|██████████| 250/250 [02:08<00:00,  1.95it/s]\n",
      "                 Class     Images  Instances      Box(P          R      mAP50  mAP50-95): 100%|██████████| 16/16 [00:06<00:00,  2.42it/s]\n"
     ]
    },
    {
     "name": "stdout",
     "output_type": "stream",
     "text": [
      "                   all       1999       1196      0.999      0.983      0.995      0.868\n"
     ]
    },
    {
     "data": {
      "text/plain": "Generating Visualizations for batch-1/1:   0%|          | 0/128 [00:00<?, ?it/s]",
      "application/vnd.jupyter.widget-view+json": {
       "version_major": 2,
       "version_minor": 0,
       "model_id": "5be5720e96f84756b70475518d473b8a"
      }
     },
     "metadata": {},
     "output_type": "display_data"
    },
    {
     "data": {
      "text/plain": "Generating Visualizations for batch-1/1:   0%|          | 0/79 [00:00<?, ?it/s]",
      "application/vnd.jupyter.widget-view+json": {
       "version_major": 2,
       "version_minor": 0,
       "model_id": "0c7956261ed24187b0b90257110fc9de"
      }
     },
     "metadata": {},
     "output_type": "display_data"
    },
    {
     "name": "stdout",
     "output_type": "stream",
     "text": [
      "\n",
      "      Epoch    GPU_mem   box_loss   cls_loss   dfl_loss  Instances       Size\n"
     ]
    },
    {
     "name": "stderr",
     "output_type": "stream",
     "text": [
      "     25/100      1.83G     0.5003     0.2988     0.7817         72        256: 100%|██████████| 250/250 [02:07<00:00,  1.95it/s]\n",
      "                 Class     Images  Instances      Box(P          R      mAP50  mAP50-95): 100%|██████████| 16/16 [00:06<00:00,  2.51it/s]\n"
     ]
    },
    {
     "name": "stdout",
     "output_type": "stream",
     "text": [
      "                   all       1999       1196      0.994      0.989      0.995      0.867\n"
     ]
    },
    {
     "data": {
      "text/plain": "Generating Visualizations for batch-1/1:   0%|          | 0/128 [00:00<?, ?it/s]",
      "application/vnd.jupyter.widget-view+json": {
       "version_major": 2,
       "version_minor": 0,
       "model_id": "172c277189b44d10ae84536d0fa75a54"
      }
     },
     "metadata": {},
     "output_type": "display_data"
    },
    {
     "data": {
      "text/plain": "Generating Visualizations for batch-1/1:   0%|          | 0/128 [00:00<?, ?it/s]",
      "application/vnd.jupyter.widget-view+json": {
       "version_major": 2,
       "version_minor": 0,
       "model_id": "b3dda1b4f6ef483298837f3c8c835d73"
      }
     },
     "metadata": {},
     "output_type": "display_data"
    },
    {
     "name": "stdout",
     "output_type": "stream",
     "text": [
      "\n",
      "      Epoch    GPU_mem   box_loss   cls_loss   dfl_loss  Instances       Size\n"
     ]
    },
    {
     "name": "stderr",
     "output_type": "stream",
     "text": [
      "     26/100      1.84G     0.4895     0.2948     0.7805         67        256: 100%|██████████| 250/250 [02:15<00:00,  1.85it/s]\n",
      "                 Class     Images  Instances      Box(P          R      mAP50  mAP50-95): 100%|██████████| 16/16 [00:06<00:00,  2.42it/s]\n"
     ]
    },
    {
     "name": "stdout",
     "output_type": "stream",
     "text": [
      "                   all       1999       1196      0.999      0.986      0.995      0.863\n"
     ]
    },
    {
     "data": {
      "text/plain": "Generating Visualizations for batch-1/1:   0%|          | 0/128 [00:00<?, ?it/s]",
      "application/vnd.jupyter.widget-view+json": {
       "version_major": 2,
       "version_minor": 0,
       "model_id": "ee79297bf69241f183ad7b7b5707d64d"
      }
     },
     "metadata": {},
     "output_type": "display_data"
    },
    {
     "data": {
      "text/plain": "Generating Visualizations for batch-1/1:   0%|          | 0/128 [00:00<?, ?it/s]",
      "application/vnd.jupyter.widget-view+json": {
       "version_major": 2,
       "version_minor": 0,
       "model_id": "c92666c0d7544afdb3c0e4d2719c0b43"
      }
     },
     "metadata": {},
     "output_type": "display_data"
    },
    {
     "name": "stdout",
     "output_type": "stream",
     "text": [
      "\n",
      "      Epoch    GPU_mem   box_loss   cls_loss   dfl_loss  Instances       Size\n"
     ]
    },
    {
     "name": "stderr",
     "output_type": "stream",
     "text": [
      "     27/100      1.86G     0.4805      0.288     0.7805         72        256: 100%|██████████| 250/250 [02:15<00:00,  1.84it/s]\n",
      "                 Class     Images  Instances      Box(P          R      mAP50  mAP50-95): 100%|██████████| 16/16 [00:07<00:00,  2.15it/s]\n"
     ]
    },
    {
     "name": "stdout",
     "output_type": "stream",
     "text": [
      "                   all       1999       1196      0.999      0.986      0.995      0.855\n"
     ]
    },
    {
     "data": {
      "text/plain": "Generating Visualizations for batch-1/1:   0%|          | 0/128 [00:00<?, ?it/s]",
      "application/vnd.jupyter.widget-view+json": {
       "version_major": 2,
       "version_minor": 0,
       "model_id": "6b044691651e43cbbc8ba07248cb72b3"
      }
     },
     "metadata": {},
     "output_type": "display_data"
    },
    {
     "data": {
      "text/plain": "Generating Visualizations for batch-1/1:   0%|          | 0/128 [00:00<?, ?it/s]",
      "application/vnd.jupyter.widget-view+json": {
       "version_major": 2,
       "version_minor": 0,
       "model_id": "f44adaffa9b54180b46e9e47271b0f5e"
      }
     },
     "metadata": {},
     "output_type": "display_data"
    },
    {
     "name": "stdout",
     "output_type": "stream",
     "text": [
      "\n",
      "      Epoch    GPU_mem   box_loss   cls_loss   dfl_loss  Instances       Size\n"
     ]
    },
    {
     "name": "stderr",
     "output_type": "stream",
     "text": [
      "     28/100      1.87G     0.4741     0.2878       0.78         77        256: 100%|██████████| 250/250 [02:22<00:00,  1.76it/s]\n",
      "                 Class     Images  Instances      Box(P          R      mAP50  mAP50-95): 100%|██████████| 16/16 [00:06<00:00,  2.43it/s]\n"
     ]
    },
    {
     "name": "stdout",
     "output_type": "stream",
     "text": [
      "                   all       1999       1196      0.998       0.98      0.995      0.869\n"
     ]
    },
    {
     "data": {
      "text/plain": "Generating Visualizations for batch-1/1:   0%|          | 0/128 [00:00<?, ?it/s]",
      "application/vnd.jupyter.widget-view+json": {
       "version_major": 2,
       "version_minor": 0,
       "model_id": "c134cca4fc3f4141b120c41dc67548d2"
      }
     },
     "metadata": {},
     "output_type": "display_data"
    },
    {
     "data": {
      "text/plain": "Generating Visualizations for batch-1/1:   0%|          | 0/128 [00:00<?, ?it/s]",
      "application/vnd.jupyter.widget-view+json": {
       "version_major": 2,
       "version_minor": 0,
       "model_id": "facb0f292192434aadb565d3b4a38ac0"
      }
     },
     "metadata": {},
     "output_type": "display_data"
    },
    {
     "name": "stdout",
     "output_type": "stream",
     "text": [
      "\n",
      "      Epoch    GPU_mem   box_loss   cls_loss   dfl_loss  Instances       Size\n"
     ]
    },
    {
     "name": "stderr",
     "output_type": "stream",
     "text": [
      "     29/100      1.88G     0.4816     0.2864     0.7816         51        256: 100%|██████████| 250/250 [02:10<00:00,  1.92it/s]\n",
      "                 Class     Images  Instances      Box(P          R      mAP50  mAP50-95): 100%|██████████| 16/16 [00:06<00:00,  2.48it/s]\n"
     ]
    },
    {
     "name": "stdout",
     "output_type": "stream",
     "text": [
      "                   all       1999       1196      0.999      0.986      0.995      0.869\n"
     ]
    },
    {
     "data": {
      "text/plain": "Generating Visualizations for batch-1/1:   0%|          | 0/128 [00:00<?, ?it/s]",
      "application/vnd.jupyter.widget-view+json": {
       "version_major": 2,
       "version_minor": 0,
       "model_id": "1630d6bba3524f8a9f659d035358a8bf"
      }
     },
     "metadata": {},
     "output_type": "display_data"
    },
    {
     "data": {
      "text/plain": "Generating Visualizations for batch-1/1:   0%|          | 0/128 [00:00<?, ?it/s]",
      "application/vnd.jupyter.widget-view+json": {
       "version_major": 2,
       "version_minor": 0,
       "model_id": "fea1bd5be9f14d6aa02cb3d380bc7dfd"
      }
     },
     "metadata": {},
     "output_type": "display_data"
    },
    {
     "name": "stdout",
     "output_type": "stream",
     "text": [
      "\n",
      "      Epoch    GPU_mem   box_loss   cls_loss   dfl_loss  Instances       Size\n"
     ]
    },
    {
     "name": "stderr",
     "output_type": "stream",
     "text": [
      "     30/100      1.89G     0.4713     0.2862     0.7785         54        256: 100%|██████████| 250/250 [02:09<00:00,  1.93it/s]\n",
      "                 Class     Images  Instances      Box(P          R      mAP50  mAP50-95): 100%|██████████| 16/16 [00:06<00:00,  2.51it/s]\n"
     ]
    },
    {
     "name": "stdout",
     "output_type": "stream",
     "text": [
      "                   all       1999       1196      0.998      0.985      0.995      0.876\n"
     ]
    },
    {
     "data": {
      "text/plain": "Generating Visualizations for batch-1/1:   0%|          | 0/128 [00:00<?, ?it/s]",
      "application/vnd.jupyter.widget-view+json": {
       "version_major": 2,
       "version_minor": 0,
       "model_id": "409e6d63957f44e5830a8139dc7cf5a0"
      }
     },
     "metadata": {},
     "output_type": "display_data"
    },
    {
     "data": {
      "text/plain": "Generating Visualizations for batch-1/1:   0%|          | 0/128 [00:00<?, ?it/s]",
      "application/vnd.jupyter.widget-view+json": {
       "version_major": 2,
       "version_minor": 0,
       "model_id": "0a4360c5247a48bc8839f4e0d9b3d3c0"
      }
     },
     "metadata": {},
     "output_type": "display_data"
    },
    {
     "name": "stdout",
     "output_type": "stream",
     "text": [
      "\n",
      "      Epoch    GPU_mem   box_loss   cls_loss   dfl_loss  Instances       Size\n"
     ]
    },
    {
     "name": "stderr",
     "output_type": "stream",
     "text": [
      "     31/100       1.9G      0.462     0.2767     0.7799         65        256: 100%|██████████| 250/250 [02:12<00:00,  1.89it/s]\n",
      "                 Class     Images  Instances      Box(P          R      mAP50  mAP50-95): 100%|██████████| 16/16 [00:07<00:00,  2.22it/s]\n"
     ]
    },
    {
     "name": "stdout",
     "output_type": "stream",
     "text": [
      "                   all       1999       1196      0.998      0.986      0.995      0.875\n"
     ]
    },
    {
     "data": {
      "text/plain": "Generating Visualizations for batch-1/1:   0%|          | 0/128 [00:00<?, ?it/s]",
      "application/vnd.jupyter.widget-view+json": {
       "version_major": 2,
       "version_minor": 0,
       "model_id": "c74ed488786c474c8f63b7e5918a989f"
      }
     },
     "metadata": {},
     "output_type": "display_data"
    },
    {
     "data": {
      "text/plain": "Generating Visualizations for batch-1/1:   0%|          | 0/128 [00:00<?, ?it/s]",
      "application/vnd.jupyter.widget-view+json": {
       "version_major": 2,
       "version_minor": 0,
       "model_id": "ee5d13763223496db28637c7e0f107f2"
      }
     },
     "metadata": {},
     "output_type": "display_data"
    },
    {
     "name": "stdout",
     "output_type": "stream",
     "text": [
      "\n",
      "      Epoch    GPU_mem   box_loss   cls_loss   dfl_loss  Instances       Size\n"
     ]
    },
    {
     "name": "stderr",
     "output_type": "stream",
     "text": [
      "     32/100      1.91G     0.4591     0.2802     0.7778         74        256: 100%|██████████| 250/250 [02:14<00:00,  1.86it/s]\n",
      "                 Class     Images  Instances      Box(P          R      mAP50  mAP50-95): 100%|██████████| 16/16 [00:06<00:00,  2.32it/s]\n"
     ]
    },
    {
     "name": "stdout",
     "output_type": "stream",
     "text": [
      "                   all       1999       1196      0.998      0.986      0.995      0.877\n"
     ]
    },
    {
     "data": {
      "text/plain": "Generating Visualizations for batch-1/1:   0%|          | 0/128 [00:00<?, ?it/s]",
      "application/vnd.jupyter.widget-view+json": {
       "version_major": 2,
       "version_minor": 0,
       "model_id": "f0738bcc550d48509f2fe65052354f9c"
      }
     },
     "metadata": {},
     "output_type": "display_data"
    },
    {
     "data": {
      "text/plain": "Generating Visualizations for batch-1/1:   0%|          | 0/79 [00:00<?, ?it/s]",
      "application/vnd.jupyter.widget-view+json": {
       "version_major": 2,
       "version_minor": 0,
       "model_id": "772db0f01a5945789b2a13bc18c12c60"
      }
     },
     "metadata": {},
     "output_type": "display_data"
    },
    {
     "name": "stdout",
     "output_type": "stream",
     "text": [
      "\n",
      "      Epoch    GPU_mem   box_loss   cls_loss   dfl_loss  Instances       Size\n"
     ]
    },
    {
     "name": "stderr",
     "output_type": "stream",
     "text": [
      "     33/100      1.92G     0.4551     0.2759      0.778         54        256: 100%|██████████| 250/250 [02:12<00:00,  1.89it/s]\n",
      "                 Class     Images  Instances      Box(P          R      mAP50  mAP50-95): 100%|██████████| 16/16 [00:06<00:00,  2.53it/s]\n"
     ]
    },
    {
     "name": "stdout",
     "output_type": "stream",
     "text": [
      "                   all       1999       1196      0.999      0.987      0.995      0.865\n"
     ]
    },
    {
     "data": {
      "text/plain": "Generating Visualizations for batch-1/1:   0%|          | 0/128 [00:00<?, ?it/s]",
      "application/vnd.jupyter.widget-view+json": {
       "version_major": 2,
       "version_minor": 0,
       "model_id": "7926baaab9eb402098c0fce134bc03e7"
      }
     },
     "metadata": {},
     "output_type": "display_data"
    },
    {
     "data": {
      "text/plain": "Generating Visualizations for batch-1/1:   0%|          | 0/128 [00:00<?, ?it/s]",
      "application/vnd.jupyter.widget-view+json": {
       "version_major": 2,
       "version_minor": 0,
       "model_id": "6ba0eee2252a4b1083522faa79422fb9"
      }
     },
     "metadata": {},
     "output_type": "display_data"
    },
    {
     "name": "stdout",
     "output_type": "stream",
     "text": [
      "\n",
      "      Epoch    GPU_mem   box_loss   cls_loss   dfl_loss  Instances       Size\n"
     ]
    },
    {
     "name": "stderr",
     "output_type": "stream",
     "text": [
      "     34/100      1.93G     0.4544     0.2746     0.7789         62        256: 100%|██████████| 250/250 [02:13<00:00,  1.88it/s]\n",
      "                 Class     Images  Instances      Box(P          R      mAP50  mAP50-95): 100%|██████████| 16/16 [00:06<00:00,  2.52it/s]\n"
     ]
    },
    {
     "name": "stdout",
     "output_type": "stream",
     "text": [
      "                   all       1999       1196      0.999      0.986      0.995      0.873\n"
     ]
    },
    {
     "data": {
      "text/plain": "Generating Visualizations for batch-1/1:   0%|          | 0/128 [00:00<?, ?it/s]",
      "application/vnd.jupyter.widget-view+json": {
       "version_major": 2,
       "version_minor": 0,
       "model_id": "a4dc511ce3ec4f9bb4e1fa5063caf1db"
      }
     },
     "metadata": {},
     "output_type": "display_data"
    },
    {
     "data": {
      "text/plain": "Generating Visualizations for batch-1/1:   0%|          | 0/128 [00:00<?, ?it/s]",
      "application/vnd.jupyter.widget-view+json": {
       "version_major": 2,
       "version_minor": 0,
       "model_id": "1b7c3b7ff8ad4aa2af69544d4fe173c2"
      }
     },
     "metadata": {},
     "output_type": "display_data"
    },
    {
     "name": "stdout",
     "output_type": "stream",
     "text": [
      "\n",
      "      Epoch    GPU_mem   box_loss   cls_loss   dfl_loss  Instances       Size\n"
     ]
    },
    {
     "name": "stderr",
     "output_type": "stream",
     "text": [
      "     35/100      1.94G     0.4431     0.2686     0.7777         57        256: 100%|██████████| 250/250 [02:10<00:00,  1.92it/s]\n",
      "                 Class     Images  Instances      Box(P          R      mAP50  mAP50-95): 100%|██████████| 16/16 [00:06<00:00,  2.44it/s]\n"
     ]
    },
    {
     "name": "stdout",
     "output_type": "stream",
     "text": [
      "                   all       1999       1196      0.998      0.987      0.995      0.872\n"
     ]
    },
    {
     "data": {
      "text/plain": "Generating Visualizations for batch-1/1:   0%|          | 0/128 [00:00<?, ?it/s]",
      "application/vnd.jupyter.widget-view+json": {
       "version_major": 2,
       "version_minor": 0,
       "model_id": "5b80c2cd83aa4459ab4d20126aca0cd1"
      }
     },
     "metadata": {},
     "output_type": "display_data"
    },
    {
     "data": {
      "text/plain": "Generating Visualizations for batch-1/1:   0%|          | 0/128 [00:00<?, ?it/s]",
      "application/vnd.jupyter.widget-view+json": {
       "version_major": 2,
       "version_minor": 0,
       "model_id": "37d4a1f520514c47aceb2b86ffcef8a6"
      }
     },
     "metadata": {},
     "output_type": "display_data"
    },
    {
     "name": "stdout",
     "output_type": "stream",
     "text": [
      "\n",
      "      Epoch    GPU_mem   box_loss   cls_loss   dfl_loss  Instances       Size\n"
     ]
    },
    {
     "name": "stderr",
     "output_type": "stream",
     "text": [
      "     36/100      1.95G       0.44     0.2664     0.7788         60        256: 100%|██████████| 250/250 [02:10<00:00,  1.92it/s]\n",
      "                 Class     Images  Instances      Box(P          R      mAP50  mAP50-95): 100%|██████████| 16/16 [00:06<00:00,  2.49it/s]\n"
     ]
    },
    {
     "name": "stdout",
     "output_type": "stream",
     "text": [
      "                   all       1999       1196      0.998      0.986      0.995      0.864\n"
     ]
    },
    {
     "data": {
      "text/plain": "Generating Visualizations for batch-1/1:   0%|          | 0/128 [00:00<?, ?it/s]",
      "application/vnd.jupyter.widget-view+json": {
       "version_major": 2,
       "version_minor": 0,
       "model_id": "5bfea0750c6e405b9f82d4dfb56df131"
      }
     },
     "metadata": {},
     "output_type": "display_data"
    },
    {
     "data": {
      "text/plain": "Generating Visualizations for batch-1/1:   0%|          | 0/128 [00:00<?, ?it/s]",
      "application/vnd.jupyter.widget-view+json": {
       "version_major": 2,
       "version_minor": 0,
       "model_id": "142fbf7b9f0c4094a26364a75cdd0a5e"
      }
     },
     "metadata": {},
     "output_type": "display_data"
    },
    {
     "name": "stdout",
     "output_type": "stream",
     "text": [
      "\n",
      "      Epoch    GPU_mem   box_loss   cls_loss   dfl_loss  Instances       Size\n"
     ]
    },
    {
     "name": "stderr",
     "output_type": "stream",
     "text": [
      "     37/100      1.97G     0.4414     0.2685     0.7785         68        256: 100%|██████████| 250/250 [02:09<00:00,  1.93it/s]\n",
      "                 Class     Images  Instances      Box(P          R      mAP50  mAP50-95): 100%|██████████| 16/16 [00:06<00:00,  2.51it/s]\n"
     ]
    },
    {
     "name": "stdout",
     "output_type": "stream",
     "text": [
      "                   all       1999       1196      0.998      0.987      0.995      0.882\n"
     ]
    },
    {
     "data": {
      "text/plain": "Generating Visualizations for batch-1/1:   0%|          | 0/128 [00:00<?, ?it/s]",
      "application/vnd.jupyter.widget-view+json": {
       "version_major": 2,
       "version_minor": 0,
       "model_id": "55c159f9f4cc46babf64b26bf743bbce"
      }
     },
     "metadata": {},
     "output_type": "display_data"
    },
    {
     "data": {
      "text/plain": "Generating Visualizations for batch-1/1:   0%|          | 0/128 [00:00<?, ?it/s]",
      "application/vnd.jupyter.widget-view+json": {
       "version_major": 2,
       "version_minor": 0,
       "model_id": "3cf12353c22345639ffc3cf3b0bb7489"
      }
     },
     "metadata": {},
     "output_type": "display_data"
    },
    {
     "name": "stdout",
     "output_type": "stream",
     "text": [
      "\n",
      "      Epoch    GPU_mem   box_loss   cls_loss   dfl_loss  Instances       Size\n"
     ]
    },
    {
     "name": "stderr",
     "output_type": "stream",
     "text": [
      "     38/100      1.98G     0.4366     0.2671     0.7793         65        256: 100%|██████████| 250/250 [02:13<00:00,  1.87it/s]\n",
      "                 Class     Images  Instances      Box(P          R      mAP50  mAP50-95): 100%|██████████| 16/16 [00:06<00:00,  2.41it/s]\n"
     ]
    },
    {
     "name": "stdout",
     "output_type": "stream",
     "text": [
      "                   all       1999       1196      0.999      0.988      0.995      0.878\n"
     ]
    },
    {
     "data": {
      "text/plain": "Generating Visualizations for batch-1/1:   0%|          | 0/128 [00:00<?, ?it/s]",
      "application/vnd.jupyter.widget-view+json": {
       "version_major": 2,
       "version_minor": 0,
       "model_id": "3786e2b373f74172a2147464df508209"
      }
     },
     "metadata": {},
     "output_type": "display_data"
    },
    {
     "data": {
      "text/plain": "Generating Visualizations for batch-1/1:   0%|          | 0/128 [00:00<?, ?it/s]",
      "application/vnd.jupyter.widget-view+json": {
       "version_major": 2,
       "version_minor": 0,
       "model_id": "dc3a6484006b4551a20035d6e1bcb21a"
      }
     },
     "metadata": {},
     "output_type": "display_data"
    },
    {
     "name": "stdout",
     "output_type": "stream",
     "text": [
      "\n",
      "      Epoch    GPU_mem   box_loss   cls_loss   dfl_loss  Instances       Size\n"
     ]
    },
    {
     "name": "stderr",
     "output_type": "stream",
     "text": [
      "     39/100         2G     0.4328     0.2657     0.7773         58        256: 100%|██████████| 250/250 [02:19<00:00,  1.79it/s]\n",
      "                 Class     Images  Instances      Box(P          R      mAP50  mAP50-95): 100%|██████████| 16/16 [00:07<00:00,  2.04it/s]\n"
     ]
    },
    {
     "name": "stdout",
     "output_type": "stream",
     "text": [
      "                   all       1999       1196      0.999      0.986      0.995      0.876\n"
     ]
    },
    {
     "data": {
      "text/plain": "Generating Visualizations for batch-1/1:   0%|          | 0/128 [00:00<?, ?it/s]",
      "application/vnd.jupyter.widget-view+json": {
       "version_major": 2,
       "version_minor": 0,
       "model_id": "b89b439f7dab4be8b811c3e4c5b32b05"
      }
     },
     "metadata": {},
     "output_type": "display_data"
    },
    {
     "data": {
      "text/plain": "Generating Visualizations for batch-1/1:   0%|          | 0/128 [00:00<?, ?it/s]",
      "application/vnd.jupyter.widget-view+json": {
       "version_major": 2,
       "version_minor": 0,
       "model_id": "a286f000f18642f7bf320b69da7d2344"
      }
     },
     "metadata": {},
     "output_type": "display_data"
    },
    {
     "name": "stdout",
     "output_type": "stream",
     "text": [
      "\n",
      "      Epoch    GPU_mem   box_loss   cls_loss   dfl_loss  Instances       Size\n"
     ]
    },
    {
     "name": "stderr",
     "output_type": "stream",
     "text": [
      "     40/100      2.02G     0.4235     0.2574     0.7763         73        256: 100%|██████████| 250/250 [03:03<00:00,  1.36it/s]\n",
      "                 Class     Images  Instances      Box(P          R      mAP50  mAP50-95): 100%|██████████| 16/16 [00:08<00:00,  1.83it/s]\n"
     ]
    },
    {
     "name": "stdout",
     "output_type": "stream",
     "text": [
      "                   all       1999       1196      0.999      0.986      0.995      0.875\n"
     ]
    },
    {
     "data": {
      "text/plain": "Generating Visualizations for batch-1/1:   0%|          | 0/128 [00:00<?, ?it/s]",
      "application/vnd.jupyter.widget-view+json": {
       "version_major": 2,
       "version_minor": 0,
       "model_id": "3b53da84753940fda69dcf291605ba80"
      }
     },
     "metadata": {},
     "output_type": "display_data"
    },
    {
     "data": {
      "text/plain": "Generating Visualizations for batch-1/1:   0%|          | 0/79 [00:00<?, ?it/s]",
      "application/vnd.jupyter.widget-view+json": {
       "version_major": 2,
       "version_minor": 0,
       "model_id": "c8b4a826328742a7a1ea492dfc7028df"
      }
     },
     "metadata": {},
     "output_type": "display_data"
    },
    {
     "name": "stdout",
     "output_type": "stream",
     "text": [
      "\n",
      "      Epoch    GPU_mem   box_loss   cls_loss   dfl_loss  Instances       Size\n"
     ]
    },
    {
     "name": "stderr",
     "output_type": "stream",
     "text": [
      "     41/100      2.03G     0.4254      0.262     0.7749         57        256: 100%|██████████| 250/250 [02:56<00:00,  1.42it/s]\n",
      "                 Class     Images  Instances      Box(P          R      mAP50  mAP50-95): 100%|██████████| 16/16 [00:08<00:00,  1.91it/s]\n"
     ]
    },
    {
     "name": "stdout",
     "output_type": "stream",
     "text": [
      "                   all       1999       1196      0.999      0.987      0.995      0.871\n"
     ]
    },
    {
     "data": {
      "text/plain": "Generating Visualizations for batch-1/1:   0%|          | 0/128 [00:00<?, ?it/s]",
      "application/vnd.jupyter.widget-view+json": {
       "version_major": 2,
       "version_minor": 0,
       "model_id": "5aac16ee0df548f49b8e48ce9c6825c6"
      }
     },
     "metadata": {},
     "output_type": "display_data"
    },
    {
     "data": {
      "text/plain": "Generating Visualizations for batch-1/1:   0%|          | 0/128 [00:00<?, ?it/s]",
      "application/vnd.jupyter.widget-view+json": {
       "version_major": 2,
       "version_minor": 0,
       "model_id": "d364aae5dd474bc2bf2580ca59e60768"
      }
     },
     "metadata": {},
     "output_type": "display_data"
    },
    {
     "name": "stdout",
     "output_type": "stream",
     "text": [
      "\n",
      "      Epoch    GPU_mem   box_loss   cls_loss   dfl_loss  Instances       Size\n"
     ]
    },
    {
     "name": "stderr",
     "output_type": "stream",
     "text": [
      "     42/100      2.04G     0.4189     0.2575     0.7746         68        256: 100%|██████████| 250/250 [02:56<00:00,  1.42it/s]\n",
      "                 Class     Images  Instances      Box(P          R      mAP50  mAP50-95): 100%|██████████| 16/16 [00:07<00:00,  2.01it/s]\n"
     ]
    },
    {
     "name": "stdout",
     "output_type": "stream",
     "text": [
      "                   all       1999       1196      0.999      0.986      0.995      0.875\n"
     ]
    },
    {
     "data": {
      "text/plain": "Generating Visualizations for batch-1/1:   0%|          | 0/128 [00:00<?, ?it/s]",
      "application/vnd.jupyter.widget-view+json": {
       "version_major": 2,
       "version_minor": 0,
       "model_id": "8acd8a7c6095430db69f3c6febbf88c6"
      }
     },
     "metadata": {},
     "output_type": "display_data"
    },
    {
     "data": {
      "text/plain": "Generating Visualizations for batch-1/1:   0%|          | 0/128 [00:00<?, ?it/s]",
      "application/vnd.jupyter.widget-view+json": {
       "version_major": 2,
       "version_minor": 0,
       "model_id": "576c05b259a447ffb708d64d622905ff"
      }
     },
     "metadata": {},
     "output_type": "display_data"
    },
    {
     "name": "stdout",
     "output_type": "stream",
     "text": [
      "\n",
      "      Epoch    GPU_mem   box_loss   cls_loss   dfl_loss  Instances       Size\n"
     ]
    },
    {
     "name": "stderr",
     "output_type": "stream",
     "text": [
      "     43/100      2.05G     0.4215     0.2563     0.7741         61        256: 100%|██████████| 250/250 [03:04<00:00,  1.35it/s]\n",
      "                 Class     Images  Instances      Box(P          R      mAP50  mAP50-95): 100%|██████████| 16/16 [00:07<00:00,  2.02it/s]\n"
     ]
    },
    {
     "name": "stdout",
     "output_type": "stream",
     "text": [
      "                   all       1999       1196      0.999      0.987      0.995       0.87\n"
     ]
    },
    {
     "data": {
      "text/plain": "Generating Visualizations for batch-1/1:   0%|          | 0/128 [00:00<?, ?it/s]",
      "application/vnd.jupyter.widget-view+json": {
       "version_major": 2,
       "version_minor": 0,
       "model_id": "0924ecc5167c4a49ad176880c0115899"
      }
     },
     "metadata": {},
     "output_type": "display_data"
    },
    {
     "data": {
      "text/plain": "Generating Visualizations for batch-1/1:   0%|          | 0/128 [00:00<?, ?it/s]",
      "application/vnd.jupyter.widget-view+json": {
       "version_major": 2,
       "version_minor": 0,
       "model_id": "2cf9e0f0cef34e01a18931b65846e761"
      }
     },
     "metadata": {},
     "output_type": "display_data"
    },
    {
     "name": "stdout",
     "output_type": "stream",
     "text": [
      "\n",
      "      Epoch    GPU_mem   box_loss   cls_loss   dfl_loss  Instances       Size\n"
     ]
    },
    {
     "name": "stderr",
     "output_type": "stream",
     "text": [
      "     44/100      2.06G      0.419     0.2569     0.7799         42        256: 100%|██████████| 250/250 [02:52<00:00,  1.45it/s]\n",
      "                 Class     Images  Instances      Box(P          R      mAP50  mAP50-95): 100%|██████████| 16/16 [00:07<00:00,  2.02it/s]\n"
     ]
    },
    {
     "name": "stdout",
     "output_type": "stream",
     "text": [
      "                   all       1999       1196      0.999      0.986      0.995      0.874\n"
     ]
    },
    {
     "data": {
      "text/plain": "Generating Visualizations for batch-1/1:   0%|          | 0/128 [00:00<?, ?it/s]",
      "application/vnd.jupyter.widget-view+json": {
       "version_major": 2,
       "version_minor": 0,
       "model_id": "5a35c0654bbc4838836e05065f387b6d"
      }
     },
     "metadata": {},
     "output_type": "display_data"
    },
    {
     "data": {
      "text/plain": "Generating Visualizations for batch-1/1:   0%|          | 0/128 [00:00<?, ?it/s]",
      "application/vnd.jupyter.widget-view+json": {
       "version_major": 2,
       "version_minor": 0,
       "model_id": "0d4dd8c3cd9c466997f408d5aeb24458"
      }
     },
     "metadata": {},
     "output_type": "display_data"
    },
    {
     "name": "stdout",
     "output_type": "stream",
     "text": [
      "\n",
      "      Epoch    GPU_mem   box_loss   cls_loss   dfl_loss  Instances       Size\n"
     ]
    },
    {
     "name": "stderr",
     "output_type": "stream",
     "text": [
      "     45/100      2.07G     0.4132     0.2536     0.7753         61        256: 100%|██████████| 250/250 [02:53<00:00,  1.44it/s]\n",
      "                 Class     Images  Instances      Box(P          R      mAP50  mAP50-95): 100%|██████████| 16/16 [00:07<00:00,  2.01it/s]\n"
     ]
    },
    {
     "name": "stdout",
     "output_type": "stream",
     "text": [
      "                   all       1999       1196      0.999      0.987      0.995      0.872\n"
     ]
    },
    {
     "data": {
      "text/plain": "Generating Visualizations for batch-1/1:   0%|          | 0/128 [00:00<?, ?it/s]",
      "application/vnd.jupyter.widget-view+json": {
       "version_major": 2,
       "version_minor": 0,
       "model_id": "a7dc2eed4c514bd29250aec79d800ae0"
      }
     },
     "metadata": {},
     "output_type": "display_data"
    },
    {
     "data": {
      "text/plain": "Generating Visualizations for batch-1/1:   0%|          | 0/128 [00:00<?, ?it/s]",
      "application/vnd.jupyter.widget-view+json": {
       "version_major": 2,
       "version_minor": 0,
       "model_id": "61720054fc474ad09e5db3a758a8b41c"
      }
     },
     "metadata": {},
     "output_type": "display_data"
    },
    {
     "name": "stdout",
     "output_type": "stream",
     "text": [
      "\n",
      "      Epoch    GPU_mem   box_loss   cls_loss   dfl_loss  Instances       Size\n"
     ]
    },
    {
     "name": "stderr",
     "output_type": "stream",
     "text": [
      "     46/100      2.08G     0.4062     0.2534     0.7763         57        256: 100%|██████████| 250/250 [02:48<00:00,  1.48it/s]\n",
      "                 Class     Images  Instances      Box(P          R      mAP50  mAP50-95): 100%|██████████| 16/16 [00:07<00:00,  2.23it/s]\n"
     ]
    },
    {
     "name": "stdout",
     "output_type": "stream",
     "text": [
      "                   all       1999       1196      0.999      0.987      0.995      0.872\n"
     ]
    },
    {
     "data": {
      "text/plain": "Generating Visualizations for batch-1/1:   0%|          | 0/128 [00:00<?, ?it/s]",
      "application/vnd.jupyter.widget-view+json": {
       "version_major": 2,
       "version_minor": 0,
       "model_id": "93eaf35d4bad482b8cad355914a7fc8c"
      }
     },
     "metadata": {},
     "output_type": "display_data"
    },
    {
     "data": {
      "text/plain": "Generating Visualizations for batch-1/1:   0%|          | 0/128 [00:00<?, ?it/s]",
      "application/vnd.jupyter.widget-view+json": {
       "version_major": 2,
       "version_minor": 0,
       "model_id": "4e7e23d538fd4d8ab701f0d9851de94a"
      }
     },
     "metadata": {},
     "output_type": "display_data"
    },
    {
     "name": "stdout",
     "output_type": "stream",
     "text": [
      "\n",
      "      Epoch    GPU_mem   box_loss   cls_loss   dfl_loss  Instances       Size\n"
     ]
    },
    {
     "name": "stderr",
     "output_type": "stream",
     "text": [
      "     47/100      2.09G     0.4048     0.2533      0.776         66        256: 100%|██████████| 250/250 [02:49<00:00,  1.47it/s]\n",
      "                 Class     Images  Instances      Box(P          R      mAP50  mAP50-95): 100%|██████████| 16/16 [00:08<00:00,  1.97it/s]\n"
     ]
    },
    {
     "name": "stdout",
     "output_type": "stream",
     "text": [
      "                   all       1999       1196      0.999      0.986      0.995      0.877\n"
     ]
    },
    {
     "data": {
      "text/plain": "Generating Visualizations for batch-1/1:   0%|          | 0/128 [00:00<?, ?it/s]",
      "application/vnd.jupyter.widget-view+json": {
       "version_major": 2,
       "version_minor": 0,
       "model_id": "8b246dd80007463f8b819289b04ca11e"
      }
     },
     "metadata": {},
     "output_type": "display_data"
    },
    {
     "data": {
      "text/plain": "Generating Visualizations for batch-1/1:   0%|          | 0/128 [00:00<?, ?it/s]",
      "application/vnd.jupyter.widget-view+json": {
       "version_major": 2,
       "version_minor": 0,
       "model_id": "55b334dd2d1d4fce8afb625f28386236"
      }
     },
     "metadata": {},
     "output_type": "display_data"
    },
    {
     "name": "stdout",
     "output_type": "stream",
     "text": [
      "\n",
      "      Epoch    GPU_mem   box_loss   cls_loss   dfl_loss  Instances       Size\n"
     ]
    },
    {
     "name": "stderr",
     "output_type": "stream",
     "text": [
      "     48/100       2.1G      0.405     0.2464     0.7767         76        256: 100%|██████████| 250/250 [02:58<00:00,  1.40it/s]\n",
      "                 Class     Images  Instances      Box(P          R      mAP50  mAP50-95): 100%|██████████| 16/16 [00:09<00:00,  1.75it/s]\n"
     ]
    },
    {
     "name": "stdout",
     "output_type": "stream",
     "text": [
      "                   all       1999       1196      0.999      0.986      0.995      0.878\n"
     ]
    },
    {
     "data": {
      "text/plain": "Generating Visualizations for batch-1/1:   0%|          | 0/128 [00:00<?, ?it/s]",
      "application/vnd.jupyter.widget-view+json": {
       "version_major": 2,
       "version_minor": 0,
       "model_id": "b86e31f4f1c2491f87ea83d6ad083e84"
      }
     },
     "metadata": {},
     "output_type": "display_data"
    },
    {
     "data": {
      "text/plain": "Generating Visualizations for batch-1/1:   0%|          | 0/79 [00:00<?, ?it/s]",
      "application/vnd.jupyter.widget-view+json": {
       "version_major": 2,
       "version_minor": 0,
       "model_id": "5b39023afdfb4602bd9dd661e4f46a07"
      }
     },
     "metadata": {},
     "output_type": "display_data"
    },
    {
     "name": "stdout",
     "output_type": "stream",
     "text": [
      "\n",
      "      Epoch    GPU_mem   box_loss   cls_loss   dfl_loss  Instances       Size\n"
     ]
    },
    {
     "name": "stderr",
     "output_type": "stream",
     "text": [
      "     49/100      2.11G     0.3989     0.2423     0.7765         56        256: 100%|██████████| 250/250 [02:54<00:00,  1.43it/s]\n",
      "                 Class     Images  Instances      Box(P          R      mAP50  mAP50-95): 100%|██████████| 16/16 [00:08<00:00,  1.95it/s]\n"
     ]
    },
    {
     "name": "stdout",
     "output_type": "stream",
     "text": [
      "                   all       1999       1196      0.998      0.988      0.995      0.878\n"
     ]
    },
    {
     "data": {
      "text/plain": "Generating Visualizations for batch-1/1:   0%|          | 0/128 [00:00<?, ?it/s]",
      "application/vnd.jupyter.widget-view+json": {
       "version_major": 2,
       "version_minor": 0,
       "model_id": "752695ac9e19437e8a2e0f68c5fbd16a"
      }
     },
     "metadata": {},
     "output_type": "display_data"
    },
    {
     "data": {
      "text/plain": "Generating Visualizations for batch-1/1:   0%|          | 0/128 [00:00<?, ?it/s]",
      "application/vnd.jupyter.widget-view+json": {
       "version_major": 2,
       "version_minor": 0,
       "model_id": "a8f1bbf740334755ab3c1571815a8c0f"
      }
     },
     "metadata": {},
     "output_type": "display_data"
    },
    {
     "name": "stdout",
     "output_type": "stream",
     "text": [
      "\n",
      "      Epoch    GPU_mem   box_loss   cls_loss   dfl_loss  Instances       Size\n"
     ]
    },
    {
     "name": "stderr",
     "output_type": "stream",
     "text": [
      "     50/100      2.13G      0.395     0.2415     0.7763         62        256: 100%|██████████| 250/250 [03:01<00:00,  1.38it/s]\n",
      "                 Class     Images  Instances      Box(P          R      mAP50  mAP50-95): 100%|██████████| 16/16 [00:08<00:00,  1.92it/s]\n"
     ]
    },
    {
     "name": "stdout",
     "output_type": "stream",
     "text": [
      "                   all       1999       1196      0.999      0.987      0.995       0.88\n"
     ]
    },
    {
     "data": {
      "text/plain": "Generating Visualizations for batch-1/1:   0%|          | 0/128 [00:00<?, ?it/s]",
      "application/vnd.jupyter.widget-view+json": {
       "version_major": 2,
       "version_minor": 0,
       "model_id": "53267e32cb3f48ca87f3d6ed1bf61e3a"
      }
     },
     "metadata": {},
     "output_type": "display_data"
    },
    {
     "data": {
      "text/plain": "Generating Visualizations for batch-1/1:   0%|          | 0/128 [00:00<?, ?it/s]",
      "application/vnd.jupyter.widget-view+json": {
       "version_major": 2,
       "version_minor": 0,
       "model_id": "764c59917869460a9a59bb0066f43358"
      }
     },
     "metadata": {},
     "output_type": "display_data"
    },
    {
     "name": "stdout",
     "output_type": "stream",
     "text": [
      "\n",
      "      Epoch    GPU_mem   box_loss   cls_loss   dfl_loss  Instances       Size\n"
     ]
    },
    {
     "name": "stderr",
     "output_type": "stream",
     "text": [
      "     51/100      2.14G      0.393     0.2422     0.7732         52        256: 100%|██████████| 250/250 [02:47<00:00,  1.49it/s]\n",
      "                 Class     Images  Instances      Box(P          R      mAP50  mAP50-95): 100%|██████████| 16/16 [00:07<00:00,  2.18it/s]\n"
     ]
    },
    {
     "name": "stdout",
     "output_type": "stream",
     "text": [
      "                   all       1999       1196      0.999      0.988      0.995      0.877\n"
     ]
    },
    {
     "data": {
      "text/plain": "Generating Visualizations for batch-1/1:   0%|          | 0/128 [00:00<?, ?it/s]",
      "application/vnd.jupyter.widget-view+json": {
       "version_major": 2,
       "version_minor": 0,
       "model_id": "c668e795821e4ca5a11b336891075a1f"
      }
     },
     "metadata": {},
     "output_type": "display_data"
    },
    {
     "data": {
      "text/plain": "Generating Visualizations for batch-1/1:   0%|          | 0/128 [00:00<?, ?it/s]",
      "application/vnd.jupyter.widget-view+json": {
       "version_major": 2,
       "version_minor": 0,
       "model_id": "e801368739e14ffab62d3ffdbe645926"
      }
     },
     "metadata": {},
     "output_type": "display_data"
    },
    {
     "name": "stdout",
     "output_type": "stream",
     "text": [
      "\n",
      "      Epoch    GPU_mem   box_loss   cls_loss   dfl_loss  Instances       Size\n"
     ]
    },
    {
     "name": "stderr",
     "output_type": "stream",
     "text": [
      "     52/100      2.15G     0.3912     0.2403     0.7723         61        256: 100%|██████████| 250/250 [02:36<00:00,  1.59it/s]\n",
      "                 Class     Images  Instances      Box(P          R      mAP50  mAP50-95): 100%|██████████| 16/16 [00:08<00:00,  1.97it/s]\n"
     ]
    },
    {
     "name": "stdout",
     "output_type": "stream",
     "text": [
      "                   all       1999       1196      0.999      0.988      0.995      0.878\n"
     ]
    },
    {
     "data": {
      "text/plain": "Generating Visualizations for batch-1/1:   0%|          | 0/128 [00:00<?, ?it/s]",
      "application/vnd.jupyter.widget-view+json": {
       "version_major": 2,
       "version_minor": 0,
       "model_id": "65f5a2ea2fe644df91b445e1078e2fb5"
      }
     },
     "metadata": {},
     "output_type": "display_data"
    },
    {
     "data": {
      "text/plain": "Generating Visualizations for batch-1/1:   0%|          | 0/128 [00:00<?, ?it/s]",
      "application/vnd.jupyter.widget-view+json": {
       "version_major": 2,
       "version_minor": 0,
       "model_id": "d65604a0d3d04abbbbf2f02892bc286a"
      }
     },
     "metadata": {},
     "output_type": "display_data"
    },
    {
     "name": "stdout",
     "output_type": "stream",
     "text": [
      "\n",
      "      Epoch    GPU_mem   box_loss   cls_loss   dfl_loss  Instances       Size\n"
     ]
    },
    {
     "name": "stderr",
     "output_type": "stream",
     "text": [
      "     53/100      2.17G     0.3825      0.239     0.7731         82        256: 100%|██████████| 250/250 [02:56<00:00,  1.42it/s]\n",
      "                 Class     Images  Instances      Box(P          R      mAP50  mAP50-95): 100%|██████████| 16/16 [00:08<00:00,  1.99it/s]\n"
     ]
    },
    {
     "name": "stdout",
     "output_type": "stream",
     "text": [
      "                   all       1999       1196      0.999      0.988      0.995      0.877\n"
     ]
    },
    {
     "data": {
      "text/plain": "Generating Visualizations for batch-1/1:   0%|          | 0/128 [00:00<?, ?it/s]",
      "application/vnd.jupyter.widget-view+json": {
       "version_major": 2,
       "version_minor": 0,
       "model_id": "9f380e41899f4878a9b2f988a72ffcff"
      }
     },
     "metadata": {},
     "output_type": "display_data"
    },
    {
     "data": {
      "text/plain": "Generating Visualizations for batch-1/1:   0%|          | 0/128 [00:00<?, ?it/s]",
      "application/vnd.jupyter.widget-view+json": {
       "version_major": 2,
       "version_minor": 0,
       "model_id": "f84fb962b2804e6da47643b3334015d0"
      }
     },
     "metadata": {},
     "output_type": "display_data"
    },
    {
     "name": "stdout",
     "output_type": "stream",
     "text": [
      "\n",
      "      Epoch    GPU_mem   box_loss   cls_loss   dfl_loss  Instances       Size\n"
     ]
    },
    {
     "name": "stderr",
     "output_type": "stream",
     "text": [
      "     54/100      2.19G     0.3848      0.237     0.7761         67        256: 100%|██████████| 250/250 [02:54<00:00,  1.43it/s]\n",
      "                 Class     Images  Instances      Box(P          R      mAP50  mAP50-95): 100%|██████████| 16/16 [00:08<00:00,  1.93it/s]\n"
     ]
    },
    {
     "name": "stdout",
     "output_type": "stream",
     "text": [
      "                   all       1999       1196      0.999      0.987      0.995      0.876\n"
     ]
    },
    {
     "data": {
      "text/plain": "Generating Visualizations for batch-1/1:   0%|          | 0/128 [00:00<?, ?it/s]",
      "application/vnd.jupyter.widget-view+json": {
       "version_major": 2,
       "version_minor": 0,
       "model_id": "a5f814605a6c49d889860b32f02c5447"
      }
     },
     "metadata": {},
     "output_type": "display_data"
    },
    {
     "data": {
      "text/plain": "Generating Visualizations for batch-1/1:   0%|          | 0/128 [00:00<?, ?it/s]",
      "application/vnd.jupyter.widget-view+json": {
       "version_major": 2,
       "version_minor": 0,
       "model_id": "80237df7f7604db292e8c5f37240b747"
      }
     },
     "metadata": {},
     "output_type": "display_data"
    },
    {
     "name": "stdout",
     "output_type": "stream",
     "text": [
      "\n",
      "      Epoch    GPU_mem   box_loss   cls_loss   dfl_loss  Instances       Size\n"
     ]
    },
    {
     "name": "stderr",
     "output_type": "stream",
     "text": [
      "     55/100       2.2G     0.3811     0.2339     0.7743         68        256: 100%|██████████| 250/250 [02:59<00:00,  1.39it/s]\n",
      "                 Class     Images  Instances      Box(P          R      mAP50  mAP50-95): 100%|██████████| 16/16 [00:08<00:00,  1.79it/s]\n"
     ]
    },
    {
     "name": "stdout",
     "output_type": "stream",
     "text": [
      "                   all       1999       1196      0.999      0.987      0.995      0.878\n"
     ]
    },
    {
     "data": {
      "text/plain": "Generating Visualizations for batch-1/1:   0%|          | 0/128 [00:00<?, ?it/s]",
      "application/vnd.jupyter.widget-view+json": {
       "version_major": 2,
       "version_minor": 0,
       "model_id": "acc32298877b49888548cc47ac59bec8"
      }
     },
     "metadata": {},
     "output_type": "display_data"
    },
    {
     "data": {
      "text/plain": "Generating Visualizations for batch-1/1:   0%|          | 0/128 [00:00<?, ?it/s]",
      "application/vnd.jupyter.widget-view+json": {
       "version_major": 2,
       "version_minor": 0,
       "model_id": "9af78bbb8a4c4b569b75b407b58ec4c8"
      }
     },
     "metadata": {},
     "output_type": "display_data"
    },
    {
     "name": "stdout",
     "output_type": "stream",
     "text": [
      "\n",
      "      Epoch    GPU_mem   box_loss   cls_loss   dfl_loss  Instances       Size\n"
     ]
    },
    {
     "name": "stderr",
     "output_type": "stream",
     "text": [
      "     56/100      2.21G     0.3772     0.2319     0.7748         67        256: 100%|██████████| 250/250 [02:37<00:00,  1.59it/s]\n",
      "                 Class     Images  Instances      Box(P          R      mAP50  mAP50-95): 100%|██████████| 16/16 [00:08<00:00,  1.97it/s]\n"
     ]
    },
    {
     "name": "stdout",
     "output_type": "stream",
     "text": [
      "                   all       1999       1196      0.999      0.987      0.995      0.877\n"
     ]
    },
    {
     "data": {
      "text/plain": "Generating Visualizations for batch-1/1:   0%|          | 0/128 [00:00<?, ?it/s]",
      "application/vnd.jupyter.widget-view+json": {
       "version_major": 2,
       "version_minor": 0,
       "model_id": "ccc6742fd549488cac5680d595377482"
      }
     },
     "metadata": {},
     "output_type": "display_data"
    },
    {
     "data": {
      "text/plain": "Generating Visualizations for batch-1/1:   0%|          | 0/79 [00:00<?, ?it/s]",
      "application/vnd.jupyter.widget-view+json": {
       "version_major": 2,
       "version_minor": 0,
       "model_id": "b10516b552614403a4fb7b5563589215"
      }
     },
     "metadata": {},
     "output_type": "display_data"
    },
    {
     "name": "stdout",
     "output_type": "stream",
     "text": [
      "\n",
      "      Epoch    GPU_mem   box_loss   cls_loss   dfl_loss  Instances       Size\n"
     ]
    },
    {
     "name": "stderr",
     "output_type": "stream",
     "text": [
      "     57/100      2.22G     0.3754     0.2311      0.775         74        256: 100%|██████████| 250/250 [02:59<00:00,  1.39it/s]\n",
      "                 Class     Images  Instances      Box(P          R      mAP50  mAP50-95): 100%|██████████| 16/16 [00:08<00:00,  1.95it/s]\n"
     ]
    },
    {
     "name": "stdout",
     "output_type": "stream",
     "text": [
      "                   all       1999       1196      0.999      0.987      0.995      0.877\n"
     ]
    },
    {
     "data": {
      "text/plain": "Generating Visualizations for batch-1/1:   0%|          | 0/128 [00:00<?, ?it/s]",
      "application/vnd.jupyter.widget-view+json": {
       "version_major": 2,
       "version_minor": 0,
       "model_id": "f8844e79200d4534a8ba93f90b203227"
      }
     },
     "metadata": {},
     "output_type": "display_data"
    },
    {
     "data": {
      "text/plain": "Generating Visualizations for batch-1/1:   0%|          | 0/128 [00:00<?, ?it/s]",
      "application/vnd.jupyter.widget-view+json": {
       "version_major": 2,
       "version_minor": 0,
       "model_id": "8c72cbe2650f4b1aaea66c8c4fc29194"
      }
     },
     "metadata": {},
     "output_type": "display_data"
    },
    {
     "name": "stdout",
     "output_type": "stream",
     "text": [
      "\n",
      "      Epoch    GPU_mem   box_loss   cls_loss   dfl_loss  Instances       Size\n"
     ]
    },
    {
     "name": "stderr",
     "output_type": "stream",
     "text": [
      "     58/100      2.23G       0.37     0.2283      0.774         59        256: 100%|██████████| 250/250 [02:58<00:00,  1.40it/s]\n",
      "                 Class     Images  Instances      Box(P          R      mAP50  mAP50-95): 100%|██████████| 16/16 [00:08<00:00,  1.91it/s]\n"
     ]
    },
    {
     "name": "stdout",
     "output_type": "stream",
     "text": [
      "                   all       1999       1196      0.995      0.992      0.995      0.878\n"
     ]
    },
    {
     "data": {
      "text/plain": "Generating Visualizations for batch-1/1:   0%|          | 0/128 [00:00<?, ?it/s]",
      "application/vnd.jupyter.widget-view+json": {
       "version_major": 2,
       "version_minor": 0,
       "model_id": "997c4c57b58e470a9b85e10fdad984c3"
      }
     },
     "metadata": {},
     "output_type": "display_data"
    },
    {
     "data": {
      "text/plain": "Generating Visualizations for batch-1/1:   0%|          | 0/128 [00:00<?, ?it/s]",
      "application/vnd.jupyter.widget-view+json": {
       "version_major": 2,
       "version_minor": 0,
       "model_id": "6ef89adf7bca4189a4b673c02f106557"
      }
     },
     "metadata": {},
     "output_type": "display_data"
    },
    {
     "name": "stdout",
     "output_type": "stream",
     "text": [
      "\n",
      "      Epoch    GPU_mem   box_loss   cls_loss   dfl_loss  Instances       Size\n"
     ]
    },
    {
     "name": "stderr",
     "output_type": "stream",
     "text": [
      "     59/100      2.24G     0.3697     0.2282     0.7726         72        256: 100%|██████████| 250/250 [02:56<00:00,  1.42it/s]\n",
      "                 Class     Images  Instances      Box(P          R      mAP50  mAP50-95): 100%|██████████| 16/16 [00:08<00:00,  1.94it/s]\n"
     ]
    },
    {
     "name": "stdout",
     "output_type": "stream",
     "text": [
      "                   all       1999       1196      0.995      0.992      0.995      0.878\n"
     ]
    },
    {
     "data": {
      "text/plain": "Generating Visualizations for batch-1/1:   0%|          | 0/128 [00:00<?, ?it/s]",
      "application/vnd.jupyter.widget-view+json": {
       "version_major": 2,
       "version_minor": 0,
       "model_id": "388521366e7f48b0b1100110cd82168e"
      }
     },
     "metadata": {},
     "output_type": "display_data"
    },
    {
     "data": {
      "text/plain": "Generating Visualizations for batch-1/1:   0%|          | 0/128 [00:00<?, ?it/s]",
      "application/vnd.jupyter.widget-view+json": {
       "version_major": 2,
       "version_minor": 0,
       "model_id": "1ebcf1bdbc0442f8a50fc29e3a956c28"
      }
     },
     "metadata": {},
     "output_type": "display_data"
    },
    {
     "name": "stdout",
     "output_type": "stream",
     "text": [
      "\n",
      "      Epoch    GPU_mem   box_loss   cls_loss   dfl_loss  Instances       Size\n"
     ]
    },
    {
     "name": "stderr",
     "output_type": "stream",
     "text": [
      "     60/100      2.25G     0.3639      0.223     0.7721         71        256: 100%|██████████| 250/250 [02:55<00:00,  1.42it/s]\n",
      "                 Class     Images  Instances      Box(P          R      mAP50  mAP50-95): 100%|██████████| 16/16 [00:08<00:00,  1.92it/s]\n"
     ]
    },
    {
     "name": "stdout",
     "output_type": "stream",
     "text": [
      "                   all       1999       1196      0.995      0.991      0.995       0.88\n"
     ]
    },
    {
     "data": {
      "text/plain": "Generating Visualizations for batch-1/1:   0%|          | 0/128 [00:00<?, ?it/s]",
      "application/vnd.jupyter.widget-view+json": {
       "version_major": 2,
       "version_minor": 0,
       "model_id": "dc52984e965b4709a5d7636d446ac599"
      }
     },
     "metadata": {},
     "output_type": "display_data"
    },
    {
     "data": {
      "text/plain": "Generating Visualizations for batch-1/1:   0%|          | 0/128 [00:00<?, ?it/s]",
      "application/vnd.jupyter.widget-view+json": {
       "version_major": 2,
       "version_minor": 0,
       "model_id": "7c17e05484aa4f35b8cf240ac8355ca0"
      }
     },
     "metadata": {},
     "output_type": "display_data"
    },
    {
     "name": "stdout",
     "output_type": "stream",
     "text": [
      "\n",
      "      Epoch    GPU_mem   box_loss   cls_loss   dfl_loss  Instances       Size\n"
     ]
    },
    {
     "name": "stderr",
     "output_type": "stream",
     "text": [
      "     61/100      2.26G     0.3631     0.2251     0.7738         73        256: 100%|██████████| 250/250 [02:55<00:00,  1.43it/s]\n",
      "                 Class     Images  Instances      Box(P          R      mAP50  mAP50-95): 100%|██████████| 16/16 [00:08<00:00,  1.90it/s]\n"
     ]
    },
    {
     "name": "stdout",
     "output_type": "stream",
     "text": [
      "                   all       1999       1196      0.999      0.987      0.995       0.88\n"
     ]
    },
    {
     "data": {
      "text/plain": "Generating Visualizations for batch-1/1:   0%|          | 0/128 [00:00<?, ?it/s]",
      "application/vnd.jupyter.widget-view+json": {
       "version_major": 2,
       "version_minor": 0,
       "model_id": "979e4db491a84b9895e2676462e0dc8d"
      }
     },
     "metadata": {},
     "output_type": "display_data"
    },
    {
     "data": {
      "text/plain": "Generating Visualizations for batch-1/1:   0%|          | 0/128 [00:00<?, ?it/s]",
      "application/vnd.jupyter.widget-view+json": {
       "version_major": 2,
       "version_minor": 0,
       "model_id": "10aca83d72a349a490aef03589a81163"
      }
     },
     "metadata": {},
     "output_type": "display_data"
    },
    {
     "name": "stdout",
     "output_type": "stream",
     "text": [
      "\n",
      "      Epoch    GPU_mem   box_loss   cls_loss   dfl_loss  Instances       Size\n"
     ]
    },
    {
     "name": "stderr",
     "output_type": "stream",
     "text": [
      "     62/100      2.27G     0.3607     0.2223     0.7737         70        256: 100%|██████████| 250/250 [03:00<00:00,  1.38it/s]\n",
      "                 Class     Images  Instances      Box(P          R      mAP50  mAP50-95): 100%|██████████| 16/16 [00:08<00:00,  1.86it/s]\n"
     ]
    },
    {
     "name": "stdout",
     "output_type": "stream",
     "text": [
      "                   all       1999       1196      0.999      0.987      0.995      0.882\n"
     ]
    },
    {
     "data": {
      "text/plain": "Generating Visualizations for batch-1/1:   0%|          | 0/128 [00:00<?, ?it/s]",
      "application/vnd.jupyter.widget-view+json": {
       "version_major": 2,
       "version_minor": 0,
       "model_id": "c7baf27c7a5343b79ba7a84c5ad6c32b"
      }
     },
     "metadata": {},
     "output_type": "display_data"
    },
    {
     "data": {
      "text/plain": "Generating Visualizations for batch-1/1:   0%|          | 0/128 [00:00<?, ?it/s]",
      "application/vnd.jupyter.widget-view+json": {
       "version_major": 2,
       "version_minor": 0,
       "model_id": "275943b7e28945d1b04a795256a5ce23"
      }
     },
     "metadata": {},
     "output_type": "display_data"
    },
    {
     "name": "stdout",
     "output_type": "stream",
     "text": [
      "\n",
      "      Epoch    GPU_mem   box_loss   cls_loss   dfl_loss  Instances       Size\n"
     ]
    },
    {
     "name": "stderr",
     "output_type": "stream",
     "text": [
      "     63/100      2.29G     0.3566     0.2221     0.7734         68        256: 100%|██████████| 250/250 [02:52<00:00,  1.45it/s]\n",
      "                 Class     Images  Instances      Box(P          R      mAP50  mAP50-95): 100%|██████████| 16/16 [00:07<00:00,  2.06it/s]\n"
     ]
    },
    {
     "name": "stdout",
     "output_type": "stream",
     "text": [
      "                   all       1999       1196      0.999      0.987      0.995      0.882\n"
     ]
    },
    {
     "data": {
      "text/plain": "Generating Visualizations for batch-1/1:   0%|          | 0/128 [00:00<?, ?it/s]",
      "application/vnd.jupyter.widget-view+json": {
       "version_major": 2,
       "version_minor": 0,
       "model_id": "0a15bd0a8fee4ef28fe48fdf8cf4cf0a"
      }
     },
     "metadata": {},
     "output_type": "display_data"
    },
    {
     "data": {
      "text/plain": "Generating Visualizations for batch-1/1:   0%|          | 0/128 [00:00<?, ?it/s]",
      "application/vnd.jupyter.widget-view+json": {
       "version_major": 2,
       "version_minor": 0,
       "model_id": "a5e87c61fda14a1d99a2d06fd1f63bce"
      }
     },
     "metadata": {},
     "output_type": "display_data"
    },
    {
     "name": "stdout",
     "output_type": "stream",
     "text": [
      "\n",
      "      Epoch    GPU_mem   box_loss   cls_loss   dfl_loss  Instances       Size\n"
     ]
    },
    {
     "name": "stderr",
     "output_type": "stream",
     "text": [
      "     64/100       2.3G     0.3504       0.22     0.7726         56        256: 100%|██████████| 250/250 [02:42<00:00,  1.54it/s]\n",
      "                 Class     Images  Instances      Box(P          R      mAP50  mAP50-95): 100%|██████████| 16/16 [00:07<00:00,  2.08it/s]\n"
     ]
    },
    {
     "name": "stdout",
     "output_type": "stream",
     "text": [
      "                   all       1999       1196      0.999      0.987      0.995      0.882\n"
     ]
    },
    {
     "data": {
      "text/plain": "Generating Visualizations for batch-1/1:   0%|          | 0/128 [00:00<?, ?it/s]",
      "application/vnd.jupyter.widget-view+json": {
       "version_major": 2,
       "version_minor": 0,
       "model_id": "3154fd90b80b48499b093388f3d7adad"
      }
     },
     "metadata": {},
     "output_type": "display_data"
    },
    {
     "data": {
      "text/plain": "Generating Visualizations for batch-1/1:   0%|          | 0/79 [00:00<?, ?it/s]",
      "application/vnd.jupyter.widget-view+json": {
       "version_major": 2,
       "version_minor": 0,
       "model_id": "6873473ca7d944deaa4c37d401d05679"
      }
     },
     "metadata": {},
     "output_type": "display_data"
    },
    {
     "name": "stdout",
     "output_type": "stream",
     "text": [
      "\n",
      "      Epoch    GPU_mem   box_loss   cls_loss   dfl_loss  Instances       Size\n"
     ]
    },
    {
     "name": "stderr",
     "output_type": "stream",
     "text": [
      "     65/100      2.31G     0.3558     0.2203     0.7727         76        256: 100%|██████████| 250/250 [02:45<00:00,  1.51it/s]\n",
      "                 Class     Images  Instances      Box(P          R      mAP50  mAP50-95): 100%|██████████| 16/16 [00:07<00:00,  2.08it/s]\n"
     ]
    },
    {
     "name": "stdout",
     "output_type": "stream",
     "text": [
      "                   all       1999       1196      0.999      0.987      0.995       0.88\n"
     ]
    },
    {
     "data": {
      "text/plain": "Generating Visualizations for batch-1/1:   0%|          | 0/128 [00:00<?, ?it/s]",
      "application/vnd.jupyter.widget-view+json": {
       "version_major": 2,
       "version_minor": 0,
       "model_id": "965649032c4d4caeab79d75ffed86d0a"
      }
     },
     "metadata": {},
     "output_type": "display_data"
    },
    {
     "data": {
      "text/plain": "Generating Visualizations for batch-1/1:   0%|          | 0/128 [00:00<?, ?it/s]",
      "application/vnd.jupyter.widget-view+json": {
       "version_major": 2,
       "version_minor": 0,
       "model_id": "cfe9c9b4d7214427b40e1e213584dbea"
      }
     },
     "metadata": {},
     "output_type": "display_data"
    },
    {
     "name": "stdout",
     "output_type": "stream",
     "text": [
      "\n",
      "      Epoch    GPU_mem   box_loss   cls_loss   dfl_loss  Instances       Size\n"
     ]
    },
    {
     "name": "stderr",
     "output_type": "stream",
     "text": [
      "     66/100      2.32G     0.3472     0.2163     0.7743         62        256: 100%|██████████| 250/250 [02:32<00:00,  1.64it/s]\n",
      "                 Class     Images  Instances      Box(P          R      mAP50  mAP50-95): 100%|██████████| 16/16 [00:06<00:00,  2.31it/s]\n"
     ]
    },
    {
     "name": "stdout",
     "output_type": "stream",
     "text": [
      "                   all       1999       1196      0.999      0.988      0.995      0.883\n"
     ]
    },
    {
     "data": {
      "text/plain": "Generating Visualizations for batch-1/1:   0%|          | 0/128 [00:00<?, ?it/s]",
      "application/vnd.jupyter.widget-view+json": {
       "version_major": 2,
       "version_minor": 0,
       "model_id": "10f02684e36f49688098f2ae6f179212"
      }
     },
     "metadata": {},
     "output_type": "display_data"
    },
    {
     "data": {
      "text/plain": "Generating Visualizations for batch-1/1:   0%|          | 0/128 [00:00<?, ?it/s]",
      "application/vnd.jupyter.widget-view+json": {
       "version_major": 2,
       "version_minor": 0,
       "model_id": "1d94381640964817b5843ac3cabed7e4"
      }
     },
     "metadata": {},
     "output_type": "display_data"
    },
    {
     "name": "stdout",
     "output_type": "stream",
     "text": [
      "\n",
      "      Epoch    GPU_mem   box_loss   cls_loss   dfl_loss  Instances       Size\n"
     ]
    },
    {
     "name": "stderr",
     "output_type": "stream",
     "text": [
      "     67/100      2.35G     0.3455     0.2142     0.7728         66        256: 100%|██████████| 250/250 [02:24<00:00,  1.73it/s]\n",
      "                 Class     Images  Instances      Box(P          R      mAP50  mAP50-95): 100%|██████████| 16/16 [00:07<00:00,  2.08it/s]\n"
     ]
    },
    {
     "name": "stdout",
     "output_type": "stream",
     "text": [
      "                   all       1999       1196      0.999      0.988      0.995      0.883\n"
     ]
    },
    {
     "data": {
      "text/plain": "Generating Visualizations for batch-1/1:   0%|          | 0/128 [00:00<?, ?it/s]",
      "application/vnd.jupyter.widget-view+json": {
       "version_major": 2,
       "version_minor": 0,
       "model_id": "aa23559bafa24cf0a5c3da658ca3ad60"
      }
     },
     "metadata": {},
     "output_type": "display_data"
    },
    {
     "data": {
      "text/plain": "Generating Visualizations for batch-1/1:   0%|          | 0/128 [00:00<?, ?it/s]",
      "application/vnd.jupyter.widget-view+json": {
       "version_major": 2,
       "version_minor": 0,
       "model_id": "2cfd21242e75409f810ca74d26074e2e"
      }
     },
     "metadata": {},
     "output_type": "display_data"
    },
    {
     "name": "stdout",
     "output_type": "stream",
     "text": [
      "\n",
      "      Epoch    GPU_mem   box_loss   cls_loss   dfl_loss  Instances       Size\n"
     ]
    },
    {
     "name": "stderr",
     "output_type": "stream",
     "text": [
      "     68/100      2.36G     0.3441      0.211     0.7744         55        256: 100%|██████████| 250/250 [02:27<00:00,  1.70it/s]\n",
      "                 Class     Images  Instances      Box(P          R      mAP50  mAP50-95): 100%|██████████| 16/16 [00:07<00:00,  2.03it/s]\n"
     ]
    },
    {
     "name": "stdout",
     "output_type": "stream",
     "text": [
      "                   all       1999       1196      0.999      0.988      0.995      0.883\n"
     ]
    },
    {
     "data": {
      "text/plain": "Generating Visualizations for batch-1/1:   0%|          | 0/128 [00:00<?, ?it/s]",
      "application/vnd.jupyter.widget-view+json": {
       "version_major": 2,
       "version_minor": 0,
       "model_id": "f1aa509ff8334e4a8cbd81de0501a307"
      }
     },
     "metadata": {},
     "output_type": "display_data"
    },
    {
     "data": {
      "text/plain": "Generating Visualizations for batch-1/1:   0%|          | 0/128 [00:00<?, ?it/s]",
      "application/vnd.jupyter.widget-view+json": {
       "version_major": 2,
       "version_minor": 0,
       "model_id": "82214140743342d5a7aa0155a20a48cd"
      }
     },
     "metadata": {},
     "output_type": "display_data"
    },
    {
     "name": "stdout",
     "output_type": "stream",
     "text": [
      "\n",
      "      Epoch    GPU_mem   box_loss   cls_loss   dfl_loss  Instances       Size\n"
     ]
    },
    {
     "name": "stderr",
     "output_type": "stream",
     "text": [
      "     69/100      2.37G     0.3429     0.2122     0.7724         56        256: 100%|██████████| 250/250 [02:27<00:00,  1.70it/s]\n",
      "                 Class     Images  Instances      Box(P          R      mAP50  mAP50-95): 100%|██████████| 16/16 [00:06<00:00,  2.37it/s]\n"
     ]
    },
    {
     "name": "stdout",
     "output_type": "stream",
     "text": [
      "                   all       1999       1196      0.999      0.988      0.995      0.884\n"
     ]
    },
    {
     "data": {
      "text/plain": "Generating Visualizations for batch-1/1:   0%|          | 0/128 [00:00<?, ?it/s]",
      "application/vnd.jupyter.widget-view+json": {
       "version_major": 2,
       "version_minor": 0,
       "model_id": "62c7c198e17a426c82d58fe6052d2ea1"
      }
     },
     "metadata": {},
     "output_type": "display_data"
    },
    {
     "data": {
      "text/plain": "Generating Visualizations for batch-1/1:   0%|          | 0/128 [00:00<?, ?it/s]",
      "application/vnd.jupyter.widget-view+json": {
       "version_major": 2,
       "version_minor": 0,
       "model_id": "44c32d2cfbd74fb6bba2c74faf99920c"
      }
     },
     "metadata": {},
     "output_type": "display_data"
    },
    {
     "name": "stdout",
     "output_type": "stream",
     "text": [
      "\n",
      "      Epoch    GPU_mem   box_loss   cls_loss   dfl_loss  Instances       Size\n"
     ]
    },
    {
     "name": "stderr",
     "output_type": "stream",
     "text": [
      "     70/100      2.38G     0.3364     0.2122     0.7706         68        256: 100%|██████████| 250/250 [02:31<00:00,  1.65it/s]\n",
      "                 Class     Images  Instances      Box(P          R      mAP50  mAP50-95): 100%|██████████| 16/16 [00:07<00:00,  2.14it/s]\n"
     ]
    },
    {
     "name": "stdout",
     "output_type": "stream",
     "text": [
      "                   all       1999       1196      0.999      0.987      0.995      0.884\n"
     ]
    },
    {
     "data": {
      "text/plain": "Generating Visualizations for batch-1/1:   0%|          | 0/128 [00:00<?, ?it/s]",
      "application/vnd.jupyter.widget-view+json": {
       "version_major": 2,
       "version_minor": 0,
       "model_id": "3c0e06875f354f2c8c5a59a5fbfc9e80"
      }
     },
     "metadata": {},
     "output_type": "display_data"
    },
    {
     "data": {
      "text/plain": "Generating Visualizations for batch-1/1:   0%|          | 0/128 [00:00<?, ?it/s]",
      "application/vnd.jupyter.widget-view+json": {
       "version_major": 2,
       "version_minor": 0,
       "model_id": "11fb03df3762445f819e5d26bebbb4ea"
      }
     },
     "metadata": {},
     "output_type": "display_data"
    },
    {
     "name": "stdout",
     "output_type": "stream",
     "text": [
      "\n",
      "      Epoch    GPU_mem   box_loss   cls_loss   dfl_loss  Instances       Size\n"
     ]
    },
    {
     "name": "stderr",
     "output_type": "stream",
     "text": [
      "     71/100      2.39G     0.3366     0.2068     0.7719         69        256: 100%|██████████| 250/250 [02:22<00:00,  1.76it/s]\n",
      "                 Class     Images  Instances      Box(P          R      mAP50  mAP50-95): 100%|██████████| 16/16 [00:06<00:00,  2.33it/s]\n"
     ]
    },
    {
     "name": "stdout",
     "output_type": "stream",
     "text": [
      "                   all       1999       1196      0.999      0.987      0.995      0.884\n"
     ]
    },
    {
     "data": {
      "text/plain": "Generating Visualizations for batch-1/1:   0%|          | 0/128 [00:00<?, ?it/s]",
      "application/vnd.jupyter.widget-view+json": {
       "version_major": 2,
       "version_minor": 0,
       "model_id": "a809d20b660949bc8c86499acb049e10"
      }
     },
     "metadata": {},
     "output_type": "display_data"
    },
    {
     "data": {
      "text/plain": "Generating Visualizations for batch-1/1:   0%|          | 0/128 [00:00<?, ?it/s]",
      "application/vnd.jupyter.widget-view+json": {
       "version_major": 2,
       "version_minor": 0,
       "model_id": "dc87db510c084fd5a5f97fb0faca8f2b"
      }
     },
     "metadata": {},
     "output_type": "display_data"
    },
    {
     "name": "stdout",
     "output_type": "stream",
     "text": [
      "\n",
      "      Epoch    GPU_mem   box_loss   cls_loss   dfl_loss  Instances       Size\n"
     ]
    },
    {
     "name": "stderr",
     "output_type": "stream",
     "text": [
      "     72/100       2.4G     0.3319      0.204      0.774         71        256: 100%|██████████| 250/250 [02:28<00:00,  1.68it/s]\n",
      "                 Class     Images  Instances      Box(P          R      mAP50  mAP50-95): 100%|██████████| 16/16 [00:07<00:00,  2.21it/s]\n"
     ]
    },
    {
     "name": "stdout",
     "output_type": "stream",
     "text": [
      "                   all       1999       1196      0.999      0.987      0.995      0.883\n"
     ]
    },
    {
     "data": {
      "text/plain": "Generating Visualizations for batch-1/1:   0%|          | 0/128 [00:00<?, ?it/s]",
      "application/vnd.jupyter.widget-view+json": {
       "version_major": 2,
       "version_minor": 0,
       "model_id": "0c307274e328477b91e09d1ad808e9bb"
      }
     },
     "metadata": {},
     "output_type": "display_data"
    },
    {
     "data": {
      "text/plain": "Generating Visualizations for batch-1/1:   0%|          | 0/79 [00:00<?, ?it/s]",
      "application/vnd.jupyter.widget-view+json": {
       "version_major": 2,
       "version_minor": 0,
       "model_id": "e520b3b4223449e0aef48064a3002895"
      }
     },
     "metadata": {},
     "output_type": "display_data"
    },
    {
     "name": "stdout",
     "output_type": "stream",
     "text": [
      "\n",
      "      Epoch    GPU_mem   box_loss   cls_loss   dfl_loss  Instances       Size\n"
     ]
    },
    {
     "name": "stderr",
     "output_type": "stream",
     "text": [
      "     73/100      2.41G     0.3327     0.2053     0.7722         67        256: 100%|██████████| 250/250 [02:27<00:00,  1.69it/s]\n",
      "                 Class     Images  Instances      Box(P          R      mAP50  mAP50-95): 100%|██████████| 16/16 [00:06<00:00,  2.38it/s]\n"
     ]
    },
    {
     "name": "stdout",
     "output_type": "stream",
     "text": [
      "                   all       1999       1196      0.999      0.987      0.995      0.884\n"
     ]
    },
    {
     "data": {
      "text/plain": "Generating Visualizations for batch-1/1:   0%|          | 0/128 [00:00<?, ?it/s]",
      "application/vnd.jupyter.widget-view+json": {
       "version_major": 2,
       "version_minor": 0,
       "model_id": "6bf59c91af074d11b7cbc960dd5be66b"
      }
     },
     "metadata": {},
     "output_type": "display_data"
    },
    {
     "data": {
      "text/plain": "Generating Visualizations for batch-1/1:   0%|          | 0/128 [00:00<?, ?it/s]",
      "application/vnd.jupyter.widget-view+json": {
       "version_major": 2,
       "version_minor": 0,
       "model_id": "9f8155a52f9740429ad9dedaa63ee9a9"
      }
     },
     "metadata": {},
     "output_type": "display_data"
    },
    {
     "name": "stdout",
     "output_type": "stream",
     "text": [
      "\n",
      "      Epoch    GPU_mem   box_loss   cls_loss   dfl_loss  Instances       Size\n"
     ]
    },
    {
     "name": "stderr",
     "output_type": "stream",
     "text": [
      "     74/100      2.42G     0.3226     0.1992     0.7724         55        256: 100%|██████████| 250/250 [02:19<00:00,  1.79it/s]\n",
      "                 Class     Images  Instances      Box(P          R      mAP50  mAP50-95): 100%|██████████| 16/16 [00:07<00:00,  2.25it/s]\n"
     ]
    },
    {
     "name": "stdout",
     "output_type": "stream",
     "text": [
      "                   all       1999       1196      0.999      0.987      0.995      0.885\n"
     ]
    },
    {
     "data": {
      "text/plain": "Generating Visualizations for batch-1/1:   0%|          | 0/128 [00:00<?, ?it/s]",
      "application/vnd.jupyter.widget-view+json": {
       "version_major": 2,
       "version_minor": 0,
       "model_id": "c41bb158f92946e89c2caabf26c12aa1"
      }
     },
     "metadata": {},
     "output_type": "display_data"
    },
    {
     "data": {
      "text/plain": "Generating Visualizations for batch-1/1:   0%|          | 0/128 [00:00<?, ?it/s]",
      "application/vnd.jupyter.widget-view+json": {
       "version_major": 2,
       "version_minor": 0,
       "model_id": "f72dc6aa75264942942aa923d9260ecd"
      }
     },
     "metadata": {},
     "output_type": "display_data"
    },
    {
     "name": "stdout",
     "output_type": "stream",
     "text": [
      "\n",
      "      Epoch    GPU_mem   box_loss   cls_loss   dfl_loss  Instances       Size\n"
     ]
    },
    {
     "name": "stderr",
     "output_type": "stream",
     "text": [
      "     75/100      2.43G     0.3243     0.2024     0.7711         73        256: 100%|██████████| 250/250 [02:24<00:00,  1.72it/s]\n",
      "                 Class     Images  Instances      Box(P          R      mAP50  mAP50-95): 100%|██████████| 16/16 [00:07<00:00,  2.18it/s]\n"
     ]
    },
    {
     "name": "stdout",
     "output_type": "stream",
     "text": [
      "                   all       1999       1196      0.999      0.987      0.995      0.885\n"
     ]
    },
    {
     "data": {
      "text/plain": "Generating Visualizations for batch-1/1:   0%|          | 0/128 [00:00<?, ?it/s]",
      "application/vnd.jupyter.widget-view+json": {
       "version_major": 2,
       "version_minor": 0,
       "model_id": "ac7a4f25d89946c6b77656b639b82ae5"
      }
     },
     "metadata": {},
     "output_type": "display_data"
    },
    {
     "data": {
      "text/plain": "Generating Visualizations for batch-1/1:   0%|          | 0/128 [00:00<?, ?it/s]",
      "application/vnd.jupyter.widget-view+json": {
       "version_major": 2,
       "version_minor": 0,
       "model_id": "4fa24d6f35b94b9d894a56ed20046187"
      }
     },
     "metadata": {},
     "output_type": "display_data"
    },
    {
     "name": "stdout",
     "output_type": "stream",
     "text": [
      "\n",
      "      Epoch    GPU_mem   box_loss   cls_loss   dfl_loss  Instances       Size\n"
     ]
    },
    {
     "name": "stderr",
     "output_type": "stream",
     "text": [
      "     76/100      2.45G      0.322     0.2007      0.772         76        256: 100%|██████████| 250/250 [02:24<00:00,  1.73it/s]\n",
      "                 Class     Images  Instances      Box(P          R      mAP50  mAP50-95): 100%|██████████| 16/16 [00:07<00:00,  2.02it/s]\n"
     ]
    },
    {
     "name": "stdout",
     "output_type": "stream",
     "text": [
      "                   all       1999       1196      0.999      0.987      0.995      0.886\n"
     ]
    },
    {
     "data": {
      "text/plain": "Generating Visualizations for batch-1/1:   0%|          | 0/128 [00:00<?, ?it/s]",
      "application/vnd.jupyter.widget-view+json": {
       "version_major": 2,
       "version_minor": 0,
       "model_id": "bb5ec84036cd4c4c8fc83bf74d84d6c5"
      }
     },
     "metadata": {},
     "output_type": "display_data"
    },
    {
     "data": {
      "text/plain": "Generating Visualizations for batch-1/1:   0%|          | 0/128 [00:00<?, ?it/s]",
      "application/vnd.jupyter.widget-view+json": {
       "version_major": 2,
       "version_minor": 0,
       "model_id": "31ae28e1ef594047bde5f2c55686f830"
      }
     },
     "metadata": {},
     "output_type": "display_data"
    },
    {
     "name": "stdout",
     "output_type": "stream",
     "text": [
      "\n",
      "      Epoch    GPU_mem   box_loss   cls_loss   dfl_loss  Instances       Size\n"
     ]
    },
    {
     "name": "stderr",
     "output_type": "stream",
     "text": [
      "     77/100      2.46G      0.311     0.1946     0.7727         65        256: 100%|██████████| 250/250 [02:28<00:00,  1.68it/s]\n",
      "                 Class     Images  Instances      Box(P          R      mAP50  mAP50-95): 100%|██████████| 16/16 [00:07<00:00,  2.15it/s]\n"
     ]
    },
    {
     "name": "stdout",
     "output_type": "stream",
     "text": [
      "                   all       1999       1196      0.999      0.987      0.995      0.886\n"
     ]
    },
    {
     "data": {
      "text/plain": "Generating Visualizations for batch-1/1:   0%|          | 0/128 [00:00<?, ?it/s]",
      "application/vnd.jupyter.widget-view+json": {
       "version_major": 2,
       "version_minor": 0,
       "model_id": "6cdee00c9c1e44f582c270bbc684fd82"
      }
     },
     "metadata": {},
     "output_type": "display_data"
    },
    {
     "data": {
      "text/plain": "Generating Visualizations for batch-1/1:   0%|          | 0/128 [00:00<?, ?it/s]",
      "application/vnd.jupyter.widget-view+json": {
       "version_major": 2,
       "version_minor": 0,
       "model_id": "da7d4b34eead45a496fd524b72a8460f"
      }
     },
     "metadata": {},
     "output_type": "display_data"
    },
    {
     "name": "stdout",
     "output_type": "stream",
     "text": [
      "\n",
      "      Epoch    GPU_mem   box_loss   cls_loss   dfl_loss  Instances       Size\n"
     ]
    },
    {
     "name": "stderr",
     "output_type": "stream",
     "text": [
      "     78/100      2.47G     0.3138     0.1937     0.7711         85        256: 100%|██████████| 250/250 [02:18<00:00,  1.80it/s]\n",
      "                 Class     Images  Instances      Box(P          R      mAP50  mAP50-95): 100%|██████████| 16/16 [00:07<00:00,  2.17it/s]\n"
     ]
    },
    {
     "name": "stdout",
     "output_type": "stream",
     "text": [
      "                   all       1999       1196      0.999      0.987      0.995      0.887\n"
     ]
    },
    {
     "data": {
      "text/plain": "Generating Visualizations for batch-1/1:   0%|          | 0/128 [00:00<?, ?it/s]",
      "application/vnd.jupyter.widget-view+json": {
       "version_major": 2,
       "version_minor": 0,
       "model_id": "ec51144ac6dd4b3b8dbeae2bc414c581"
      }
     },
     "metadata": {},
     "output_type": "display_data"
    },
    {
     "data": {
      "text/plain": "Generating Visualizations for batch-1/1:   0%|          | 0/128 [00:00<?, ?it/s]",
      "application/vnd.jupyter.widget-view+json": {
       "version_major": 2,
       "version_minor": 0,
       "model_id": "794f805866204b57bb4702ee51f8f87c"
      }
     },
     "metadata": {},
     "output_type": "display_data"
    },
    {
     "name": "stdout",
     "output_type": "stream",
     "text": [
      "\n",
      "      Epoch    GPU_mem   box_loss   cls_loss   dfl_loss  Instances       Size\n"
     ]
    },
    {
     "name": "stderr",
     "output_type": "stream",
     "text": [
      "     79/100      2.48G     0.3143     0.1935      0.775         62        256: 100%|██████████| 250/250 [02:28<00:00,  1.69it/s]\n",
      "                 Class     Images  Instances      Box(P          R      mAP50  mAP50-95): 100%|██████████| 16/16 [00:07<00:00,  2.28it/s]\n"
     ]
    },
    {
     "name": "stdout",
     "output_type": "stream",
     "text": [
      "                   all       1999       1196      0.999      0.987      0.995      0.887\n"
     ]
    },
    {
     "data": {
      "text/plain": "Generating Visualizations for batch-1/1:   0%|          | 0/128 [00:00<?, ?it/s]",
      "application/vnd.jupyter.widget-view+json": {
       "version_major": 2,
       "version_minor": 0,
       "model_id": "34e9b7766e1b4f8cb01d85cce31122e8"
      }
     },
     "metadata": {},
     "output_type": "display_data"
    },
    {
     "data": {
      "text/plain": "Generating Visualizations for batch-1/1:   0%|          | 0/128 [00:00<?, ?it/s]",
      "application/vnd.jupyter.widget-view+json": {
       "version_major": 2,
       "version_minor": 0,
       "model_id": "f7068f0c314c4d96adcd8a5d6b6a5c58"
      }
     },
     "metadata": {},
     "output_type": "display_data"
    },
    {
     "name": "stdout",
     "output_type": "stream",
     "text": [
      "\n",
      "      Epoch    GPU_mem   box_loss   cls_loss   dfl_loss  Instances       Size\n"
     ]
    },
    {
     "name": "stderr",
     "output_type": "stream",
     "text": [
      "     80/100      2.49G     0.3063     0.1909     0.7686         72        256: 100%|██████████| 250/250 [02:21<00:00,  1.76it/s]\n",
      "                 Class     Images  Instances      Box(P          R      mAP50  mAP50-95): 100%|██████████| 16/16 [00:07<00:00,  2.16it/s]\n"
     ]
    },
    {
     "name": "stdout",
     "output_type": "stream",
     "text": [
      "                   all       1999       1196      0.999      0.987      0.995      0.887\n"
     ]
    },
    {
     "data": {
      "text/plain": "Generating Visualizations for batch-1/1:   0%|          | 0/128 [00:00<?, ?it/s]",
      "application/vnd.jupyter.widget-view+json": {
       "version_major": 2,
       "version_minor": 0,
       "model_id": "5ba539a5a39a40b29becbced82eb26e6"
      }
     },
     "metadata": {},
     "output_type": "display_data"
    },
    {
     "data": {
      "text/plain": "Generating Visualizations for batch-1/1:   0%|          | 0/79 [00:00<?, ?it/s]",
      "application/vnd.jupyter.widget-view+json": {
       "version_major": 2,
       "version_minor": 0,
       "model_id": "c645b585ecd54c018dd8566d3b4facdd"
      }
     },
     "metadata": {},
     "output_type": "display_data"
    },
    {
     "name": "stdout",
     "output_type": "stream",
     "text": [
      "\n",
      "      Epoch    GPU_mem   box_loss   cls_loss   dfl_loss  Instances       Size\n"
     ]
    },
    {
     "name": "stderr",
     "output_type": "stream",
     "text": [
      "     81/100      2.52G      0.306     0.1908     0.7718         70        256: 100%|██████████| 250/250 [02:24<00:00,  1.73it/s]\n",
      "                 Class     Images  Instances      Box(P          R      mAP50  mAP50-95): 100%|██████████| 16/16 [00:07<00:00,  2.21it/s]\n"
     ]
    },
    {
     "name": "stdout",
     "output_type": "stream",
     "text": [
      "                   all       1999       1196      0.999      0.987      0.995      0.888\n"
     ]
    },
    {
     "data": {
      "text/plain": "Generating Visualizations for batch-1/1:   0%|          | 0/128 [00:00<?, ?it/s]",
      "application/vnd.jupyter.widget-view+json": {
       "version_major": 2,
       "version_minor": 0,
       "model_id": "8ff8bd263c924bd288c42dd87fe73e8b"
      }
     },
     "metadata": {},
     "output_type": "display_data"
    },
    {
     "data": {
      "text/plain": "Generating Visualizations for batch-1/1:   0%|          | 0/128 [00:00<?, ?it/s]",
      "application/vnd.jupyter.widget-view+json": {
       "version_major": 2,
       "version_minor": 0,
       "model_id": "4ab25897486b4f14ba32f2392743b902"
      }
     },
     "metadata": {},
     "output_type": "display_data"
    },
    {
     "name": "stdout",
     "output_type": "stream",
     "text": [
      "\n",
      "      Epoch    GPU_mem   box_loss   cls_loss   dfl_loss  Instances       Size\n"
     ]
    },
    {
     "name": "stderr",
     "output_type": "stream",
     "text": [
      "     82/100      2.53G     0.3035     0.1873     0.7708         64        256: 100%|██████████| 250/250 [02:21<00:00,  1.77it/s]\n",
      "                 Class     Images  Instances      Box(P          R      mAP50  mAP50-95): 100%|██████████| 16/16 [00:06<00:00,  2.45it/s]\n"
     ]
    },
    {
     "name": "stdout",
     "output_type": "stream",
     "text": [
      "                   all       1999       1196      0.999      0.987      0.995      0.887\n"
     ]
    },
    {
     "data": {
      "text/plain": "Generating Visualizations for batch-1/1:   0%|          | 0/128 [00:00<?, ?it/s]",
      "application/vnd.jupyter.widget-view+json": {
       "version_major": 2,
       "version_minor": 0,
       "model_id": "4ed7ad1fd66e453f9f194dd8a3e065f7"
      }
     },
     "metadata": {},
     "output_type": "display_data"
    },
    {
     "data": {
      "text/plain": "Generating Visualizations for batch-1/1:   0%|          | 0/128 [00:00<?, ?it/s]",
      "application/vnd.jupyter.widget-view+json": {
       "version_major": 2,
       "version_minor": 0,
       "model_id": "8296b754a75a4448a9873eaf53ba4ea5"
      }
     },
     "metadata": {},
     "output_type": "display_data"
    },
    {
     "name": "stdout",
     "output_type": "stream",
     "text": [
      "\n",
      "      Epoch    GPU_mem   box_loss   cls_loss   dfl_loss  Instances       Size\n"
     ]
    },
    {
     "name": "stderr",
     "output_type": "stream",
     "text": [
      "     83/100      2.54G     0.2999     0.1853     0.7713         61        256: 100%|██████████| 250/250 [02:27<00:00,  1.70it/s]\n",
      "                 Class     Images  Instances      Box(P          R      mAP50  mAP50-95): 100%|██████████| 16/16 [00:06<00:00,  2.46it/s]\n"
     ]
    },
    {
     "name": "stdout",
     "output_type": "stream",
     "text": [
      "                   all       1999       1196      0.999      0.987      0.995      0.888\n"
     ]
    },
    {
     "data": {
      "text/plain": "Generating Visualizations for batch-1/1:   0%|          | 0/128 [00:00<?, ?it/s]",
      "application/vnd.jupyter.widget-view+json": {
       "version_major": 2,
       "version_minor": 0,
       "model_id": "a40874b9e7f94fe8865360f4abbd0666"
      }
     },
     "metadata": {},
     "output_type": "display_data"
    },
    {
     "data": {
      "text/plain": "Generating Visualizations for batch-1/1:   0%|          | 0/128 [00:00<?, ?it/s]",
      "application/vnd.jupyter.widget-view+json": {
       "version_major": 2,
       "version_minor": 0,
       "model_id": "25720047b5794ad492c8d2e41744a495"
      }
     },
     "metadata": {},
     "output_type": "display_data"
    },
    {
     "name": "stdout",
     "output_type": "stream",
     "text": [
      "\n",
      "      Epoch    GPU_mem   box_loss   cls_loss   dfl_loss  Instances       Size\n"
     ]
    },
    {
     "name": "stderr",
     "output_type": "stream",
     "text": [
      "     84/100      2.55G     0.2961     0.1851     0.7709         60        256: 100%|██████████| 250/250 [02:16<00:00,  1.83it/s]\n",
      "                 Class     Images  Instances      Box(P          R      mAP50  mAP50-95): 100%|██████████| 16/16 [00:07<00:00,  2.21it/s]\n"
     ]
    },
    {
     "name": "stdout",
     "output_type": "stream",
     "text": [
      "                   all       1999       1196      0.999      0.987      0.995      0.888\n"
     ]
    },
    {
     "data": {
      "text/plain": "Generating Visualizations for batch-1/1:   0%|          | 0/128 [00:00<?, ?it/s]",
      "application/vnd.jupyter.widget-view+json": {
       "version_major": 2,
       "version_minor": 0,
       "model_id": "e5f8bc923d424e7d9b261769c5063264"
      }
     },
     "metadata": {},
     "output_type": "display_data"
    },
    {
     "data": {
      "text/plain": "Generating Visualizations for batch-1/1:   0%|          | 0/128 [00:00<?, ?it/s]",
      "application/vnd.jupyter.widget-view+json": {
       "version_major": 2,
       "version_minor": 0,
       "model_id": "d50fef253cd64d679b754b24aba2982f"
      }
     },
     "metadata": {},
     "output_type": "display_data"
    },
    {
     "name": "stdout",
     "output_type": "stream",
     "text": [
      "\n",
      "      Epoch    GPU_mem   box_loss   cls_loss   dfl_loss  Instances       Size\n"
     ]
    },
    {
     "name": "stderr",
     "output_type": "stream",
     "text": [
      "     85/100      2.56G     0.2994     0.1833     0.7705         62        256: 100%|██████████| 250/250 [02:22<00:00,  1.75it/s]\n",
      "                 Class     Images  Instances      Box(P          R      mAP50  mAP50-95): 100%|██████████| 16/16 [00:06<00:00,  2.43it/s]\n"
     ]
    },
    {
     "name": "stdout",
     "output_type": "stream",
     "text": [
      "                   all       1999       1196      0.999      0.987      0.995      0.888\n"
     ]
    },
    {
     "data": {
      "text/plain": "Generating Visualizations for batch-1/1:   0%|          | 0/128 [00:00<?, ?it/s]",
      "application/vnd.jupyter.widget-view+json": {
       "version_major": 2,
       "version_minor": 0,
       "model_id": "30185b86fe444d7c989c31b16da8f766"
      }
     },
     "metadata": {},
     "output_type": "display_data"
    },
    {
     "data": {
      "text/plain": "Generating Visualizations for batch-1/1:   0%|          | 0/128 [00:00<?, ?it/s]",
      "application/vnd.jupyter.widget-view+json": {
       "version_major": 2,
       "version_minor": 0,
       "model_id": "d20684834cad431882694d2ff4085248"
      }
     },
     "metadata": {},
     "output_type": "display_data"
    },
    {
     "name": "stdout",
     "output_type": "stream",
     "text": [
      "\n",
      "      Epoch    GPU_mem   box_loss   cls_loss   dfl_loss  Instances       Size\n"
     ]
    },
    {
     "name": "stderr",
     "output_type": "stream",
     "text": [
      "     86/100      2.57G     0.2958     0.1842     0.7706         54        256: 100%|██████████| 250/250 [02:20<00:00,  1.78it/s]\n",
      "                 Class     Images  Instances      Box(P          R      mAP50  mAP50-95): 100%|██████████| 16/16 [00:06<00:00,  2.36it/s]\n"
     ]
    },
    {
     "name": "stdout",
     "output_type": "stream",
     "text": [
      "                   all       1999       1196      0.999      0.987      0.995      0.888\n"
     ]
    },
    {
     "data": {
      "text/plain": "Generating Visualizations for batch-1/1:   0%|          | 0/128 [00:00<?, ?it/s]",
      "application/vnd.jupyter.widget-view+json": {
       "version_major": 2,
       "version_minor": 0,
       "model_id": "950c1d60b1a143f887a6114164ad3e1d"
      }
     },
     "metadata": {},
     "output_type": "display_data"
    },
    {
     "data": {
      "text/plain": "Generating Visualizations for batch-1/1:   0%|          | 0/128 [00:00<?, ?it/s]",
      "application/vnd.jupyter.widget-view+json": {
       "version_major": 2,
       "version_minor": 0,
       "model_id": "aef25b4c56b544e3ae23242ff7ba5e99"
      }
     },
     "metadata": {},
     "output_type": "display_data"
    },
    {
     "name": "stdout",
     "output_type": "stream",
     "text": [
      "\n",
      "      Epoch    GPU_mem   box_loss   cls_loss   dfl_loss  Instances       Size\n"
     ]
    },
    {
     "name": "stderr",
     "output_type": "stream",
     "text": [
      "     87/100      2.58G     0.2934     0.1806      0.769         80        256: 100%|██████████| 250/250 [02:27<00:00,  1.70it/s]\n",
      "                 Class     Images  Instances      Box(P          R      mAP50  mAP50-95): 100%|██████████| 16/16 [00:07<00:00,  2.26it/s]\n"
     ]
    },
    {
     "name": "stdout",
     "output_type": "stream",
     "text": [
      "                   all       1999       1196      0.999      0.987      0.995      0.888\n"
     ]
    },
    {
     "data": {
      "text/plain": "Generating Visualizations for batch-1/1:   0%|          | 0/128 [00:00<?, ?it/s]",
      "application/vnd.jupyter.widget-view+json": {
       "version_major": 2,
       "version_minor": 0,
       "model_id": "c6f2a12e53224bb79ba3ab0dc833d62c"
      }
     },
     "metadata": {},
     "output_type": "display_data"
    },
    {
     "data": {
      "text/plain": "Generating Visualizations for batch-1/1:   0%|          | 0/128 [00:00<?, ?it/s]",
      "application/vnd.jupyter.widget-view+json": {
       "version_major": 2,
       "version_minor": 0,
       "model_id": "b9a31e088f224d81b7df03f3c41ddb98"
      }
     },
     "metadata": {},
     "output_type": "display_data"
    },
    {
     "name": "stdout",
     "output_type": "stream",
     "text": [
      "\n",
      "      Epoch    GPU_mem   box_loss   cls_loss   dfl_loss  Instances       Size\n"
     ]
    },
    {
     "name": "stderr",
     "output_type": "stream",
     "text": [
      "     88/100      2.59G     0.2851     0.1772     0.7715         74        256: 100%|██████████| 250/250 [02:26<00:00,  1.70it/s]\n",
      "                 Class     Images  Instances      Box(P          R      mAP50  mAP50-95): 100%|██████████| 16/16 [00:06<00:00,  2.44it/s]\n"
     ]
    },
    {
     "name": "stdout",
     "output_type": "stream",
     "text": [
      "                   all       1999       1196      0.999      0.987      0.995      0.886\n"
     ]
    },
    {
     "data": {
      "text/plain": "Generating Visualizations for batch-1/1:   0%|          | 0/128 [00:00<?, ?it/s]",
      "application/vnd.jupyter.widget-view+json": {
       "version_major": 2,
       "version_minor": 0,
       "model_id": "b848b05603ce4056967062aff64756fb"
      }
     },
     "metadata": {},
     "output_type": "display_data"
    },
    {
     "data": {
      "text/plain": "Generating Visualizations for batch-1/1:   0%|          | 0/79 [00:00<?, ?it/s]",
      "application/vnd.jupyter.widget-view+json": {
       "version_major": 2,
       "version_minor": 0,
       "model_id": "a6c0170bb47b4d6aa0b8cc8ae9c77c86"
      }
     },
     "metadata": {},
     "output_type": "display_data"
    },
    {
     "name": "stdout",
     "output_type": "stream",
     "text": [
      "\n",
      "      Epoch    GPU_mem   box_loss   cls_loss   dfl_loss  Instances       Size\n"
     ]
    },
    {
     "name": "stderr",
     "output_type": "stream",
     "text": [
      "     89/100       2.6G     0.2836     0.1753     0.7691         57        256: 100%|██████████| 250/250 [02:26<00:00,  1.71it/s]\n",
      "                 Class     Images  Instances      Box(P          R      mAP50  mAP50-95): 100%|██████████| 16/16 [00:06<00:00,  2.50it/s]\n"
     ]
    },
    {
     "name": "stdout",
     "output_type": "stream",
     "text": [
      "                   all       1999       1196      0.999      0.987      0.995      0.887\n"
     ]
    },
    {
     "data": {
      "text/plain": "Generating Visualizations for batch-1/1:   0%|          | 0/128 [00:00<?, ?it/s]",
      "application/vnd.jupyter.widget-view+json": {
       "version_major": 2,
       "version_minor": 0,
       "model_id": "45a50ba209e7475c87cd7e0e0a223c2b"
      }
     },
     "metadata": {},
     "output_type": "display_data"
    },
    {
     "data": {
      "text/plain": "Generating Visualizations for batch-1/1:   0%|          | 0/128 [00:00<?, ?it/s]",
      "application/vnd.jupyter.widget-view+json": {
       "version_major": 2,
       "version_minor": 0,
       "model_id": "52789301036944e781b596d94e736961"
      }
     },
     "metadata": {},
     "output_type": "display_data"
    },
    {
     "name": "stdout",
     "output_type": "stream",
     "text": [
      "\n",
      "      Epoch    GPU_mem   box_loss   cls_loss   dfl_loss  Instances       Size\n"
     ]
    },
    {
     "name": "stderr",
     "output_type": "stream",
     "text": [
      "     90/100      2.62G     0.2829      0.174     0.7693         62        256: 100%|██████████| 250/250 [02:13<00:00,  1.87it/s]\n",
      "                 Class     Images  Instances      Box(P          R      mAP50  mAP50-95): 100%|██████████| 16/16 [00:06<00:00,  2.36it/s]\n"
     ]
    },
    {
     "name": "stdout",
     "output_type": "stream",
     "text": [
      "                   all       1999       1196      0.999      0.987      0.995      0.888\n"
     ]
    },
    {
     "data": {
      "text/plain": "Generating Visualizations for batch-1/1:   0%|          | 0/128 [00:00<?, ?it/s]",
      "application/vnd.jupyter.widget-view+json": {
       "version_major": 2,
       "version_minor": 0,
       "model_id": "ac115a22c35b460797f90704867beb9f"
      }
     },
     "metadata": {},
     "output_type": "display_data"
    },
    {
     "data": {
      "text/plain": "Generating Visualizations for batch-1/1:   0%|          | 0/128 [00:00<?, ?it/s]",
      "application/vnd.jupyter.widget-view+json": {
       "version_major": 2,
       "version_minor": 0,
       "model_id": "6c540de80b214ffcbdad404748c28292"
      }
     },
     "metadata": {},
     "output_type": "display_data"
    },
    {
     "name": "stdout",
     "output_type": "stream",
     "text": [
      "Closing dataloader mosaic\n",
      "\n",
      "      Epoch    GPU_mem   box_loss   cls_loss   dfl_loss  Instances       Size\n"
     ]
    },
    {
     "name": "stderr",
     "output_type": "stream",
     "text": [
      "     91/100      2.63G     0.4571     0.2434      0.775         30        256: 100%|██████████| 250/250 [02:17<00:00,  1.81it/s]\n",
      "                 Class     Images  Instances      Box(P          R      mAP50  mAP50-95): 100%|██████████| 16/16 [00:06<00:00,  2.35it/s]\n"
     ]
    },
    {
     "name": "stdout",
     "output_type": "stream",
     "text": [
      "                   all       1999       1196      0.999      0.987      0.995      0.888\n"
     ]
    },
    {
     "data": {
      "text/plain": "Generating Visualizations for batch-1/1:   0%|          | 0/128 [00:00<?, ?it/s]",
      "application/vnd.jupyter.widget-view+json": {
       "version_major": 2,
       "version_minor": 0,
       "model_id": "4934116337f14307888473c4e7f62217"
      }
     },
     "metadata": {},
     "output_type": "display_data"
    },
    {
     "data": {
      "text/plain": "Generating Visualizations for batch-1/1:   0%|          | 0/128 [00:00<?, ?it/s]",
      "application/vnd.jupyter.widget-view+json": {
       "version_major": 2,
       "version_minor": 0,
       "model_id": "0a871dd1aa504d5d848e86eef7cbf29f"
      }
     },
     "metadata": {},
     "output_type": "display_data"
    },
    {
     "name": "stdout",
     "output_type": "stream",
     "text": [
      "\n",
      "      Epoch    GPU_mem   box_loss   cls_loss   dfl_loss  Instances       Size\n"
     ]
    },
    {
     "name": "stderr",
     "output_type": "stream",
     "text": [
      "     92/100      2.64G      0.445     0.2376     0.7704         32        256: 100%|██████████| 250/250 [02:15<00:00,  1.84it/s]\n",
      "                 Class     Images  Instances      Box(P          R      mAP50  mAP50-95): 100%|██████████| 16/16 [00:06<00:00,  2.39it/s]\n"
     ]
    },
    {
     "name": "stdout",
     "output_type": "stream",
     "text": [
      "                   all       1999       1196      0.999      0.987      0.995      0.889\n"
     ]
    },
    {
     "data": {
      "text/plain": "Generating Visualizations for batch-1/1:   0%|          | 0/128 [00:00<?, ?it/s]",
      "application/vnd.jupyter.widget-view+json": {
       "version_major": 2,
       "version_minor": 0,
       "model_id": "db44955c2cdf4ea7994a52f2b8a3f59a"
      }
     },
     "metadata": {},
     "output_type": "display_data"
    },
    {
     "data": {
      "text/plain": "Generating Visualizations for batch-1/1:   0%|          | 0/128 [00:00<?, ?it/s]",
      "application/vnd.jupyter.widget-view+json": {
       "version_major": 2,
       "version_minor": 0,
       "model_id": "2455ea54e09b4582bb3215858fb55521"
      }
     },
     "metadata": {},
     "output_type": "display_data"
    },
    {
     "name": "stdout",
     "output_type": "stream",
     "text": [
      "\n",
      "      Epoch    GPU_mem   box_loss   cls_loss   dfl_loss  Instances       Size\n"
     ]
    },
    {
     "name": "stderr",
     "output_type": "stream",
     "text": [
      "     93/100      2.65G     0.4393     0.2381     0.7701         33        256: 100%|██████████| 250/250 [02:12<00:00,  1.89it/s]\n",
      "                 Class     Images  Instances      Box(P          R      mAP50  mAP50-95): 100%|██████████| 16/16 [00:07<00:00,  2.23it/s]\n"
     ]
    },
    {
     "name": "stdout",
     "output_type": "stream",
     "text": [
      "                   all       1999       1196      0.999      0.987      0.995      0.891\n"
     ]
    },
    {
     "data": {
      "text/plain": "Generating Visualizations for batch-1/1:   0%|          | 0/128 [00:00<?, ?it/s]",
      "application/vnd.jupyter.widget-view+json": {
       "version_major": 2,
       "version_minor": 0,
       "model_id": "b45d71ab01e0433281c79af7c4967e7a"
      }
     },
     "metadata": {},
     "output_type": "display_data"
    },
    {
     "data": {
      "text/plain": "Generating Visualizations for batch-1/1:   0%|          | 0/128 [00:00<?, ?it/s]",
      "application/vnd.jupyter.widget-view+json": {
       "version_major": 2,
       "version_minor": 0,
       "model_id": "3e721da3d8bb48fc92cbb78d343f7e5f"
      }
     },
     "metadata": {},
     "output_type": "display_data"
    },
    {
     "name": "stdout",
     "output_type": "stream",
     "text": [
      "\n",
      "      Epoch    GPU_mem   box_loss   cls_loss   dfl_loss  Instances       Size\n"
     ]
    },
    {
     "name": "stderr",
     "output_type": "stream",
     "text": [
      "     94/100      2.66G     0.4329     0.2374     0.7698         30        256: 100%|██████████| 250/250 [02:16<00:00,  1.84it/s]\n",
      "                 Class     Images  Instances      Box(P          R      mAP50  mAP50-95): 100%|██████████| 16/16 [00:07<00:00,  2.28it/s]\n"
     ]
    },
    {
     "name": "stdout",
     "output_type": "stream",
     "text": [
      "                   all       1999       1196      0.999      0.987      0.995      0.892\n"
     ]
    },
    {
     "data": {
      "text/plain": "Generating Visualizations for batch-1/1:   0%|          | 0/128 [00:00<?, ?it/s]",
      "application/vnd.jupyter.widget-view+json": {
       "version_major": 2,
       "version_minor": 0,
       "model_id": "c178169dd7c14dd1873f1bf0cf12f662"
      }
     },
     "metadata": {},
     "output_type": "display_data"
    },
    {
     "data": {
      "text/plain": "Generating Visualizations for batch-1/1:   0%|          | 0/128 [00:00<?, ?it/s]",
      "application/vnd.jupyter.widget-view+json": {
       "version_major": 2,
       "version_minor": 0,
       "model_id": "c58230dfeb6c4834a3c28f9d5ea6e9d0"
      }
     },
     "metadata": {},
     "output_type": "display_data"
    },
    {
     "name": "stdout",
     "output_type": "stream",
     "text": [
      "\n",
      "      Epoch    GPU_mem   box_loss   cls_loss   dfl_loss  Instances       Size\n"
     ]
    },
    {
     "name": "stderr",
     "output_type": "stream",
     "text": [
      "     95/100      2.69G     0.4303     0.2339     0.7725         30        256: 100%|██████████| 250/250 [02:19<00:00,  1.79it/s]\n",
      "                 Class     Images  Instances      Box(P          R      mAP50  mAP50-95): 100%|██████████| 16/16 [00:07<00:00,  2.14it/s]\n"
     ]
    },
    {
     "name": "stdout",
     "output_type": "stream",
     "text": [
      "                   all       1999       1196      0.999      0.987      0.995      0.892\n"
     ]
    },
    {
     "data": {
      "text/plain": "Generating Visualizations for batch-1/1:   0%|          | 0/128 [00:00<?, ?it/s]",
      "application/vnd.jupyter.widget-view+json": {
       "version_major": 2,
       "version_minor": 0,
       "model_id": "34d74b9d7d714a609dd05a42aae6a0a7"
      }
     },
     "metadata": {},
     "output_type": "display_data"
    },
    {
     "data": {
      "text/plain": "Generating Visualizations for batch-1/1:   0%|          | 0/128 [00:00<?, ?it/s]",
      "application/vnd.jupyter.widget-view+json": {
       "version_major": 2,
       "version_minor": 0,
       "model_id": "8ebae370bbd2459fa8ee8e916bdadfaa"
      }
     },
     "metadata": {},
     "output_type": "display_data"
    },
    {
     "name": "stdout",
     "output_type": "stream",
     "text": [
      "\n",
      "      Epoch    GPU_mem   box_loss   cls_loss   dfl_loss  Instances       Size\n"
     ]
    },
    {
     "name": "stderr",
     "output_type": "stream",
     "text": [
      "     96/100       2.7G     0.4228     0.2297      0.773         37        256: 100%|██████████| 250/250 [02:18<00:00,  1.81it/s]\n",
      "                 Class     Images  Instances      Box(P          R      mAP50  mAP50-95): 100%|██████████| 16/16 [00:06<00:00,  2.37it/s]\n"
     ]
    },
    {
     "name": "stdout",
     "output_type": "stream",
     "text": [
      "                   all       1999       1196      0.999      0.987      0.995      0.892\n"
     ]
    },
    {
     "data": {
      "text/plain": "Generating Visualizations for batch-1/1:   0%|          | 0/128 [00:00<?, ?it/s]",
      "application/vnd.jupyter.widget-view+json": {
       "version_major": 2,
       "version_minor": 0,
       "model_id": "2702cbe8719a4dbfa43a23dda1902b22"
      }
     },
     "metadata": {},
     "output_type": "display_data"
    },
    {
     "data": {
      "text/plain": "Generating Visualizations for batch-1/1:   0%|          | 0/79 [00:00<?, ?it/s]",
      "application/vnd.jupyter.widget-view+json": {
       "version_major": 2,
       "version_minor": 0,
       "model_id": "30803010d4134e16aceef1f97d6de2ce"
      }
     },
     "metadata": {},
     "output_type": "display_data"
    },
    {
     "name": "stdout",
     "output_type": "stream",
     "text": [
      "\n",
      "      Epoch    GPU_mem   box_loss   cls_loss   dfl_loss  Instances       Size\n"
     ]
    },
    {
     "name": "stderr",
     "output_type": "stream",
     "text": [
      "     97/100      2.71G     0.4189     0.2298     0.7705         28        256: 100%|██████████| 250/250 [02:14<00:00,  1.86it/s]\n",
      "                 Class     Images  Instances      Box(P          R      mAP50  mAP50-95): 100%|██████████| 16/16 [00:06<00:00,  2.35it/s]\n"
     ]
    },
    {
     "name": "stdout",
     "output_type": "stream",
     "text": [
      "                   all       1999       1196      0.999      0.987      0.995      0.894\n"
     ]
    },
    {
     "data": {
      "text/plain": "Generating Visualizations for batch-1/1:   0%|          | 0/128 [00:00<?, ?it/s]",
      "application/vnd.jupyter.widget-view+json": {
       "version_major": 2,
       "version_minor": 0,
       "model_id": "b14cf491b0e74fd3ab252f4cf6278e55"
      }
     },
     "metadata": {},
     "output_type": "display_data"
    },
    {
     "data": {
      "text/plain": "Generating Visualizations for batch-1/1:   0%|          | 0/128 [00:00<?, ?it/s]",
      "application/vnd.jupyter.widget-view+json": {
       "version_major": 2,
       "version_minor": 0,
       "model_id": "88f4b4044b664484963f539d708de00e"
      }
     },
     "metadata": {},
     "output_type": "display_data"
    },
    {
     "name": "stdout",
     "output_type": "stream",
     "text": [
      "\n",
      "      Epoch    GPU_mem   box_loss   cls_loss   dfl_loss  Instances       Size\n"
     ]
    },
    {
     "name": "stderr",
     "output_type": "stream",
     "text": [
      "     98/100      2.72G     0.4164     0.2282     0.7688         36        256: 100%|██████████| 250/250 [02:14<00:00,  1.85it/s]\n",
      "                 Class     Images  Instances      Box(P          R      mAP50  mAP50-95): 100%|██████████| 16/16 [00:07<00:00,  2.26it/s]\n"
     ]
    },
    {
     "name": "stdout",
     "output_type": "stream",
     "text": [
      "                   all       1999       1196      0.999      0.987      0.995      0.894\n"
     ]
    },
    {
     "data": {
      "text/plain": "Generating Visualizations for batch-1/1:   0%|          | 0/128 [00:00<?, ?it/s]",
      "application/vnd.jupyter.widget-view+json": {
       "version_major": 2,
       "version_minor": 0,
       "model_id": "49b2ca02ced54bf487b5a55abfb5fd3d"
      }
     },
     "metadata": {},
     "output_type": "display_data"
    },
    {
     "data": {
      "text/plain": "Generating Visualizations for batch-1/1:   0%|          | 0/128 [00:00<?, ?it/s]",
      "application/vnd.jupyter.widget-view+json": {
       "version_major": 2,
       "version_minor": 0,
       "model_id": "3e156e8f0c18456e88d52274e2d4c3b2"
      }
     },
     "metadata": {},
     "output_type": "display_data"
    },
    {
     "name": "stdout",
     "output_type": "stream",
     "text": [
      "\n",
      "      Epoch    GPU_mem   box_loss   cls_loss   dfl_loss  Instances       Size\n"
     ]
    },
    {
     "name": "stderr",
     "output_type": "stream",
     "text": [
      "     99/100      2.73G      0.412     0.2222     0.7709         33        256: 100%|██████████| 250/250 [02:28<00:00,  1.68it/s]\n",
      "                 Class     Images  Instances      Box(P          R      mAP50  mAP50-95): 100%|██████████| 16/16 [00:08<00:00,  1.85it/s]\n"
     ]
    },
    {
     "name": "stdout",
     "output_type": "stream",
     "text": [
      "                   all       1999       1196      0.999      0.987      0.995      0.894\n"
     ]
    },
    {
     "data": {
      "text/plain": "Generating Visualizations for batch-1/1:   0%|          | 0/128 [00:00<?, ?it/s]",
      "application/vnd.jupyter.widget-view+json": {
       "version_major": 2,
       "version_minor": 0,
       "model_id": "ac234c04c8084a24863e3ca1e57c5b68"
      }
     },
     "metadata": {},
     "output_type": "display_data"
    },
    {
     "data": {
      "text/plain": "Generating Visualizations for batch-1/1:   0%|          | 0/128 [00:00<?, ?it/s]",
      "application/vnd.jupyter.widget-view+json": {
       "version_major": 2,
       "version_minor": 0,
       "model_id": "bd354627e5c84dcf99e333f058ece19d"
      }
     },
     "metadata": {},
     "output_type": "display_data"
    },
    {
     "name": "stdout",
     "output_type": "stream",
     "text": [
      "\n",
      "      Epoch    GPU_mem   box_loss   cls_loss   dfl_loss  Instances       Size\n"
     ]
    },
    {
     "name": "stderr",
     "output_type": "stream",
     "text": [
      "    100/100      2.75G     0.4115      0.219     0.7688         37        256: 100%|██████████| 250/250 [02:25<00:00,  1.72it/s]\n",
      "                 Class     Images  Instances      Box(P          R      mAP50  mAP50-95): 100%|██████████| 16/16 [00:06<00:00,  2.38it/s]\n"
     ]
    },
    {
     "name": "stdout",
     "output_type": "stream",
     "text": [
      "                   all       1999       1196      0.999      0.987      0.995      0.895\n"
     ]
    },
    {
     "data": {
      "text/plain": "Generating Visualizations for batch-1/1:   0%|          | 0/128 [00:00<?, ?it/s]",
      "application/vnd.jupyter.widget-view+json": {
       "version_major": 2,
       "version_minor": 0,
       "model_id": "6fbe1edc0de74ae59556b1c7202a1ecb"
      }
     },
     "metadata": {},
     "output_type": "display_data"
    },
    {
     "data": {
      "text/plain": "Generating Visualizations for batch-1/1:   0%|          | 0/128 [00:00<?, ?it/s]",
      "application/vnd.jupyter.widget-view+json": {
       "version_major": 2,
       "version_minor": 0,
       "model_id": "a2bd02af1b5e44df910ef33aa187abe2"
      }
     },
     "metadata": {},
     "output_type": "display_data"
    },
    {
     "name": "stdout",
     "output_type": "stream",
     "text": [
      "\n",
      "100 epochs completed in 4.843 hours.\n",
      "Optimizer stripped from DSPRO2\\train\\weights\\last.pt, 6.2MB\n",
      "Optimizer stripped from DSPRO2\\train\\weights\\best.pt, 6.2MB\n",
      "\n",
      "Validating DSPRO2\\train\\weights\\best.pt...\n",
      "Ultralytics YOLOv8.1.37 🚀 Python-3.10.11 torch-2.2.2+cu118 CUDA:0 (NVIDIA GeForce RTX 3060 Laptop GPU, 6144MiB)\n",
      "Model summary (fused): 168 layers, 3006233 parameters, 0 gradients, 8.1 GFLOPs\n"
     ]
    },
    {
     "name": "stderr",
     "output_type": "stream",
     "text": [
      "                 Class     Images  Instances      Box(P          R      mAP50  mAP50-95): 100%|██████████| 16/16 [00:08<00:00,  1.90it/s]\n"
     ]
    },
    {
     "name": "stdout",
     "output_type": "stream",
     "text": [
      "                   all       1999       1196      0.999      0.987      0.995      0.895\n",
      "                 acute       1999        879          1      0.983      0.995      0.894\n",
      "                 grave       1999        122          1      0.984      0.995      0.882\n",
      "            circumflex       1999        195      0.999      0.995      0.995       0.91\n"
     ]
    },
    {
     "data": {
      "text/plain": "Generating Visualizations for batch-1/1:   0%|          | 0/128 [00:00<?, ?it/s]",
      "application/vnd.jupyter.widget-view+json": {
       "version_major": 2,
       "version_minor": 0,
       "model_id": "6cb5e3abc64f4b8a8f992d763c79bc46"
      }
     },
     "metadata": {},
     "output_type": "display_data"
    },
    {
     "name": "stdout",
     "output_type": "stream",
     "text": [
      "Speed: 0.1ms preprocess, 1.4ms inference, 0.0ms loss, 0.6ms postprocess per image\n",
      "Results saved to \u001B[1mDSPRO2\\train\u001B[0m\n"
     ]
    },
    {
     "data": {
      "text/plain": "VBox(children=(Label(value='14.693 MB of 14.693 MB uploaded\\r'), FloatProgress(value=1.0, max=1.0)))",
      "application/vnd.jupyter.widget-view+json": {
       "version_major": 2,
       "version_minor": 0,
       "model_id": "060d326193f446cab82b3478bf881f61"
      }
     },
     "metadata": {},
     "output_type": "display_data"
    },
    {
     "data": {
      "text/plain": "<IPython.core.display.HTML object>",
      "text/html": "<style>\n    table.wandb td:nth-child(1) { padding: 0 10px; text-align: left ; width: auto;} td:nth-child(2) {text-align: left ; width: 100%}\n    .wandb-row { display: flex; flex-direction: row; flex-wrap: wrap; justify-content: flex-start; width: 100% }\n    .wandb-col { display: flex; flex-direction: column; flex-basis: 100%; flex: 1; padding: 10px; }\n    </style>\n<div class=\"wandb-row\"><div class=\"wandb-col\"><h3>Run history:</h3><br/><table class=\"wandb\"><tr><td>lr/pg0</td><td>▃███▇▇▇▇▇▇▆▆▆▆▆▅▅▅▅▅▅▄▄▄▄▄▃▃▃▃▃▃▂▂▂▂▂▁▁▁</td></tr><tr><td>lr/pg1</td><td>▃███▇▇▇▇▇▇▆▆▆▆▆▅▅▅▅▅▅▄▄▄▄▄▃▃▃▃▃▃▂▂▂▂▂▁▁▁</td></tr><tr><td>lr/pg2</td><td>▃███▇▇▇▇▇▇▆▆▆▆▆▅▅▅▅▅▅▄▄▄▄▄▃▃▃▃▃▃▂▂▂▂▂▁▁▁</td></tr><tr><td>metrics/mAP50(B)</td><td>▁▅▄▆████████████████████████████████████</td></tr><tr><td>metrics/mAP50-95(B)</td><td>▁▂▄▆▆▇▇▇▆▇▇▇▇▇▇█▇▇▇█████████████████████</td></tr><tr><td>metrics/precision(B)</td><td>▁▄▅▄▇█▆█▆▇█████████████▇████████████████</td></tr><tr><td>metrics/recall(B)</td><td>▁▅▅▄▇▇▇▇▇█▇▆▇▇▇▇▇▇▇▇▇▇▇█▇▇▇▇▇▇▇▇▇▇▇▇▇▇▇▇</td></tr><tr><td>model/GFLOPs</td><td>▁</td></tr><tr><td>model/parameters</td><td>▁</td></tr><tr><td>model/speed_PyTorch(ms)</td><td>▁</td></tr><tr><td>train/box_loss</td><td>█▇▄▄▃▃▃▃▂▂▂▂▂▂▂▂▂▂▂▂▂▂▂▂▁▁▁▁▁▁▁▁▁▁▁▁▂▂▂▂</td></tr><tr><td>train/cls_loss</td><td>█▃▂▂▂▁▁▁▁▁▁▁▁▁▁▁▁▁▁▁▁▁▁▁▁▁▁▁▁▁▁▁▁▁▁▁▁▁▁▁</td></tr><tr><td>train/dfl_loss</td><td>█▅▃▃▂▂▂▂▂▂▂▂▂▂▂▂▁▂▂▂▁▁▁▁▁▁▁▁▁▁▁▁▁▁▁▁▁▁▁▁</td></tr><tr><td>val/box_loss</td><td>██▆▄▃▃▂▂▃▂▂▂▂▂▂▁▂▂▂▁▁▁▁▁▁▁▁▁▁▁▁▁▁▁▁▁▁▁▁▁</td></tr><tr><td>val/cls_loss</td><td>█▆▃▃▂▂▂▂▂▂▁▂▁▁▁▁▁▁▁▁▁▁▁▁▁▁▁▁▁▁▁▁▁▁▁▁▁▁▁▁</td></tr><tr><td>val/dfl_loss</td><td>██▆▄▄▄▃▃▃▃▂▃▃▂▃▂▂▂▂▂▂▂▂▂▂▂▂▂▂▂▂▂▂▂▂▂▁▁▁▁</td></tr></table><br/></div><div class=\"wandb-col\"><h3>Run summary:</h3><br/><table class=\"wandb\"><tr><td>lr/pg0</td><td>0.0003</td></tr><tr><td>lr/pg1</td><td>0.0003</td></tr><tr><td>lr/pg2</td><td>0.0003</td></tr><tr><td>metrics/mAP50(B)</td><td>0.99497</td></tr><tr><td>metrics/mAP50-95(B)</td><td>0.89543</td></tr><tr><td>metrics/precision(B)</td><td>0.99939</td></tr><tr><td>metrics/recall(B)</td><td>0.98723</td></tr><tr><td>model/GFLOPs</td><td>8.196</td></tr><tr><td>model/parameters</td><td>3011433</td></tr><tr><td>model/speed_PyTorch(ms)</td><td>1.295</td></tr><tr><td>train/box_loss</td><td>0.41152</td></tr><tr><td>train/cls_loss</td><td>0.21898</td></tr><tr><td>train/dfl_loss</td><td>0.76878</td></tr><tr><td>val/box_loss</td><td>0.46378</td></tr><tr><td>val/cls_loss</td><td>0.213</td></tr><tr><td>val/dfl_loss</td><td>0.77643</td></tr></table><br/></div></div>"
     },
     "metadata": {},
     "output_type": "display_data"
    },
    {
     "data": {
      "text/plain": "<IPython.core.display.HTML object>",
      "text/html": " View run <strong style=\"color:#cdcd00\">train</strong> at: <a href='https://wandb.ai/salticidae/DSPRO2/runs/gi2z8mmy/workspace' target=\"_blank\">https://wandb.ai/salticidae/DSPRO2/runs/gi2z8mmy/workspace</a><br/>Synced 5 W&B file(s), 26 media file(s), 570 artifact file(s) and 0 other file(s)"
     },
     "metadata": {},
     "output_type": "display_data"
    },
    {
     "data": {
      "text/plain": "<IPython.core.display.HTML object>",
      "text/html": "Find logs at: <code>.\\wandb\\run-20240630_131158-gi2z8mmy\\logs</code>"
     },
     "metadata": {},
     "output_type": "display_data"
    },
    {
     "data": {
      "text/plain": "ultralytics.utils.metrics.DetMetrics object with attributes:\n\nap_class_index: array([0, 1, 2])\nbox: ultralytics.utils.metrics.Metric object\nconfusion_matrix: <ultralytics.utils.metrics.ConfusionMatrix object at 0x000001C2F383B400>\ncurves: ['Precision-Recall(B)', 'F1-Confidence(B)', 'Precision-Confidence(B)', 'Recall-Confidence(B)']\ncurves_results: [[array([          0,    0.001001,    0.002002,    0.003003,    0.004004,    0.005005,    0.006006,    0.007007,    0.008008,    0.009009,     0.01001,    0.011011,    0.012012,    0.013013,    0.014014,    0.015015,    0.016016,    0.017017,    0.018018,    0.019019,     0.02002,    0.021021,    0.022022,    0.023023,\n          0.024024,    0.025025,    0.026026,    0.027027,    0.028028,    0.029029,     0.03003,    0.031031,    0.032032,    0.033033,    0.034034,    0.035035,    0.036036,    0.037037,    0.038038,    0.039039,     0.04004,    0.041041,    0.042042,    0.043043,    0.044044,    0.045045,    0.046046,    0.047047,\n          0.048048,    0.049049,     0.05005,    0.051051,    0.052052,    0.053053,    0.054054,    0.055055,    0.056056,    0.057057,    0.058058,    0.059059,     0.06006,    0.061061,    0.062062,    0.063063,    0.064064,    0.065065,    0.066066,    0.067067,    0.068068,    0.069069,     0.07007,    0.071071,\n          0.072072,    0.073073,    0.074074,    0.075075,    0.076076,    0.077077,    0.078078,    0.079079,     0.08008,    0.081081,    0.082082,    0.083083,    0.084084,    0.085085,    0.086086,    0.087087,    0.088088,    0.089089,     0.09009,    0.091091,    0.092092,    0.093093,    0.094094,    0.095095,\n          0.096096,    0.097097,    0.098098,    0.099099,      0.1001,      0.1011,      0.1021,      0.1031,      0.1041,     0.10511,     0.10611,     0.10711,     0.10811,     0.10911,     0.11011,     0.11111,     0.11211,     0.11311,     0.11411,     0.11512,     0.11612,     0.11712,     0.11812,     0.11912,\n           0.12012,     0.12112,     0.12212,     0.12312,     0.12412,     0.12513,     0.12613,     0.12713,     0.12813,     0.12913,     0.13013,     0.13113,     0.13213,     0.13313,     0.13413,     0.13514,     0.13614,     0.13714,     0.13814,     0.13914,     0.14014,     0.14114,     0.14214,     0.14314,\n           0.14414,     0.14515,     0.14615,     0.14715,     0.14815,     0.14915,     0.15015,     0.15115,     0.15215,     0.15315,     0.15415,     0.15516,     0.15616,     0.15716,     0.15816,     0.15916,     0.16016,     0.16116,     0.16216,     0.16316,     0.16416,     0.16517,     0.16617,     0.16717,\n           0.16817,     0.16917,     0.17017,     0.17117,     0.17217,     0.17317,     0.17417,     0.17518,     0.17618,     0.17718,     0.17818,     0.17918,     0.18018,     0.18118,     0.18218,     0.18318,     0.18418,     0.18519,     0.18619,     0.18719,     0.18819,     0.18919,     0.19019,     0.19119,\n           0.19219,     0.19319,     0.19419,      0.1952,      0.1962,      0.1972,      0.1982,      0.1992,      0.2002,      0.2012,      0.2022,      0.2032,      0.2042,     0.20521,     0.20621,     0.20721,     0.20821,     0.20921,     0.21021,     0.21121,     0.21221,     0.21321,     0.21421,     0.21522,\n           0.21622,     0.21722,     0.21822,     0.21922,     0.22022,     0.22122,     0.22222,     0.22322,     0.22422,     0.22523,     0.22623,     0.22723,     0.22823,     0.22923,     0.23023,     0.23123,     0.23223,     0.23323,     0.23423,     0.23524,     0.23624,     0.23724,     0.23824,     0.23924,\n           0.24024,     0.24124,     0.24224,     0.24324,     0.24424,     0.24525,     0.24625,     0.24725,     0.24825,     0.24925,     0.25025,     0.25125,     0.25225,     0.25325,     0.25425,     0.25526,     0.25626,     0.25726,     0.25826,     0.25926,     0.26026,     0.26126,     0.26226,     0.26326,\n           0.26426,     0.26527,     0.26627,     0.26727,     0.26827,     0.26927,     0.27027,     0.27127,     0.27227,     0.27327,     0.27427,     0.27528,     0.27628,     0.27728,     0.27828,     0.27928,     0.28028,     0.28128,     0.28228,     0.28328,     0.28428,     0.28529,     0.28629,     0.28729,\n           0.28829,     0.28929,     0.29029,     0.29129,     0.29229,     0.29329,     0.29429,      0.2953,      0.2963,      0.2973,      0.2983,      0.2993,      0.3003,      0.3013,      0.3023,      0.3033,      0.3043,     0.30531,     0.30631,     0.30731,     0.30831,     0.30931,     0.31031,     0.31131,\n           0.31231,     0.31331,     0.31431,     0.31532,     0.31632,     0.31732,     0.31832,     0.31932,     0.32032,     0.32132,     0.32232,     0.32332,     0.32432,     0.32533,     0.32633,     0.32733,     0.32833,     0.32933,     0.33033,     0.33133,     0.33233,     0.33333,     0.33433,     0.33534,\n           0.33634,     0.33734,     0.33834,     0.33934,     0.34034,     0.34134,     0.34234,     0.34334,     0.34434,     0.34535,     0.34635,     0.34735,     0.34835,     0.34935,     0.35035,     0.35135,     0.35235,     0.35335,     0.35435,     0.35536,     0.35636,     0.35736,     0.35836,     0.35936,\n           0.36036,     0.36136,     0.36236,     0.36336,     0.36436,     0.36537,     0.36637,     0.36737,     0.36837,     0.36937,     0.37037,     0.37137,     0.37237,     0.37337,     0.37437,     0.37538,     0.37638,     0.37738,     0.37838,     0.37938,     0.38038,     0.38138,     0.38238,     0.38338,\n           0.38438,     0.38539,     0.38639,     0.38739,     0.38839,     0.38939,     0.39039,     0.39139,     0.39239,     0.39339,     0.39439,      0.3954,      0.3964,      0.3974,      0.3984,      0.3994,      0.4004,      0.4014,      0.4024,      0.4034,      0.4044,     0.40541,     0.40641,     0.40741,\n           0.40841,     0.40941,     0.41041,     0.41141,     0.41241,     0.41341,     0.41441,     0.41542,     0.41642,     0.41742,     0.41842,     0.41942,     0.42042,     0.42142,     0.42242,     0.42342,     0.42442,     0.42543,     0.42643,     0.42743,     0.42843,     0.42943,     0.43043,     0.43143,\n           0.43243,     0.43343,     0.43443,     0.43544,     0.43644,     0.43744,     0.43844,     0.43944,     0.44044,     0.44144,     0.44244,     0.44344,     0.44444,     0.44545,     0.44645,     0.44745,     0.44845,     0.44945,     0.45045,     0.45145,     0.45245,     0.45345,     0.45445,     0.45546,\n           0.45646,     0.45746,     0.45846,     0.45946,     0.46046,     0.46146,     0.46246,     0.46346,     0.46446,     0.46547,     0.46647,     0.46747,     0.46847,     0.46947,     0.47047,     0.47147,     0.47247,     0.47347,     0.47447,     0.47548,     0.47648,     0.47748,     0.47848,     0.47948,\n           0.48048,     0.48148,     0.48248,     0.48348,     0.48448,     0.48549,     0.48649,     0.48749,     0.48849,     0.48949,     0.49049,     0.49149,     0.49249,     0.49349,     0.49449,      0.4955,      0.4965,      0.4975,      0.4985,      0.4995,      0.5005,      0.5015,      0.5025,      0.5035,\n            0.5045,     0.50551,     0.50651,     0.50751,     0.50851,     0.50951,     0.51051,     0.51151,     0.51251,     0.51351,     0.51451,     0.51552,     0.51652,     0.51752,     0.51852,     0.51952,     0.52052,     0.52152,     0.52252,     0.52352,     0.52452,     0.52553,     0.52653,     0.52753,\n           0.52853,     0.52953,     0.53053,     0.53153,     0.53253,     0.53353,     0.53453,     0.53554,     0.53654,     0.53754,     0.53854,     0.53954,     0.54054,     0.54154,     0.54254,     0.54354,     0.54454,     0.54555,     0.54655,     0.54755,     0.54855,     0.54955,     0.55055,     0.55155,\n           0.55255,     0.55355,     0.55455,     0.55556,     0.55656,     0.55756,     0.55856,     0.55956,     0.56056,     0.56156,     0.56256,     0.56356,     0.56456,     0.56557,     0.56657,     0.56757,     0.56857,     0.56957,     0.57057,     0.57157,     0.57257,     0.57357,     0.57457,     0.57558,\n           0.57658,     0.57758,     0.57858,     0.57958,     0.58058,     0.58158,     0.58258,     0.58358,     0.58458,     0.58559,     0.58659,     0.58759,     0.58859,     0.58959,     0.59059,     0.59159,     0.59259,     0.59359,     0.59459,      0.5956,      0.5966,      0.5976,      0.5986,      0.5996,\n            0.6006,      0.6016,      0.6026,      0.6036,      0.6046,     0.60561,     0.60661,     0.60761,     0.60861,     0.60961,     0.61061,     0.61161,     0.61261,     0.61361,     0.61461,     0.61562,     0.61662,     0.61762,     0.61862,     0.61962,     0.62062,     0.62162,     0.62262,     0.62362,\n           0.62462,     0.62563,     0.62663,     0.62763,     0.62863,     0.62963,     0.63063,     0.63163,     0.63263,     0.63363,     0.63463,     0.63564,     0.63664,     0.63764,     0.63864,     0.63964,     0.64064,     0.64164,     0.64264,     0.64364,     0.64464,     0.64565,     0.64665,     0.64765,\n           0.64865,     0.64965,     0.65065,     0.65165,     0.65265,     0.65365,     0.65465,     0.65566,     0.65666,     0.65766,     0.65866,     0.65966,     0.66066,     0.66166,     0.66266,     0.66366,     0.66466,     0.66567,     0.66667,     0.66767,     0.66867,     0.66967,     0.67067,     0.67167,\n           0.67267,     0.67367,     0.67467,     0.67568,     0.67668,     0.67768,     0.67868,     0.67968,     0.68068,     0.68168,     0.68268,     0.68368,     0.68468,     0.68569,     0.68669,     0.68769,     0.68869,     0.68969,     0.69069,     0.69169,     0.69269,     0.69369,     0.69469,      0.6957,\n            0.6967,      0.6977,      0.6987,      0.6997,      0.7007,      0.7017,      0.7027,      0.7037,      0.7047,     0.70571,     0.70671,     0.70771,     0.70871,     0.70971,     0.71071,     0.71171,     0.71271,     0.71371,     0.71471,     0.71572,     0.71672,     0.71772,     0.71872,     0.71972,\n           0.72072,     0.72172,     0.72272,     0.72372,     0.72472,     0.72573,     0.72673,     0.72773,     0.72873,     0.72973,     0.73073,     0.73173,     0.73273,     0.73373,     0.73473,     0.73574,     0.73674,     0.73774,     0.73874,     0.73974,     0.74074,     0.74174,     0.74274,     0.74374,\n           0.74474,     0.74575,     0.74675,     0.74775,     0.74875,     0.74975,     0.75075,     0.75175,     0.75275,     0.75375,     0.75475,     0.75576,     0.75676,     0.75776,     0.75876,     0.75976,     0.76076,     0.76176,     0.76276,     0.76376,     0.76476,     0.76577,     0.76677,     0.76777,\n           0.76877,     0.76977,     0.77077,     0.77177,     0.77277,     0.77377,     0.77477,     0.77578,     0.77678,     0.77778,     0.77878,     0.77978,     0.78078,     0.78178,     0.78278,     0.78378,     0.78478,     0.78579,     0.78679,     0.78779,     0.78879,     0.78979,     0.79079,     0.79179,\n           0.79279,     0.79379,     0.79479,      0.7958,      0.7968,      0.7978,      0.7988,      0.7998,      0.8008,      0.8018,      0.8028,      0.8038,      0.8048,     0.80581,     0.80681,     0.80781,     0.80881,     0.80981,     0.81081,     0.81181,     0.81281,     0.81381,     0.81481,     0.81582,\n           0.81682,     0.81782,     0.81882,     0.81982,     0.82082,     0.82182,     0.82282,     0.82382,     0.82482,     0.82583,     0.82683,     0.82783,     0.82883,     0.82983,     0.83083,     0.83183,     0.83283,     0.83383,     0.83483,     0.83584,     0.83684,     0.83784,     0.83884,     0.83984,\n           0.84084,     0.84184,     0.84284,     0.84384,     0.84484,     0.84585,     0.84685,     0.84785,     0.84885,     0.84985,     0.85085,     0.85185,     0.85285,     0.85385,     0.85485,     0.85586,     0.85686,     0.85786,     0.85886,     0.85986,     0.86086,     0.86186,     0.86286,     0.86386,\n           0.86486,     0.86587,     0.86687,     0.86787,     0.86887,     0.86987,     0.87087,     0.87187,     0.87287,     0.87387,     0.87487,     0.87588,     0.87688,     0.87788,     0.87888,     0.87988,     0.88088,     0.88188,     0.88288,     0.88388,     0.88488,     0.88589,     0.88689,     0.88789,\n           0.88889,     0.88989,     0.89089,     0.89189,     0.89289,     0.89389,     0.89489,      0.8959,      0.8969,      0.8979,      0.8989,      0.8999,      0.9009,      0.9019,      0.9029,      0.9039,      0.9049,     0.90591,     0.90691,     0.90791,     0.90891,     0.90991,     0.91091,     0.91191,\n           0.91291,     0.91391,     0.91491,     0.91592,     0.91692,     0.91792,     0.91892,     0.91992,     0.92092,     0.92192,     0.92292,     0.92392,     0.92492,     0.92593,     0.92693,     0.92793,     0.92893,     0.92993,     0.93093,     0.93193,     0.93293,     0.93393,     0.93493,     0.93594,\n           0.93694,     0.93794,     0.93894,     0.93994,     0.94094,     0.94194,     0.94294,     0.94394,     0.94494,     0.94595,     0.94695,     0.94795,     0.94895,     0.94995,     0.95095,     0.95195,     0.95295,     0.95395,     0.95495,     0.95596,     0.95696,     0.95796,     0.95896,     0.95996,\n           0.96096,     0.96196,     0.96296,     0.96396,     0.96496,     0.96597,     0.96697,     0.96797,     0.96897,     0.96997,     0.97097,     0.97197,     0.97297,     0.97397,     0.97497,     0.97598,     0.97698,     0.97798,     0.97898,     0.97998,     0.98098,     0.98198,     0.98298,     0.98398,\n           0.98498,     0.98599,     0.98699,     0.98799,     0.98899,     0.98999,     0.99099,     0.99199,     0.99299,     0.99399,     0.99499,       0.996,       0.997,       0.998,       0.999,           1]), array([[          1,           1,           1, ...,     0.57866,     0.28933,           0],\n       [          1,           1,           1, ...,     0.23834,     0.11917,           0],\n       [          1,           1,           1, ...,     0.37125,     0.18563,           0]]), 'Recall', 'Precision'], [array([          0,    0.001001,    0.002002,    0.003003,    0.004004,    0.005005,    0.006006,    0.007007,    0.008008,    0.009009,     0.01001,    0.011011,    0.012012,    0.013013,    0.014014,    0.015015,    0.016016,    0.017017,    0.018018,    0.019019,     0.02002,    0.021021,    0.022022,    0.023023,\n          0.024024,    0.025025,    0.026026,    0.027027,    0.028028,    0.029029,     0.03003,    0.031031,    0.032032,    0.033033,    0.034034,    0.035035,    0.036036,    0.037037,    0.038038,    0.039039,     0.04004,    0.041041,    0.042042,    0.043043,    0.044044,    0.045045,    0.046046,    0.047047,\n          0.048048,    0.049049,     0.05005,    0.051051,    0.052052,    0.053053,    0.054054,    0.055055,    0.056056,    0.057057,    0.058058,    0.059059,     0.06006,    0.061061,    0.062062,    0.063063,    0.064064,    0.065065,    0.066066,    0.067067,    0.068068,    0.069069,     0.07007,    0.071071,\n          0.072072,    0.073073,    0.074074,    0.075075,    0.076076,    0.077077,    0.078078,    0.079079,     0.08008,    0.081081,    0.082082,    0.083083,    0.084084,    0.085085,    0.086086,    0.087087,    0.088088,    0.089089,     0.09009,    0.091091,    0.092092,    0.093093,    0.094094,    0.095095,\n          0.096096,    0.097097,    0.098098,    0.099099,      0.1001,      0.1011,      0.1021,      0.1031,      0.1041,     0.10511,     0.10611,     0.10711,     0.10811,     0.10911,     0.11011,     0.11111,     0.11211,     0.11311,     0.11411,     0.11512,     0.11612,     0.11712,     0.11812,     0.11912,\n           0.12012,     0.12112,     0.12212,     0.12312,     0.12412,     0.12513,     0.12613,     0.12713,     0.12813,     0.12913,     0.13013,     0.13113,     0.13213,     0.13313,     0.13413,     0.13514,     0.13614,     0.13714,     0.13814,     0.13914,     0.14014,     0.14114,     0.14214,     0.14314,\n           0.14414,     0.14515,     0.14615,     0.14715,     0.14815,     0.14915,     0.15015,     0.15115,     0.15215,     0.15315,     0.15415,     0.15516,     0.15616,     0.15716,     0.15816,     0.15916,     0.16016,     0.16116,     0.16216,     0.16316,     0.16416,     0.16517,     0.16617,     0.16717,\n           0.16817,     0.16917,     0.17017,     0.17117,     0.17217,     0.17317,     0.17417,     0.17518,     0.17618,     0.17718,     0.17818,     0.17918,     0.18018,     0.18118,     0.18218,     0.18318,     0.18418,     0.18519,     0.18619,     0.18719,     0.18819,     0.18919,     0.19019,     0.19119,\n           0.19219,     0.19319,     0.19419,      0.1952,      0.1962,      0.1972,      0.1982,      0.1992,      0.2002,      0.2012,      0.2022,      0.2032,      0.2042,     0.20521,     0.20621,     0.20721,     0.20821,     0.20921,     0.21021,     0.21121,     0.21221,     0.21321,     0.21421,     0.21522,\n           0.21622,     0.21722,     0.21822,     0.21922,     0.22022,     0.22122,     0.22222,     0.22322,     0.22422,     0.22523,     0.22623,     0.22723,     0.22823,     0.22923,     0.23023,     0.23123,     0.23223,     0.23323,     0.23423,     0.23524,     0.23624,     0.23724,     0.23824,     0.23924,\n           0.24024,     0.24124,     0.24224,     0.24324,     0.24424,     0.24525,     0.24625,     0.24725,     0.24825,     0.24925,     0.25025,     0.25125,     0.25225,     0.25325,     0.25425,     0.25526,     0.25626,     0.25726,     0.25826,     0.25926,     0.26026,     0.26126,     0.26226,     0.26326,\n           0.26426,     0.26527,     0.26627,     0.26727,     0.26827,     0.26927,     0.27027,     0.27127,     0.27227,     0.27327,     0.27427,     0.27528,     0.27628,     0.27728,     0.27828,     0.27928,     0.28028,     0.28128,     0.28228,     0.28328,     0.28428,     0.28529,     0.28629,     0.28729,\n           0.28829,     0.28929,     0.29029,     0.29129,     0.29229,     0.29329,     0.29429,      0.2953,      0.2963,      0.2973,      0.2983,      0.2993,      0.3003,      0.3013,      0.3023,      0.3033,      0.3043,     0.30531,     0.30631,     0.30731,     0.30831,     0.30931,     0.31031,     0.31131,\n           0.31231,     0.31331,     0.31431,     0.31532,     0.31632,     0.31732,     0.31832,     0.31932,     0.32032,     0.32132,     0.32232,     0.32332,     0.32432,     0.32533,     0.32633,     0.32733,     0.32833,     0.32933,     0.33033,     0.33133,     0.33233,     0.33333,     0.33433,     0.33534,\n           0.33634,     0.33734,     0.33834,     0.33934,     0.34034,     0.34134,     0.34234,     0.34334,     0.34434,     0.34535,     0.34635,     0.34735,     0.34835,     0.34935,     0.35035,     0.35135,     0.35235,     0.35335,     0.35435,     0.35536,     0.35636,     0.35736,     0.35836,     0.35936,\n           0.36036,     0.36136,     0.36236,     0.36336,     0.36436,     0.36537,     0.36637,     0.36737,     0.36837,     0.36937,     0.37037,     0.37137,     0.37237,     0.37337,     0.37437,     0.37538,     0.37638,     0.37738,     0.37838,     0.37938,     0.38038,     0.38138,     0.38238,     0.38338,\n           0.38438,     0.38539,     0.38639,     0.38739,     0.38839,     0.38939,     0.39039,     0.39139,     0.39239,     0.39339,     0.39439,      0.3954,      0.3964,      0.3974,      0.3984,      0.3994,      0.4004,      0.4014,      0.4024,      0.4034,      0.4044,     0.40541,     0.40641,     0.40741,\n           0.40841,     0.40941,     0.41041,     0.41141,     0.41241,     0.41341,     0.41441,     0.41542,     0.41642,     0.41742,     0.41842,     0.41942,     0.42042,     0.42142,     0.42242,     0.42342,     0.42442,     0.42543,     0.42643,     0.42743,     0.42843,     0.42943,     0.43043,     0.43143,\n           0.43243,     0.43343,     0.43443,     0.43544,     0.43644,     0.43744,     0.43844,     0.43944,     0.44044,     0.44144,     0.44244,     0.44344,     0.44444,     0.44545,     0.44645,     0.44745,     0.44845,     0.44945,     0.45045,     0.45145,     0.45245,     0.45345,     0.45445,     0.45546,\n           0.45646,     0.45746,     0.45846,     0.45946,     0.46046,     0.46146,     0.46246,     0.46346,     0.46446,     0.46547,     0.46647,     0.46747,     0.46847,     0.46947,     0.47047,     0.47147,     0.47247,     0.47347,     0.47447,     0.47548,     0.47648,     0.47748,     0.47848,     0.47948,\n           0.48048,     0.48148,     0.48248,     0.48348,     0.48448,     0.48549,     0.48649,     0.48749,     0.48849,     0.48949,     0.49049,     0.49149,     0.49249,     0.49349,     0.49449,      0.4955,      0.4965,      0.4975,      0.4985,      0.4995,      0.5005,      0.5015,      0.5025,      0.5035,\n            0.5045,     0.50551,     0.50651,     0.50751,     0.50851,     0.50951,     0.51051,     0.51151,     0.51251,     0.51351,     0.51451,     0.51552,     0.51652,     0.51752,     0.51852,     0.51952,     0.52052,     0.52152,     0.52252,     0.52352,     0.52452,     0.52553,     0.52653,     0.52753,\n           0.52853,     0.52953,     0.53053,     0.53153,     0.53253,     0.53353,     0.53453,     0.53554,     0.53654,     0.53754,     0.53854,     0.53954,     0.54054,     0.54154,     0.54254,     0.54354,     0.54454,     0.54555,     0.54655,     0.54755,     0.54855,     0.54955,     0.55055,     0.55155,\n           0.55255,     0.55355,     0.55455,     0.55556,     0.55656,     0.55756,     0.55856,     0.55956,     0.56056,     0.56156,     0.56256,     0.56356,     0.56456,     0.56557,     0.56657,     0.56757,     0.56857,     0.56957,     0.57057,     0.57157,     0.57257,     0.57357,     0.57457,     0.57558,\n           0.57658,     0.57758,     0.57858,     0.57958,     0.58058,     0.58158,     0.58258,     0.58358,     0.58458,     0.58559,     0.58659,     0.58759,     0.58859,     0.58959,     0.59059,     0.59159,     0.59259,     0.59359,     0.59459,      0.5956,      0.5966,      0.5976,      0.5986,      0.5996,\n            0.6006,      0.6016,      0.6026,      0.6036,      0.6046,     0.60561,     0.60661,     0.60761,     0.60861,     0.60961,     0.61061,     0.61161,     0.61261,     0.61361,     0.61461,     0.61562,     0.61662,     0.61762,     0.61862,     0.61962,     0.62062,     0.62162,     0.62262,     0.62362,\n           0.62462,     0.62563,     0.62663,     0.62763,     0.62863,     0.62963,     0.63063,     0.63163,     0.63263,     0.63363,     0.63463,     0.63564,     0.63664,     0.63764,     0.63864,     0.63964,     0.64064,     0.64164,     0.64264,     0.64364,     0.64464,     0.64565,     0.64665,     0.64765,\n           0.64865,     0.64965,     0.65065,     0.65165,     0.65265,     0.65365,     0.65465,     0.65566,     0.65666,     0.65766,     0.65866,     0.65966,     0.66066,     0.66166,     0.66266,     0.66366,     0.66466,     0.66567,     0.66667,     0.66767,     0.66867,     0.66967,     0.67067,     0.67167,\n           0.67267,     0.67367,     0.67467,     0.67568,     0.67668,     0.67768,     0.67868,     0.67968,     0.68068,     0.68168,     0.68268,     0.68368,     0.68468,     0.68569,     0.68669,     0.68769,     0.68869,     0.68969,     0.69069,     0.69169,     0.69269,     0.69369,     0.69469,      0.6957,\n            0.6967,      0.6977,      0.6987,      0.6997,      0.7007,      0.7017,      0.7027,      0.7037,      0.7047,     0.70571,     0.70671,     0.70771,     0.70871,     0.70971,     0.71071,     0.71171,     0.71271,     0.71371,     0.71471,     0.71572,     0.71672,     0.71772,     0.71872,     0.71972,\n           0.72072,     0.72172,     0.72272,     0.72372,     0.72472,     0.72573,     0.72673,     0.72773,     0.72873,     0.72973,     0.73073,     0.73173,     0.73273,     0.73373,     0.73473,     0.73574,     0.73674,     0.73774,     0.73874,     0.73974,     0.74074,     0.74174,     0.74274,     0.74374,\n           0.74474,     0.74575,     0.74675,     0.74775,     0.74875,     0.74975,     0.75075,     0.75175,     0.75275,     0.75375,     0.75475,     0.75576,     0.75676,     0.75776,     0.75876,     0.75976,     0.76076,     0.76176,     0.76276,     0.76376,     0.76476,     0.76577,     0.76677,     0.76777,\n           0.76877,     0.76977,     0.77077,     0.77177,     0.77277,     0.77377,     0.77477,     0.77578,     0.77678,     0.77778,     0.77878,     0.77978,     0.78078,     0.78178,     0.78278,     0.78378,     0.78478,     0.78579,     0.78679,     0.78779,     0.78879,     0.78979,     0.79079,     0.79179,\n           0.79279,     0.79379,     0.79479,      0.7958,      0.7968,      0.7978,      0.7988,      0.7998,      0.8008,      0.8018,      0.8028,      0.8038,      0.8048,     0.80581,     0.80681,     0.80781,     0.80881,     0.80981,     0.81081,     0.81181,     0.81281,     0.81381,     0.81481,     0.81582,\n           0.81682,     0.81782,     0.81882,     0.81982,     0.82082,     0.82182,     0.82282,     0.82382,     0.82482,     0.82583,     0.82683,     0.82783,     0.82883,     0.82983,     0.83083,     0.83183,     0.83283,     0.83383,     0.83483,     0.83584,     0.83684,     0.83784,     0.83884,     0.83984,\n           0.84084,     0.84184,     0.84284,     0.84384,     0.84484,     0.84585,     0.84685,     0.84785,     0.84885,     0.84985,     0.85085,     0.85185,     0.85285,     0.85385,     0.85485,     0.85586,     0.85686,     0.85786,     0.85886,     0.85986,     0.86086,     0.86186,     0.86286,     0.86386,\n           0.86486,     0.86587,     0.86687,     0.86787,     0.86887,     0.86987,     0.87087,     0.87187,     0.87287,     0.87387,     0.87487,     0.87588,     0.87688,     0.87788,     0.87888,     0.87988,     0.88088,     0.88188,     0.88288,     0.88388,     0.88488,     0.88589,     0.88689,     0.88789,\n           0.88889,     0.88989,     0.89089,     0.89189,     0.89289,     0.89389,     0.89489,      0.8959,      0.8969,      0.8979,      0.8989,      0.8999,      0.9009,      0.9019,      0.9029,      0.9039,      0.9049,     0.90591,     0.90691,     0.90791,     0.90891,     0.90991,     0.91091,     0.91191,\n           0.91291,     0.91391,     0.91491,     0.91592,     0.91692,     0.91792,     0.91892,     0.91992,     0.92092,     0.92192,     0.92292,     0.92392,     0.92492,     0.92593,     0.92693,     0.92793,     0.92893,     0.92993,     0.93093,     0.93193,     0.93293,     0.93393,     0.93493,     0.93594,\n           0.93694,     0.93794,     0.93894,     0.93994,     0.94094,     0.94194,     0.94294,     0.94394,     0.94494,     0.94595,     0.94695,     0.94795,     0.94895,     0.94995,     0.95095,     0.95195,     0.95295,     0.95395,     0.95495,     0.95596,     0.95696,     0.95796,     0.95896,     0.95996,\n           0.96096,     0.96196,     0.96296,     0.96396,     0.96496,     0.96597,     0.96697,     0.96797,     0.96897,     0.96997,     0.97097,     0.97197,     0.97297,     0.97397,     0.97497,     0.97598,     0.97698,     0.97798,     0.97898,     0.97998,     0.98098,     0.98198,     0.98298,     0.98398,\n           0.98498,     0.98599,     0.98699,     0.98799,     0.98899,     0.98999,     0.99099,     0.99199,     0.99299,     0.99399,     0.99499,       0.996,       0.997,       0.998,       0.999,           1]), array([[    0.99151,     0.99151,      0.9947, ...,           0,           0,           0],\n       [    0.98374,     0.98374,     0.98815, ...,           0,           0,           0],\n       [    0.97243,     0.97243,     0.98599, ...,           0,           0,           0]]), 'Confidence', 'F1'], [array([          0,    0.001001,    0.002002,    0.003003,    0.004004,    0.005005,    0.006006,    0.007007,    0.008008,    0.009009,     0.01001,    0.011011,    0.012012,    0.013013,    0.014014,    0.015015,    0.016016,    0.017017,    0.018018,    0.019019,     0.02002,    0.021021,    0.022022,    0.023023,\n          0.024024,    0.025025,    0.026026,    0.027027,    0.028028,    0.029029,     0.03003,    0.031031,    0.032032,    0.033033,    0.034034,    0.035035,    0.036036,    0.037037,    0.038038,    0.039039,     0.04004,    0.041041,    0.042042,    0.043043,    0.044044,    0.045045,    0.046046,    0.047047,\n          0.048048,    0.049049,     0.05005,    0.051051,    0.052052,    0.053053,    0.054054,    0.055055,    0.056056,    0.057057,    0.058058,    0.059059,     0.06006,    0.061061,    0.062062,    0.063063,    0.064064,    0.065065,    0.066066,    0.067067,    0.068068,    0.069069,     0.07007,    0.071071,\n          0.072072,    0.073073,    0.074074,    0.075075,    0.076076,    0.077077,    0.078078,    0.079079,     0.08008,    0.081081,    0.082082,    0.083083,    0.084084,    0.085085,    0.086086,    0.087087,    0.088088,    0.089089,     0.09009,    0.091091,    0.092092,    0.093093,    0.094094,    0.095095,\n          0.096096,    0.097097,    0.098098,    0.099099,      0.1001,      0.1011,      0.1021,      0.1031,      0.1041,     0.10511,     0.10611,     0.10711,     0.10811,     0.10911,     0.11011,     0.11111,     0.11211,     0.11311,     0.11411,     0.11512,     0.11612,     0.11712,     0.11812,     0.11912,\n           0.12012,     0.12112,     0.12212,     0.12312,     0.12412,     0.12513,     0.12613,     0.12713,     0.12813,     0.12913,     0.13013,     0.13113,     0.13213,     0.13313,     0.13413,     0.13514,     0.13614,     0.13714,     0.13814,     0.13914,     0.14014,     0.14114,     0.14214,     0.14314,\n           0.14414,     0.14515,     0.14615,     0.14715,     0.14815,     0.14915,     0.15015,     0.15115,     0.15215,     0.15315,     0.15415,     0.15516,     0.15616,     0.15716,     0.15816,     0.15916,     0.16016,     0.16116,     0.16216,     0.16316,     0.16416,     0.16517,     0.16617,     0.16717,\n           0.16817,     0.16917,     0.17017,     0.17117,     0.17217,     0.17317,     0.17417,     0.17518,     0.17618,     0.17718,     0.17818,     0.17918,     0.18018,     0.18118,     0.18218,     0.18318,     0.18418,     0.18519,     0.18619,     0.18719,     0.18819,     0.18919,     0.19019,     0.19119,\n           0.19219,     0.19319,     0.19419,      0.1952,      0.1962,      0.1972,      0.1982,      0.1992,      0.2002,      0.2012,      0.2022,      0.2032,      0.2042,     0.20521,     0.20621,     0.20721,     0.20821,     0.20921,     0.21021,     0.21121,     0.21221,     0.21321,     0.21421,     0.21522,\n           0.21622,     0.21722,     0.21822,     0.21922,     0.22022,     0.22122,     0.22222,     0.22322,     0.22422,     0.22523,     0.22623,     0.22723,     0.22823,     0.22923,     0.23023,     0.23123,     0.23223,     0.23323,     0.23423,     0.23524,     0.23624,     0.23724,     0.23824,     0.23924,\n           0.24024,     0.24124,     0.24224,     0.24324,     0.24424,     0.24525,     0.24625,     0.24725,     0.24825,     0.24925,     0.25025,     0.25125,     0.25225,     0.25325,     0.25425,     0.25526,     0.25626,     0.25726,     0.25826,     0.25926,     0.26026,     0.26126,     0.26226,     0.26326,\n           0.26426,     0.26527,     0.26627,     0.26727,     0.26827,     0.26927,     0.27027,     0.27127,     0.27227,     0.27327,     0.27427,     0.27528,     0.27628,     0.27728,     0.27828,     0.27928,     0.28028,     0.28128,     0.28228,     0.28328,     0.28428,     0.28529,     0.28629,     0.28729,\n           0.28829,     0.28929,     0.29029,     0.29129,     0.29229,     0.29329,     0.29429,      0.2953,      0.2963,      0.2973,      0.2983,      0.2993,      0.3003,      0.3013,      0.3023,      0.3033,      0.3043,     0.30531,     0.30631,     0.30731,     0.30831,     0.30931,     0.31031,     0.31131,\n           0.31231,     0.31331,     0.31431,     0.31532,     0.31632,     0.31732,     0.31832,     0.31932,     0.32032,     0.32132,     0.32232,     0.32332,     0.32432,     0.32533,     0.32633,     0.32733,     0.32833,     0.32933,     0.33033,     0.33133,     0.33233,     0.33333,     0.33433,     0.33534,\n           0.33634,     0.33734,     0.33834,     0.33934,     0.34034,     0.34134,     0.34234,     0.34334,     0.34434,     0.34535,     0.34635,     0.34735,     0.34835,     0.34935,     0.35035,     0.35135,     0.35235,     0.35335,     0.35435,     0.35536,     0.35636,     0.35736,     0.35836,     0.35936,\n           0.36036,     0.36136,     0.36236,     0.36336,     0.36436,     0.36537,     0.36637,     0.36737,     0.36837,     0.36937,     0.37037,     0.37137,     0.37237,     0.37337,     0.37437,     0.37538,     0.37638,     0.37738,     0.37838,     0.37938,     0.38038,     0.38138,     0.38238,     0.38338,\n           0.38438,     0.38539,     0.38639,     0.38739,     0.38839,     0.38939,     0.39039,     0.39139,     0.39239,     0.39339,     0.39439,      0.3954,      0.3964,      0.3974,      0.3984,      0.3994,      0.4004,      0.4014,      0.4024,      0.4034,      0.4044,     0.40541,     0.40641,     0.40741,\n           0.40841,     0.40941,     0.41041,     0.41141,     0.41241,     0.41341,     0.41441,     0.41542,     0.41642,     0.41742,     0.41842,     0.41942,     0.42042,     0.42142,     0.42242,     0.42342,     0.42442,     0.42543,     0.42643,     0.42743,     0.42843,     0.42943,     0.43043,     0.43143,\n           0.43243,     0.43343,     0.43443,     0.43544,     0.43644,     0.43744,     0.43844,     0.43944,     0.44044,     0.44144,     0.44244,     0.44344,     0.44444,     0.44545,     0.44645,     0.44745,     0.44845,     0.44945,     0.45045,     0.45145,     0.45245,     0.45345,     0.45445,     0.45546,\n           0.45646,     0.45746,     0.45846,     0.45946,     0.46046,     0.46146,     0.46246,     0.46346,     0.46446,     0.46547,     0.46647,     0.46747,     0.46847,     0.46947,     0.47047,     0.47147,     0.47247,     0.47347,     0.47447,     0.47548,     0.47648,     0.47748,     0.47848,     0.47948,\n           0.48048,     0.48148,     0.48248,     0.48348,     0.48448,     0.48549,     0.48649,     0.48749,     0.48849,     0.48949,     0.49049,     0.49149,     0.49249,     0.49349,     0.49449,      0.4955,      0.4965,      0.4975,      0.4985,      0.4995,      0.5005,      0.5015,      0.5025,      0.5035,\n            0.5045,     0.50551,     0.50651,     0.50751,     0.50851,     0.50951,     0.51051,     0.51151,     0.51251,     0.51351,     0.51451,     0.51552,     0.51652,     0.51752,     0.51852,     0.51952,     0.52052,     0.52152,     0.52252,     0.52352,     0.52452,     0.52553,     0.52653,     0.52753,\n           0.52853,     0.52953,     0.53053,     0.53153,     0.53253,     0.53353,     0.53453,     0.53554,     0.53654,     0.53754,     0.53854,     0.53954,     0.54054,     0.54154,     0.54254,     0.54354,     0.54454,     0.54555,     0.54655,     0.54755,     0.54855,     0.54955,     0.55055,     0.55155,\n           0.55255,     0.55355,     0.55455,     0.55556,     0.55656,     0.55756,     0.55856,     0.55956,     0.56056,     0.56156,     0.56256,     0.56356,     0.56456,     0.56557,     0.56657,     0.56757,     0.56857,     0.56957,     0.57057,     0.57157,     0.57257,     0.57357,     0.57457,     0.57558,\n           0.57658,     0.57758,     0.57858,     0.57958,     0.58058,     0.58158,     0.58258,     0.58358,     0.58458,     0.58559,     0.58659,     0.58759,     0.58859,     0.58959,     0.59059,     0.59159,     0.59259,     0.59359,     0.59459,      0.5956,      0.5966,      0.5976,      0.5986,      0.5996,\n            0.6006,      0.6016,      0.6026,      0.6036,      0.6046,     0.60561,     0.60661,     0.60761,     0.60861,     0.60961,     0.61061,     0.61161,     0.61261,     0.61361,     0.61461,     0.61562,     0.61662,     0.61762,     0.61862,     0.61962,     0.62062,     0.62162,     0.62262,     0.62362,\n           0.62462,     0.62563,     0.62663,     0.62763,     0.62863,     0.62963,     0.63063,     0.63163,     0.63263,     0.63363,     0.63463,     0.63564,     0.63664,     0.63764,     0.63864,     0.63964,     0.64064,     0.64164,     0.64264,     0.64364,     0.64464,     0.64565,     0.64665,     0.64765,\n           0.64865,     0.64965,     0.65065,     0.65165,     0.65265,     0.65365,     0.65465,     0.65566,     0.65666,     0.65766,     0.65866,     0.65966,     0.66066,     0.66166,     0.66266,     0.66366,     0.66466,     0.66567,     0.66667,     0.66767,     0.66867,     0.66967,     0.67067,     0.67167,\n           0.67267,     0.67367,     0.67467,     0.67568,     0.67668,     0.67768,     0.67868,     0.67968,     0.68068,     0.68168,     0.68268,     0.68368,     0.68468,     0.68569,     0.68669,     0.68769,     0.68869,     0.68969,     0.69069,     0.69169,     0.69269,     0.69369,     0.69469,      0.6957,\n            0.6967,      0.6977,      0.6987,      0.6997,      0.7007,      0.7017,      0.7027,      0.7037,      0.7047,     0.70571,     0.70671,     0.70771,     0.70871,     0.70971,     0.71071,     0.71171,     0.71271,     0.71371,     0.71471,     0.71572,     0.71672,     0.71772,     0.71872,     0.71972,\n           0.72072,     0.72172,     0.72272,     0.72372,     0.72472,     0.72573,     0.72673,     0.72773,     0.72873,     0.72973,     0.73073,     0.73173,     0.73273,     0.73373,     0.73473,     0.73574,     0.73674,     0.73774,     0.73874,     0.73974,     0.74074,     0.74174,     0.74274,     0.74374,\n           0.74474,     0.74575,     0.74675,     0.74775,     0.74875,     0.74975,     0.75075,     0.75175,     0.75275,     0.75375,     0.75475,     0.75576,     0.75676,     0.75776,     0.75876,     0.75976,     0.76076,     0.76176,     0.76276,     0.76376,     0.76476,     0.76577,     0.76677,     0.76777,\n           0.76877,     0.76977,     0.77077,     0.77177,     0.77277,     0.77377,     0.77477,     0.77578,     0.77678,     0.77778,     0.77878,     0.77978,     0.78078,     0.78178,     0.78278,     0.78378,     0.78478,     0.78579,     0.78679,     0.78779,     0.78879,     0.78979,     0.79079,     0.79179,\n           0.79279,     0.79379,     0.79479,      0.7958,      0.7968,      0.7978,      0.7988,      0.7998,      0.8008,      0.8018,      0.8028,      0.8038,      0.8048,     0.80581,     0.80681,     0.80781,     0.80881,     0.80981,     0.81081,     0.81181,     0.81281,     0.81381,     0.81481,     0.81582,\n           0.81682,     0.81782,     0.81882,     0.81982,     0.82082,     0.82182,     0.82282,     0.82382,     0.82482,     0.82583,     0.82683,     0.82783,     0.82883,     0.82983,     0.83083,     0.83183,     0.83283,     0.83383,     0.83483,     0.83584,     0.83684,     0.83784,     0.83884,     0.83984,\n           0.84084,     0.84184,     0.84284,     0.84384,     0.84484,     0.84585,     0.84685,     0.84785,     0.84885,     0.84985,     0.85085,     0.85185,     0.85285,     0.85385,     0.85485,     0.85586,     0.85686,     0.85786,     0.85886,     0.85986,     0.86086,     0.86186,     0.86286,     0.86386,\n           0.86486,     0.86587,     0.86687,     0.86787,     0.86887,     0.86987,     0.87087,     0.87187,     0.87287,     0.87387,     0.87487,     0.87588,     0.87688,     0.87788,     0.87888,     0.87988,     0.88088,     0.88188,     0.88288,     0.88388,     0.88488,     0.88589,     0.88689,     0.88789,\n           0.88889,     0.88989,     0.89089,     0.89189,     0.89289,     0.89389,     0.89489,      0.8959,      0.8969,      0.8979,      0.8989,      0.8999,      0.9009,      0.9019,      0.9029,      0.9039,      0.9049,     0.90591,     0.90691,     0.90791,     0.90891,     0.90991,     0.91091,     0.91191,\n           0.91291,     0.91391,     0.91491,     0.91592,     0.91692,     0.91792,     0.91892,     0.91992,     0.92092,     0.92192,     0.92292,     0.92392,     0.92492,     0.92593,     0.92693,     0.92793,     0.92893,     0.92993,     0.93093,     0.93193,     0.93293,     0.93393,     0.93493,     0.93594,\n           0.93694,     0.93794,     0.93894,     0.93994,     0.94094,     0.94194,     0.94294,     0.94394,     0.94494,     0.94595,     0.94695,     0.94795,     0.94895,     0.94995,     0.95095,     0.95195,     0.95295,     0.95395,     0.95495,     0.95596,     0.95696,     0.95796,     0.95896,     0.95996,\n           0.96096,     0.96196,     0.96296,     0.96396,     0.96496,     0.96597,     0.96697,     0.96797,     0.96897,     0.96997,     0.97097,     0.97197,     0.97297,     0.97397,     0.97497,     0.97598,     0.97698,     0.97798,     0.97898,     0.97998,     0.98098,     0.98198,     0.98298,     0.98398,\n           0.98498,     0.98599,     0.98699,     0.98799,     0.98899,     0.98999,     0.99099,     0.99199,     0.99299,     0.99399,     0.99499,       0.996,       0.997,       0.998,       0.999,           1]), array([[    0.98649,     0.98649,     0.99281, ...,           1,           1,           1],\n       [    0.97581,     0.97581,     0.98453, ...,           1,           1,           1],\n       [    0.95098,     0.95098,     0.97727, ...,           1,           1,           1]]), 'Confidence', 'Precision'], [array([          0,    0.001001,    0.002002,    0.003003,    0.004004,    0.005005,    0.006006,    0.007007,    0.008008,    0.009009,     0.01001,    0.011011,    0.012012,    0.013013,    0.014014,    0.015015,    0.016016,    0.017017,    0.018018,    0.019019,     0.02002,    0.021021,    0.022022,    0.023023,\n          0.024024,    0.025025,    0.026026,    0.027027,    0.028028,    0.029029,     0.03003,    0.031031,    0.032032,    0.033033,    0.034034,    0.035035,    0.036036,    0.037037,    0.038038,    0.039039,     0.04004,    0.041041,    0.042042,    0.043043,    0.044044,    0.045045,    0.046046,    0.047047,\n          0.048048,    0.049049,     0.05005,    0.051051,    0.052052,    0.053053,    0.054054,    0.055055,    0.056056,    0.057057,    0.058058,    0.059059,     0.06006,    0.061061,    0.062062,    0.063063,    0.064064,    0.065065,    0.066066,    0.067067,    0.068068,    0.069069,     0.07007,    0.071071,\n          0.072072,    0.073073,    0.074074,    0.075075,    0.076076,    0.077077,    0.078078,    0.079079,     0.08008,    0.081081,    0.082082,    0.083083,    0.084084,    0.085085,    0.086086,    0.087087,    0.088088,    0.089089,     0.09009,    0.091091,    0.092092,    0.093093,    0.094094,    0.095095,\n          0.096096,    0.097097,    0.098098,    0.099099,      0.1001,      0.1011,      0.1021,      0.1031,      0.1041,     0.10511,     0.10611,     0.10711,     0.10811,     0.10911,     0.11011,     0.11111,     0.11211,     0.11311,     0.11411,     0.11512,     0.11612,     0.11712,     0.11812,     0.11912,\n           0.12012,     0.12112,     0.12212,     0.12312,     0.12412,     0.12513,     0.12613,     0.12713,     0.12813,     0.12913,     0.13013,     0.13113,     0.13213,     0.13313,     0.13413,     0.13514,     0.13614,     0.13714,     0.13814,     0.13914,     0.14014,     0.14114,     0.14214,     0.14314,\n           0.14414,     0.14515,     0.14615,     0.14715,     0.14815,     0.14915,     0.15015,     0.15115,     0.15215,     0.15315,     0.15415,     0.15516,     0.15616,     0.15716,     0.15816,     0.15916,     0.16016,     0.16116,     0.16216,     0.16316,     0.16416,     0.16517,     0.16617,     0.16717,\n           0.16817,     0.16917,     0.17017,     0.17117,     0.17217,     0.17317,     0.17417,     0.17518,     0.17618,     0.17718,     0.17818,     0.17918,     0.18018,     0.18118,     0.18218,     0.18318,     0.18418,     0.18519,     0.18619,     0.18719,     0.18819,     0.18919,     0.19019,     0.19119,\n           0.19219,     0.19319,     0.19419,      0.1952,      0.1962,      0.1972,      0.1982,      0.1992,      0.2002,      0.2012,      0.2022,      0.2032,      0.2042,     0.20521,     0.20621,     0.20721,     0.20821,     0.20921,     0.21021,     0.21121,     0.21221,     0.21321,     0.21421,     0.21522,\n           0.21622,     0.21722,     0.21822,     0.21922,     0.22022,     0.22122,     0.22222,     0.22322,     0.22422,     0.22523,     0.22623,     0.22723,     0.22823,     0.22923,     0.23023,     0.23123,     0.23223,     0.23323,     0.23423,     0.23524,     0.23624,     0.23724,     0.23824,     0.23924,\n           0.24024,     0.24124,     0.24224,     0.24324,     0.24424,     0.24525,     0.24625,     0.24725,     0.24825,     0.24925,     0.25025,     0.25125,     0.25225,     0.25325,     0.25425,     0.25526,     0.25626,     0.25726,     0.25826,     0.25926,     0.26026,     0.26126,     0.26226,     0.26326,\n           0.26426,     0.26527,     0.26627,     0.26727,     0.26827,     0.26927,     0.27027,     0.27127,     0.27227,     0.27327,     0.27427,     0.27528,     0.27628,     0.27728,     0.27828,     0.27928,     0.28028,     0.28128,     0.28228,     0.28328,     0.28428,     0.28529,     0.28629,     0.28729,\n           0.28829,     0.28929,     0.29029,     0.29129,     0.29229,     0.29329,     0.29429,      0.2953,      0.2963,      0.2973,      0.2983,      0.2993,      0.3003,      0.3013,      0.3023,      0.3033,      0.3043,     0.30531,     0.30631,     0.30731,     0.30831,     0.30931,     0.31031,     0.31131,\n           0.31231,     0.31331,     0.31431,     0.31532,     0.31632,     0.31732,     0.31832,     0.31932,     0.32032,     0.32132,     0.32232,     0.32332,     0.32432,     0.32533,     0.32633,     0.32733,     0.32833,     0.32933,     0.33033,     0.33133,     0.33233,     0.33333,     0.33433,     0.33534,\n           0.33634,     0.33734,     0.33834,     0.33934,     0.34034,     0.34134,     0.34234,     0.34334,     0.34434,     0.34535,     0.34635,     0.34735,     0.34835,     0.34935,     0.35035,     0.35135,     0.35235,     0.35335,     0.35435,     0.35536,     0.35636,     0.35736,     0.35836,     0.35936,\n           0.36036,     0.36136,     0.36236,     0.36336,     0.36436,     0.36537,     0.36637,     0.36737,     0.36837,     0.36937,     0.37037,     0.37137,     0.37237,     0.37337,     0.37437,     0.37538,     0.37638,     0.37738,     0.37838,     0.37938,     0.38038,     0.38138,     0.38238,     0.38338,\n           0.38438,     0.38539,     0.38639,     0.38739,     0.38839,     0.38939,     0.39039,     0.39139,     0.39239,     0.39339,     0.39439,      0.3954,      0.3964,      0.3974,      0.3984,      0.3994,      0.4004,      0.4014,      0.4024,      0.4034,      0.4044,     0.40541,     0.40641,     0.40741,\n           0.40841,     0.40941,     0.41041,     0.41141,     0.41241,     0.41341,     0.41441,     0.41542,     0.41642,     0.41742,     0.41842,     0.41942,     0.42042,     0.42142,     0.42242,     0.42342,     0.42442,     0.42543,     0.42643,     0.42743,     0.42843,     0.42943,     0.43043,     0.43143,\n           0.43243,     0.43343,     0.43443,     0.43544,     0.43644,     0.43744,     0.43844,     0.43944,     0.44044,     0.44144,     0.44244,     0.44344,     0.44444,     0.44545,     0.44645,     0.44745,     0.44845,     0.44945,     0.45045,     0.45145,     0.45245,     0.45345,     0.45445,     0.45546,\n           0.45646,     0.45746,     0.45846,     0.45946,     0.46046,     0.46146,     0.46246,     0.46346,     0.46446,     0.46547,     0.46647,     0.46747,     0.46847,     0.46947,     0.47047,     0.47147,     0.47247,     0.47347,     0.47447,     0.47548,     0.47648,     0.47748,     0.47848,     0.47948,\n           0.48048,     0.48148,     0.48248,     0.48348,     0.48448,     0.48549,     0.48649,     0.48749,     0.48849,     0.48949,     0.49049,     0.49149,     0.49249,     0.49349,     0.49449,      0.4955,      0.4965,      0.4975,      0.4985,      0.4995,      0.5005,      0.5015,      0.5025,      0.5035,\n            0.5045,     0.50551,     0.50651,     0.50751,     0.50851,     0.50951,     0.51051,     0.51151,     0.51251,     0.51351,     0.51451,     0.51552,     0.51652,     0.51752,     0.51852,     0.51952,     0.52052,     0.52152,     0.52252,     0.52352,     0.52452,     0.52553,     0.52653,     0.52753,\n           0.52853,     0.52953,     0.53053,     0.53153,     0.53253,     0.53353,     0.53453,     0.53554,     0.53654,     0.53754,     0.53854,     0.53954,     0.54054,     0.54154,     0.54254,     0.54354,     0.54454,     0.54555,     0.54655,     0.54755,     0.54855,     0.54955,     0.55055,     0.55155,\n           0.55255,     0.55355,     0.55455,     0.55556,     0.55656,     0.55756,     0.55856,     0.55956,     0.56056,     0.56156,     0.56256,     0.56356,     0.56456,     0.56557,     0.56657,     0.56757,     0.56857,     0.56957,     0.57057,     0.57157,     0.57257,     0.57357,     0.57457,     0.57558,\n           0.57658,     0.57758,     0.57858,     0.57958,     0.58058,     0.58158,     0.58258,     0.58358,     0.58458,     0.58559,     0.58659,     0.58759,     0.58859,     0.58959,     0.59059,     0.59159,     0.59259,     0.59359,     0.59459,      0.5956,      0.5966,      0.5976,      0.5986,      0.5996,\n            0.6006,      0.6016,      0.6026,      0.6036,      0.6046,     0.60561,     0.60661,     0.60761,     0.60861,     0.60961,     0.61061,     0.61161,     0.61261,     0.61361,     0.61461,     0.61562,     0.61662,     0.61762,     0.61862,     0.61962,     0.62062,     0.62162,     0.62262,     0.62362,\n           0.62462,     0.62563,     0.62663,     0.62763,     0.62863,     0.62963,     0.63063,     0.63163,     0.63263,     0.63363,     0.63463,     0.63564,     0.63664,     0.63764,     0.63864,     0.63964,     0.64064,     0.64164,     0.64264,     0.64364,     0.64464,     0.64565,     0.64665,     0.64765,\n           0.64865,     0.64965,     0.65065,     0.65165,     0.65265,     0.65365,     0.65465,     0.65566,     0.65666,     0.65766,     0.65866,     0.65966,     0.66066,     0.66166,     0.66266,     0.66366,     0.66466,     0.66567,     0.66667,     0.66767,     0.66867,     0.66967,     0.67067,     0.67167,\n           0.67267,     0.67367,     0.67467,     0.67568,     0.67668,     0.67768,     0.67868,     0.67968,     0.68068,     0.68168,     0.68268,     0.68368,     0.68468,     0.68569,     0.68669,     0.68769,     0.68869,     0.68969,     0.69069,     0.69169,     0.69269,     0.69369,     0.69469,      0.6957,\n            0.6967,      0.6977,      0.6987,      0.6997,      0.7007,      0.7017,      0.7027,      0.7037,      0.7047,     0.70571,     0.70671,     0.70771,     0.70871,     0.70971,     0.71071,     0.71171,     0.71271,     0.71371,     0.71471,     0.71572,     0.71672,     0.71772,     0.71872,     0.71972,\n           0.72072,     0.72172,     0.72272,     0.72372,     0.72472,     0.72573,     0.72673,     0.72773,     0.72873,     0.72973,     0.73073,     0.73173,     0.73273,     0.73373,     0.73473,     0.73574,     0.73674,     0.73774,     0.73874,     0.73974,     0.74074,     0.74174,     0.74274,     0.74374,\n           0.74474,     0.74575,     0.74675,     0.74775,     0.74875,     0.74975,     0.75075,     0.75175,     0.75275,     0.75375,     0.75475,     0.75576,     0.75676,     0.75776,     0.75876,     0.75976,     0.76076,     0.76176,     0.76276,     0.76376,     0.76476,     0.76577,     0.76677,     0.76777,\n           0.76877,     0.76977,     0.77077,     0.77177,     0.77277,     0.77377,     0.77477,     0.77578,     0.77678,     0.77778,     0.77878,     0.77978,     0.78078,     0.78178,     0.78278,     0.78378,     0.78478,     0.78579,     0.78679,     0.78779,     0.78879,     0.78979,     0.79079,     0.79179,\n           0.79279,     0.79379,     0.79479,      0.7958,      0.7968,      0.7978,      0.7988,      0.7998,      0.8008,      0.8018,      0.8028,      0.8038,      0.8048,     0.80581,     0.80681,     0.80781,     0.80881,     0.80981,     0.81081,     0.81181,     0.81281,     0.81381,     0.81481,     0.81582,\n           0.81682,     0.81782,     0.81882,     0.81982,     0.82082,     0.82182,     0.82282,     0.82382,     0.82482,     0.82583,     0.82683,     0.82783,     0.82883,     0.82983,     0.83083,     0.83183,     0.83283,     0.83383,     0.83483,     0.83584,     0.83684,     0.83784,     0.83884,     0.83984,\n           0.84084,     0.84184,     0.84284,     0.84384,     0.84484,     0.84585,     0.84685,     0.84785,     0.84885,     0.84985,     0.85085,     0.85185,     0.85285,     0.85385,     0.85485,     0.85586,     0.85686,     0.85786,     0.85886,     0.85986,     0.86086,     0.86186,     0.86286,     0.86386,\n           0.86486,     0.86587,     0.86687,     0.86787,     0.86887,     0.86987,     0.87087,     0.87187,     0.87287,     0.87387,     0.87487,     0.87588,     0.87688,     0.87788,     0.87888,     0.87988,     0.88088,     0.88188,     0.88288,     0.88388,     0.88488,     0.88589,     0.88689,     0.88789,\n           0.88889,     0.88989,     0.89089,     0.89189,     0.89289,     0.89389,     0.89489,      0.8959,      0.8969,      0.8979,      0.8989,      0.8999,      0.9009,      0.9019,      0.9029,      0.9039,      0.9049,     0.90591,     0.90691,     0.90791,     0.90891,     0.90991,     0.91091,     0.91191,\n           0.91291,     0.91391,     0.91491,     0.91592,     0.91692,     0.91792,     0.91892,     0.91992,     0.92092,     0.92192,     0.92292,     0.92392,     0.92492,     0.92593,     0.92693,     0.92793,     0.92893,     0.92993,     0.93093,     0.93193,     0.93293,     0.93393,     0.93493,     0.93594,\n           0.93694,     0.93794,     0.93894,     0.93994,     0.94094,     0.94194,     0.94294,     0.94394,     0.94494,     0.94595,     0.94695,     0.94795,     0.94895,     0.94995,     0.95095,     0.95195,     0.95295,     0.95395,     0.95495,     0.95596,     0.95696,     0.95796,     0.95896,     0.95996,\n           0.96096,     0.96196,     0.96296,     0.96396,     0.96496,     0.96597,     0.96697,     0.96797,     0.96897,     0.96997,     0.97097,     0.97197,     0.97297,     0.97397,     0.97497,     0.97598,     0.97698,     0.97798,     0.97898,     0.97998,     0.98098,     0.98198,     0.98298,     0.98398,\n           0.98498,     0.98599,     0.98699,     0.98799,     0.98899,     0.98999,     0.99099,     0.99199,     0.99299,     0.99399,     0.99499,       0.996,       0.997,       0.998,       0.999,           1]), array([[    0.99659,     0.99659,     0.99659, ...,           0,           0,           0],\n       [     0.9918,      0.9918,      0.9918, ...,           0,           0,           0],\n       [    0.99487,     0.99487,     0.99487, ...,           0,           0,           0]]), 'Confidence', 'Recall']]\nfitness: 0.905384101638435\nkeys: ['metrics/precision(B)', 'metrics/recall(B)', 'metrics/mAP50(B)', 'metrics/mAP50-95(B)']\nmaps: array([    0.89439,     0.88157,     0.91034])\nnames: {0: 'acute', 1: 'grave', 2: 'circumflex'}\nplot: True\nresults_dict: {'metrics/precision(B)': 0.999385994895321, 'metrics/recall(B)': 0.9872338359036396, 'metrics/mAP50(B)': 0.9949650585480093, 'metrics/mAP50-95(B)': 0.8954306619818155, 'fitness': 0.905384101638435}\nsave_dir: WindowsPath('DSPRO2/train')\nspeed: {'preprocess': 0.0981924353747919, 'inference': 1.3918803893905571, 'loss': 0.0, 'postprocess': 0.6462723806895513}\ntask: 'detect'"
     },
     "execution_count": 3,
     "metadata": {},
     "output_type": "execute_result"
    }
   ],
   "source": [
    "model = YOLO(\"yolov8n.pt\")\n",
    "\n",
    "# Add W&B callback for Ultralytics\n",
    "add_wandb_callback(model, enable_model_checkpointing=False)\n",
    "\n",
    "# Train/fine-tune your model\n",
    "# At the end of each epoch, predictions on vali\n",
    "# dation batches are logged\n",
    "# to a W&B table with insightful and interactive overlays for\n",
    "# computer vision tasks\n",
    "model.train(project=\"DSPRO2\", data=\"diacritics.yaml\", epochs=100, batch=64,imgsz=256,fliplr=0,flipud=0)"
   ],
   "metadata": {
    "collapsed": false,
    "ExecuteTime": {
     "end_time": "2024-06-30T16:05:44.233827300Z",
     "start_time": "2024-06-30T11:11:54.945534300Z"
    }
   },
   "id": "511f96ac96db7244",
   "execution_count": 3
  },
  {
   "cell_type": "code",
   "outputs": [],
   "source": [
    "wandb.finish()"
   ],
   "metadata": {
    "collapsed": false
   },
   "id": "2e841c4d27e712e0",
   "execution_count": null
  }
 ],
 "metadata": {
  "kernelspec": {
   "display_name": "Python 3",
   "language": "python",
   "name": "python3"
  },
  "language_info": {
   "codemirror_mode": {
    "name": "ipython",
    "version": 2
   },
   "file_extension": ".py",
   "mimetype": "text/x-python",
   "name": "python",
   "nbconvert_exporter": "python",
   "pygments_lexer": "ipython2",
   "version": "2.7.6"
  }
 },
 "nbformat": 4,
 "nbformat_minor": 5
}
